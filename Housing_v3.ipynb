{
 "cells": [
  {
   "cell_type": "code",
   "execution_count": 1,
   "id": "ad04a6af-ec88-4260-981b-61f94a1aa48c",
   "metadata": {},
   "outputs": [],
   "source": [
    "from sklearn.linear_model import ElasticNet, Lasso,  BayesianRidge, LassoLarsIC\n",
    "from sklearn.base import BaseEstimator, RegressorMixin, TransformerMixin, clone\n",
    "from sklearn.ensemble import RandomForestRegressor\n",
    "from sklearn.model_selection import KFold, train_test_split, cross_val_score, GridSearchCV\n",
    "from sklearn.preprocessing import PolynomialFeatures, StandardScaler\n",
    "from sklearn.model_selection import GridSearchCV\n",
    "from sklearn.ensemble import StackingRegressor\n",
    "from sklearn.preprocessing import RobustScaler\n",
    "from scipy.interpolate import UnivariateSpline\n",
    "from xgboost.sklearn import XGBRegressor\n",
    "from sklearn.pipeline import make_pipeline\n",
    "from sklearn.impute import SimpleImputer\n",
    "from sklearn.metrics import r2_score\n",
    "import matplotlib.pyplot as plt\n",
    "from statsmodels.api import OLS\n",
    "from scipy.stats import norm\n",
    "from sklearn.metrics import mean_squared_error\n",
    "from math import sqrt\n",
    "import statsmodels.api as sm\n",
    "from scipy import stats\n",
    "import seaborn as sns\n",
    "import pandas as pd\n",
    "import numpy as np\n",
    "import warnings\n",
    "def ignore_warn(*args, **kwargs):\n",
    "    pass\n",
    "warnings.warn = ignore_warn"
   ]
  },
  {
   "cell_type": "code",
   "execution_count": 2,
   "id": "7d8ccbc1-bbde-41a4-9cf6-42cec3c7cea3",
   "metadata": {},
   "outputs": [],
   "source": [
    "def load_data(train_path, test_path):\n",
    "    train_data = pd.read_csv(train_path)\n",
    "    test_data = pd.read_csv(test_path)\n",
    "    return train_data, test_data"
   ]
  },
  {
   "cell_type": "code",
   "execution_count": 3,
   "id": "7e7957f2-09a4-43d3-b6f7-f4dc479ad208",
   "metadata": {},
   "outputs": [],
   "source": [
    "def visualize_data(data, features):\n",
    "    for feature in features:\n",
    "        plt.figure(figsize=(10, 4))\n",
    "\n",
    "        # Boxplot for outlier detection\n",
    "        plt.subplot(1, 2, 1)\n",
    "        sns.boxplot(data[feature])\n",
    "        plt.title(f'Boxplot of {feature}')\n",
    "\n",
    "        # Histogram for distribution\n",
    "        plt.subplot(1, 2, 2)\n",
    "        sns.histplot(data[feature], kde=True)\n",
    "        plt.title(f'Distribution of {feature}')\n",
    "\n",
    "        plt.show()"
   ]
  },
  {
   "cell_type": "code",
   "execution_count": 4,
   "id": "31d610db-dd6c-49d4-94d8-2ac0df2ba1bb",
   "metadata": {},
   "outputs": [],
   "source": [
    "def plot_residuals(residuals, y_pred):\n",
    "    plt.scatter(y_pred, residuals)\n",
    "    plt.title('Residuals vs. Predicted Values')\n",
    "    plt.xlabel('Predicted Values')\n",
    "    plt.ylabel('Residuals')\n",
    "    plt.axhline(y=0, color='r', linestyle='--')\n",
    "    plt.show()"
   ]
  },
  {
   "cell_type": "code",
   "execution_count": 5,
   "id": "1be8e7ef-6633-4627-9696-c9e68d5eebbc",
   "metadata": {},
   "outputs": [],
   "source": [
    "def normality(residuals):\n",
    "    stats.probplot(residuals, dist=\"norm\", plot=plt)\n",
    "    plt.title('Normal Q-Q plot')\n",
    "    plt.show()"
   ]
  },
  {
   "cell_type": "code",
   "execution_count": 6,
   "id": "3e2e1238-29c1-4803-ba7d-126cf639702d",
   "metadata": {},
   "outputs": [],
   "source": [
    "def preprocess_data(data, features, imputer):\n",
    "    data[features] = imputer.transform(data[features])\n",
    "    return data"
   ]
  },
  {
   "cell_type": "code",
   "execution_count": 7,
   "id": "94c524d0-c521-46c2-8882-003565fe51ee",
   "metadata": {},
   "outputs": [],
   "source": [
    "def train_model_statsmodels(X, y):\n",
    "    X = sm.add_constant(X)  # Adding a constant to the model\n",
    "    model = sm.OLS(y, X).fit(cov_type='HC0')\n",
    "    return model"
   ]
  },
  {
   "cell_type": "code",
   "execution_count": 8,
   "id": "a73c4973-263b-4389-a0ef-4983a04db227",
   "metadata": {},
   "outputs": [],
   "source": [
    "def train_model_randomforest(X, y):\n",
    "    random_forest = RandomForestRegressor(max_depth=30, n_estimators=500, max_features = 100, oob_score=True, random_state=1234)\n",
    "    model = random_forest.fit(X, y)\n",
    "    return model"
   ]
  },
  {
   "cell_type": "code",
   "execution_count": 9,
   "id": "bf842105-ade8-42f7-a861-a69fc7af2167",
   "metadata": {},
   "outputs": [],
   "source": [
    "def train_model_xgboost(X, y):\n",
    "    xgb_test = XGBRegressor(learning_rate=0.05,n_estimators=500,max_depth=3,colsample_bytree=0.4)\n",
    "    model = xgb_test.fit(X, y)\n",
    "    return model"
   ]
  },
  {
   "cell_type": "code",
   "execution_count": 10,
   "id": "08eb5e39-4606-4432-a14b-82f7c685f8f3",
   "metadata": {},
   "outputs": [],
   "source": [
    "def generate_polynomials(data):\n",
    "    poly = PolynomialFeatures(degree=2, include_bias=True)\n",
    "    data = poly.fit_transform(data)\n",
    "\n",
    "    feature_names = poly.get_feature_names_out()\n",
    "    data = pd.DataFrame(data, columns=feature_names)\n",
    "    return data"
   ]
  },
  {
   "cell_type": "code",
   "execution_count": 11,
   "id": "423f9930-2804-4335-82dd-9217fc26e5e9",
   "metadata": {},
   "outputs": [],
   "source": [
    "def make_hdbscan_clusters(agg_data):\n",
    "    import hdbscan\n",
    "    agg_data.columns = ['_'.join(col).strip() for col in agg_data.columns.values]\n",
    "    \n",
    "    clusterer = hdbscan.HDBSCAN(min_cluster_size=2)\n",
    "    \n",
    "    clusterer.fit(agg_data)\n",
    "    \n",
    "    agg_data['cluster'] = clusterer.labels_\n",
    "    unique_clusters = set(agg_data['cluster'])\n",
    "    agg_data.reset_index()\n",
    "\n",
    "    neighborhood_cluster = agg_data['cluster'].to_dict()\n",
    "    neighborhood_cluster_number = {}\n",
    "    for m in unique_clusters:\n",
    "        neighborhood_cluster_number[m] = [key for key, value in neighborhood_cluster.items() if value == 0]\n",
    "    neighborhood_cluster_negative = {}\n",
    "    i = 3\n",
    "    for s in neighborhood_cluster_number[-1]:\n",
    "        neighborhood_cluster_number[i] = s\n",
    "        i += 1\n",
    "    del neighborhood_cluster_number[-1]\n",
    "    return neighborhood_cluster_number"
   ]
  },
  {
   "cell_type": "code",
   "execution_count": 12,
   "id": "a2d41aa6-824e-4576-87d9-7ace1e1c5615",
   "metadata": {},
   "outputs": [],
   "source": [
    "def create_cluster_folds(df, agg_data, selected_features, a, b, fold_n=5):\n",
    "    folds_X = {i: pd.DataFrame() for i in range(fold_n)}\n",
    "    folds_y = {i: pd.DataFrame() for i in range(fold_n)}\n",
    "    neighborhood_cluster_number = make_hdbscan_clusters(agg_data)\n",
    "    for k in range(len(neighborhood_cluster_number)):\n",
    "        for l in neighborhood_cluster_number[k]:\n",
    "            ldf = df[df[a] == l]\n",
    "            ldf = ldf.drop('Neighborhood', axis=1)\n",
    "            fold_size = len(ldf) // fold_n\n",
    "            ldf_X = ldf[selected_features]\n",
    "            ldf_y = ldf[b]\n",
    "            ldf_dict = {0: ldf_X, 1: ldf_y}\n",
    "            for n in ldf_dict:\n",
    "                for i in range(fold_n):\n",
    "                    fold_size = len(ldf_dict[n]) // fold_n\n",
    "                remaining = len(ldf_dict[n]) % fold_n\n",
    "                start = 0\n",
    "                for i in range(fold_n):\n",
    "                    if i < remaining:\n",
    "                        end = start + fold_size + 1\n",
    "                    else:\n",
    "                        end = start + fold_size\n",
    "                    if n == 0:\n",
    "                        folds_X[i] = pd.concat([folds_X[i], ldf_dict[n].iloc[start:end]], ignore_index=True)\n",
    "                        start = end\n",
    "                    else:\n",
    "                        folds_y[i] = pd.concat([folds_y[i], ldf_dict[n].iloc[start:end]], ignore_index=True)\n",
    "                        start = end\n",
    "    return folds_X, folds_y"
   ]
  },
  {
   "cell_type": "code",
   "execution_count": 13,
   "id": "d98adb0e-ee24-4f78-b218-4cd2d549455f",
   "metadata": {},
   "outputs": [],
   "source": [
    "def create_k_folds(df, fold_n=5):\n",
    "    folds = {}\n",
    "    fold_size = len(df) // fold_n\n",
    "    for i in range(fold_n):\n",
    "        start = i * fold_size\n",
    "        if i == fold_n - 1:  # In the last fold, include all remaining data\n",
    "            end = len(df)\n",
    "        else:\n",
    "            end = start + fold_size\n",
    "        folds[i] = df[start:end]\n",
    "    return folds"
   ]
  },
  {
   "cell_type": "code",
   "execution_count": 14,
   "id": "478e348d-5d24-4de6-823e-7ae448871f6b",
   "metadata": {},
   "outputs": [],
   "source": [
    "def find_index(lst, target):\n",
    "    for i, number in enumerate(lst):\n",
    "        if number == target:\n",
    "            return i\n",
    "    return None"
   ]
  },
  {
   "cell_type": "code",
   "execution_count": 15,
   "id": "7a2e0095-bd5e-428a-acfb-392aadc62792",
   "metadata": {},
   "outputs": [],
   "source": [
    "def train_final_model(folds_X, folds_y):\n",
    "    cv_amount = len(folds_X)\n",
    "    models, r2_scores, rmse_scores, predictions = {}, {}, {}, {}\n",
    "    r2_total = 0\n",
    "    rmse_total = 0\n",
    "    \n",
    "    for i in range(cv_amount):\n",
    "        test_X, test_y = folds_X[i], folds_y[i]\n",
    "        train_X = np.concatenate([folds_X[n] for n in range(len(folds_X)) if n != i])\n",
    "        train_y = np.concatenate([folds_y[n] for n in range(len(folds_y)) if n != i])\n",
    "        \n",
    "        models['model_{}'.format(i)] = train_model_statsmodels(train_X, train_y)   # Train the model\n",
    "        test_X = sm.add_constant(test_X, has_constant='add')                                           # Adding a constant to the validation data\n",
    "        y_pred_log = models['model_{}'.format(i)].predict(test_X)                  # Predicted log-transformed prices\n",
    "        y_pred = np.expm1(y_pred_log)                                              # Inverse transformation\n",
    "        predictions[i] = y_pred                                                    # Saving the predictions for residual analysis\n",
    "\n",
    "        r2_scores[i] = r2_score(np.expm1(test_y), y_pred)\n",
    "        r2_total += r2_score(np.expm1(test_y), y_pred)\n",
    "\n",
    "        rmse_scores[i] = mean_squared_error(test_y, y_pred_log, squared=False)\n",
    "        rmse_total += rmse_scores[i]\n",
    "\n",
    "    # Final model and the final model's score\n",
    "    r2_average = r2_total / cv_amount\n",
    "    rmse_average = rmse_total / cv_amount\n",
    "    r2_list = []\n",
    "    for i in range(len(r2_scores)):\n",
    "        r2_list.append(r2_scores[i])\n",
    "    max_r2 = max(r2_list)\n",
    "    min_r2 = min(r2_list)\n",
    "    index_max_r2 = find_index(r2_list, max_r2)\n",
    "    index_min_r2 = find_index(r2_list, min_r2)\n",
    "    final_model = models['model_{}'.format(index_max_r2)]\n",
    "    display(final_model.summary())\n",
    "    \n",
    "    # Residual analysis\n",
    "    #residuals_cv = np.expm1(folds_y[index_min_r2]) - predictions[index_min_r2]\n",
    "    #plot_residuals(residuals_cv, predictions[index_min_r2])\n",
    "    #normality(residuals_cv)\n",
    "    #print(residuals_cv.sort_values())\n",
    "    \n",
    "    #print(\"All R-squared score:  \", r2_scores)\n",
    "    print(\"Average R-squared score:  \", r2_average)\n",
    "    print(\"Max R-squared score:  \", r2_scores[index_max_r2], index_max_r2)\n",
    "    print(\"Min R-squared score:  \", r2_scores[index_min_r2], index_min_r2)\n",
    "    print(\"Average RMSE score:  \", rmse_average)\n",
    "    return final_model, rmse_average"
   ]
  },
  {
   "cell_type": "code",
   "execution_count": 16,
   "id": "aa46f745-f46c-44c6-8e32-63f0195810d0",
   "metadata": {},
   "outputs": [],
   "source": [
    "def select_features(X, y, top=100):\n",
    "    lasso = Lasso(alpha =0.05, random_state=1)\n",
    "    lasso.fit(X, y)\n",
    "    \n",
    "    weights = lasso.coef_\n",
    "    top = min(len(weights), top)\n",
    "    \n",
    "    threshold = np.sort(np.abs(weights))[-top]\n",
    "    \n",
    "    # Identify columns with weight below 0.5\n",
    "    columns_to_delete = [column for column, weight in zip(list(lasso.feature_names_in_), weights) if abs(weight) <= threshold]\n",
    "\n",
    "    # Delete these columns from X\n",
    "    X = X.drop(columns=columns_to_delete)\n",
    "    return X.columns"
   ]
  },
  {
   "cell_type": "code",
   "execution_count": 17,
   "id": "e069891d-45fe-4f77-b53e-b3ae48f93111",
   "metadata": {},
   "outputs": [],
   "source": [
    "ordinal_mapping = {\n",
    "    'Ex': 5,  # Excellent\n",
    "    'Gd': 4,  # Good\n",
    "    'TA': 3,  # Average/Typical\n",
    "    'Fa': 2,  # Fair\n",
    "    'Po': 1,  # Poor\n",
    "    'NA': 0,  # None\n",
    "}\n",
    "\n",
    "electrical_mapping = {\n",
    "    'SBrkr': 5,  \n",
    "    'FuseA': 4,  \n",
    "    'FuseF': 3,  \n",
    "    'FuseP': 2,  \n",
    "    'Mix': 1,  \n",
    "}\n",
    "def data_mapping(train_data, test_data, column, mapping=ordinal_mapping, new_col=None):\n",
    "    ncol = new_col or column\n",
    "    train_data[ncol] = train_data[column].map(mapping)\n",
    "    test_data[ncol] = test_data[column].map(mapping)\n",
    "    return train_data[ncol], test_data[ncol]"
   ]
  },
  {
   "cell_type": "code",
   "execution_count": 18,
   "id": "8d6d7287-3fa2-4115-ab13-813085eb578e",
   "metadata": {},
   "outputs": [],
   "source": [
    "# Paths to the datasets\n",
    "train_path = 'train.csv'\n",
    "test_path = 'test.csv'\n",
    "\n",
    "# Load the data\n",
    "train_data, test_data = load_data(train_path, test_path)\n",
    "#train_data.drop([523, 691, 898, 1324], inplace=True)\n",
    "#train_data.drop([88,462,523,588,632,968,1298,1324], inplace=True)\n",
    "\n",
    "original_train = pd.read_csv(train_path)\n",
    "original_test = pd.read_csv(test_path)\n",
    "\n",
    "#print(original_train)\n",
    "\n",
    "data_mapping(train_data, test_data, 'KitchenQual')\n",
    "data_mapping(train_data, test_data, 'HeatingQC')\n",
    "\n",
    "data_mapping(original_train, original_test, 'KitchenQual')\n",
    "data_mapping(original_train, original_test, 'HeatingQC')\n",
    "\n",
    "train_data['remod'] = train_data['YearRemodAdd'] != train_data['YearBuilt']\n",
    "\n",
    "agg_data = train_data.groupby('Neighborhood').agg({\n",
    "        'OverallQual': ['mean', 'median', 'min', 'max'], \n",
    "        'SalePrice': ['mean', 'min', 'max'],\n",
    "        'OverallCond': ['mean', 'min', 'max'],\n",
    "        'GarageCars' : ['mean', 'min', 'max'],\n",
    "        'remod': ['sum'],\n",
    "    })\n",
    "\n",
    "#display(train_data.groupby('Neighborhood')['SalePrice'].max().sort_values())\n",
    "neighborhood_quality = train_data.groupby('Neighborhood')['OverallQual'].min().to_dict()\n",
    "data_mapping(original_train, original_test, 'Neighborhood', mapping=neighborhood_quality, new_col='NeighborhoodQual')\n",
    "data_mapping(train_data, test_data, 'Neighborhood', mapping=neighborhood_quality, new_col='NeighborhoodQual')\n",
    "\n",
    "neighborhood_condition = train_data.groupby('Neighborhood')['OverallCond'].min().to_dict()\n",
    "data_mapping(original_train, original_test, 'Neighborhood', mapping=neighborhood_condition, new_col='NeighborhoodCond')\n",
    "data_mapping(train_data, test_data, 'Neighborhood', mapping=neighborhood_condition, new_col='NeighborhoodCond')\n",
    "\n",
    "columns_to_encode = train_data.drop('Neighborhood', axis=1)\n",
    "train_data_encoded = pd.get_dummies(columns_to_encode)\n",
    "train_data = pd.concat([train_data_encoded, train_data['Neighborhood']], axis=1)\n",
    "test_data = pd.get_dummies(test_data)\n",
    "\n",
    "original_train = pd.get_dummies(original_train)\n",
    "original_test = pd.get_dummies(original_test)\n",
    "\n",
    "#original_train['YearRemodAdd'] - original_train['YearBuilt']\n",
    "\n",
    "train_data['remod_last'] = train_data[['YearRemodAdd', 'YearBuilt']].max(axis=1)\n",
    "test_data['remod_last'] = test_data[['YearRemodAdd', 'YearBuilt']].max(axis=1)\n",
    "\n",
    "original_train['remod_last'] = original_train[['YearRemodAdd', 'YearBuilt']].max(axis=1)\n",
    "original_test['remod_last'] = original_test[['YearRemodAdd', 'YearBuilt']].max(axis=1)\n",
    "\n",
    "# Visualize data\n",
    "selected_features = ['MasVnrArea', 'KitchenQual', 'SaleCondition_Normal', 'remod_last',\n",
    "                     'ExterQual_TA', 'LotArea', 'BsmtQual_Ex', 'BsmtUnfSF', 'NeighborhoodQual',\n",
    "                     'YrSold', 'OverallQual', 'OverallCond', 'GrLivArea', 'TotalBsmtSF', \n",
    "                     'GarageCars', 'MSSubClass', 'YearBuilt', 'NeighborhoodCond',]\n",
    "#visualize_data(train_data, selected_features)"
   ]
  },
  {
   "cell_type": "code",
   "execution_count": 19,
   "id": "42b9b764-e8e7-49e7-b433-9c31f87f2508",
   "metadata": {},
   "outputs": [],
   "source": [
    "#train_data['NeighborhoodQual']"
   ]
  },
  {
   "cell_type": "code",
   "execution_count": 20,
   "id": "7eaaa67a-e96e-4762-8a21-719c87bb0b6a",
   "metadata": {},
   "outputs": [],
   "source": [
    "#train_data.groupby('Neighborhood')['OverallQual'].sum()"
   ]
  },
  {
   "cell_type": "code",
   "execution_count": 21,
   "id": "d80bf240-b3c7-4fa6-99e5-9ed9be55685a",
   "metadata": {},
   "outputs": [
    {
     "data": {
      "text/plain": [
       "'\\nX_poly = generate_polynomials(X_poly)\\nX_test = generate_polynomials(X_test)\\n\\nselected_features_lasso = select_features(X_poly, y, top=100)\\n\\nX_poly = X_poly[selected_features_lasso]\\nX_test = X_test[selected_features_lasso]\\n'"
      ]
     },
     "execution_count": 21,
     "metadata": {},
     "output_type": "execute_result"
    }
   ],
   "source": [
    "# Handling missing values\n",
    "imputer = SimpleImputer(strategy='constant', fill_value=0)\n",
    "train_data[selected_features] = imputer.fit_transform(train_data[selected_features])\n",
    "original_train[selected_features] = imputer.fit_transform(original_train[selected_features])\n",
    "\n",
    "# Preprocessing the test data\n",
    "test_data = preprocess_data(test_data, selected_features, imputer)\n",
    "\n",
    "# Apply log transformation to the target variable 'SalePrice'\n",
    "train_data['SalePrice'] = np.log1p(train_data['SalePrice'])\n",
    "original_train['SalePrice'] = np.log1p(original_train['SalePrice'])\n",
    "\n",
    "y = train_data['SalePrice']\n",
    "X = train_data[selected_features]\n",
    "\n",
    "y_original = train_data['SalePrice']\n",
    "X_original = train_data[selected_features]\n",
    "\n",
    "X_poly = generate_polynomials(X)\n",
    "X_test = generate_polynomials(test_data[selected_features])\n",
    "\n",
    "X_poly_original = generate_polynomials(X_original)\n",
    "\n",
    "X_c = pd.concat([X_poly, train_data['Neighborhood']], axis=1)\n",
    "X_cv = pd.concat([X_c, y], axis=1)\n",
    "\n",
    "#X_train, X_val, y_train, y_val = train_test_split(X_poly, y, test_size=0.1, random_state=0)\n",
    "folds_X, folds_y = create_cluster_folds(X_cv, agg_data, selected_features, 'Neighborhood', 'SalePrice', fold_n=20)\n",
    "\n",
    "'''\n",
    "X_poly = generate_polynomials(X_poly)\n",
    "X_test = generate_polynomials(X_test)\n",
    "\n",
    "selected_features_lasso = select_features(X_poly, y, top=100)\n",
    "\n",
    "X_poly = X_poly[selected_features_lasso]\n",
    "X_test = X_test[selected_features_lasso]\n",
    "'''"
   ]
  },
  {
   "cell_type": "code",
   "execution_count": 22,
   "id": "ace1f61b-a88a-4d45-9c94-831fbf757488",
   "metadata": {},
   "outputs": [
    {
     "data": {
      "text/plain": [
       "Id\n",
       "1       1\n",
       "982     1\n",
       "980     1\n",
       "979     1\n",
       "978     1\n",
       "       ..\n",
       "485     1\n",
       "484     1\n",
       "483     1\n",
       "482     1\n",
       "1460    1\n",
       "Name: count, Length: 1460, dtype: int64"
      ]
     },
     "metadata": {},
     "output_type": "display_data"
    },
    {
     "data": {
      "text/plain": [
       "MSSubClass\n",
       "20.0     536\n",
       "60.0     299\n",
       "50.0     144\n",
       "120.0     87\n",
       "30.0      69\n",
       "160.0     63\n",
       "70.0      60\n",
       "80.0      58\n",
       "90.0      52\n",
       "190.0     30\n",
       "85.0      20\n",
       "75.0      16\n",
       "45.0      12\n",
       "180.0     10\n",
       "40.0       4\n",
       "Name: count, dtype: int64"
      ]
     },
     "metadata": {},
     "output_type": "display_data"
    },
    {
     "data": {
      "text/plain": [
       "LotFrontage\n",
       "60.0     143\n",
       "70.0      70\n",
       "80.0      69\n",
       "50.0      57\n",
       "75.0      53\n",
       "        ... \n",
       "137.0      1\n",
       "141.0      1\n",
       "38.0       1\n",
       "140.0      1\n",
       "46.0       1\n",
       "Name: count, Length: 110, dtype: int64"
      ]
     },
     "metadata": {},
     "output_type": "display_data"
    },
    {
     "data": {
      "text/plain": [
       "LotArea\n",
       "7200.0     25\n",
       "9600.0     24\n",
       "6000.0     17\n",
       "9000.0     14\n",
       "8400.0     14\n",
       "           ..\n",
       "14601.0     1\n",
       "13682.0     1\n",
       "4058.0      1\n",
       "17104.0     1\n",
       "9717.0      1\n",
       "Name: count, Length: 1073, dtype: int64"
      ]
     },
     "metadata": {},
     "output_type": "display_data"
    },
    {
     "data": {
      "text/plain": [
       "OverallQual\n",
       "5.0     397\n",
       "6.0     374\n",
       "7.0     319\n",
       "8.0     168\n",
       "4.0     116\n",
       "9.0      43\n",
       "3.0      20\n",
       "10.0     18\n",
       "2.0       3\n",
       "1.0       2\n",
       "Name: count, dtype: int64"
      ]
     },
     "metadata": {},
     "output_type": "display_data"
    },
    {
     "data": {
      "text/plain": [
       "OverallCond\n",
       "5.0    821\n",
       "6.0    252\n",
       "7.0    205\n",
       "8.0     72\n",
       "4.0     57\n",
       "3.0     25\n",
       "9.0     22\n",
       "2.0      5\n",
       "1.0      1\n",
       "Name: count, dtype: int64"
      ]
     },
     "metadata": {},
     "output_type": "display_data"
    },
    {
     "data": {
      "text/plain": [
       "YearBuilt\n",
       "2006.0    67\n",
       "2005.0    64\n",
       "2004.0    54\n",
       "2007.0    49\n",
       "2003.0    45\n",
       "          ..\n",
       "1875.0     1\n",
       "1911.0     1\n",
       "1917.0     1\n",
       "1872.0     1\n",
       "1905.0     1\n",
       "Name: count, Length: 112, dtype: int64"
      ]
     },
     "metadata": {},
     "output_type": "display_data"
    },
    {
     "data": {
      "text/plain": [
       "YearRemodAdd\n",
       "1950    178\n",
       "2006     97\n",
       "2007     76\n",
       "2005     73\n",
       "2004     62\n",
       "       ... \n",
       "2010      6\n",
       "1986      5\n",
       "1952      5\n",
       "1983      5\n",
       "1951      4\n",
       "Name: count, Length: 61, dtype: int64"
      ]
     },
     "metadata": {},
     "output_type": "display_data"
    },
    {
     "data": {
      "text/plain": [
       "MasVnrArea\n",
       "0.0      869\n",
       "180.0      8\n",
       "72.0       8\n",
       "108.0      8\n",
       "120.0      7\n",
       "        ... \n",
       "562.0      1\n",
       "89.0       1\n",
       "921.0      1\n",
       "762.0      1\n",
       "119.0      1\n",
       "Name: count, Length: 327, dtype: int64"
      ]
     },
     "metadata": {},
     "output_type": "display_data"
    },
    {
     "data": {
      "text/plain": [
       "BsmtFinSF1\n",
       "0       467\n",
       "24       12\n",
       "16        9\n",
       "686       5\n",
       "662       5\n",
       "       ... \n",
       "1338      1\n",
       "1324      1\n",
       "1460      1\n",
       "328       1\n",
       "830       1\n",
       "Name: count, Length: 637, dtype: int64"
      ]
     },
     "metadata": {},
     "output_type": "display_data"
    },
    {
     "data": {
      "text/plain": [
       "BsmtFinSF2\n",
       "0       1293\n",
       "180        5\n",
       "374        3\n",
       "551        2\n",
       "147        2\n",
       "        ... \n",
       "532        1\n",
       "165        1\n",
       "1120       1\n",
       "311        1\n",
       "1029       1\n",
       "Name: count, Length: 144, dtype: int64"
      ]
     },
     "metadata": {},
     "output_type": "display_data"
    },
    {
     "data": {
      "text/plain": [
       "BsmtUnfSF\n",
       "0.0       118\n",
       "728.0       9\n",
       "384.0       8\n",
       "600.0       7\n",
       "300.0       7\n",
       "         ... \n",
       "551.0       1\n",
       "1257.0      1\n",
       "605.0       1\n",
       "467.0       1\n",
       "136.0       1\n",
       "Name: count, Length: 780, dtype: int64"
      ]
     },
     "metadata": {},
     "output_type": "display_data"
    },
    {
     "data": {
      "text/plain": [
       "TotalBsmtSF\n",
       "0.0       37\n",
       "864.0     35\n",
       "672.0     17\n",
       "912.0     15\n",
       "1040.0    14\n",
       "          ..\n",
       "1838.0     1\n",
       "1581.0     1\n",
       "707.0      1\n",
       "611.0      1\n",
       "1542.0     1\n",
       "Name: count, Length: 721, dtype: int64"
      ]
     },
     "metadata": {},
     "output_type": "display_data"
    },
    {
     "data": {
      "text/plain": [
       "HeatingQC\n",
       "5    741\n",
       "3    428\n",
       "4    241\n",
       "2     49\n",
       "1      1\n",
       "Name: count, dtype: int64"
      ]
     },
     "metadata": {},
     "output_type": "display_data"
    },
    {
     "data": {
      "text/plain": [
       "1stFlrSF\n",
       "864     25\n",
       "1040    16\n",
       "912     14\n",
       "894     12\n",
       "848     12\n",
       "        ..\n",
       "1509     1\n",
       "2515     1\n",
       "605      1\n",
       "3138     1\n",
       "1256     1\n",
       "Name: count, Length: 753, dtype: int64"
      ]
     },
     "metadata": {},
     "output_type": "display_data"
    },
    {
     "data": {
      "text/plain": [
       "2ndFlrSF\n",
       "0       829\n",
       "728      10\n",
       "504       9\n",
       "546       8\n",
       "672       8\n",
       "       ... \n",
       "1538      1\n",
       "914       1\n",
       "1067      1\n",
       "1000      1\n",
       "1152      1\n",
       "Name: count, Length: 417, dtype: int64"
      ]
     },
     "metadata": {},
     "output_type": "display_data"
    },
    {
     "data": {
      "text/plain": [
       "LowQualFinSF\n",
       "0      1434\n",
       "80        3\n",
       "360       2\n",
       "205       1\n",
       "479       1\n",
       "397       1\n",
       "514       1\n",
       "120       1\n",
       "481       1\n",
       "232       1\n",
       "53        1\n",
       "515       1\n",
       "156       1\n",
       "473       1\n",
       "420       1\n",
       "390       1\n",
       "371       1\n",
       "392       1\n",
       "144       1\n",
       "572       1\n",
       "528       1\n",
       "234       1\n",
       "513       1\n",
       "384       1\n",
       "Name: count, dtype: int64"
      ]
     },
     "metadata": {},
     "output_type": "display_data"
    },
    {
     "data": {
      "text/plain": [
       "GrLivArea\n",
       "864.0     22\n",
       "1040.0    14\n",
       "894.0     11\n",
       "1456.0    10\n",
       "848.0     10\n",
       "          ..\n",
       "2296.0     1\n",
       "1123.0     1\n",
       "1199.0     1\n",
       "1473.0     1\n",
       "1256.0     1\n",
       "Name: count, Length: 861, dtype: int64"
      ]
     },
     "metadata": {},
     "output_type": "display_data"
    },
    {
     "data": {
      "text/plain": [
       "BsmtFullBath\n",
       "0    856\n",
       "1    588\n",
       "2     15\n",
       "3      1\n",
       "Name: count, dtype: int64"
      ]
     },
     "metadata": {},
     "output_type": "display_data"
    },
    {
     "data": {
      "text/plain": [
       "BsmtHalfBath\n",
       "0    1378\n",
       "1      80\n",
       "2       2\n",
       "Name: count, dtype: int64"
      ]
     },
     "metadata": {},
     "output_type": "display_data"
    },
    {
     "data": {
      "text/plain": [
       "FullBath\n",
       "2    768\n",
       "1    650\n",
       "3     33\n",
       "0      9\n",
       "Name: count, dtype: int64"
      ]
     },
     "metadata": {},
     "output_type": "display_data"
    },
    {
     "data": {
      "text/plain": [
       "HalfBath\n",
       "0    913\n",
       "1    535\n",
       "2     12\n",
       "Name: count, dtype: int64"
      ]
     },
     "metadata": {},
     "output_type": "display_data"
    },
    {
     "data": {
      "text/plain": [
       "BedroomAbvGr\n",
       "3    804\n",
       "2    358\n",
       "4    213\n",
       "1     50\n",
       "5     21\n",
       "6      7\n",
       "0      6\n",
       "8      1\n",
       "Name: count, dtype: int64"
      ]
     },
     "metadata": {},
     "output_type": "display_data"
    },
    {
     "data": {
      "text/plain": [
       "KitchenAbvGr\n",
       "1    1392\n",
       "2      65\n",
       "3       2\n",
       "0       1\n",
       "Name: count, dtype: int64"
      ]
     },
     "metadata": {},
     "output_type": "display_data"
    },
    {
     "data": {
      "text/plain": [
       "KitchenQual\n",
       "3.0    735\n",
       "4.0    586\n",
       "5.0    100\n",
       "2.0     39\n",
       "Name: count, dtype: int64"
      ]
     },
     "metadata": {},
     "output_type": "display_data"
    },
    {
     "data": {
      "text/plain": [
       "TotRmsAbvGrd\n",
       "6     402\n",
       "7     329\n",
       "5     275\n",
       "8     187\n",
       "4      97\n",
       "9      75\n",
       "10     47\n",
       "11     18\n",
       "3      17\n",
       "12     11\n",
       "2       1\n",
       "14      1\n",
       "Name: count, dtype: int64"
      ]
     },
     "metadata": {},
     "output_type": "display_data"
    },
    {
     "data": {
      "text/plain": [
       "Fireplaces\n",
       "0    690\n",
       "1    650\n",
       "2    115\n",
       "3      5\n",
       "Name: count, dtype: int64"
      ]
     },
     "metadata": {},
     "output_type": "display_data"
    },
    {
     "data": {
      "text/plain": [
       "GarageYrBlt\n",
       "2005.0    65\n",
       "2006.0    59\n",
       "2004.0    53\n",
       "2003.0    50\n",
       "2007.0    49\n",
       "          ..\n",
       "1927.0     1\n",
       "1900.0     1\n",
       "1906.0     1\n",
       "1908.0     1\n",
       "1933.0     1\n",
       "Name: count, Length: 97, dtype: int64"
      ]
     },
     "metadata": {},
     "output_type": "display_data"
    },
    {
     "data": {
      "text/plain": [
       "GarageCars\n",
       "2.0    824\n",
       "1.0    369\n",
       "3.0    181\n",
       "0.0     81\n",
       "4.0      5\n",
       "Name: count, dtype: int64"
      ]
     },
     "metadata": {},
     "output_type": "display_data"
    },
    {
     "data": {
      "text/plain": [
       "GarageArea\n",
       "0      81\n",
       "440    49\n",
       "576    47\n",
       "240    38\n",
       "484    34\n",
       "       ..\n",
       "320     1\n",
       "594     1\n",
       "831     1\n",
       "878     1\n",
       "192     1\n",
       "Name: count, Length: 441, dtype: int64"
      ]
     },
     "metadata": {},
     "output_type": "display_data"
    },
    {
     "data": {
      "text/plain": [
       "WoodDeckSF\n",
       "0      761\n",
       "192     38\n",
       "100     36\n",
       "144     33\n",
       "120     31\n",
       "      ... \n",
       "326      1\n",
       "179      1\n",
       "103      1\n",
       "176      1\n",
       "736      1\n",
       "Name: count, Length: 274, dtype: int64"
      ]
     },
     "metadata": {},
     "output_type": "display_data"
    },
    {
     "data": {
      "text/plain": [
       "OpenPorchSF\n",
       "0      656\n",
       "36      29\n",
       "48      22\n",
       "20      21\n",
       "40      19\n",
       "      ... \n",
       "11       1\n",
       "523      1\n",
       "125      1\n",
       "137      1\n",
       "236      1\n",
       "Name: count, Length: 202, dtype: int64"
      ]
     },
     "metadata": {},
     "output_type": "display_data"
    },
    {
     "data": {
      "text/plain": [
       "EnclosedPorch\n",
       "0      1252\n",
       "112      15\n",
       "96        6\n",
       "192       5\n",
       "144       5\n",
       "       ... \n",
       "54        1\n",
       "136       1\n",
       "148       1\n",
       "140       1\n",
       "99        1\n",
       "Name: count, Length: 120, dtype: int64"
      ]
     },
     "metadata": {},
     "output_type": "display_data"
    },
    {
     "data": {
      "text/plain": [
       "3SsnPorch\n",
       "0      1436\n",
       "168       3\n",
       "144       2\n",
       "180       2\n",
       "216       2\n",
       "290       1\n",
       "153       1\n",
       "96        1\n",
       "23        1\n",
       "162       1\n",
       "182       1\n",
       "196       1\n",
       "320       1\n",
       "245       1\n",
       "238       1\n",
       "508       1\n",
       "140       1\n",
       "130       1\n",
       "407       1\n",
       "304       1\n",
       "Name: count, dtype: int64"
      ]
     },
     "metadata": {},
     "output_type": "display_data"
    },
    {
     "data": {
      "text/plain": [
       "ScreenPorch\n",
       "0      1344\n",
       "192       6\n",
       "120       5\n",
       "224       5\n",
       "189       4\n",
       "       ... \n",
       "291       1\n",
       "260       1\n",
       "385       1\n",
       "156       1\n",
       "40        1\n",
       "Name: count, Length: 76, dtype: int64"
      ]
     },
     "metadata": {},
     "output_type": "display_data"
    },
    {
     "data": {
      "text/plain": [
       "PoolArea\n",
       "0      1453\n",
       "512       1\n",
       "648       1\n",
       "576       1\n",
       "555       1\n",
       "480       1\n",
       "519       1\n",
       "738       1\n",
       "Name: count, dtype: int64"
      ]
     },
     "metadata": {},
     "output_type": "display_data"
    },
    {
     "data": {
      "text/plain": [
       "MiscVal\n",
       "0        1408\n",
       "400        11\n",
       "500         8\n",
       "700         5\n",
       "450         4\n",
       "600         4\n",
       "2000        4\n",
       "1200        2\n",
       "480         2\n",
       "15500       1\n",
       "800         1\n",
       "350         1\n",
       "3500        1\n",
       "1300        1\n",
       "54          1\n",
       "620         1\n",
       "560         1\n",
       "1400        1\n",
       "8300        1\n",
       "1150        1\n",
       "2500        1\n",
       "Name: count, dtype: int64"
      ]
     },
     "metadata": {},
     "output_type": "display_data"
    },
    {
     "data": {
      "text/plain": [
       "MoSold\n",
       "6     253\n",
       "7     234\n",
       "5     204\n",
       "4     141\n",
       "8     122\n",
       "3     106\n",
       "10     89\n",
       "11     79\n",
       "9      63\n",
       "12     59\n",
       "1      58\n",
       "2      52\n",
       "Name: count, dtype: int64"
      ]
     },
     "metadata": {},
     "output_type": "display_data"
    },
    {
     "data": {
      "text/plain": [
       "YrSold\n",
       "2009.0    338\n",
       "2007.0    329\n",
       "2006.0    314\n",
       "2008.0    304\n",
       "2010.0    175\n",
       "Name: count, dtype: int64"
      ]
     },
     "metadata": {},
     "output_type": "display_data"
    },
    {
     "data": {
      "text/plain": [
       "SalePrice\n",
       "11.849405    20\n",
       "11.813037    17\n",
       "11.951187    14\n",
       "11.884496    14\n",
       "12.154785    13\n",
       "             ..\n",
       "12.219315     1\n",
       "12.013101     1\n",
       "12.246739     1\n",
       "12.109016     1\n",
       "11.901590     1\n",
       "Name: count, Length: 663, dtype: int64"
      ]
     },
     "metadata": {},
     "output_type": "display_data"
    },
    {
     "data": {
      "text/plain": [
       "remod\n",
       "False    764\n",
       "True     696\n",
       "Name: count, dtype: int64"
      ]
     },
     "metadata": {},
     "output_type": "display_data"
    },
    {
     "data": {
      "text/plain": [
       "NeighborhoodQual\n",
       "4.0    507\n",
       "3.0    338\n",
       "6.0    174\n",
       "1.0    158\n",
       "5.0    138\n",
       "7.0     83\n",
       "2.0     62\n",
       "Name: count, dtype: int64"
      ]
     },
     "metadata": {},
     "output_type": "display_data"
    },
    {
     "data": {
      "text/plain": [
       "NeighborhoodCond\n",
       "5.0    543\n",
       "3.0    467\n",
       "2.0    233\n",
       "4.0    115\n",
       "1.0    100\n",
       "6.0      2\n",
       "Name: count, dtype: int64"
      ]
     },
     "metadata": {},
     "output_type": "display_data"
    },
    {
     "data": {
      "text/plain": [
       "MSZoning_C (all)\n",
       "False    1450\n",
       "True       10\n",
       "Name: count, dtype: int64"
      ]
     },
     "metadata": {},
     "output_type": "display_data"
    },
    {
     "data": {
      "text/plain": [
       "MSZoning_FV\n",
       "False    1395\n",
       "True       65\n",
       "Name: count, dtype: int64"
      ]
     },
     "metadata": {},
     "output_type": "display_data"
    },
    {
     "data": {
      "text/plain": [
       "MSZoning_RH\n",
       "False    1444\n",
       "True       16\n",
       "Name: count, dtype: int64"
      ]
     },
     "metadata": {},
     "output_type": "display_data"
    },
    {
     "data": {
      "text/plain": [
       "MSZoning_RL\n",
       "True     1151\n",
       "False     309\n",
       "Name: count, dtype: int64"
      ]
     },
     "metadata": {},
     "output_type": "display_data"
    },
    {
     "data": {
      "text/plain": [
       "MSZoning_RM\n",
       "False    1242\n",
       "True      218\n",
       "Name: count, dtype: int64"
      ]
     },
     "metadata": {},
     "output_type": "display_data"
    },
    {
     "data": {
      "text/plain": [
       "Street_Grvl\n",
       "False    1454\n",
       "True        6\n",
       "Name: count, dtype: int64"
      ]
     },
     "metadata": {},
     "output_type": "display_data"
    },
    {
     "data": {
      "text/plain": [
       "Street_Pave\n",
       "True     1454\n",
       "False       6\n",
       "Name: count, dtype: int64"
      ]
     },
     "metadata": {},
     "output_type": "display_data"
    },
    {
     "data": {
      "text/plain": [
       "Alley_Grvl\n",
       "False    1410\n",
       "True       50\n",
       "Name: count, dtype: int64"
      ]
     },
     "metadata": {},
     "output_type": "display_data"
    },
    {
     "data": {
      "text/plain": [
       "Alley_Pave\n",
       "False    1419\n",
       "True       41\n",
       "Name: count, dtype: int64"
      ]
     },
     "metadata": {},
     "output_type": "display_data"
    },
    {
     "data": {
      "text/plain": [
       "LotShape_IR1\n",
       "False    976\n",
       "True     484\n",
       "Name: count, dtype: int64"
      ]
     },
     "metadata": {},
     "output_type": "display_data"
    },
    {
     "data": {
      "text/plain": [
       "LotShape_IR2\n",
       "False    1419\n",
       "True       41\n",
       "Name: count, dtype: int64"
      ]
     },
     "metadata": {},
     "output_type": "display_data"
    },
    {
     "data": {
      "text/plain": [
       "LotShape_IR3\n",
       "False    1450\n",
       "True       10\n",
       "Name: count, dtype: int64"
      ]
     },
     "metadata": {},
     "output_type": "display_data"
    },
    {
     "data": {
      "text/plain": [
       "LotShape_Reg\n",
       "True     925\n",
       "False    535\n",
       "Name: count, dtype: int64"
      ]
     },
     "metadata": {},
     "output_type": "display_data"
    },
    {
     "data": {
      "text/plain": [
       "LandContour_Bnk\n",
       "False    1397\n",
       "True       63\n",
       "Name: count, dtype: int64"
      ]
     },
     "metadata": {},
     "output_type": "display_data"
    },
    {
     "data": {
      "text/plain": [
       "LandContour_HLS\n",
       "False    1410\n",
       "True       50\n",
       "Name: count, dtype: int64"
      ]
     },
     "metadata": {},
     "output_type": "display_data"
    },
    {
     "data": {
      "text/plain": [
       "LandContour_Low\n",
       "False    1424\n",
       "True       36\n",
       "Name: count, dtype: int64"
      ]
     },
     "metadata": {},
     "output_type": "display_data"
    },
    {
     "data": {
      "text/plain": [
       "LandContour_Lvl\n",
       "True     1311\n",
       "False     149\n",
       "Name: count, dtype: int64"
      ]
     },
     "metadata": {},
     "output_type": "display_data"
    },
    {
     "data": {
      "text/plain": [
       "Utilities_AllPub\n",
       "True     1459\n",
       "False       1\n",
       "Name: count, dtype: int64"
      ]
     },
     "metadata": {},
     "output_type": "display_data"
    },
    {
     "data": {
      "text/plain": [
       "Utilities_NoSeWa\n",
       "False    1459\n",
       "True        1\n",
       "Name: count, dtype: int64"
      ]
     },
     "metadata": {},
     "output_type": "display_data"
    },
    {
     "data": {
      "text/plain": [
       "LotConfig_Corner\n",
       "False    1197\n",
       "True      263\n",
       "Name: count, dtype: int64"
      ]
     },
     "metadata": {},
     "output_type": "display_data"
    },
    {
     "data": {
      "text/plain": [
       "LotConfig_CulDSac\n",
       "False    1366\n",
       "True       94\n",
       "Name: count, dtype: int64"
      ]
     },
     "metadata": {},
     "output_type": "display_data"
    },
    {
     "data": {
      "text/plain": [
       "LotConfig_FR2\n",
       "False    1413\n",
       "True       47\n",
       "Name: count, dtype: int64"
      ]
     },
     "metadata": {},
     "output_type": "display_data"
    },
    {
     "data": {
      "text/plain": [
       "LotConfig_FR3\n",
       "False    1456\n",
       "True        4\n",
       "Name: count, dtype: int64"
      ]
     },
     "metadata": {},
     "output_type": "display_data"
    },
    {
     "data": {
      "text/plain": [
       "LotConfig_Inside\n",
       "True     1052\n",
       "False     408\n",
       "Name: count, dtype: int64"
      ]
     },
     "metadata": {},
     "output_type": "display_data"
    },
    {
     "data": {
      "text/plain": [
       "LandSlope_Gtl\n",
       "True     1382\n",
       "False      78\n",
       "Name: count, dtype: int64"
      ]
     },
     "metadata": {},
     "output_type": "display_data"
    },
    {
     "data": {
      "text/plain": [
       "LandSlope_Mod\n",
       "False    1395\n",
       "True       65\n",
       "Name: count, dtype: int64"
      ]
     },
     "metadata": {},
     "output_type": "display_data"
    },
    {
     "data": {
      "text/plain": [
       "LandSlope_Sev\n",
       "False    1447\n",
       "True       13\n",
       "Name: count, dtype: int64"
      ]
     },
     "metadata": {},
     "output_type": "display_data"
    },
    {
     "data": {
      "text/plain": [
       "Condition1_Artery\n",
       "False    1412\n",
       "True       48\n",
       "Name: count, dtype: int64"
      ]
     },
     "metadata": {},
     "output_type": "display_data"
    },
    {
     "data": {
      "text/plain": [
       "Condition1_Feedr\n",
       "False    1379\n",
       "True       81\n",
       "Name: count, dtype: int64"
      ]
     },
     "metadata": {},
     "output_type": "display_data"
    },
    {
     "data": {
      "text/plain": [
       "Condition1_Norm\n",
       "True     1260\n",
       "False     200\n",
       "Name: count, dtype: int64"
      ]
     },
     "metadata": {},
     "output_type": "display_data"
    },
    {
     "data": {
      "text/plain": [
       "Condition1_PosA\n",
       "False    1452\n",
       "True        8\n",
       "Name: count, dtype: int64"
      ]
     },
     "metadata": {},
     "output_type": "display_data"
    },
    {
     "data": {
      "text/plain": [
       "Condition1_PosN\n",
       "False    1441\n",
       "True       19\n",
       "Name: count, dtype: int64"
      ]
     },
     "metadata": {},
     "output_type": "display_data"
    },
    {
     "data": {
      "text/plain": [
       "Condition1_RRAe\n",
       "False    1449\n",
       "True       11\n",
       "Name: count, dtype: int64"
      ]
     },
     "metadata": {},
     "output_type": "display_data"
    },
    {
     "data": {
      "text/plain": [
       "Condition1_RRAn\n",
       "False    1434\n",
       "True       26\n",
       "Name: count, dtype: int64"
      ]
     },
     "metadata": {},
     "output_type": "display_data"
    },
    {
     "data": {
      "text/plain": [
       "Condition1_RRNe\n",
       "False    1458\n",
       "True        2\n",
       "Name: count, dtype: int64"
      ]
     },
     "metadata": {},
     "output_type": "display_data"
    },
    {
     "data": {
      "text/plain": [
       "Condition1_RRNn\n",
       "False    1455\n",
       "True        5\n",
       "Name: count, dtype: int64"
      ]
     },
     "metadata": {},
     "output_type": "display_data"
    },
    {
     "data": {
      "text/plain": [
       "Condition2_Artery\n",
       "False    1458\n",
       "True        2\n",
       "Name: count, dtype: int64"
      ]
     },
     "metadata": {},
     "output_type": "display_data"
    },
    {
     "data": {
      "text/plain": [
       "Condition2_Feedr\n",
       "False    1454\n",
       "True        6\n",
       "Name: count, dtype: int64"
      ]
     },
     "metadata": {},
     "output_type": "display_data"
    },
    {
     "data": {
      "text/plain": [
       "Condition2_Norm\n",
       "True     1445\n",
       "False      15\n",
       "Name: count, dtype: int64"
      ]
     },
     "metadata": {},
     "output_type": "display_data"
    },
    {
     "data": {
      "text/plain": [
       "Condition2_PosA\n",
       "False    1459\n",
       "True        1\n",
       "Name: count, dtype: int64"
      ]
     },
     "metadata": {},
     "output_type": "display_data"
    },
    {
     "data": {
      "text/plain": [
       "Condition2_PosN\n",
       "False    1458\n",
       "True        2\n",
       "Name: count, dtype: int64"
      ]
     },
     "metadata": {},
     "output_type": "display_data"
    },
    {
     "data": {
      "text/plain": [
       "Condition2_RRAe\n",
       "False    1459\n",
       "True        1\n",
       "Name: count, dtype: int64"
      ]
     },
     "metadata": {},
     "output_type": "display_data"
    },
    {
     "data": {
      "text/plain": [
       "Condition2_RRAn\n",
       "False    1459\n",
       "True        1\n",
       "Name: count, dtype: int64"
      ]
     },
     "metadata": {},
     "output_type": "display_data"
    },
    {
     "data": {
      "text/plain": [
       "Condition2_RRNn\n",
       "False    1458\n",
       "True        2\n",
       "Name: count, dtype: int64"
      ]
     },
     "metadata": {},
     "output_type": "display_data"
    },
    {
     "data": {
      "text/plain": [
       "BldgType_1Fam\n",
       "True     1220\n",
       "False     240\n",
       "Name: count, dtype: int64"
      ]
     },
     "metadata": {},
     "output_type": "display_data"
    },
    {
     "data": {
      "text/plain": [
       "BldgType_2fmCon\n",
       "False    1429\n",
       "True       31\n",
       "Name: count, dtype: int64"
      ]
     },
     "metadata": {},
     "output_type": "display_data"
    },
    {
     "data": {
      "text/plain": [
       "BldgType_Duplex\n",
       "False    1408\n",
       "True       52\n",
       "Name: count, dtype: int64"
      ]
     },
     "metadata": {},
     "output_type": "display_data"
    },
    {
     "data": {
      "text/plain": [
       "BldgType_Twnhs\n",
       "False    1417\n",
       "True       43\n",
       "Name: count, dtype: int64"
      ]
     },
     "metadata": {},
     "output_type": "display_data"
    },
    {
     "data": {
      "text/plain": [
       "BldgType_TwnhsE\n",
       "False    1346\n",
       "True      114\n",
       "Name: count, dtype: int64"
      ]
     },
     "metadata": {},
     "output_type": "display_data"
    },
    {
     "data": {
      "text/plain": [
       "HouseStyle_1.5Fin\n",
       "False    1306\n",
       "True      154\n",
       "Name: count, dtype: int64"
      ]
     },
     "metadata": {},
     "output_type": "display_data"
    },
    {
     "data": {
      "text/plain": [
       "HouseStyle_1.5Unf\n",
       "False    1446\n",
       "True       14\n",
       "Name: count, dtype: int64"
      ]
     },
     "metadata": {},
     "output_type": "display_data"
    },
    {
     "data": {
      "text/plain": [
       "HouseStyle_1Story\n",
       "False    734\n",
       "True     726\n",
       "Name: count, dtype: int64"
      ]
     },
     "metadata": {},
     "output_type": "display_data"
    },
    {
     "data": {
      "text/plain": [
       "HouseStyle_2.5Fin\n",
       "False    1452\n",
       "True        8\n",
       "Name: count, dtype: int64"
      ]
     },
     "metadata": {},
     "output_type": "display_data"
    },
    {
     "data": {
      "text/plain": [
       "HouseStyle_2.5Unf\n",
       "False    1449\n",
       "True       11\n",
       "Name: count, dtype: int64"
      ]
     },
     "metadata": {},
     "output_type": "display_data"
    },
    {
     "data": {
      "text/plain": [
       "HouseStyle_2Story\n",
       "False    1015\n",
       "True      445\n",
       "Name: count, dtype: int64"
      ]
     },
     "metadata": {},
     "output_type": "display_data"
    },
    {
     "data": {
      "text/plain": [
       "HouseStyle_SFoyer\n",
       "False    1423\n",
       "True       37\n",
       "Name: count, dtype: int64"
      ]
     },
     "metadata": {},
     "output_type": "display_data"
    },
    {
     "data": {
      "text/plain": [
       "HouseStyle_SLvl\n",
       "False    1395\n",
       "True       65\n",
       "Name: count, dtype: int64"
      ]
     },
     "metadata": {},
     "output_type": "display_data"
    },
    {
     "data": {
      "text/plain": [
       "RoofStyle_Flat\n",
       "False    1447\n",
       "True       13\n",
       "Name: count, dtype: int64"
      ]
     },
     "metadata": {},
     "output_type": "display_data"
    },
    {
     "data": {
      "text/plain": [
       "RoofStyle_Gable\n",
       "True     1141\n",
       "False     319\n",
       "Name: count, dtype: int64"
      ]
     },
     "metadata": {},
     "output_type": "display_data"
    },
    {
     "data": {
      "text/plain": [
       "RoofStyle_Gambrel\n",
       "False    1449\n",
       "True       11\n",
       "Name: count, dtype: int64"
      ]
     },
     "metadata": {},
     "output_type": "display_data"
    },
    {
     "data": {
      "text/plain": [
       "RoofStyle_Hip\n",
       "False    1174\n",
       "True      286\n",
       "Name: count, dtype: int64"
      ]
     },
     "metadata": {},
     "output_type": "display_data"
    },
    {
     "data": {
      "text/plain": [
       "RoofStyle_Mansard\n",
       "False    1453\n",
       "True        7\n",
       "Name: count, dtype: int64"
      ]
     },
     "metadata": {},
     "output_type": "display_data"
    },
    {
     "data": {
      "text/plain": [
       "RoofStyle_Shed\n",
       "False    1458\n",
       "True        2\n",
       "Name: count, dtype: int64"
      ]
     },
     "metadata": {},
     "output_type": "display_data"
    },
    {
     "data": {
      "text/plain": [
       "RoofMatl_ClyTile\n",
       "False    1459\n",
       "True        1\n",
       "Name: count, dtype: int64"
      ]
     },
     "metadata": {},
     "output_type": "display_data"
    },
    {
     "data": {
      "text/plain": [
       "RoofMatl_CompShg\n",
       "True     1434\n",
       "False      26\n",
       "Name: count, dtype: int64"
      ]
     },
     "metadata": {},
     "output_type": "display_data"
    },
    {
     "data": {
      "text/plain": [
       "RoofMatl_Membran\n",
       "False    1459\n",
       "True        1\n",
       "Name: count, dtype: int64"
      ]
     },
     "metadata": {},
     "output_type": "display_data"
    },
    {
     "data": {
      "text/plain": [
       "RoofMatl_Metal\n",
       "False    1459\n",
       "True        1\n",
       "Name: count, dtype: int64"
      ]
     },
     "metadata": {},
     "output_type": "display_data"
    },
    {
     "data": {
      "text/plain": [
       "RoofMatl_Roll\n",
       "False    1459\n",
       "True        1\n",
       "Name: count, dtype: int64"
      ]
     },
     "metadata": {},
     "output_type": "display_data"
    },
    {
     "data": {
      "text/plain": [
       "RoofMatl_Tar&Grv\n",
       "False    1449\n",
       "True       11\n",
       "Name: count, dtype: int64"
      ]
     },
     "metadata": {},
     "output_type": "display_data"
    },
    {
     "data": {
      "text/plain": [
       "RoofMatl_WdShake\n",
       "False    1455\n",
       "True        5\n",
       "Name: count, dtype: int64"
      ]
     },
     "metadata": {},
     "output_type": "display_data"
    },
    {
     "data": {
      "text/plain": [
       "RoofMatl_WdShngl\n",
       "False    1454\n",
       "True        6\n",
       "Name: count, dtype: int64"
      ]
     },
     "metadata": {},
     "output_type": "display_data"
    },
    {
     "data": {
      "text/plain": [
       "Exterior1st_AsbShng\n",
       "False    1440\n",
       "True       20\n",
       "Name: count, dtype: int64"
      ]
     },
     "metadata": {},
     "output_type": "display_data"
    },
    {
     "data": {
      "text/plain": [
       "Exterior1st_AsphShn\n",
       "False    1459\n",
       "True        1\n",
       "Name: count, dtype: int64"
      ]
     },
     "metadata": {},
     "output_type": "display_data"
    },
    {
     "data": {
      "text/plain": [
       "Exterior1st_BrkComm\n",
       "False    1458\n",
       "True        2\n",
       "Name: count, dtype: int64"
      ]
     },
     "metadata": {},
     "output_type": "display_data"
    },
    {
     "data": {
      "text/plain": [
       "Exterior1st_BrkFace\n",
       "False    1410\n",
       "True       50\n",
       "Name: count, dtype: int64"
      ]
     },
     "metadata": {},
     "output_type": "display_data"
    },
    {
     "data": {
      "text/plain": [
       "Exterior1st_CBlock\n",
       "False    1459\n",
       "True        1\n",
       "Name: count, dtype: int64"
      ]
     },
     "metadata": {},
     "output_type": "display_data"
    },
    {
     "data": {
      "text/plain": [
       "Exterior1st_CemntBd\n",
       "False    1399\n",
       "True       61\n",
       "Name: count, dtype: int64"
      ]
     },
     "metadata": {},
     "output_type": "display_data"
    },
    {
     "data": {
      "text/plain": [
       "Exterior1st_HdBoard\n",
       "False    1238\n",
       "True      222\n",
       "Name: count, dtype: int64"
      ]
     },
     "metadata": {},
     "output_type": "display_data"
    },
    {
     "data": {
      "text/plain": [
       "Exterior1st_ImStucc\n",
       "False    1459\n",
       "True        1\n",
       "Name: count, dtype: int64"
      ]
     },
     "metadata": {},
     "output_type": "display_data"
    },
    {
     "data": {
      "text/plain": [
       "Exterior1st_MetalSd\n",
       "False    1240\n",
       "True      220\n",
       "Name: count, dtype: int64"
      ]
     },
     "metadata": {},
     "output_type": "display_data"
    },
    {
     "data": {
      "text/plain": [
       "Exterior1st_Plywood\n",
       "False    1352\n",
       "True      108\n",
       "Name: count, dtype: int64"
      ]
     },
     "metadata": {},
     "output_type": "display_data"
    },
    {
     "data": {
      "text/plain": [
       "Exterior1st_Stone\n",
       "False    1458\n",
       "True        2\n",
       "Name: count, dtype: int64"
      ]
     },
     "metadata": {},
     "output_type": "display_data"
    },
    {
     "data": {
      "text/plain": [
       "Exterior1st_Stucco\n",
       "False    1435\n",
       "True       25\n",
       "Name: count, dtype: int64"
      ]
     },
     "metadata": {},
     "output_type": "display_data"
    },
    {
     "data": {
      "text/plain": [
       "Exterior1st_VinylSd\n",
       "False    945\n",
       "True     515\n",
       "Name: count, dtype: int64"
      ]
     },
     "metadata": {},
     "output_type": "display_data"
    },
    {
     "data": {
      "text/plain": [
       "Exterior1st_Wd Sdng\n",
       "False    1254\n",
       "True      206\n",
       "Name: count, dtype: int64"
      ]
     },
     "metadata": {},
     "output_type": "display_data"
    },
    {
     "data": {
      "text/plain": [
       "Exterior1st_WdShing\n",
       "False    1434\n",
       "True       26\n",
       "Name: count, dtype: int64"
      ]
     },
     "metadata": {},
     "output_type": "display_data"
    },
    {
     "data": {
      "text/plain": [
       "Exterior2nd_AsbShng\n",
       "False    1440\n",
       "True       20\n",
       "Name: count, dtype: int64"
      ]
     },
     "metadata": {},
     "output_type": "display_data"
    },
    {
     "data": {
      "text/plain": [
       "Exterior2nd_AsphShn\n",
       "False    1457\n",
       "True        3\n",
       "Name: count, dtype: int64"
      ]
     },
     "metadata": {},
     "output_type": "display_data"
    },
    {
     "data": {
      "text/plain": [
       "Exterior2nd_Brk Cmn\n",
       "False    1453\n",
       "True        7\n",
       "Name: count, dtype: int64"
      ]
     },
     "metadata": {},
     "output_type": "display_data"
    },
    {
     "data": {
      "text/plain": [
       "Exterior2nd_BrkFace\n",
       "False    1435\n",
       "True       25\n",
       "Name: count, dtype: int64"
      ]
     },
     "metadata": {},
     "output_type": "display_data"
    },
    {
     "data": {
      "text/plain": [
       "Exterior2nd_CBlock\n",
       "False    1459\n",
       "True        1\n",
       "Name: count, dtype: int64"
      ]
     },
     "metadata": {},
     "output_type": "display_data"
    },
    {
     "data": {
      "text/plain": [
       "Exterior2nd_CmentBd\n",
       "False    1400\n",
       "True       60\n",
       "Name: count, dtype: int64"
      ]
     },
     "metadata": {},
     "output_type": "display_data"
    },
    {
     "data": {
      "text/plain": [
       "Exterior2nd_HdBoard\n",
       "False    1253\n",
       "True      207\n",
       "Name: count, dtype: int64"
      ]
     },
     "metadata": {},
     "output_type": "display_data"
    },
    {
     "data": {
      "text/plain": [
       "Exterior2nd_ImStucc\n",
       "False    1450\n",
       "True       10\n",
       "Name: count, dtype: int64"
      ]
     },
     "metadata": {},
     "output_type": "display_data"
    },
    {
     "data": {
      "text/plain": [
       "Exterior2nd_MetalSd\n",
       "False    1246\n",
       "True      214\n",
       "Name: count, dtype: int64"
      ]
     },
     "metadata": {},
     "output_type": "display_data"
    },
    {
     "data": {
      "text/plain": [
       "Exterior2nd_Other\n",
       "False    1459\n",
       "True        1\n",
       "Name: count, dtype: int64"
      ]
     },
     "metadata": {},
     "output_type": "display_data"
    },
    {
     "data": {
      "text/plain": [
       "Exterior2nd_Plywood\n",
       "False    1318\n",
       "True      142\n",
       "Name: count, dtype: int64"
      ]
     },
     "metadata": {},
     "output_type": "display_data"
    },
    {
     "data": {
      "text/plain": [
       "Exterior2nd_Stone\n",
       "False    1455\n",
       "True        5\n",
       "Name: count, dtype: int64"
      ]
     },
     "metadata": {},
     "output_type": "display_data"
    },
    {
     "data": {
      "text/plain": [
       "Exterior2nd_Stucco\n",
       "False    1434\n",
       "True       26\n",
       "Name: count, dtype: int64"
      ]
     },
     "metadata": {},
     "output_type": "display_data"
    },
    {
     "data": {
      "text/plain": [
       "Exterior2nd_VinylSd\n",
       "False    956\n",
       "True     504\n",
       "Name: count, dtype: int64"
      ]
     },
     "metadata": {},
     "output_type": "display_data"
    },
    {
     "data": {
      "text/plain": [
       "Exterior2nd_Wd Sdng\n",
       "False    1263\n",
       "True      197\n",
       "Name: count, dtype: int64"
      ]
     },
     "metadata": {},
     "output_type": "display_data"
    },
    {
     "data": {
      "text/plain": [
       "Exterior2nd_Wd Shng\n",
       "False    1422\n",
       "True       38\n",
       "Name: count, dtype: int64"
      ]
     },
     "metadata": {},
     "output_type": "display_data"
    },
    {
     "data": {
      "text/plain": [
       "MasVnrType_BrkCmn\n",
       "False    1445\n",
       "True       15\n",
       "Name: count, dtype: int64"
      ]
     },
     "metadata": {},
     "output_type": "display_data"
    },
    {
     "data": {
      "text/plain": [
       "MasVnrType_BrkFace\n",
       "False    1015\n",
       "True      445\n",
       "Name: count, dtype: int64"
      ]
     },
     "metadata": {},
     "output_type": "display_data"
    },
    {
     "data": {
      "text/plain": [
       "MasVnrType_Stone\n",
       "False    1332\n",
       "True      128\n",
       "Name: count, dtype: int64"
      ]
     },
     "metadata": {},
     "output_type": "display_data"
    },
    {
     "data": {
      "text/plain": [
       "ExterQual_Ex\n",
       "False    1408\n",
       "True       52\n",
       "Name: count, dtype: int64"
      ]
     },
     "metadata": {},
     "output_type": "display_data"
    },
    {
     "data": {
      "text/plain": [
       "ExterQual_Fa\n",
       "False    1446\n",
       "True       14\n",
       "Name: count, dtype: int64"
      ]
     },
     "metadata": {},
     "output_type": "display_data"
    },
    {
     "data": {
      "text/plain": [
       "ExterQual_Gd\n",
       "False    972\n",
       "True     488\n",
       "Name: count, dtype: int64"
      ]
     },
     "metadata": {},
     "output_type": "display_data"
    },
    {
     "data": {
      "text/plain": [
       "ExterQual_TA\n",
       "1.0    906\n",
       "0.0    554\n",
       "Name: count, dtype: int64"
      ]
     },
     "metadata": {},
     "output_type": "display_data"
    },
    {
     "data": {
      "text/plain": [
       "ExterCond_Ex\n",
       "False    1457\n",
       "True        3\n",
       "Name: count, dtype: int64"
      ]
     },
     "metadata": {},
     "output_type": "display_data"
    },
    {
     "data": {
      "text/plain": [
       "ExterCond_Fa\n",
       "False    1432\n",
       "True       28\n",
       "Name: count, dtype: int64"
      ]
     },
     "metadata": {},
     "output_type": "display_data"
    },
    {
     "data": {
      "text/plain": [
       "ExterCond_Gd\n",
       "False    1314\n",
       "True      146\n",
       "Name: count, dtype: int64"
      ]
     },
     "metadata": {},
     "output_type": "display_data"
    },
    {
     "data": {
      "text/plain": [
       "ExterCond_Po\n",
       "False    1459\n",
       "True        1\n",
       "Name: count, dtype: int64"
      ]
     },
     "metadata": {},
     "output_type": "display_data"
    },
    {
     "data": {
      "text/plain": [
       "ExterCond_TA\n",
       "True     1282\n",
       "False     178\n",
       "Name: count, dtype: int64"
      ]
     },
     "metadata": {},
     "output_type": "display_data"
    },
    {
     "data": {
      "text/plain": [
       "Foundation_BrkTil\n",
       "False    1314\n",
       "True      146\n",
       "Name: count, dtype: int64"
      ]
     },
     "metadata": {},
     "output_type": "display_data"
    },
    {
     "data": {
      "text/plain": [
       "Foundation_CBlock\n",
       "False    826\n",
       "True     634\n",
       "Name: count, dtype: int64"
      ]
     },
     "metadata": {},
     "output_type": "display_data"
    },
    {
     "data": {
      "text/plain": [
       "Foundation_PConc\n",
       "False    813\n",
       "True     647\n",
       "Name: count, dtype: int64"
      ]
     },
     "metadata": {},
     "output_type": "display_data"
    },
    {
     "data": {
      "text/plain": [
       "Foundation_Slab\n",
       "False    1436\n",
       "True       24\n",
       "Name: count, dtype: int64"
      ]
     },
     "metadata": {},
     "output_type": "display_data"
    },
    {
     "data": {
      "text/plain": [
       "Foundation_Stone\n",
       "False    1454\n",
       "True        6\n",
       "Name: count, dtype: int64"
      ]
     },
     "metadata": {},
     "output_type": "display_data"
    },
    {
     "data": {
      "text/plain": [
       "Foundation_Wood\n",
       "False    1457\n",
       "True        3\n",
       "Name: count, dtype: int64"
      ]
     },
     "metadata": {},
     "output_type": "display_data"
    },
    {
     "data": {
      "text/plain": [
       "BsmtQual_Ex\n",
       "0.0    1339\n",
       "1.0     121\n",
       "Name: count, dtype: int64"
      ]
     },
     "metadata": {},
     "output_type": "display_data"
    },
    {
     "data": {
      "text/plain": [
       "BsmtQual_Fa\n",
       "False    1425\n",
       "True       35\n",
       "Name: count, dtype: int64"
      ]
     },
     "metadata": {},
     "output_type": "display_data"
    },
    {
     "data": {
      "text/plain": [
       "BsmtQual_Gd\n",
       "False    842\n",
       "True     618\n",
       "Name: count, dtype: int64"
      ]
     },
     "metadata": {},
     "output_type": "display_data"
    },
    {
     "data": {
      "text/plain": [
       "BsmtQual_TA\n",
       "False    811\n",
       "True     649\n",
       "Name: count, dtype: int64"
      ]
     },
     "metadata": {},
     "output_type": "display_data"
    },
    {
     "data": {
      "text/plain": [
       "BsmtCond_Fa\n",
       "False    1415\n",
       "True       45\n",
       "Name: count, dtype: int64"
      ]
     },
     "metadata": {},
     "output_type": "display_data"
    },
    {
     "data": {
      "text/plain": [
       "BsmtCond_Gd\n",
       "False    1395\n",
       "True       65\n",
       "Name: count, dtype: int64"
      ]
     },
     "metadata": {},
     "output_type": "display_data"
    },
    {
     "data": {
      "text/plain": [
       "BsmtCond_Po\n",
       "False    1458\n",
       "True        2\n",
       "Name: count, dtype: int64"
      ]
     },
     "metadata": {},
     "output_type": "display_data"
    },
    {
     "data": {
      "text/plain": [
       "BsmtCond_TA\n",
       "True     1311\n",
       "False     149\n",
       "Name: count, dtype: int64"
      ]
     },
     "metadata": {},
     "output_type": "display_data"
    },
    {
     "data": {
      "text/plain": [
       "BsmtExposure_Av\n",
       "False    1239\n",
       "True      221\n",
       "Name: count, dtype: int64"
      ]
     },
     "metadata": {},
     "output_type": "display_data"
    },
    {
     "data": {
      "text/plain": [
       "BsmtExposure_Gd\n",
       "False    1326\n",
       "True      134\n",
       "Name: count, dtype: int64"
      ]
     },
     "metadata": {},
     "output_type": "display_data"
    },
    {
     "data": {
      "text/plain": [
       "BsmtExposure_Mn\n",
       "False    1346\n",
       "True      114\n",
       "Name: count, dtype: int64"
      ]
     },
     "metadata": {},
     "output_type": "display_data"
    },
    {
     "data": {
      "text/plain": [
       "BsmtExposure_No\n",
       "True     953\n",
       "False    507\n",
       "Name: count, dtype: int64"
      ]
     },
     "metadata": {},
     "output_type": "display_data"
    },
    {
     "data": {
      "text/plain": [
       "BsmtFinType1_ALQ\n",
       "False    1240\n",
       "True      220\n",
       "Name: count, dtype: int64"
      ]
     },
     "metadata": {},
     "output_type": "display_data"
    },
    {
     "data": {
      "text/plain": [
       "BsmtFinType1_BLQ\n",
       "False    1312\n",
       "True      148\n",
       "Name: count, dtype: int64"
      ]
     },
     "metadata": {},
     "output_type": "display_data"
    },
    {
     "data": {
      "text/plain": [
       "BsmtFinType1_GLQ\n",
       "False    1042\n",
       "True      418\n",
       "Name: count, dtype: int64"
      ]
     },
     "metadata": {},
     "output_type": "display_data"
    },
    {
     "data": {
      "text/plain": [
       "BsmtFinType1_LwQ\n",
       "False    1386\n",
       "True       74\n",
       "Name: count, dtype: int64"
      ]
     },
     "metadata": {},
     "output_type": "display_data"
    },
    {
     "data": {
      "text/plain": [
       "BsmtFinType1_Rec\n",
       "False    1327\n",
       "True      133\n",
       "Name: count, dtype: int64"
      ]
     },
     "metadata": {},
     "output_type": "display_data"
    },
    {
     "data": {
      "text/plain": [
       "BsmtFinType1_Unf\n",
       "False    1030\n",
       "True      430\n",
       "Name: count, dtype: int64"
      ]
     },
     "metadata": {},
     "output_type": "display_data"
    },
    {
     "data": {
      "text/plain": [
       "BsmtFinType2_ALQ\n",
       "False    1441\n",
       "True       19\n",
       "Name: count, dtype: int64"
      ]
     },
     "metadata": {},
     "output_type": "display_data"
    },
    {
     "data": {
      "text/plain": [
       "BsmtFinType2_BLQ\n",
       "False    1427\n",
       "True       33\n",
       "Name: count, dtype: int64"
      ]
     },
     "metadata": {},
     "output_type": "display_data"
    },
    {
     "data": {
      "text/plain": [
       "BsmtFinType2_GLQ\n",
       "False    1446\n",
       "True       14\n",
       "Name: count, dtype: int64"
      ]
     },
     "metadata": {},
     "output_type": "display_data"
    },
    {
     "data": {
      "text/plain": [
       "BsmtFinType2_LwQ\n",
       "False    1414\n",
       "True       46\n",
       "Name: count, dtype: int64"
      ]
     },
     "metadata": {},
     "output_type": "display_data"
    },
    {
     "data": {
      "text/plain": [
       "BsmtFinType2_Rec\n",
       "False    1406\n",
       "True       54\n",
       "Name: count, dtype: int64"
      ]
     },
     "metadata": {},
     "output_type": "display_data"
    },
    {
     "data": {
      "text/plain": [
       "BsmtFinType2_Unf\n",
       "True     1256\n",
       "False     204\n",
       "Name: count, dtype: int64"
      ]
     },
     "metadata": {},
     "output_type": "display_data"
    },
    {
     "data": {
      "text/plain": [
       "Heating_Floor\n",
       "False    1459\n",
       "True        1\n",
       "Name: count, dtype: int64"
      ]
     },
     "metadata": {},
     "output_type": "display_data"
    },
    {
     "data": {
      "text/plain": [
       "Heating_GasA\n",
       "True     1428\n",
       "False      32\n",
       "Name: count, dtype: int64"
      ]
     },
     "metadata": {},
     "output_type": "display_data"
    },
    {
     "data": {
      "text/plain": [
       "Heating_GasW\n",
       "False    1442\n",
       "True       18\n",
       "Name: count, dtype: int64"
      ]
     },
     "metadata": {},
     "output_type": "display_data"
    },
    {
     "data": {
      "text/plain": [
       "Heating_Grav\n",
       "False    1453\n",
       "True        7\n",
       "Name: count, dtype: int64"
      ]
     },
     "metadata": {},
     "output_type": "display_data"
    },
    {
     "data": {
      "text/plain": [
       "Heating_OthW\n",
       "False    1458\n",
       "True        2\n",
       "Name: count, dtype: int64"
      ]
     },
     "metadata": {},
     "output_type": "display_data"
    },
    {
     "data": {
      "text/plain": [
       "Heating_Wall\n",
       "False    1456\n",
       "True        4\n",
       "Name: count, dtype: int64"
      ]
     },
     "metadata": {},
     "output_type": "display_data"
    },
    {
     "data": {
      "text/plain": [
       "CentralAir_N\n",
       "False    1365\n",
       "True       95\n",
       "Name: count, dtype: int64"
      ]
     },
     "metadata": {},
     "output_type": "display_data"
    },
    {
     "data": {
      "text/plain": [
       "CentralAir_Y\n",
       "True     1365\n",
       "False      95\n",
       "Name: count, dtype: int64"
      ]
     },
     "metadata": {},
     "output_type": "display_data"
    },
    {
     "data": {
      "text/plain": [
       "Electrical_FuseA\n",
       "False    1366\n",
       "True       94\n",
       "Name: count, dtype: int64"
      ]
     },
     "metadata": {},
     "output_type": "display_data"
    },
    {
     "data": {
      "text/plain": [
       "Electrical_FuseF\n",
       "False    1433\n",
       "True       27\n",
       "Name: count, dtype: int64"
      ]
     },
     "metadata": {},
     "output_type": "display_data"
    },
    {
     "data": {
      "text/plain": [
       "Electrical_FuseP\n",
       "False    1457\n",
       "True        3\n",
       "Name: count, dtype: int64"
      ]
     },
     "metadata": {},
     "output_type": "display_data"
    },
    {
     "data": {
      "text/plain": [
       "Electrical_Mix\n",
       "False    1459\n",
       "True        1\n",
       "Name: count, dtype: int64"
      ]
     },
     "metadata": {},
     "output_type": "display_data"
    },
    {
     "data": {
      "text/plain": [
       "Electrical_SBrkr\n",
       "True     1334\n",
       "False     126\n",
       "Name: count, dtype: int64"
      ]
     },
     "metadata": {},
     "output_type": "display_data"
    },
    {
     "data": {
      "text/plain": [
       "Functional_Maj1\n",
       "False    1446\n",
       "True       14\n",
       "Name: count, dtype: int64"
      ]
     },
     "metadata": {},
     "output_type": "display_data"
    },
    {
     "data": {
      "text/plain": [
       "Functional_Maj2\n",
       "False    1455\n",
       "True        5\n",
       "Name: count, dtype: int64"
      ]
     },
     "metadata": {},
     "output_type": "display_data"
    },
    {
     "data": {
      "text/plain": [
       "Functional_Min1\n",
       "False    1429\n",
       "True       31\n",
       "Name: count, dtype: int64"
      ]
     },
     "metadata": {},
     "output_type": "display_data"
    },
    {
     "data": {
      "text/plain": [
       "Functional_Min2\n",
       "False    1426\n",
       "True       34\n",
       "Name: count, dtype: int64"
      ]
     },
     "metadata": {},
     "output_type": "display_data"
    },
    {
     "data": {
      "text/plain": [
       "Functional_Mod\n",
       "False    1445\n",
       "True       15\n",
       "Name: count, dtype: int64"
      ]
     },
     "metadata": {},
     "output_type": "display_data"
    },
    {
     "data": {
      "text/plain": [
       "Functional_Sev\n",
       "False    1459\n",
       "True        1\n",
       "Name: count, dtype: int64"
      ]
     },
     "metadata": {},
     "output_type": "display_data"
    },
    {
     "data": {
      "text/plain": [
       "Functional_Typ\n",
       "True     1360\n",
       "False     100\n",
       "Name: count, dtype: int64"
      ]
     },
     "metadata": {},
     "output_type": "display_data"
    },
    {
     "data": {
      "text/plain": [
       "FireplaceQu_Ex\n",
       "False    1436\n",
       "True       24\n",
       "Name: count, dtype: int64"
      ]
     },
     "metadata": {},
     "output_type": "display_data"
    },
    {
     "data": {
      "text/plain": [
       "FireplaceQu_Fa\n",
       "False    1427\n",
       "True       33\n",
       "Name: count, dtype: int64"
      ]
     },
     "metadata": {},
     "output_type": "display_data"
    },
    {
     "data": {
      "text/plain": [
       "FireplaceQu_Gd\n",
       "False    1080\n",
       "True      380\n",
       "Name: count, dtype: int64"
      ]
     },
     "metadata": {},
     "output_type": "display_data"
    },
    {
     "data": {
      "text/plain": [
       "FireplaceQu_Po\n",
       "False    1440\n",
       "True       20\n",
       "Name: count, dtype: int64"
      ]
     },
     "metadata": {},
     "output_type": "display_data"
    },
    {
     "data": {
      "text/plain": [
       "FireplaceQu_TA\n",
       "False    1147\n",
       "True      313\n",
       "Name: count, dtype: int64"
      ]
     },
     "metadata": {},
     "output_type": "display_data"
    },
    {
     "data": {
      "text/plain": [
       "GarageType_2Types\n",
       "False    1454\n",
       "True        6\n",
       "Name: count, dtype: int64"
      ]
     },
     "metadata": {},
     "output_type": "display_data"
    },
    {
     "data": {
      "text/plain": [
       "GarageType_Attchd\n",
       "True     870\n",
       "False    590\n",
       "Name: count, dtype: int64"
      ]
     },
     "metadata": {},
     "output_type": "display_data"
    },
    {
     "data": {
      "text/plain": [
       "GarageType_Basment\n",
       "False    1441\n",
       "True       19\n",
       "Name: count, dtype: int64"
      ]
     },
     "metadata": {},
     "output_type": "display_data"
    },
    {
     "data": {
      "text/plain": [
       "GarageType_BuiltIn\n",
       "False    1372\n",
       "True       88\n",
       "Name: count, dtype: int64"
      ]
     },
     "metadata": {},
     "output_type": "display_data"
    },
    {
     "data": {
      "text/plain": [
       "GarageType_CarPort\n",
       "False    1451\n",
       "True        9\n",
       "Name: count, dtype: int64"
      ]
     },
     "metadata": {},
     "output_type": "display_data"
    },
    {
     "data": {
      "text/plain": [
       "GarageType_Detchd\n",
       "False    1073\n",
       "True      387\n",
       "Name: count, dtype: int64"
      ]
     },
     "metadata": {},
     "output_type": "display_data"
    },
    {
     "data": {
      "text/plain": [
       "GarageFinish_Fin\n",
       "False    1108\n",
       "True      352\n",
       "Name: count, dtype: int64"
      ]
     },
     "metadata": {},
     "output_type": "display_data"
    },
    {
     "data": {
      "text/plain": [
       "GarageFinish_RFn\n",
       "False    1038\n",
       "True      422\n",
       "Name: count, dtype: int64"
      ]
     },
     "metadata": {},
     "output_type": "display_data"
    },
    {
     "data": {
      "text/plain": [
       "GarageFinish_Unf\n",
       "False    855\n",
       "True     605\n",
       "Name: count, dtype: int64"
      ]
     },
     "metadata": {},
     "output_type": "display_data"
    },
    {
     "data": {
      "text/plain": [
       "GarageQual_Ex\n",
       "False    1457\n",
       "True        3\n",
       "Name: count, dtype: int64"
      ]
     },
     "metadata": {},
     "output_type": "display_data"
    },
    {
     "data": {
      "text/plain": [
       "GarageQual_Fa\n",
       "False    1412\n",
       "True       48\n",
       "Name: count, dtype: int64"
      ]
     },
     "metadata": {},
     "output_type": "display_data"
    },
    {
     "data": {
      "text/plain": [
       "GarageQual_Gd\n",
       "False    1446\n",
       "True       14\n",
       "Name: count, dtype: int64"
      ]
     },
     "metadata": {},
     "output_type": "display_data"
    },
    {
     "data": {
      "text/plain": [
       "GarageQual_Po\n",
       "False    1457\n",
       "True        3\n",
       "Name: count, dtype: int64"
      ]
     },
     "metadata": {},
     "output_type": "display_data"
    },
    {
     "data": {
      "text/plain": [
       "GarageQual_TA\n",
       "True     1311\n",
       "False     149\n",
       "Name: count, dtype: int64"
      ]
     },
     "metadata": {},
     "output_type": "display_data"
    },
    {
     "data": {
      "text/plain": [
       "GarageCond_Ex\n",
       "False    1458\n",
       "True        2\n",
       "Name: count, dtype: int64"
      ]
     },
     "metadata": {},
     "output_type": "display_data"
    },
    {
     "data": {
      "text/plain": [
       "GarageCond_Fa\n",
       "False    1425\n",
       "True       35\n",
       "Name: count, dtype: int64"
      ]
     },
     "metadata": {},
     "output_type": "display_data"
    },
    {
     "data": {
      "text/plain": [
       "GarageCond_Gd\n",
       "False    1451\n",
       "True        9\n",
       "Name: count, dtype: int64"
      ]
     },
     "metadata": {},
     "output_type": "display_data"
    },
    {
     "data": {
      "text/plain": [
       "GarageCond_Po\n",
       "False    1453\n",
       "True        7\n",
       "Name: count, dtype: int64"
      ]
     },
     "metadata": {},
     "output_type": "display_data"
    },
    {
     "data": {
      "text/plain": [
       "GarageCond_TA\n",
       "True     1326\n",
       "False     134\n",
       "Name: count, dtype: int64"
      ]
     },
     "metadata": {},
     "output_type": "display_data"
    },
    {
     "data": {
      "text/plain": [
       "PavedDrive_N\n",
       "False    1370\n",
       "True       90\n",
       "Name: count, dtype: int64"
      ]
     },
     "metadata": {},
     "output_type": "display_data"
    },
    {
     "data": {
      "text/plain": [
       "PavedDrive_P\n",
       "False    1430\n",
       "True       30\n",
       "Name: count, dtype: int64"
      ]
     },
     "metadata": {},
     "output_type": "display_data"
    },
    {
     "data": {
      "text/plain": [
       "PavedDrive_Y\n",
       "True     1340\n",
       "False     120\n",
       "Name: count, dtype: int64"
      ]
     },
     "metadata": {},
     "output_type": "display_data"
    },
    {
     "data": {
      "text/plain": [
       "PoolQC_Ex\n",
       "False    1458\n",
       "True        2\n",
       "Name: count, dtype: int64"
      ]
     },
     "metadata": {},
     "output_type": "display_data"
    },
    {
     "data": {
      "text/plain": [
       "PoolQC_Fa\n",
       "False    1458\n",
       "True        2\n",
       "Name: count, dtype: int64"
      ]
     },
     "metadata": {},
     "output_type": "display_data"
    },
    {
     "data": {
      "text/plain": [
       "PoolQC_Gd\n",
       "False    1457\n",
       "True        3\n",
       "Name: count, dtype: int64"
      ]
     },
     "metadata": {},
     "output_type": "display_data"
    },
    {
     "data": {
      "text/plain": [
       "Fence_GdPrv\n",
       "False    1401\n",
       "True       59\n",
       "Name: count, dtype: int64"
      ]
     },
     "metadata": {},
     "output_type": "display_data"
    },
    {
     "data": {
      "text/plain": [
       "Fence_GdWo\n",
       "False    1406\n",
       "True       54\n",
       "Name: count, dtype: int64"
      ]
     },
     "metadata": {},
     "output_type": "display_data"
    },
    {
     "data": {
      "text/plain": [
       "Fence_MnPrv\n",
       "False    1303\n",
       "True      157\n",
       "Name: count, dtype: int64"
      ]
     },
     "metadata": {},
     "output_type": "display_data"
    },
    {
     "data": {
      "text/plain": [
       "Fence_MnWw\n",
       "False    1449\n",
       "True       11\n",
       "Name: count, dtype: int64"
      ]
     },
     "metadata": {},
     "output_type": "display_data"
    },
    {
     "data": {
      "text/plain": [
       "MiscFeature_Gar2\n",
       "False    1458\n",
       "True        2\n",
       "Name: count, dtype: int64"
      ]
     },
     "metadata": {},
     "output_type": "display_data"
    },
    {
     "data": {
      "text/plain": [
       "MiscFeature_Othr\n",
       "False    1458\n",
       "True        2\n",
       "Name: count, dtype: int64"
      ]
     },
     "metadata": {},
     "output_type": "display_data"
    },
    {
     "data": {
      "text/plain": [
       "MiscFeature_Shed\n",
       "False    1411\n",
       "True       49\n",
       "Name: count, dtype: int64"
      ]
     },
     "metadata": {},
     "output_type": "display_data"
    },
    {
     "data": {
      "text/plain": [
       "MiscFeature_TenC\n",
       "False    1459\n",
       "True        1\n",
       "Name: count, dtype: int64"
      ]
     },
     "metadata": {},
     "output_type": "display_data"
    },
    {
     "data": {
      "text/plain": [
       "SaleType_COD\n",
       "False    1417\n",
       "True       43\n",
       "Name: count, dtype: int64"
      ]
     },
     "metadata": {},
     "output_type": "display_data"
    },
    {
     "data": {
      "text/plain": [
       "SaleType_CWD\n",
       "False    1456\n",
       "True        4\n",
       "Name: count, dtype: int64"
      ]
     },
     "metadata": {},
     "output_type": "display_data"
    },
    {
     "data": {
      "text/plain": [
       "SaleType_Con\n",
       "False    1458\n",
       "True        2\n",
       "Name: count, dtype: int64"
      ]
     },
     "metadata": {},
     "output_type": "display_data"
    },
    {
     "data": {
      "text/plain": [
       "SaleType_ConLD\n",
       "False    1451\n",
       "True        9\n",
       "Name: count, dtype: int64"
      ]
     },
     "metadata": {},
     "output_type": "display_data"
    },
    {
     "data": {
      "text/plain": [
       "SaleType_ConLI\n",
       "False    1455\n",
       "True        5\n",
       "Name: count, dtype: int64"
      ]
     },
     "metadata": {},
     "output_type": "display_data"
    },
    {
     "data": {
      "text/plain": [
       "SaleType_ConLw\n",
       "False    1455\n",
       "True        5\n",
       "Name: count, dtype: int64"
      ]
     },
     "metadata": {},
     "output_type": "display_data"
    },
    {
     "data": {
      "text/plain": [
       "SaleType_New\n",
       "False    1338\n",
       "True      122\n",
       "Name: count, dtype: int64"
      ]
     },
     "metadata": {},
     "output_type": "display_data"
    },
    {
     "data": {
      "text/plain": [
       "SaleType_Oth\n",
       "False    1457\n",
       "True        3\n",
       "Name: count, dtype: int64"
      ]
     },
     "metadata": {},
     "output_type": "display_data"
    },
    {
     "data": {
      "text/plain": [
       "SaleType_WD\n",
       "True     1267\n",
       "False     193\n",
       "Name: count, dtype: int64"
      ]
     },
     "metadata": {},
     "output_type": "display_data"
    },
    {
     "data": {
      "text/plain": [
       "SaleCondition_Abnorml\n",
       "False    1359\n",
       "True      101\n",
       "Name: count, dtype: int64"
      ]
     },
     "metadata": {},
     "output_type": "display_data"
    },
    {
     "data": {
      "text/plain": [
       "SaleCondition_AdjLand\n",
       "False    1456\n",
       "True        4\n",
       "Name: count, dtype: int64"
      ]
     },
     "metadata": {},
     "output_type": "display_data"
    },
    {
     "data": {
      "text/plain": [
       "SaleCondition_Alloca\n",
       "False    1448\n",
       "True       12\n",
       "Name: count, dtype: int64"
      ]
     },
     "metadata": {},
     "output_type": "display_data"
    },
    {
     "data": {
      "text/plain": [
       "SaleCondition_Family\n",
       "False    1440\n",
       "True       20\n",
       "Name: count, dtype: int64"
      ]
     },
     "metadata": {},
     "output_type": "display_data"
    },
    {
     "data": {
      "text/plain": [
       "SaleCondition_Normal\n",
       "1.0    1198\n",
       "0.0     262\n",
       "Name: count, dtype: int64"
      ]
     },
     "metadata": {},
     "output_type": "display_data"
    },
    {
     "data": {
      "text/plain": [
       "SaleCondition_Partial\n",
       "False    1335\n",
       "True      125\n",
       "Name: count, dtype: int64"
      ]
     },
     "metadata": {},
     "output_type": "display_data"
    },
    {
     "data": {
      "text/plain": [
       "Neighborhood\n",
       "NAmes      225\n",
       "CollgCr    150\n",
       "OldTown    113\n",
       "Edwards    100\n",
       "Somerst     86\n",
       "Gilbert     79\n",
       "NridgHt     77\n",
       "Sawyer      74\n",
       "NWAmes      73\n",
       "SawyerW     59\n",
       "BrkSide     58\n",
       "Crawfor     51\n",
       "Mitchel     49\n",
       "NoRidge     41\n",
       "Timber      38\n",
       "IDOTRR      37\n",
       "ClearCr     28\n",
       "StoneBr     25\n",
       "SWISU       25\n",
       "MeadowV     17\n",
       "Blmngtn     17\n",
       "BrDale      16\n",
       "Veenker     11\n",
       "NPkVill      9\n",
       "Blueste      2\n",
       "Name: count, dtype: int64"
      ]
     },
     "metadata": {},
     "output_type": "display_data"
    },
    {
     "data": {
      "text/plain": [
       "remod_last\n",
       "1950.0    178\n",
       "2006.0     97\n",
       "2007.0     76\n",
       "2005.0     73\n",
       "2004.0     62\n",
       "         ... \n",
       "2010.0      6\n",
       "1986.0      5\n",
       "1952.0      5\n",
       "1983.0      5\n",
       "1951.0      4\n",
       "Name: count, Length: 61, dtype: int64"
      ]
     },
     "metadata": {},
     "output_type": "display_data"
    }
   ],
   "source": [
    "for col in train_data.columns:\n",
    "    display(train_data[col].value_counts())"
   ]
  },
  {
   "cell_type": "code",
   "execution_count": 23,
   "id": "7eb7ea85-2b12-4cf9-8ace-4c65364a7873",
   "metadata": {},
   "outputs": [
    {
     "data": {
      "text/plain": [
       "{0:     MasVnrArea  KitchenQual  SaleCondition_Normal  remod_last  ExterQual_TA  \\\n",
       " 0          0.0          3.0                   1.0      1980.0           1.0   \n",
       " 1        142.0          3.0                   0.0      1971.0           1.0   \n",
       " 2          0.0          3.0                   1.0      1950.0           1.0   \n",
       " 3          0.0          3.0                   1.0      2001.0           1.0   \n",
       " 4          0.0          2.0                   1.0      1950.0           1.0   \n",
       " 5          0.0          4.0                   1.0      1950.0           1.0   \n",
       " 6          0.0          3.0                   1.0      1950.0           1.0   \n",
       " 7          0.0          3.0                   1.0      1976.0           1.0   \n",
       " 8          0.0          3.0                   1.0      1976.0           1.0   \n",
       " 9          0.0          4.0                   1.0      1997.0           1.0   \n",
       " 10         0.0          2.0                   1.0      2000.0           1.0   \n",
       " 11         0.0          3.0                   1.0      1965.0           1.0   \n",
       " 12         0.0          3.0                   1.0      1962.0           1.0   \n",
       " 13         0.0          3.0                   1.0      1967.0           1.0   \n",
       " 14         0.0          4.0                   1.0      2001.0           1.0   \n",
       " 15         0.0          3.0                   1.0      1980.0           1.0   \n",
       " 16       142.0          3.0                   0.0      1971.0           1.0   \n",
       " 17         0.0          3.0                   1.0      1950.0           1.0   \n",
       " 18         0.0          3.0                   1.0      2001.0           1.0   \n",
       " 19         0.0          2.0                   1.0      1950.0           1.0   \n",
       " 20         0.0          4.0                   1.0      1950.0           1.0   \n",
       " 21         0.0          3.0                   1.0      1950.0           1.0   \n",
       " 22         0.0          3.0                   1.0      1976.0           1.0   \n",
       " 23         0.0          3.0                   1.0      1976.0           1.0   \n",
       " 24         0.0          4.0                   1.0      1997.0           1.0   \n",
       " 25         0.0          2.0                   1.0      2000.0           1.0   \n",
       " 26         0.0          3.0                   1.0      1965.0           1.0   \n",
       " 27         0.0          3.0                   1.0      1962.0           1.0   \n",
       " 28         0.0          3.0                   1.0      1967.0           1.0   \n",
       " 29         0.0          4.0                   1.0      2001.0           1.0   \n",
       " 30         0.0          3.0                   1.0      1980.0           1.0   \n",
       " 31       142.0          3.0                   0.0      1971.0           1.0   \n",
       " 32         0.0          3.0                   1.0      1950.0           1.0   \n",
       " 33         0.0          3.0                   1.0      2001.0           1.0   \n",
       " 34         0.0          2.0                   1.0      1950.0           1.0   \n",
       " 35         0.0          4.0                   1.0      1950.0           1.0   \n",
       " 36         0.0          3.0                   1.0      1950.0           1.0   \n",
       " 37         0.0          3.0                   1.0      1976.0           1.0   \n",
       " 38         0.0          3.0                   1.0      1976.0           1.0   \n",
       " 39         0.0          4.0                   1.0      1997.0           1.0   \n",
       " 40         0.0          2.0                   1.0      2000.0           1.0   \n",
       " 41         0.0          3.0                   1.0      1965.0           1.0   \n",
       " 42         0.0          3.0                   1.0      1962.0           1.0   \n",
       " 43         0.0          3.0                   1.0      1967.0           1.0   \n",
       " 44         0.0          4.0                   1.0      2001.0           1.0   \n",
       " \n",
       "     LotArea  BsmtQual_Ex  BsmtUnfSF  NeighborhoodQual  YrSold  OverallQual  \\\n",
       " 0    1950.0          0.0       23.0               6.0  2008.0          6.0   \n",
       " 1    1680.0          0.0      630.0               5.0  2009.0          5.0   \n",
       " 2    7420.0          0.0      140.0               1.0  2008.0          5.0   \n",
       " 3    6120.0          0.0      832.0               1.0  2007.0          7.0   \n",
       " 4    6324.0          0.0      520.0               1.0  2008.0          4.0   \n",
       " 5    7449.0          0.0      637.0               2.0  2007.0          7.0   \n",
       " 6    8500.0          0.0      649.0               2.0  2008.0          4.0   \n",
       " 7    4224.0          0.0      200.0               4.0  2007.0          5.0   \n",
       " 8    4928.0          0.0      958.0               6.0  2007.0          6.0   \n",
       " 9    8400.0          0.0      342.0               2.0  2008.0          5.0   \n",
       " 10   5687.0          0.0      570.0               2.0  2008.0          5.0   \n",
       " 11  11200.0          0.0      134.0               4.0  2008.0          5.0   \n",
       " 12  12968.0          0.0      175.0               4.0  2008.0          5.0   \n",
       " 13  10791.0          0.0        0.0               4.0  2006.0          4.0   \n",
       " 14   8246.0          0.0      204.0               4.0  2010.0          5.0   \n",
       " 15   1950.0          0.0       23.0               6.0  2008.0          6.0   \n",
       " 16   1680.0          0.0      630.0               5.0  2009.0          5.0   \n",
       " 17   7420.0          0.0      140.0               1.0  2008.0          5.0   \n",
       " 18   6120.0          0.0      832.0               1.0  2007.0          7.0   \n",
       " 19   6324.0          0.0      520.0               1.0  2008.0          4.0   \n",
       " 20   7449.0          0.0      637.0               2.0  2007.0          7.0   \n",
       " 21   8500.0          0.0      649.0               2.0  2008.0          4.0   \n",
       " 22   4224.0          0.0      200.0               4.0  2007.0          5.0   \n",
       " 23   4928.0          0.0      958.0               6.0  2007.0          6.0   \n",
       " 24   8400.0          0.0      342.0               2.0  2008.0          5.0   \n",
       " 25   5687.0          0.0      570.0               2.0  2008.0          5.0   \n",
       " 26  11200.0          0.0      134.0               4.0  2008.0          5.0   \n",
       " 27  12968.0          0.0      175.0               4.0  2008.0          5.0   \n",
       " 28  10791.0          0.0        0.0               4.0  2006.0          4.0   \n",
       " 29   8246.0          0.0      204.0               4.0  2010.0          5.0   \n",
       " 30   1950.0          0.0       23.0               6.0  2008.0          6.0   \n",
       " 31   1680.0          0.0      630.0               5.0  2009.0          5.0   \n",
       " 32   7420.0          0.0      140.0               1.0  2008.0          5.0   \n",
       " 33   6120.0          0.0      832.0               1.0  2007.0          7.0   \n",
       " 34   6324.0          0.0      520.0               1.0  2008.0          4.0   \n",
       " 35   7449.0          0.0      637.0               2.0  2007.0          7.0   \n",
       " 36   8500.0          0.0      649.0               2.0  2008.0          4.0   \n",
       " 37   4224.0          0.0      200.0               4.0  2007.0          5.0   \n",
       " 38   4928.0          0.0      958.0               6.0  2007.0          6.0   \n",
       " 39   8400.0          0.0      342.0               2.0  2008.0          5.0   \n",
       " 40   5687.0          0.0      570.0               2.0  2008.0          5.0   \n",
       " 41  11200.0          0.0      134.0               4.0  2008.0          5.0   \n",
       " 42  12968.0          0.0      175.0               4.0  2008.0          5.0   \n",
       " 43  10791.0          0.0        0.0               4.0  2006.0          4.0   \n",
       " 44   8246.0          0.0      204.0               4.0  2010.0          5.0   \n",
       " \n",
       "     OverallCond  GrLivArea  TotalBsmtSF  GarageCars  MSSubClass  YearBuilt  \\\n",
       " 0           6.0     1556.0        716.0         2.0       160.0     1980.0   \n",
       " 1           5.0     1302.0        630.0         1.0       160.0     1971.0   \n",
       " 2           6.0     1077.0        991.0         1.0       190.0     1939.0   \n",
       " 3           8.0      854.0        832.0         2.0        45.0     1929.0   \n",
       " 4           6.0      520.0        520.0         1.0        30.0     1927.0   \n",
       " 5           7.0     1108.0        637.0         1.0        45.0     1930.0   \n",
       " 6           4.0     1317.0        649.0         1.0        70.0     1920.0   \n",
       " 7           7.0     1060.0       1040.0         2.0       120.0     1976.0   \n",
       " 8           5.0      958.0       1078.0         2.0       120.0     1976.0   \n",
       " 9           8.0     2192.0        720.0         1.0        75.0     1939.0   \n",
       " 10          6.0     1716.0        780.0         0.0       190.0     1912.0   \n",
       " 11          5.0     1040.0       1040.0         1.0        20.0     1965.0   \n",
       " 12          6.0      912.0        912.0         1.0        20.0     1962.0   \n",
       " 13          5.0     1296.0          0.0         2.0        90.0     1967.0   \n",
       " 14          8.0     1060.0       1060.0         1.0        20.0     1968.0   \n",
       " 15          6.0     1556.0        716.0         2.0       160.0     1980.0   \n",
       " 16          5.0     1302.0        630.0         1.0       160.0     1971.0   \n",
       " 17          6.0     1077.0        991.0         1.0       190.0     1939.0   \n",
       " 18          8.0      854.0        832.0         2.0        45.0     1929.0   \n",
       " 19          6.0      520.0        520.0         1.0        30.0     1927.0   \n",
       " 20          7.0     1108.0        637.0         1.0        45.0     1930.0   \n",
       " 21          4.0     1317.0        649.0         1.0        70.0     1920.0   \n",
       " 22          7.0     1060.0       1040.0         2.0       120.0     1976.0   \n",
       " 23          5.0      958.0       1078.0         2.0       120.0     1976.0   \n",
       " 24          8.0     2192.0        720.0         1.0        75.0     1939.0   \n",
       " 25          6.0     1716.0        780.0         0.0       190.0     1912.0   \n",
       " 26          5.0     1040.0       1040.0         1.0        20.0     1965.0   \n",
       " 27          6.0      912.0        912.0         1.0        20.0     1962.0   \n",
       " 28          5.0     1296.0          0.0         2.0        90.0     1967.0   \n",
       " 29          8.0     1060.0       1060.0         1.0        20.0     1968.0   \n",
       " 30          6.0     1556.0        716.0         2.0       160.0     1980.0   \n",
       " 31          5.0     1302.0        630.0         1.0       160.0     1971.0   \n",
       " 32          6.0     1077.0        991.0         1.0       190.0     1939.0   \n",
       " 33          8.0      854.0        832.0         2.0        45.0     1929.0   \n",
       " 34          6.0      520.0        520.0         1.0        30.0     1927.0   \n",
       " 35          7.0     1108.0        637.0         1.0        45.0     1930.0   \n",
       " 36          4.0     1317.0        649.0         1.0        70.0     1920.0   \n",
       " 37          7.0     1060.0       1040.0         2.0       120.0     1976.0   \n",
       " 38          5.0      958.0       1078.0         2.0       120.0     1976.0   \n",
       " 39          8.0     2192.0        720.0         1.0        75.0     1939.0   \n",
       " 40          6.0     1716.0        780.0         0.0       190.0     1912.0   \n",
       " 41          5.0     1040.0       1040.0         1.0        20.0     1965.0   \n",
       " 42          6.0      912.0        912.0         1.0        20.0     1962.0   \n",
       " 43          5.0     1296.0          0.0         2.0        90.0     1967.0   \n",
       " 44          8.0     1060.0       1060.0         1.0        20.0     1968.0   \n",
       " \n",
       "     NeighborhoodCond  \n",
       " 0                6.0  \n",
       " 1                3.0  \n",
       " 2                2.0  \n",
       " 3                2.0  \n",
       " 4                2.0  \n",
       " 5                2.0  \n",
       " 6                2.0  \n",
       " 7                3.0  \n",
       " 8                5.0  \n",
       " 9                3.0  \n",
       " 10               3.0  \n",
       " 11               3.0  \n",
       " 12               3.0  \n",
       " 13               3.0  \n",
       " 14               3.0  \n",
       " 15               6.0  \n",
       " 16               3.0  \n",
       " 17               2.0  \n",
       " 18               2.0  \n",
       " 19               2.0  \n",
       " 20               2.0  \n",
       " 21               2.0  \n",
       " 22               3.0  \n",
       " 23               5.0  \n",
       " 24               3.0  \n",
       " 25               3.0  \n",
       " 26               3.0  \n",
       " 27               3.0  \n",
       " 28               3.0  \n",
       " 29               3.0  \n",
       " 30               6.0  \n",
       " 31               3.0  \n",
       " 32               2.0  \n",
       " 33               2.0  \n",
       " 34               2.0  \n",
       " 35               2.0  \n",
       " 36               2.0  \n",
       " 37               3.0  \n",
       " 38               5.0  \n",
       " 39               3.0  \n",
       " 40               3.0  \n",
       " 41               3.0  \n",
       " 42               3.0  \n",
       " 43               3.0  \n",
       " 44               3.0  ,\n",
       " 1:     MasVnrArea  KitchenQual  SaleCondition_Normal  remod_last  ExterQual_TA  \\\n",
       " 0          0.0          3.0                   1.0      1980.0           1.0   \n",
       " 1        127.0          3.0                   1.0      1970.0           1.0   \n",
       " 2          0.0          3.0                   1.0      1950.0           1.0   \n",
       " 3          0.0          3.0                   1.0      2001.0           1.0   \n",
       " 4          0.0          3.0                   1.0      1993.0           1.0   \n",
       " 5          0.0          3.0                   1.0      1963.0           0.0   \n",
       " 6          0.0          2.0                   1.0      1996.0           1.0   \n",
       " 7          0.0          3.0                   1.0      1973.0           1.0   \n",
       " 8          0.0          3.0                   1.0      1976.0           1.0   \n",
       " 9          0.0          3.0                   1.0      2000.0           1.0   \n",
       " 10         0.0          4.0                   1.0      1950.0           1.0   \n",
       " 11         0.0          4.0                   1.0      2006.0           1.0   \n",
       " 12         0.0          3.0                   1.0      1966.0           1.0   \n",
       " 13         0.0          3.0                   1.0      1968.0           1.0   \n",
       " 14       116.0          3.0                   1.0      1962.0           1.0   \n",
       " 15         0.0          3.0                   1.0      1980.0           1.0   \n",
       " 16       127.0          3.0                   1.0      1970.0           1.0   \n",
       " 17         0.0          3.0                   1.0      1950.0           1.0   \n",
       " 18         0.0          3.0                   1.0      2001.0           1.0   \n",
       " 19         0.0          3.0                   1.0      1993.0           1.0   \n",
       " 20         0.0          3.0                   1.0      1963.0           0.0   \n",
       " 21         0.0          2.0                   1.0      1996.0           1.0   \n",
       " 22         0.0          3.0                   1.0      1973.0           1.0   \n",
       " 23         0.0          3.0                   1.0      1976.0           1.0   \n",
       " 24         0.0          3.0                   1.0      2000.0           1.0   \n",
       " 25         0.0          4.0                   1.0      1950.0           1.0   \n",
       " 26         0.0          4.0                   1.0      2006.0           1.0   \n",
       " 27         0.0          3.0                   1.0      1966.0           1.0   \n",
       " 28         0.0          3.0                   1.0      1968.0           1.0   \n",
       " 29       116.0          3.0                   1.0      1962.0           1.0   \n",
       " 30         0.0          3.0                   1.0      1980.0           1.0   \n",
       " 31       127.0          3.0                   1.0      1970.0           1.0   \n",
       " 32         0.0          3.0                   1.0      1950.0           1.0   \n",
       " 33         0.0          3.0                   1.0      2001.0           1.0   \n",
       " 34         0.0          3.0                   1.0      1993.0           1.0   \n",
       " 35         0.0          3.0                   1.0      1963.0           0.0   \n",
       " 36         0.0          2.0                   1.0      1996.0           1.0   \n",
       " 37         0.0          3.0                   1.0      1973.0           1.0   \n",
       " 38         0.0          3.0                   1.0      1976.0           1.0   \n",
       " 39         0.0          3.0                   1.0      2000.0           1.0   \n",
       " 40         0.0          4.0                   1.0      1950.0           1.0   \n",
       " 41         0.0          4.0                   1.0      2006.0           1.0   \n",
       " 42         0.0          3.0                   1.0      1966.0           1.0   \n",
       " 43         0.0          3.0                   1.0      1968.0           1.0   \n",
       " 44       116.0          3.0                   1.0      1962.0           1.0   \n",
       " \n",
       "     LotArea  BsmtQual_Ex  BsmtUnfSF  NeighborhoodQual  YrSold  OverallQual  \\\n",
       " 0    1300.0          0.0      276.0               6.0  2009.0          6.0   \n",
       " 1    1869.0          0.0      162.0               5.0  2008.0          6.0   \n",
       " 2    6240.0          0.0      816.0               1.0  2006.0          6.0   \n",
       " 3    8635.0          0.0      295.0               1.0  2008.0          5.0   \n",
       " 4    6120.0          0.0      506.0               1.0  2009.0          5.0   \n",
       " 5    8472.0          0.0        0.0               2.0  2010.0          5.0   \n",
       " 6    7200.0          0.0      530.0               2.0  2007.0          5.0   \n",
       " 7    1596.0          0.0        0.0               4.0  2009.0          4.0   \n",
       " 8    2280.0          0.0      289.0               6.0  2009.0          6.0   \n",
       " 9    8400.0          0.0      552.0               2.0  2006.0          6.0   \n",
       " 10   5000.0          0.0      808.0               2.0  2010.0          5.0   \n",
       " 11   8544.0          0.0     1228.0               4.0  2008.0          5.0   \n",
       " 12   7742.0          0.0      192.0               4.0  2007.0          5.0   \n",
       " 13  10778.0          0.0     1768.0               4.0  2010.0          4.0   \n",
       " 14  11616.0          0.0      252.0               4.0  2009.0          5.0   \n",
       " 15   1300.0          0.0      276.0               6.0  2009.0          6.0   \n",
       " 16   1869.0          0.0      162.0               5.0  2008.0          6.0   \n",
       " 17   6240.0          0.0      816.0               1.0  2006.0          6.0   \n",
       " 18   8635.0          0.0      295.0               1.0  2008.0          5.0   \n",
       " 19   6120.0          0.0      506.0               1.0  2009.0          5.0   \n",
       " 20   8472.0          0.0        0.0               2.0  2010.0          5.0   \n",
       " 21   7200.0          0.0      530.0               2.0  2007.0          5.0   \n",
       " 22   1596.0          0.0        0.0               4.0  2009.0          4.0   \n",
       " 23   2280.0          0.0      289.0               6.0  2009.0          6.0   \n",
       " 24   8400.0          0.0      552.0               2.0  2006.0          6.0   \n",
       " 25   5000.0          0.0      808.0               2.0  2010.0          5.0   \n",
       " 26   8544.0          0.0     1228.0               4.0  2008.0          5.0   \n",
       " 27   7742.0          0.0      192.0               4.0  2007.0          5.0   \n",
       " 28  10778.0          0.0     1768.0               4.0  2010.0          4.0   \n",
       " 29  11616.0          0.0      252.0               4.0  2009.0          5.0   \n",
       " 30   1300.0          0.0      276.0               6.0  2009.0          6.0   \n",
       " 31   1869.0          0.0      162.0               5.0  2008.0          6.0   \n",
       " 32   6240.0          0.0      816.0               1.0  2006.0          6.0   \n",
       " 33   8635.0          0.0      295.0               1.0  2008.0          5.0   \n",
       " 34   6120.0          0.0      506.0               1.0  2009.0          5.0   \n",
       " 35   8472.0          0.0        0.0               2.0  2010.0          5.0   \n",
       " 36   7200.0          0.0      530.0               2.0  2007.0          5.0   \n",
       " 37   1596.0          0.0        0.0               4.0  2009.0          4.0   \n",
       " 38   2280.0          0.0      289.0               6.0  2009.0          6.0   \n",
       " 39   8400.0          0.0      552.0               2.0  2006.0          6.0   \n",
       " 40   5000.0          0.0      808.0               2.0  2010.0          5.0   \n",
       " 41   8544.0          0.0     1228.0               4.0  2008.0          5.0   \n",
       " 42   7742.0          0.0      192.0               4.0  2007.0          5.0   \n",
       " 43  10778.0          0.0     1768.0               4.0  2010.0          4.0   \n",
       " 44  11616.0          0.0      252.0               4.0  2009.0          5.0   \n",
       " \n",
       "     OverallCond  GrLivArea  TotalBsmtSF  GarageCars  MSSubClass  YearBuilt  \\\n",
       " 0           6.0     1229.0        561.0         2.0       160.0     1980.0   \n",
       " 1           6.0      987.0        483.0         1.0       160.0     1970.0   \n",
       " 2           6.0     1176.0        816.0         2.0        50.0     1934.0   \n",
       " 3           5.0     1285.0        672.0         1.0        50.0     1948.0   \n",
       " 4           7.0      875.0        715.0         1.0        30.0     1931.0   \n",
       " 5           5.0      816.0        816.0         2.0        90.0     1963.0   \n",
       " 6           7.0     1111.0        530.0         1.0        75.0     1920.0   \n",
       " 7           5.0      988.0        462.0         1.0       180.0     1973.0   \n",
       " 8           6.0     1456.0        855.0         2.0       160.0     1976.0   \n",
       " 9           5.0     1595.0        940.0         1.0        50.0     1940.0   \n",
       " 10          6.0     1691.0       1026.0         1.0        50.0     1924.0   \n",
       " 11          6.0     1228.0       1228.0         1.0        20.0     1966.0   \n",
       " 12          7.0      955.0        955.0         1.0        20.0     1966.0   \n",
       " 13          5.0     1768.0       1768.0         0.0        90.0     1968.0   \n",
       " 14          5.0     1092.0       1092.0         1.0        20.0     1962.0   \n",
       " 15          6.0     1229.0        561.0         2.0       160.0     1980.0   \n",
       " 16          6.0      987.0        483.0         1.0       160.0     1970.0   \n",
       " 17          6.0     1176.0        816.0         2.0        50.0     1934.0   \n",
       " 18          5.0     1285.0        672.0         1.0        50.0     1948.0   \n",
       " 19          7.0      875.0        715.0         1.0        30.0     1931.0   \n",
       " 20          5.0      816.0        816.0         2.0        90.0     1963.0   \n",
       " 21          7.0     1111.0        530.0         1.0        75.0     1920.0   \n",
       " 22          5.0      988.0        462.0         1.0       180.0     1973.0   \n",
       " 23          6.0     1456.0        855.0         2.0       160.0     1976.0   \n",
       " 24          5.0     1595.0        940.0         1.0        50.0     1940.0   \n",
       " 25          6.0     1691.0       1026.0         1.0        50.0     1924.0   \n",
       " 26          6.0     1228.0       1228.0         1.0        20.0     1966.0   \n",
       " 27          7.0      955.0        955.0         1.0        20.0     1966.0   \n",
       " 28          5.0     1768.0       1768.0         0.0        90.0     1968.0   \n",
       " 29          5.0     1092.0       1092.0         1.0        20.0     1962.0   \n",
       " 30          6.0     1229.0        561.0         2.0       160.0     1980.0   \n",
       " 31          6.0      987.0        483.0         1.0       160.0     1970.0   \n",
       " 32          6.0     1176.0        816.0         2.0        50.0     1934.0   \n",
       " 33          5.0     1285.0        672.0         1.0        50.0     1948.0   \n",
       " 34          7.0      875.0        715.0         1.0        30.0     1931.0   \n",
       " 35          5.0      816.0        816.0         2.0        90.0     1963.0   \n",
       " 36          7.0     1111.0        530.0         1.0        75.0     1920.0   \n",
       " 37          5.0      988.0        462.0         1.0       180.0     1973.0   \n",
       " 38          6.0     1456.0        855.0         2.0       160.0     1976.0   \n",
       " 39          5.0     1595.0        940.0         1.0        50.0     1940.0   \n",
       " 40          6.0     1691.0       1026.0         1.0        50.0     1924.0   \n",
       " 41          6.0     1228.0       1228.0         1.0        20.0     1966.0   \n",
       " 42          7.0      955.0        955.0         1.0        20.0     1966.0   \n",
       " 43          5.0     1768.0       1768.0         0.0        90.0     1968.0   \n",
       " 44          5.0     1092.0       1092.0         1.0        20.0     1962.0   \n",
       " \n",
       "     NeighborhoodCond  \n",
       " 0                6.0  \n",
       " 1                3.0  \n",
       " 2                2.0  \n",
       " 3                2.0  \n",
       " 4                2.0  \n",
       " 5                2.0  \n",
       " 6                2.0  \n",
       " 7                3.0  \n",
       " 8                5.0  \n",
       " 9                3.0  \n",
       " 10               3.0  \n",
       " 11               3.0  \n",
       " 12               3.0  \n",
       " 13               3.0  \n",
       " 14               3.0  \n",
       " 15               6.0  \n",
       " 16               3.0  \n",
       " 17               2.0  \n",
       " 18               2.0  \n",
       " 19               2.0  \n",
       " 20               2.0  \n",
       " 21               2.0  \n",
       " 22               3.0  \n",
       " 23               5.0  \n",
       " 24               3.0  \n",
       " 25               3.0  \n",
       " 26               3.0  \n",
       " 27               3.0  \n",
       " 28               3.0  \n",
       " 29               3.0  \n",
       " 30               6.0  \n",
       " 31               3.0  \n",
       " 32               2.0  \n",
       " 33               2.0  \n",
       " 34               2.0  \n",
       " 35               2.0  \n",
       " 36               2.0  \n",
       " 37               3.0  \n",
       " 38               5.0  \n",
       " 39               3.0  \n",
       " 40               3.0  \n",
       " 41               3.0  \n",
       " 42               3.0  \n",
       " 43               3.0  \n",
       " 44               3.0  ,\n",
       " 2:     MasVnrArea  KitchenQual  SaleCondition_Normal  remod_last  ExterQual_TA  \\\n",
       " 0        297.0          3.0                   1.0      1972.0           1.0   \n",
       " 1          0.0          3.0                   1.0      1950.0           1.0   \n",
       " 2          0.0          3.0                   1.0      1991.0           1.0   \n",
       " 3          0.0          2.0                   1.0      1966.0           1.0   \n",
       " 4          0.0          2.0                   0.0      1982.0           0.0   \n",
       " 5        600.0          3.0                   1.0      1950.0           1.0   \n",
       " 6          0.0          3.0                   1.0      1976.0           1.0   \n",
       " 7          0.0          3.0                   1.0      1974.0           1.0   \n",
       " 8          0.0          3.0                   1.0      1950.0           1.0   \n",
       " 9          0.0          4.0                   1.0      2007.0           0.0   \n",
       " 10         0.0          3.0                   1.0      1993.0           1.0   \n",
       " 11       336.0          3.0                   0.0      1963.0           1.0   \n",
       " 12         0.0          4.0                   1.0      1958.0           0.0   \n",
       " 13         0.0          3.0                   1.0      1962.0           1.0   \n",
       " 14       297.0          3.0                   1.0      1972.0           1.0   \n",
       " 15         0.0          3.0                   1.0      1950.0           1.0   \n",
       " 16         0.0          3.0                   1.0      1991.0           1.0   \n",
       " 17         0.0          2.0                   1.0      1966.0           1.0   \n",
       " 18         0.0          2.0                   0.0      1982.0           0.0   \n",
       " 19       600.0          3.0                   1.0      1950.0           1.0   \n",
       " 20         0.0          3.0                   1.0      1976.0           1.0   \n",
       " 21         0.0          3.0                   1.0      1974.0           1.0   \n",
       " 22         0.0          3.0                   1.0      1950.0           1.0   \n",
       " 23         0.0          4.0                   1.0      2007.0           0.0   \n",
       " 24         0.0          3.0                   1.0      1993.0           1.0   \n",
       " 25       336.0          3.0                   0.0      1963.0           1.0   \n",
       " 26         0.0          4.0                   1.0      1958.0           0.0   \n",
       " 27         0.0          3.0                   1.0      1962.0           1.0   \n",
       " 28       297.0          3.0                   1.0      1972.0           1.0   \n",
       " 29         0.0          3.0                   1.0      1950.0           1.0   \n",
       " 30         0.0          3.0                   1.0      1991.0           1.0   \n",
       " 31         0.0          2.0                   1.0      1966.0           1.0   \n",
       " 32         0.0          2.0                   0.0      1982.0           0.0   \n",
       " 33       600.0          3.0                   1.0      1950.0           1.0   \n",
       " 34         0.0          3.0                   1.0      1976.0           1.0   \n",
       " 35         0.0          3.0                   1.0      1974.0           1.0   \n",
       " 36         0.0          3.0                   1.0      1950.0           1.0   \n",
       " 37         0.0          4.0                   1.0      2007.0           0.0   \n",
       " 38         0.0          3.0                   1.0      1993.0           1.0   \n",
       " 39       336.0          3.0                   0.0      1963.0           1.0   \n",
       " 40         0.0          4.0                   1.0      1958.0           0.0   \n",
       " 41         0.0          3.0                   1.0      1962.0           1.0   \n",
       " \n",
       "     LotArea  BsmtQual_Ex  BsmtUnfSF  NeighborhoodQual  YrSold  OverallQual  \\\n",
       " 0    1680.0          0.0      483.0               5.0  2006.0          6.0   \n",
       " 1    6240.0          0.0      896.0               1.0  2006.0          5.0   \n",
       " 2    7438.0          0.0      504.0               1.0  2006.0          5.0   \n",
       " 3    5350.0          0.0      728.0               1.0  2010.0          3.0   \n",
       " 4    8470.0          0.0     1013.0               2.0  2009.0          3.0   \n",
       " 5    7758.0          0.0      816.0               2.0  2007.0          7.0   \n",
       " 6    2592.0          0.0      175.0               4.0  2010.0          5.0   \n",
       " 7    2308.0          0.0      103.0               6.0  2009.0          6.0   \n",
       " 8   10480.0          0.0     1064.0               2.0  2008.0          6.0   \n",
       " 9    7200.0          0.0        0.0               2.0  2009.0          7.0   \n",
       " 10  10335.0          0.0      891.0               4.0  2006.0          5.0   \n",
       " 11   9100.0          0.0      396.0               4.0  2006.0          5.0   \n",
       " 12  13650.0          0.0      554.0               4.0  2006.0          5.0   \n",
       " 13  13673.0          0.0     1140.0               4.0  2007.0          5.0   \n",
       " 14   1680.0          0.0      483.0               5.0  2006.0          6.0   \n",
       " 15   6240.0          0.0      896.0               1.0  2006.0          5.0   \n",
       " 16   7438.0          0.0      504.0               1.0  2006.0          5.0   \n",
       " 17   5350.0          0.0      728.0               1.0  2010.0          3.0   \n",
       " 18   8470.0          0.0     1013.0               2.0  2009.0          3.0   \n",
       " 19   7758.0          0.0      816.0               2.0  2007.0          7.0   \n",
       " 20   2592.0          0.0      175.0               4.0  2010.0          5.0   \n",
       " 21   2308.0          0.0      103.0               6.0  2009.0          6.0   \n",
       " 22  10480.0          0.0     1064.0               2.0  2008.0          6.0   \n",
       " 23   7200.0          0.0        0.0               2.0  2009.0          7.0   \n",
       " 24  10335.0          0.0      891.0               4.0  2006.0          5.0   \n",
       " 25   9100.0          0.0      396.0               4.0  2006.0          5.0   \n",
       " 26  13650.0          0.0      554.0               4.0  2006.0          5.0   \n",
       " 27  13673.0          0.0     1140.0               4.0  2007.0          5.0   \n",
       " 28   1680.0          0.0      483.0               5.0  2006.0          6.0   \n",
       " 29   6240.0          0.0      896.0               1.0  2006.0          5.0   \n",
       " 30   7438.0          0.0      504.0               1.0  2006.0          5.0   \n",
       " 31   5350.0          0.0      728.0               1.0  2010.0          3.0   \n",
       " 32   8470.0          0.0     1013.0               2.0  2009.0          3.0   \n",
       " 33   7758.0          0.0      816.0               2.0  2007.0          7.0   \n",
       " 34   2592.0          0.0      175.0               4.0  2010.0          5.0   \n",
       " 35   2308.0          0.0      103.0               6.0  2009.0          6.0   \n",
       " 36  10480.0          0.0     1064.0               2.0  2008.0          6.0   \n",
       " 37   7200.0          0.0        0.0               2.0  2009.0          7.0   \n",
       " 38  10335.0          0.0      891.0               4.0  2006.0          5.0   \n",
       " 39   9100.0          0.0      396.0               4.0  2006.0          5.0   \n",
       " 40  13650.0          0.0      554.0               4.0  2006.0          5.0   \n",
       " 41  13673.0          0.0     1140.0               4.0  2007.0          5.0   \n",
       " \n",
       "     OverallCond  GrLivArea  TotalBsmtSF  GarageCars  MSSubClass  YearBuilt  \\\n",
       " 0           5.0      987.0        483.0         1.0       160.0     1972.0   \n",
       " 1           4.0     1344.0        896.0         1.0        50.0     1936.0   \n",
       " 2           8.0     1252.0        504.0         2.0        50.0     1908.0   \n",
       " 3           2.0     1306.0        728.0         0.0        30.0     1940.0   \n",
       " 4           2.0     1526.0       1013.0         0.0        50.0     1915.0   \n",
       " 5           4.0     1818.0       1040.0         1.0        50.0     1931.0   \n",
       " 6           3.0     1112.0        536.0         1.0       160.0     1976.0   \n",
       " 7           5.0     1322.0        855.0         2.0       160.0     1974.0   \n",
       " 8           5.0     1639.0       1064.0         1.0        50.0     1936.0   \n",
       " 9           9.0     1135.0        560.0         2.0        70.0     1936.0   \n",
       " 10          6.0     1721.0       1461.0         2.0        20.0     1968.0   \n",
       " 11          5.0     1728.0       1728.0         2.0        90.0     1963.0   \n",
       " 12          5.0     1920.0       1052.0         2.0        50.0     1958.0   \n",
       " 13          5.0     1696.0       1140.0         1.0        20.0     1962.0   \n",
       " 14          5.0      987.0        483.0         1.0       160.0     1972.0   \n",
       " 15          4.0     1344.0        896.0         1.0        50.0     1936.0   \n",
       " 16          8.0     1252.0        504.0         2.0        50.0     1908.0   \n",
       " 17          2.0     1306.0        728.0         0.0        30.0     1940.0   \n",
       " 18          2.0     1526.0       1013.0         0.0        50.0     1915.0   \n",
       " 19          4.0     1818.0       1040.0         1.0        50.0     1931.0   \n",
       " 20          3.0     1112.0        536.0         1.0       160.0     1976.0   \n",
       " 21          5.0     1322.0        855.0         2.0       160.0     1974.0   \n",
       " 22          5.0     1639.0       1064.0         1.0        50.0     1936.0   \n",
       " 23          9.0     1135.0        560.0         2.0        70.0     1936.0   \n",
       " 24          6.0     1721.0       1461.0         2.0        20.0     1968.0   \n",
       " 25          5.0     1728.0       1728.0         2.0        90.0     1963.0   \n",
       " 26          5.0     1920.0       1052.0         2.0        50.0     1958.0   \n",
       " 27          5.0     1696.0       1140.0         1.0        20.0     1962.0   \n",
       " 28          5.0      987.0        483.0         1.0       160.0     1972.0   \n",
       " 29          4.0     1344.0        896.0         1.0        50.0     1936.0   \n",
       " 30          8.0     1252.0        504.0         2.0        50.0     1908.0   \n",
       " 31          2.0     1306.0        728.0         0.0        30.0     1940.0   \n",
       " 32          2.0     1526.0       1013.0         0.0        50.0     1915.0   \n",
       " 33          4.0     1818.0       1040.0         1.0        50.0     1931.0   \n",
       " 34          3.0     1112.0        536.0         1.0       160.0     1976.0   \n",
       " 35          5.0     1322.0        855.0         2.0       160.0     1974.0   \n",
       " 36          5.0     1639.0       1064.0         1.0        50.0     1936.0   \n",
       " 37          9.0     1135.0        560.0         2.0        70.0     1936.0   \n",
       " 38          6.0     1721.0       1461.0         2.0        20.0     1968.0   \n",
       " 39          5.0     1728.0       1728.0         2.0        90.0     1963.0   \n",
       " 40          5.0     1920.0       1052.0         2.0        50.0     1958.0   \n",
       " 41          5.0     1696.0       1140.0         1.0        20.0     1962.0   \n",
       " \n",
       "     NeighborhoodCond  \n",
       " 0                3.0  \n",
       " 1                2.0  \n",
       " 2                2.0  \n",
       " 3                2.0  \n",
       " 4                2.0  \n",
       " 5                2.0  \n",
       " 6                3.0  \n",
       " 7                5.0  \n",
       " 8                3.0  \n",
       " 9                3.0  \n",
       " 10               3.0  \n",
       " 11               3.0  \n",
       " 12               3.0  \n",
       " 13               3.0  \n",
       " 14               3.0  \n",
       " 15               2.0  \n",
       " 16               2.0  \n",
       " 17               2.0  \n",
       " 18               2.0  \n",
       " 19               2.0  \n",
       " 20               3.0  \n",
       " 21               5.0  \n",
       " 22               3.0  \n",
       " 23               3.0  \n",
       " 24               3.0  \n",
       " 25               3.0  \n",
       " 26               3.0  \n",
       " 27               3.0  \n",
       " 28               3.0  \n",
       " 29               2.0  \n",
       " 30               2.0  \n",
       " 31               2.0  \n",
       " 32               2.0  \n",
       " 33               2.0  \n",
       " 34               3.0  \n",
       " 35               5.0  \n",
       " 36               3.0  \n",
       " 37               3.0  \n",
       " 38               3.0  \n",
       " 39               3.0  \n",
       " 40               3.0  \n",
       " 41               3.0  ,\n",
       " 3:     MasVnrArea  KitchenQual  SaleCondition_Normal  remod_last  ExterQual_TA  \\\n",
       " 0        604.0          3.0                   1.0      1971.0           1.0   \n",
       " 1          0.0          5.0                   1.0      2007.0           0.0   \n",
       " 2          0.0          3.0                   1.0      2003.0           1.0   \n",
       " 3          0.0          4.0                   1.0      1994.0           1.0   \n",
       " 4          0.0          2.0                   1.0      2005.0           1.0   \n",
       " 5          0.0          3.0                   1.0      1950.0           1.0   \n",
       " 6          0.0          3.0                   1.0      1976.0           1.0   \n",
       " 7          0.0          3.0                   0.0      1977.0           1.0   \n",
       " 8          0.0          2.0                   1.0      1950.0           1.0   \n",
       " 9          0.0          3.0                   1.0      1950.0           1.0   \n",
       " 10         0.0          3.0                   1.0      1967.0           1.0   \n",
       " 11        46.0          3.0                   1.0      1995.0           1.0   \n",
       " 12        31.0          3.0                   1.0      1967.0           1.0   \n",
       " 13         0.0          3.0                   1.0      1997.0           1.0   \n",
       " 14       604.0          3.0                   1.0      1971.0           1.0   \n",
       " 15         0.0          5.0                   1.0      2007.0           0.0   \n",
       " 16         0.0          3.0                   1.0      2003.0           1.0   \n",
       " 17         0.0          4.0                   1.0      1994.0           1.0   \n",
       " 18         0.0          2.0                   1.0      2005.0           1.0   \n",
       " 19         0.0          3.0                   1.0      1950.0           1.0   \n",
       " 20         0.0          3.0                   1.0      1976.0           1.0   \n",
       " 21         0.0          3.0                   0.0      1977.0           1.0   \n",
       " 22         0.0          2.0                   1.0      1950.0           1.0   \n",
       " 23         0.0          3.0                   1.0      1950.0           1.0   \n",
       " 24         0.0          3.0                   1.0      1967.0           1.0   \n",
       " 25        46.0          3.0                   1.0      1995.0           1.0   \n",
       " 26        31.0          3.0                   1.0      1967.0           1.0   \n",
       " 27         0.0          3.0                   1.0      1997.0           1.0   \n",
       " 28       604.0          3.0                   1.0      1971.0           1.0   \n",
       " 29         0.0          5.0                   1.0      2007.0           0.0   \n",
       " 30         0.0          3.0                   1.0      2003.0           1.0   \n",
       " 31         0.0          4.0                   1.0      1994.0           1.0   \n",
       " 32         0.0          2.0                   1.0      2005.0           1.0   \n",
       " 33         0.0          3.0                   1.0      1950.0           1.0   \n",
       " 34         0.0          3.0                   1.0      1976.0           1.0   \n",
       " 35         0.0          3.0                   0.0      1977.0           1.0   \n",
       " 36         0.0          2.0                   1.0      1950.0           1.0   \n",
       " 37         0.0          3.0                   1.0      1950.0           1.0   \n",
       " 38         0.0          3.0                   1.0      1967.0           1.0   \n",
       " 39        46.0          3.0                   1.0      1995.0           1.0   \n",
       " 40        31.0          3.0                   1.0      1967.0           1.0   \n",
       " 41         0.0          3.0                   1.0      1997.0           1.0   \n",
       " \n",
       "     LotArea  BsmtQual_Ex  BsmtUnfSF  NeighborhoodQual  YrSold  OverallQual  \\\n",
       " 0    1680.0          0.0      125.0               5.0  2008.0          6.0   \n",
       " 1    7264.0          0.0      952.0               1.0  2009.0          7.0   \n",
       " 2    8730.0          0.0      698.0               1.0  2007.0          6.0   \n",
       " 3   11888.0          0.0      844.0               1.0  2009.0          6.0   \n",
       " 4    8500.0          0.0      793.0               2.0  2007.0          5.0   \n",
       " 5    6060.0          0.0      732.0               2.0  2007.0          4.0   \n",
       " 6    4224.0          0.0      268.0               4.0  2007.0          5.0   \n",
       " 7    4043.0          0.0      510.0               6.0  2008.0          6.0   \n",
       " 8    6858.0          0.0      806.0               2.0  2010.0          6.0   \n",
       " 9    6292.0          0.0      861.0               2.0  2009.0          7.0   \n",
       " 10   8521.0          0.0       70.0               4.0  2010.0          5.0   \n",
       " 11   8471.0          0.0        0.0               4.0  2006.0          6.0   \n",
       " 12   9819.0          0.0      432.0               4.0  2010.0          5.0   \n",
       " 13  10200.0          0.0      672.0               4.0  2008.0          5.0   \n",
       " 14   1680.0          0.0      125.0               5.0  2008.0          6.0   \n",
       " 15   7264.0          0.0      952.0               1.0  2009.0          7.0   \n",
       " 16   8730.0          0.0      698.0               1.0  2007.0          6.0   \n",
       " 17  11888.0          0.0      844.0               1.0  2009.0          6.0   \n",
       " 18   8500.0          0.0      793.0               2.0  2007.0          5.0   \n",
       " 19   6060.0          0.0      732.0               2.0  2007.0          4.0   \n",
       " 20   4224.0          0.0      268.0               4.0  2007.0          5.0   \n",
       " 21   4043.0          0.0      510.0               6.0  2008.0          6.0   \n",
       " 22   6858.0          0.0      806.0               2.0  2010.0          6.0   \n",
       " 23   6292.0          0.0      861.0               2.0  2009.0          7.0   \n",
       " 24   8521.0          0.0       70.0               4.0  2010.0          5.0   \n",
       " 25   8471.0          0.0        0.0               4.0  2006.0          6.0   \n",
       " 26   9819.0          0.0      432.0               4.0  2010.0          5.0   \n",
       " 27  10200.0          0.0      672.0               4.0  2008.0          5.0   \n",
       " 28   1680.0          0.0      125.0               5.0  2008.0          6.0   \n",
       " 29   7264.0          0.0      952.0               1.0  2009.0          7.0   \n",
       " 30   8730.0          0.0      698.0               1.0  2007.0          6.0   \n",
       " 31  11888.0          0.0      844.0               1.0  2009.0          6.0   \n",
       " 32   8500.0          0.0      793.0               2.0  2007.0          5.0   \n",
       " 33   6060.0          0.0      732.0               2.0  2007.0          4.0   \n",
       " 34   4224.0          0.0      268.0               4.0  2007.0          5.0   \n",
       " 35   4043.0          0.0      510.0               6.0  2008.0          6.0   \n",
       " 36   6858.0          0.0      806.0               2.0  2010.0          6.0   \n",
       " 37   6292.0          0.0      861.0               2.0  2009.0          7.0   \n",
       " 38   8521.0          0.0       70.0               4.0  2010.0          5.0   \n",
       " 39   8471.0          0.0        0.0               4.0  2006.0          6.0   \n",
       " 40   9819.0          0.0      432.0               4.0  2010.0          5.0   \n",
       " 41  10200.0          0.0      672.0               4.0  2008.0          5.0   \n",
       " \n",
       "     OverallCond  GrLivArea  TotalBsmtSF  GarageCars  MSSubClass  YearBuilt  \\\n",
       " 0           3.0      987.0        483.0         1.0       160.0     1971.0   \n",
       " 1           7.0     1548.0        952.0         2.0        50.0     1925.0   \n",
       " 2           7.0     1396.0        698.0         1.0        70.0     1915.0   \n",
       " 3           6.0     2134.0        844.0         2.0        75.0     1916.0   \n",
       " 4           7.0     1517.0        793.0         0.0        50.0     1919.0   \n",
       " 5           5.0     1123.0        732.0         1.0        50.0     1939.0   \n",
       " 6           5.0     1142.0       1142.0         2.0       120.0     1976.0   \n",
       " 7           6.0     1069.0       1069.0         2.0       120.0     1977.0   \n",
       " 8           4.0     1647.0        806.0         1.0        70.0     1915.0   \n",
       " 9           7.0     1477.0        861.0         1.0        50.0     1928.0   \n",
       " 10          5.0      912.0        912.0         1.0        20.0     1967.0   \n",
       " 11          7.0     1212.0        506.0         2.0        80.0     1977.0   \n",
       " 12          5.0      900.0        882.0         1.0        20.0     1967.0   \n",
       " 13          8.0      672.0        672.0         1.0        30.0     1940.0   \n",
       " 14          3.0      987.0        483.0         1.0       160.0     1971.0   \n",
       " 15          7.0     1548.0        952.0         2.0        50.0     1925.0   \n",
       " 16          7.0     1396.0        698.0         1.0        70.0     1915.0   \n",
       " 17          6.0     2134.0        844.0         2.0        75.0     1916.0   \n",
       " 18          7.0     1517.0        793.0         0.0        50.0     1919.0   \n",
       " 19          5.0     1123.0        732.0         1.0        50.0     1939.0   \n",
       " 20          5.0     1142.0       1142.0         2.0       120.0     1976.0   \n",
       " 21          6.0     1069.0       1069.0         2.0       120.0     1977.0   \n",
       " 22          4.0     1647.0        806.0         1.0        70.0     1915.0   \n",
       " 23          7.0     1477.0        861.0         1.0        50.0     1928.0   \n",
       " 24          5.0      912.0        912.0         1.0        20.0     1967.0   \n",
       " 25          7.0     1212.0        506.0         2.0        80.0     1977.0   \n",
       " 26          5.0      900.0        882.0         1.0        20.0     1967.0   \n",
       " 27          8.0      672.0        672.0         1.0        30.0     1940.0   \n",
       " 28          3.0      987.0        483.0         1.0       160.0     1971.0   \n",
       " 29          7.0     1548.0        952.0         2.0        50.0     1925.0   \n",
       " 30          7.0     1396.0        698.0         1.0        70.0     1915.0   \n",
       " 31          6.0     2134.0        844.0         2.0        75.0     1916.0   \n",
       " 32          7.0     1517.0        793.0         0.0        50.0     1919.0   \n",
       " 33          5.0     1123.0        732.0         1.0        50.0     1939.0   \n",
       " 34          5.0     1142.0       1142.0         2.0       120.0     1976.0   \n",
       " 35          6.0     1069.0       1069.0         2.0       120.0     1977.0   \n",
       " 36          4.0     1647.0        806.0         1.0        70.0     1915.0   \n",
       " 37          7.0     1477.0        861.0         1.0        50.0     1928.0   \n",
       " 38          5.0      912.0        912.0         1.0        20.0     1967.0   \n",
       " 39          7.0     1212.0        506.0         2.0        80.0     1977.0   \n",
       " 40          5.0      900.0        882.0         1.0        20.0     1967.0   \n",
       " 41          8.0      672.0        672.0         1.0        30.0     1940.0   \n",
       " \n",
       "     NeighborhoodCond  \n",
       " 0                3.0  \n",
       " 1                2.0  \n",
       " 2                2.0  \n",
       " 3                2.0  \n",
       " 4                2.0  \n",
       " 5                2.0  \n",
       " 6                3.0  \n",
       " 7                5.0  \n",
       " 8                3.0  \n",
       " 9                3.0  \n",
       " 10               3.0  \n",
       " 11               3.0  \n",
       " 12               3.0  \n",
       " 13               3.0  \n",
       " 14               3.0  \n",
       " 15               2.0  \n",
       " 16               2.0  \n",
       " 17               2.0  \n",
       " 18               2.0  \n",
       " 19               2.0  \n",
       " 20               3.0  \n",
       " 21               5.0  \n",
       " 22               3.0  \n",
       " 23               3.0  \n",
       " 24               3.0  \n",
       " 25               3.0  \n",
       " 26               3.0  \n",
       " 27               3.0  \n",
       " 28               3.0  \n",
       " 29               2.0  \n",
       " 30               2.0  \n",
       " 31               2.0  \n",
       " 32               2.0  \n",
       " 33               2.0  \n",
       " 34               3.0  \n",
       " 35               5.0  \n",
       " 36               3.0  \n",
       " 37               3.0  \n",
       " 38               3.0  \n",
       " 39               3.0  \n",
       " 40               3.0  \n",
       " 41               3.0  ,\n",
       " 4:     MasVnrArea  KitchenQual  SaleCondition_Normal  remod_last  ExterQual_TA  \\\n",
       " 0        510.0          4.0                   1.0      2007.0           1.0   \n",
       " 1          0.0          2.0                   1.0      1950.0           1.0   \n",
       " 2          0.0          3.0                   1.0      1982.0           1.0   \n",
       " 3          0.0          3.0                   0.0      1950.0           1.0   \n",
       " 4          0.0          3.0                   1.0      1982.0           1.0   \n",
       " 5          0.0          3.0                   1.0      1955.0           1.0   \n",
       " 6          0.0          3.0                   1.0      1972.0           1.0   \n",
       " 7          0.0          3.0                   1.0      1978.0           1.0   \n",
       " 8          0.0          2.0                   0.0      1995.0           0.0   \n",
       " 9          0.0          3.0                   0.0      2000.0           1.0   \n",
       " 10         0.0          3.0                   1.0      1993.0           1.0   \n",
       " 11       203.0          3.0                   1.0      1978.0           1.0   \n",
       " 12         0.0          3.0                   1.0      1965.0           1.0   \n",
       " 13         0.0          3.0                   1.0      1963.0           1.0   \n",
       " 14       510.0          4.0                   1.0      2007.0           1.0   \n",
       " 15         0.0          2.0                   1.0      1950.0           1.0   \n",
       " 16         0.0          3.0                   1.0      1982.0           1.0   \n",
       " 17         0.0          3.0                   0.0      1950.0           1.0   \n",
       " 18         0.0          3.0                   1.0      1982.0           1.0   \n",
       " 19         0.0          3.0                   1.0      1955.0           1.0   \n",
       " 20         0.0          3.0                   1.0      1972.0           1.0   \n",
       " 21         0.0          3.0                   1.0      1978.0           1.0   \n",
       " 22         0.0          2.0                   0.0      1995.0           0.0   \n",
       " 23         0.0          3.0                   0.0      2000.0           1.0   \n",
       " 24         0.0          3.0                   1.0      1993.0           1.0   \n",
       " 25       203.0          3.0                   1.0      1978.0           1.0   \n",
       " 26         0.0          3.0                   1.0      1965.0           1.0   \n",
       " 27         0.0          3.0                   1.0      1963.0           1.0   \n",
       " 28       510.0          4.0                   1.0      2007.0           1.0   \n",
       " 29         0.0          2.0                   1.0      1950.0           1.0   \n",
       " 30         0.0          3.0                   1.0      1982.0           1.0   \n",
       " 31         0.0          3.0                   0.0      1950.0           1.0   \n",
       " 32         0.0          3.0                   1.0      1982.0           1.0   \n",
       " 33         0.0          3.0                   1.0      1955.0           1.0   \n",
       " 34         0.0          3.0                   1.0      1972.0           1.0   \n",
       " 35         0.0          3.0                   1.0      1978.0           1.0   \n",
       " 36         0.0          2.0                   0.0      1995.0           0.0   \n",
       " 37         0.0          3.0                   0.0      2000.0           1.0   \n",
       " 38         0.0          3.0                   1.0      1993.0           1.0   \n",
       " 39       203.0          3.0                   1.0      1978.0           1.0   \n",
       " 40         0.0          3.0                   1.0      1965.0           1.0   \n",
       " 41         0.0          3.0                   1.0      1963.0           1.0   \n",
       " \n",
       "     LotArea  BsmtQual_Ex  BsmtUnfSF  NeighborhoodQual  YrSold  OverallQual  \\\n",
       " 0    1680.0          0.0      321.0               5.0  2009.0          6.0   \n",
       " 1    6435.0          0.0      972.0               1.0  2006.0          6.0   \n",
       " 2    9144.0          0.0      484.0               1.0  2008.0          5.0   \n",
       " 3    7446.0          0.0      522.0               1.0  2006.0          4.0   \n",
       " 4    6780.0          0.0       30.0               2.0  2006.0          6.0   \n",
       " 5    6900.0          0.0      212.0               2.0  2008.0          5.0   \n",
       " 6    1890.0          0.0      135.0               4.0  2008.0          4.0   \n",
       " 7    2289.0          0.0      544.0               6.0  2009.0          6.0   \n",
       " 8   10896.0          0.0     1184.0               2.0  2007.0          6.0   \n",
       " 9    4500.0          0.0      611.0               2.0  2009.0          5.0   \n",
       " 10   9991.0          0.0      165.0               4.0  2009.0          4.0   \n",
       " 11   7844.0          0.0      463.0               4.0  2006.0          6.0   \n",
       " 12   8281.0          0.0        0.0               4.0  2009.0          5.0   \n",
       " 13   8480.0          0.0      340.0               4.0  2007.0          5.0   \n",
       " 14   1680.0          0.0      321.0               5.0  2009.0          6.0   \n",
       " 15   6435.0          0.0      972.0               1.0  2006.0          6.0   \n",
       " 16   9144.0          0.0      484.0               1.0  2008.0          5.0   \n",
       " 17   7446.0          0.0      522.0               1.0  2006.0          4.0   \n",
       " 18   6780.0          0.0       30.0               2.0  2006.0          6.0   \n",
       " 19   6900.0          0.0      212.0               2.0  2008.0          5.0   \n",
       " 20   1890.0          0.0      135.0               4.0  2008.0          4.0   \n",
       " 21   2289.0          0.0      544.0               6.0  2009.0          6.0   \n",
       " 22  10896.0          0.0     1184.0               2.0  2007.0          6.0   \n",
       " 23   4500.0          0.0      611.0               2.0  2009.0          5.0   \n",
       " 24   9991.0          0.0      165.0               4.0  2009.0          4.0   \n",
       " 25   7844.0          0.0      463.0               4.0  2006.0          6.0   \n",
       " 26   8281.0          0.0        0.0               4.0  2009.0          5.0   \n",
       " 27   8480.0          0.0      340.0               4.0  2007.0          5.0   \n",
       " 28   1680.0          0.0      321.0               5.0  2009.0          6.0   \n",
       " 29   6435.0          0.0      972.0               1.0  2006.0          6.0   \n",
       " 30   9144.0          0.0      484.0               1.0  2008.0          5.0   \n",
       " 31   7446.0          0.0      522.0               1.0  2006.0          4.0   \n",
       " 32   6780.0          0.0       30.0               2.0  2006.0          6.0   \n",
       " 33   6900.0          0.0      212.0               2.0  2008.0          5.0   \n",
       " 34   1890.0          0.0      135.0               4.0  2008.0          4.0   \n",
       " 35   2289.0          0.0      544.0               6.0  2009.0          6.0   \n",
       " 36  10896.0          0.0     1184.0               2.0  2007.0          6.0   \n",
       " 37   4500.0          0.0      611.0               2.0  2009.0          5.0   \n",
       " 38   9991.0          0.0      165.0               4.0  2009.0          4.0   \n",
       " 39   7844.0          0.0      463.0               4.0  2006.0          6.0   \n",
       " 40   8281.0          0.0        0.0               4.0  2009.0          5.0   \n",
       " 41   8480.0          0.0      340.0               4.0  2007.0          5.0   \n",
       " \n",
       "     OverallCond  GrLivArea  TotalBsmtSF  GarageCars  MSSubClass  YearBuilt  \\\n",
       " 0           8.0      987.0        483.0         1.0       160.0     1972.0   \n",
       " 1           5.0     1577.0        972.0         1.0        50.0     1939.0   \n",
       " 2           5.0     1505.0        883.0         1.0        50.0     1940.0   \n",
       " 3           5.0      788.0        788.0         0.0        30.0     1941.0   \n",
       " 4           8.0      754.0        520.0         0.0       190.0     1935.0   \n",
       " 5           6.0      778.0        740.0         1.0        30.0     1940.0   \n",
       " 6           7.0      630.0        630.0         0.0       180.0     1972.0   \n",
       " 7           6.0     1441.0        855.0         2.0       160.0     1978.0   \n",
       " 8           7.0     3395.0       1440.0         0.0       190.0     1914.0   \n",
       " 9           5.0     1520.0        793.0         1.0        50.0     1932.0   \n",
       " 10          4.0     1620.0       1281.0         2.0        20.0     1976.0   \n",
       " 11          7.0     1400.0        672.0         2.0        60.0     1978.0   \n",
       " 12          5.0      864.0        864.0         1.0        20.0     1965.0   \n",
       " 13          6.0      970.0        970.0         2.0        20.0     1963.0   \n",
       " 14          8.0      987.0        483.0         1.0       160.0     1972.0   \n",
       " 15          5.0     1577.0        972.0         1.0        50.0     1939.0   \n",
       " 16          5.0     1505.0        883.0         1.0        50.0     1940.0   \n",
       " 17          5.0      788.0        788.0         0.0        30.0     1941.0   \n",
       " 18          8.0      754.0        520.0         0.0       190.0     1935.0   \n",
       " 19          6.0      778.0        740.0         1.0        30.0     1940.0   \n",
       " 20          7.0      630.0        630.0         0.0       180.0     1972.0   \n",
       " 21          6.0     1441.0        855.0         2.0       160.0     1978.0   \n",
       " 22          7.0     3395.0       1440.0         0.0       190.0     1914.0   \n",
       " 23          5.0     1520.0        793.0         1.0        50.0     1932.0   \n",
       " 24          4.0     1620.0       1281.0         2.0        20.0     1976.0   \n",
       " 25          7.0     1400.0        672.0         2.0        60.0     1978.0   \n",
       " 26          5.0      864.0        864.0         1.0        20.0     1965.0   \n",
       " 27          6.0      970.0        970.0         2.0        20.0     1963.0   \n",
       " 28          8.0      987.0        483.0         1.0       160.0     1972.0   \n",
       " 29          5.0     1577.0        972.0         1.0        50.0     1939.0   \n",
       " 30          5.0     1505.0        883.0         1.0        50.0     1940.0   \n",
       " 31          5.0      788.0        788.0         0.0        30.0     1941.0   \n",
       " 32          8.0      754.0        520.0         0.0       190.0     1935.0   \n",
       " 33          6.0      778.0        740.0         1.0        30.0     1940.0   \n",
       " 34          7.0      630.0        630.0         0.0       180.0     1972.0   \n",
       " 35          6.0     1441.0        855.0         2.0       160.0     1978.0   \n",
       " 36          7.0     3395.0       1440.0         0.0       190.0     1914.0   \n",
       " 37          5.0     1520.0        793.0         1.0        50.0     1932.0   \n",
       " 38          4.0     1620.0       1281.0         2.0        20.0     1976.0   \n",
       " 39          7.0     1400.0        672.0         2.0        60.0     1978.0   \n",
       " 40          5.0      864.0        864.0         1.0        20.0     1965.0   \n",
       " 41          6.0      970.0        970.0         2.0        20.0     1963.0   \n",
       " \n",
       "     NeighborhoodCond  \n",
       " 0                3.0  \n",
       " 1                2.0  \n",
       " 2                2.0  \n",
       " 3                2.0  \n",
       " 4                2.0  \n",
       " 5                2.0  \n",
       " 6                3.0  \n",
       " 7                5.0  \n",
       " 8                3.0  \n",
       " 9                3.0  \n",
       " 10               3.0  \n",
       " 11               3.0  \n",
       " 12               3.0  \n",
       " 13               3.0  \n",
       " 14               3.0  \n",
       " 15               2.0  \n",
       " 16               2.0  \n",
       " 17               2.0  \n",
       " 18               2.0  \n",
       " 19               2.0  \n",
       " 20               3.0  \n",
       " 21               5.0  \n",
       " 22               3.0  \n",
       " 23               3.0  \n",
       " 24               3.0  \n",
       " 25               3.0  \n",
       " 26               3.0  \n",
       " 27               3.0  \n",
       " 28               3.0  \n",
       " 29               2.0  \n",
       " 30               2.0  \n",
       " 31               2.0  \n",
       " 32               2.0  \n",
       " 33               2.0  \n",
       " 34               3.0  \n",
       " 35               5.0  \n",
       " 36               3.0  \n",
       " 37               3.0  \n",
       " 38               3.0  \n",
       " 39               3.0  \n",
       " 40               3.0  \n",
       " 41               3.0  ,\n",
       " 5:     MasVnrArea  KitchenQual  SaleCondition_Normal  remod_last  ExterQual_TA  \\\n",
       " 0        232.0          3.0                   0.0      1971.0           1.0   \n",
       " 1          0.0          3.0                   1.0      2004.0           0.0   \n",
       " 2          0.0          3.0                   1.0      1992.0           1.0   \n",
       " 3        161.0          4.0                   1.0      1950.0           1.0   \n",
       " 4          0.0          3.0                   1.0      1950.0           1.0   \n",
       " 5          0.0          2.0                   1.0      1950.0           1.0   \n",
       " 6          0.0          4.0                   1.0      2002.0           1.0   \n",
       " 7          0.0          4.0                   1.0      1976.0           1.0   \n",
       " 8        252.0          4.0                   1.0      1950.0           1.0   \n",
       " 9          0.0          4.0                   1.0      2001.0           1.0   \n",
       " 10        89.0          4.0                   1.0      2004.0           1.0   \n",
       " 11       188.0          3.0                   1.0      1968.0           1.0   \n",
       " 12       180.0          3.0                   1.0      1996.0           1.0   \n",
       " 13       232.0          3.0                   0.0      1971.0           1.0   \n",
       " 14         0.0          3.0                   1.0      2004.0           0.0   \n",
       " 15         0.0          3.0                   1.0      1992.0           1.0   \n",
       " 16       161.0          4.0                   1.0      1950.0           1.0   \n",
       " 17         0.0          3.0                   1.0      1950.0           1.0   \n",
       " 18         0.0          2.0                   1.0      1950.0           1.0   \n",
       " 19         0.0          4.0                   1.0      2002.0           1.0   \n",
       " 20         0.0          4.0                   1.0      1976.0           1.0   \n",
       " 21       252.0          4.0                   1.0      1950.0           1.0   \n",
       " 22         0.0          4.0                   1.0      2001.0           1.0   \n",
       " 23        89.0          4.0                   1.0      2004.0           1.0   \n",
       " 24       188.0          3.0                   1.0      1968.0           1.0   \n",
       " 25       180.0          3.0                   1.0      1996.0           1.0   \n",
       " 26       232.0          3.0                   0.0      1971.0           1.0   \n",
       " 27         0.0          3.0                   1.0      2004.0           0.0   \n",
       " 28         0.0          3.0                   1.0      1992.0           1.0   \n",
       " 29       161.0          4.0                   1.0      1950.0           1.0   \n",
       " 30         0.0          3.0                   1.0      1950.0           1.0   \n",
       " 31         0.0          2.0                   1.0      1950.0           1.0   \n",
       " 32         0.0          4.0                   1.0      2002.0           1.0   \n",
       " 33         0.0          4.0                   1.0      1976.0           1.0   \n",
       " 34       252.0          4.0                   1.0      1950.0           1.0   \n",
       " 35         0.0          4.0                   1.0      2001.0           1.0   \n",
       " 36        89.0          4.0                   1.0      2004.0           1.0   \n",
       " 37       188.0          3.0                   1.0      1968.0           1.0   \n",
       " 38       180.0          3.0                   1.0      1996.0           1.0   \n",
       " \n",
       "     LotArea  BsmtQual_Ex  BsmtUnfSF  NeighborhoodQual  YrSold  OverallQual  \\\n",
       " 0    1680.0          0.0       96.0               5.0  2008.0          6.0   \n",
       " 1    6000.0          0.0      884.0               1.0  2009.0          6.0   \n",
       " 2    6240.0          0.0     1078.0               1.0  2008.0          5.0   \n",
       " 3    7015.0          0.0      524.0               1.0  2009.0          5.0   \n",
       " 4   13710.0          0.0      490.0               2.0  2007.0          5.0   \n",
       " 5    7920.0          0.0      319.0               2.0  2008.0          6.0   \n",
       " 6    1526.0          0.0      115.0               4.0  2009.0          4.0   \n",
       " 7    2308.0          0.0      248.0               6.0  2007.0          6.0   \n",
       " 8    7200.0          0.0      162.0               2.0  2007.0          5.0   \n",
       " 9    7758.0          0.0      411.0               4.0  2007.0          5.0   \n",
       " 10   7800.0          0.0      414.0               4.0  2009.0          5.0   \n",
       " 11  11553.0          0.0      378.0               4.0  2006.0          5.0   \n",
       " 12  11341.0          0.0       90.0               4.0  2010.0          5.0   \n",
       " 13   1680.0          0.0       96.0               5.0  2008.0          6.0   \n",
       " 14   6000.0          0.0      884.0               1.0  2009.0          6.0   \n",
       " 15   6240.0          0.0     1078.0               1.0  2008.0          5.0   \n",
       " 16   7015.0          0.0      524.0               1.0  2009.0          5.0   \n",
       " 17  13710.0          0.0      490.0               2.0  2007.0          5.0   \n",
       " 18   7920.0          0.0      319.0               2.0  2008.0          6.0   \n",
       " 19   1526.0          0.0      115.0               4.0  2009.0          4.0   \n",
       " 20   2308.0          0.0      248.0               6.0  2007.0          6.0   \n",
       " 21   7200.0          0.0      162.0               2.0  2007.0          5.0   \n",
       " 22   7758.0          0.0      411.0               4.0  2007.0          5.0   \n",
       " 23   7800.0          0.0      414.0               4.0  2009.0          5.0   \n",
       " 24  11553.0          0.0      378.0               4.0  2006.0          5.0   \n",
       " 25  11341.0          0.0       90.0               4.0  2010.0          5.0   \n",
       " 26   1680.0          0.0       96.0               5.0  2008.0          6.0   \n",
       " 27   6000.0          0.0      884.0               1.0  2009.0          6.0   \n",
       " 28   6240.0          0.0     1078.0               1.0  2008.0          5.0   \n",
       " 29   7015.0          0.0      524.0               1.0  2009.0          5.0   \n",
       " 30  13710.0          0.0      490.0               2.0  2007.0          5.0   \n",
       " 31   7920.0          0.0      319.0               2.0  2008.0          6.0   \n",
       " 32   1526.0          0.0      115.0               4.0  2009.0          4.0   \n",
       " 33   2308.0          0.0      248.0               6.0  2007.0          6.0   \n",
       " 34   7200.0          0.0      162.0               2.0  2007.0          5.0   \n",
       " 35   7758.0          0.0      411.0               4.0  2007.0          5.0   \n",
       " 36   7800.0          0.0      414.0               4.0  2009.0          5.0   \n",
       " 37  11553.0          0.0      378.0               4.0  2006.0          5.0   \n",
       " 38  11341.0          0.0       90.0               4.0  2010.0          5.0   \n",
       " \n",
       "     OverallCond  GrLivArea  TotalBsmtSF  GarageCars  MSSubClass  YearBuilt  \\\n",
       " 0           5.0      987.0        483.0         1.0       160.0     1971.0   \n",
       " 1           7.0      904.0        884.0         1.0        45.0     1926.0   \n",
       " 2           7.0     1573.0       1078.0         2.0        50.0     1930.0   \n",
       " 3           4.0     1203.0        709.0         1.0        50.0     1950.0   \n",
       " 4           5.0     1558.0        910.0         1.0        50.0     1950.0   \n",
       " 5           7.0     1406.0        319.0         0.0        50.0     1920.0   \n",
       " 6           8.0      630.0        630.0         1.0       180.0     1970.0   \n",
       " 7           6.0     1548.0        804.0         2.0       160.0     1976.0   \n",
       " 8           7.0     1768.0        731.0         1.0        50.0     1937.0   \n",
       " 9           7.0      999.0        999.0         1.0        20.0     1962.0   \n",
       " 10          7.0      899.0        864.0         1.0        20.0     1967.0   \n",
       " 11          5.0     1159.0       1051.0         1.0        20.0     1968.0   \n",
       " 12          6.0     1392.0       1392.0         2.0        20.0     1957.0   \n",
       " 13          5.0      987.0        483.0         1.0       160.0     1971.0   \n",
       " 14          7.0      904.0        884.0         1.0        45.0     1926.0   \n",
       " 15          7.0     1573.0       1078.0         2.0        50.0     1930.0   \n",
       " 16          4.0     1203.0        709.0         1.0        50.0     1950.0   \n",
       " 17          5.0     1558.0        910.0         1.0        50.0     1950.0   \n",
       " 18          7.0     1406.0        319.0         0.0        50.0     1920.0   \n",
       " 19          8.0      630.0        630.0         1.0       180.0     1970.0   \n",
       " 20          6.0     1548.0        804.0         2.0       160.0     1976.0   \n",
       " 21          7.0     1768.0        731.0         1.0        50.0     1937.0   \n",
       " 22          7.0      999.0        999.0         1.0        20.0     1962.0   \n",
       " 23          7.0      899.0        864.0         1.0        20.0     1967.0   \n",
       " 24          5.0     1159.0       1051.0         1.0        20.0     1968.0   \n",
       " 25          6.0     1392.0       1392.0         2.0        20.0     1957.0   \n",
       " 26          5.0      987.0        483.0         1.0       160.0     1971.0   \n",
       " 27          7.0      904.0        884.0         1.0        45.0     1926.0   \n",
       " 28          7.0     1573.0       1078.0         2.0        50.0     1930.0   \n",
       " 29          4.0     1203.0        709.0         1.0        50.0     1950.0   \n",
       " 30          5.0     1558.0        910.0         1.0        50.0     1950.0   \n",
       " 31          7.0     1406.0        319.0         0.0        50.0     1920.0   \n",
       " 32          8.0      630.0        630.0         1.0       180.0     1970.0   \n",
       " 33          6.0     1548.0        804.0         2.0       160.0     1976.0   \n",
       " 34          7.0     1768.0        731.0         1.0        50.0     1937.0   \n",
       " 35          7.0      999.0        999.0         1.0        20.0     1962.0   \n",
       " 36          7.0      899.0        864.0         1.0        20.0     1967.0   \n",
       " 37          5.0     1159.0       1051.0         1.0        20.0     1968.0   \n",
       " 38          6.0     1392.0       1392.0         2.0        20.0     1957.0   \n",
       " \n",
       "     NeighborhoodCond  \n",
       " 0                3.0  \n",
       " 1                2.0  \n",
       " 2                2.0  \n",
       " 3                2.0  \n",
       " 4                2.0  \n",
       " 5                2.0  \n",
       " 6                3.0  \n",
       " 7                5.0  \n",
       " 8                3.0  \n",
       " 9                3.0  \n",
       " 10               3.0  \n",
       " 11               3.0  \n",
       " 12               3.0  \n",
       " 13               3.0  \n",
       " 14               2.0  \n",
       " 15               2.0  \n",
       " 16               2.0  \n",
       " 17               2.0  \n",
       " 18               2.0  \n",
       " 19               3.0  \n",
       " 20               5.0  \n",
       " 21               3.0  \n",
       " 22               3.0  \n",
       " 23               3.0  \n",
       " 24               3.0  \n",
       " 25               3.0  \n",
       " 26               3.0  \n",
       " 27               2.0  \n",
       " 28               2.0  \n",
       " 29               2.0  \n",
       " 30               2.0  \n",
       " 31               2.0  \n",
       " 32               3.0  \n",
       " 33               5.0  \n",
       " 34               3.0  \n",
       " 35               3.0  \n",
       " 36               3.0  \n",
       " 37               3.0  \n",
       " 38               3.0  ,\n",
       " 6:     MasVnrArea  KitchenQual  SaleCondition_Normal  remod_last  ExterQual_TA  \\\n",
       " 0        376.0          3.0                   1.0      1971.0           1.0   \n",
       " 1          0.0          3.0                   1.0      1950.0           1.0   \n",
       " 2          0.0          3.0                   1.0      1950.0           1.0   \n",
       " 3          0.0          3.0                   1.0      1999.0           1.0   \n",
       " 4          0.0          3.0                   1.0      1950.0           1.0   \n",
       " 5          0.0          3.0                   1.0      1950.0           1.0   \n",
       " 6          0.0          3.0                   1.0      1976.0           1.0   \n",
       " 7          0.0          3.0                   1.0      1978.0           1.0   \n",
       " 8          0.0          3.0                   1.0      1950.0           1.0   \n",
       " 9         97.0          3.0                   0.0      1966.0           1.0   \n",
       " 10         0.0          3.0                   1.0      1982.0           1.0   \n",
       " 11       192.0          3.0                   1.0      1961.0           1.0   \n",
       " 12       153.0          3.0                   1.0      1977.0           1.0   \n",
       " 13       376.0          3.0                   1.0      1971.0           1.0   \n",
       " 14         0.0          3.0                   1.0      1950.0           1.0   \n",
       " 15         0.0          3.0                   1.0      1950.0           1.0   \n",
       " 16         0.0          3.0                   1.0      1999.0           1.0   \n",
       " 17         0.0          3.0                   1.0      1950.0           1.0   \n",
       " 18         0.0          3.0                   1.0      1950.0           1.0   \n",
       " 19         0.0          3.0                   1.0      1976.0           1.0   \n",
       " 20         0.0          3.0                   1.0      1978.0           1.0   \n",
       " 21         0.0          3.0                   1.0      1950.0           1.0   \n",
       " 22        97.0          3.0                   0.0      1966.0           1.0   \n",
       " 23         0.0          3.0                   1.0      1982.0           1.0   \n",
       " 24       192.0          3.0                   1.0      1961.0           1.0   \n",
       " 25       153.0          3.0                   1.0      1977.0           1.0   \n",
       " 26       376.0          3.0                   1.0      1971.0           1.0   \n",
       " 27         0.0          3.0                   1.0      1950.0           1.0   \n",
       " 28         0.0          3.0                   1.0      1950.0           1.0   \n",
       " 29         0.0          3.0                   1.0      1999.0           1.0   \n",
       " 30         0.0          3.0                   1.0      1950.0           1.0   \n",
       " 31         0.0          3.0                   1.0      1950.0           1.0   \n",
       " 32         0.0          3.0                   1.0      1976.0           1.0   \n",
       " 33         0.0          3.0                   1.0      1978.0           1.0   \n",
       " 34         0.0          3.0                   1.0      1950.0           1.0   \n",
       " 35        97.0          3.0                   0.0      1966.0           1.0   \n",
       " 36         0.0          3.0                   1.0      1982.0           1.0   \n",
       " 37       192.0          3.0                   1.0      1961.0           1.0   \n",
       " 38       153.0          3.0                   1.0      1977.0           1.0   \n",
       " \n",
       "     LotArea  BsmtQual_Ex  BsmtUnfSF  NeighborhoodQual  YrSold  OverallQual  \\\n",
       " 0    1920.0          0.0      294.0               5.0  2007.0          5.0   \n",
       " 1    9120.0          0.0      697.0               1.0  2008.0          7.0   \n",
       " 2    5000.0          0.0      605.0               1.0  2006.0          6.0   \n",
       " 3    6155.0          0.0      611.0               1.0  2008.0          6.0   \n",
       " 4    5000.0          0.0      604.0               2.0  2007.0          5.0   \n",
       " 5    6402.0          0.0      596.0               2.0  2009.0          5.0   \n",
       " 6    2665.0          0.0      264.0               4.0  2008.0          5.0   \n",
       " 7    2280.0          0.0      544.0               6.0  2010.0          6.0   \n",
       " 8    9900.0          0.0      778.0               2.0  2009.0          6.0   \n",
       " 9   11777.0          0.0      285.0               4.0  2006.0          5.0   \n",
       " 10   8740.0          0.0      168.0               4.0  2009.0          5.0   \n",
       " 11   7943.0          0.0      126.0               4.0  2007.0          4.0   \n",
       " 12   7064.0          0.0      420.0               4.0  2009.0          5.0   \n",
       " 13   1920.0          0.0      294.0               5.0  2007.0          5.0   \n",
       " 14   9120.0          0.0      697.0               1.0  2008.0          7.0   \n",
       " 15   5000.0          0.0      605.0               1.0  2006.0          6.0   \n",
       " 16   6155.0          0.0      611.0               1.0  2008.0          6.0   \n",
       " 17   5000.0          0.0      604.0               2.0  2007.0          5.0   \n",
       " 18   6402.0          0.0      596.0               2.0  2009.0          5.0   \n",
       " 19   2665.0          0.0      264.0               4.0  2008.0          5.0   \n",
       " 20   2280.0          0.0      544.0               6.0  2010.0          6.0   \n",
       " 21   9900.0          0.0      778.0               2.0  2009.0          6.0   \n",
       " 22  11777.0          0.0      285.0               4.0  2006.0          5.0   \n",
       " 23   8740.0          0.0      168.0               4.0  2009.0          5.0   \n",
       " 24   7943.0          0.0      126.0               4.0  2007.0          4.0   \n",
       " 25   7064.0          0.0      420.0               4.0  2009.0          5.0   \n",
       " 26   1920.0          0.0      294.0               5.0  2007.0          5.0   \n",
       " 27   9120.0          0.0      697.0               1.0  2008.0          7.0   \n",
       " 28   5000.0          0.0      605.0               1.0  2006.0          6.0   \n",
       " 29   6155.0          0.0      611.0               1.0  2008.0          6.0   \n",
       " 30   5000.0          0.0      604.0               2.0  2007.0          5.0   \n",
       " 31   6402.0          0.0      596.0               2.0  2009.0          5.0   \n",
       " 32   2665.0          0.0      264.0               4.0  2008.0          5.0   \n",
       " 33   2280.0          0.0      544.0               6.0  2010.0          6.0   \n",
       " 34   9900.0          0.0      778.0               2.0  2009.0          6.0   \n",
       " 35  11777.0          0.0      285.0               4.0  2006.0          5.0   \n",
       " 36   8740.0          0.0      168.0               4.0  2009.0          5.0   \n",
       " 37   7943.0          0.0      126.0               4.0  2007.0          4.0   \n",
       " 38   7064.0          0.0      420.0               4.0  2009.0          5.0   \n",
       " \n",
       "     OverallCond  GrLivArea  TotalBsmtSF  GarageCars  MSSubClass  YearBuilt  \\\n",
       " 0           5.0     1365.0        765.0         2.0       160.0     1971.0   \n",
       " 1           6.0     1820.0       1026.0         1.0        50.0     1925.0   \n",
       " 2           7.0     1664.0       1004.0         2.0        50.0     1947.0   \n",
       " 3           8.0     1362.0        611.0         2.0        70.0     1920.0   \n",
       " 4           6.0      803.0        720.0         2.0        45.0     1941.0   \n",
       " 5           5.0     1192.0        596.0         1.0        70.0     1920.0   \n",
       " 6           6.0     1304.0        264.0         1.0       160.0     1976.0   \n",
       " 7           5.0     1456.0        855.0         2.0       160.0     1978.0   \n",
       " 8           7.0     1489.0        778.0         1.0        50.0     1940.0   \n",
       " 9           6.0     1320.0       1164.0         2.0        80.0     1966.0   \n",
       " 10          6.0      860.0        840.0         2.0        85.0     1982.0   \n",
       " 11          5.0     1029.0       1029.0         1.0        20.0     1961.0   \n",
       " 12          6.0      980.0        980.0         2.0        20.0     1977.0   \n",
       " 13          5.0     1365.0        765.0         2.0       160.0     1971.0   \n",
       " 14          6.0     1820.0       1026.0         1.0        50.0     1925.0   \n",
       " 15          7.0     1664.0       1004.0         2.0        50.0     1947.0   \n",
       " 16          8.0     1362.0        611.0         2.0        70.0     1920.0   \n",
       " 17          6.0      803.0        720.0         2.0        45.0     1941.0   \n",
       " 18          5.0     1192.0        596.0         1.0        70.0     1920.0   \n",
       " 19          6.0     1304.0        264.0         1.0       160.0     1976.0   \n",
       " 20          5.0     1456.0        855.0         2.0       160.0     1978.0   \n",
       " 21          7.0     1489.0        778.0         1.0        50.0     1940.0   \n",
       " 22          6.0     1320.0       1164.0         2.0        80.0     1966.0   \n",
       " 23          6.0      860.0        840.0         2.0        85.0     1982.0   \n",
       " 24          5.0     1029.0       1029.0         1.0        20.0     1961.0   \n",
       " 25          6.0      980.0        980.0         2.0        20.0     1977.0   \n",
       " 26          5.0     1365.0        765.0         2.0       160.0     1971.0   \n",
       " 27          6.0     1820.0       1026.0         1.0        50.0     1925.0   \n",
       " 28          7.0     1664.0       1004.0         2.0        50.0     1947.0   \n",
       " 29          8.0     1362.0        611.0         2.0        70.0     1920.0   \n",
       " 30          6.0      803.0        720.0         2.0        45.0     1941.0   \n",
       " 31          5.0     1192.0        596.0         1.0        70.0     1920.0   \n",
       " 32          6.0     1304.0        264.0         1.0       160.0     1976.0   \n",
       " 33          5.0     1456.0        855.0         2.0       160.0     1978.0   \n",
       " 34          7.0     1489.0        778.0         1.0        50.0     1940.0   \n",
       " 35          6.0     1320.0       1164.0         2.0        80.0     1966.0   \n",
       " 36          6.0      860.0        840.0         2.0        85.0     1982.0   \n",
       " 37          5.0     1029.0       1029.0         1.0        20.0     1961.0   \n",
       " 38          6.0      980.0        980.0         2.0        20.0     1977.0   \n",
       " \n",
       "     NeighborhoodCond  \n",
       " 0                3.0  \n",
       " 1                2.0  \n",
       " 2                2.0  \n",
       " 3                2.0  \n",
       " 4                2.0  \n",
       " 5                2.0  \n",
       " 6                3.0  \n",
       " 7                5.0  \n",
       " 8                3.0  \n",
       " 9                3.0  \n",
       " 10               3.0  \n",
       " 11               3.0  \n",
       " 12               3.0  \n",
       " 13               3.0  \n",
       " 14               2.0  \n",
       " 15               2.0  \n",
       " 16               2.0  \n",
       " 17               2.0  \n",
       " 18               2.0  \n",
       " 19               3.0  \n",
       " 20               5.0  \n",
       " 21               3.0  \n",
       " 22               3.0  \n",
       " 23               3.0  \n",
       " 24               3.0  \n",
       " 25               3.0  \n",
       " 26               3.0  \n",
       " 27               2.0  \n",
       " 28               2.0  \n",
       " 29               2.0  \n",
       " 30               2.0  \n",
       " 31               2.0  \n",
       " 32               3.0  \n",
       " 33               5.0  \n",
       " 34               3.0  \n",
       " 35               3.0  \n",
       " 36               3.0  \n",
       " 37               3.0  \n",
       " 38               3.0  ,\n",
       " 7:     MasVnrArea  KitchenQual  SaleCondition_Normal  remod_last  ExterQual_TA  \\\n",
       " 0        285.0          3.0                   1.0      1973.0           1.0   \n",
       " 1          0.0          2.0                   1.0      1950.0           0.0   \n",
       " 2          0.0          3.0                   1.0      1950.0           1.0   \n",
       " 3          0.0          3.0                   1.0      1950.0           1.0   \n",
       " 4          0.0          3.0                   1.0      1997.0           1.0   \n",
       " 5          0.0          3.0                   0.0      1950.0           1.0   \n",
       " 6          0.0          3.0                   1.0      1972.0           1.0   \n",
       " 7          0.0          3.0                   1.0      1977.0           1.0   \n",
       " 8          0.0          2.0                   1.0      1950.0           1.0   \n",
       " 9          0.0          3.0                   1.0      1987.0           1.0   \n",
       " 10        57.0          3.0                   1.0      1961.0           1.0   \n",
       " 11         0.0          3.0                   1.0      2009.0           1.0   \n",
       " 12        41.0          3.0                   0.0      1966.0           1.0   \n",
       " 13       285.0          3.0                   1.0      1973.0           1.0   \n",
       " 14         0.0          2.0                   1.0      1950.0           0.0   \n",
       " 15         0.0          3.0                   1.0      1950.0           1.0   \n",
       " 16         0.0          3.0                   1.0      1950.0           1.0   \n",
       " 17         0.0          3.0                   1.0      1997.0           1.0   \n",
       " 18         0.0          3.0                   0.0      1950.0           1.0   \n",
       " 19         0.0          3.0                   1.0      1972.0           1.0   \n",
       " 20         0.0          3.0                   1.0      1977.0           1.0   \n",
       " 21         0.0          2.0                   1.0      1950.0           1.0   \n",
       " 22         0.0          3.0                   1.0      1987.0           1.0   \n",
       " 23        57.0          3.0                   1.0      1961.0           1.0   \n",
       " 24         0.0          3.0                   1.0      2009.0           1.0   \n",
       " 25        41.0          3.0                   0.0      1966.0           1.0   \n",
       " 26       285.0          3.0                   1.0      1973.0           1.0   \n",
       " 27         0.0          2.0                   1.0      1950.0           0.0   \n",
       " 28         0.0          3.0                   1.0      1950.0           1.0   \n",
       " 29         0.0          3.0                   1.0      1950.0           1.0   \n",
       " 30         0.0          3.0                   1.0      1997.0           1.0   \n",
       " 31         0.0          3.0                   0.0      1950.0           1.0   \n",
       " 32         0.0          3.0                   1.0      1972.0           1.0   \n",
       " 33         0.0          3.0                   1.0      1977.0           1.0   \n",
       " 34         0.0          2.0                   1.0      1950.0           1.0   \n",
       " 35         0.0          3.0                   1.0      1987.0           1.0   \n",
       " 36        57.0          3.0                   1.0      1961.0           1.0   \n",
       " 37         0.0          3.0                   1.0      2009.0           1.0   \n",
       " 38        41.0          3.0                   0.0      1966.0           1.0   \n",
       " \n",
       "     LotArea  BsmtQual_Ex  BsmtUnfSF  NeighborhoodQual  YrSold  OverallQual  \\\n",
       " 0    1890.0          0.0      316.0               5.0  2007.0          6.0   \n",
       " 1    5000.0          0.0        0.0               1.0  2007.0          1.0   \n",
       " 2    8737.0          0.0      765.0               1.0  2007.0          6.0   \n",
       " 3    6380.0          0.0      993.0               1.0  2006.0          5.0   \n",
       " 4   10690.0          0.0      216.0               2.0  2009.0          5.0   \n",
       " 5    8967.0          0.0      961.0               2.0  2007.0          5.0   \n",
       " 6    1491.0          0.0        0.0               4.0  2010.0          4.0   \n",
       " 7    4043.0          0.0      709.0               6.0  2010.0          6.0   \n",
       " 8   12155.0          0.0      516.0               2.0  2008.0          6.0   \n",
       " 9   14175.0          0.0      200.0               4.0  2006.0          5.0   \n",
       " 10   9945.0          0.0      161.0               4.0  2007.0          5.0   \n",
       " 11   8450.0          0.0      224.0               4.0  2010.0          5.0   \n",
       " 12   7162.0          0.0      876.0               4.0  2008.0          5.0   \n",
       " 13   1890.0          0.0      316.0               5.0  2007.0          6.0   \n",
       " 14   5000.0          0.0        0.0               1.0  2007.0          1.0   \n",
       " 15   8737.0          0.0      765.0               1.0  2007.0          6.0   \n",
       " 16   6380.0          0.0      993.0               1.0  2006.0          5.0   \n",
       " 17  10690.0          0.0      216.0               2.0  2009.0          5.0   \n",
       " 18   8967.0          0.0      961.0               2.0  2007.0          5.0   \n",
       " 19   1491.0          0.0        0.0               4.0  2010.0          4.0   \n",
       " 20   4043.0          0.0      709.0               6.0  2010.0          6.0   \n",
       " 21  12155.0          0.0      516.0               2.0  2008.0          6.0   \n",
       " 22  14175.0          0.0      200.0               4.0  2006.0          5.0   \n",
       " 23   9945.0          0.0      161.0               4.0  2007.0          5.0   \n",
       " 24   8450.0          0.0      224.0               4.0  2010.0          5.0   \n",
       " 25   7162.0          0.0      876.0               4.0  2008.0          5.0   \n",
       " 26   1890.0          0.0      316.0               5.0  2007.0          6.0   \n",
       " 27   5000.0          0.0        0.0               1.0  2007.0          1.0   \n",
       " 28   8737.0          0.0      765.0               1.0  2007.0          6.0   \n",
       " 29   6380.0          0.0      993.0               1.0  2006.0          5.0   \n",
       " 30  10690.0          0.0      216.0               2.0  2009.0          5.0   \n",
       " 31   8967.0          0.0      961.0               2.0  2007.0          5.0   \n",
       " 32   1491.0          0.0        0.0               4.0  2010.0          4.0   \n",
       " 33   4043.0          0.0      709.0               6.0  2010.0          6.0   \n",
       " 34  12155.0          0.0      516.0               2.0  2008.0          6.0   \n",
       " 35  14175.0          0.0      200.0               4.0  2006.0          5.0   \n",
       " 36   9945.0          0.0      161.0               4.0  2007.0          5.0   \n",
       " 37   8450.0          0.0      224.0               4.0  2010.0          5.0   \n",
       " 38   7162.0          0.0      876.0               4.0  2008.0          5.0   \n",
       " \n",
       "     OverallCond  GrLivArea  TotalBsmtSF  GarageCars  MSSubClass  YearBuilt  \\\n",
       " 0           5.0     1218.0        672.0         1.0       160.0     1973.0   \n",
       " 1           3.0      334.0          0.0         0.0        20.0     1946.0   \n",
       " 2           7.0     1635.0       1065.0         2.0        50.0     1923.0   \n",
       " 3           6.0     1048.0        993.0         1.0        45.0     1922.0   \n",
       " 4           7.0     1344.0        672.0         1.0        70.0     1920.0   \n",
       " 5           2.0     1077.0        961.0         1.0        30.0     1920.0   \n",
       " 6           6.0      630.0        630.0         0.0       180.0     1972.0   \n",
       " 7           5.0     1069.0       1069.0         2.0       120.0     1977.0   \n",
       " 8           8.0     1482.0        672.0         1.0        70.0     1925.0   \n",
       " 9           6.0     1437.0       1188.0         2.0        20.0     1956.0   \n",
       " 10          5.0      988.0        988.0         2.0        20.0     1961.0   \n",
       " 11          8.0      894.0        894.0         1.0        20.0     1965.0   \n",
       " 12          7.0      904.0        876.0         1.0        20.0     1966.0   \n",
       " 13          5.0     1218.0        672.0         1.0       160.0     1973.0   \n",
       " 14          3.0      334.0          0.0         0.0        20.0     1946.0   \n",
       " 15          7.0     1635.0       1065.0         2.0        50.0     1923.0   \n",
       " 16          6.0     1048.0        993.0         1.0        45.0     1922.0   \n",
       " 17          7.0     1344.0        672.0         1.0        70.0     1920.0   \n",
       " 18          2.0     1077.0        961.0         1.0        30.0     1920.0   \n",
       " 19          6.0      630.0        630.0         0.0       180.0     1972.0   \n",
       " 20          5.0     1069.0       1069.0         2.0       120.0     1977.0   \n",
       " 21          8.0     1482.0        672.0         1.0        70.0     1925.0   \n",
       " 22          6.0     1437.0       1188.0         2.0        20.0     1956.0   \n",
       " 23          5.0      988.0        988.0         2.0        20.0     1961.0   \n",
       " 24          8.0      894.0        894.0         1.0        20.0     1965.0   \n",
       " 25          7.0      904.0        876.0         1.0        20.0     1966.0   \n",
       " 26          5.0     1218.0        672.0         1.0       160.0     1973.0   \n",
       " 27          3.0      334.0          0.0         0.0        20.0     1946.0   \n",
       " 28          7.0     1635.0       1065.0         2.0        50.0     1923.0   \n",
       " 29          6.0     1048.0        993.0         1.0        45.0     1922.0   \n",
       " 30          7.0     1344.0        672.0         1.0        70.0     1920.0   \n",
       " 31          2.0     1077.0        961.0         1.0        30.0     1920.0   \n",
       " 32          6.0      630.0        630.0         0.0       180.0     1972.0   \n",
       " 33          5.0     1069.0       1069.0         2.0       120.0     1977.0   \n",
       " 34          8.0     1482.0        672.0         1.0        70.0     1925.0   \n",
       " 35          6.0     1437.0       1188.0         2.0        20.0     1956.0   \n",
       " 36          5.0      988.0        988.0         2.0        20.0     1961.0   \n",
       " 37          8.0      894.0        894.0         1.0        20.0     1965.0   \n",
       " 38          7.0      904.0        876.0         1.0        20.0     1966.0   \n",
       " \n",
       "     NeighborhoodCond  \n",
       " 0                3.0  \n",
       " 1                2.0  \n",
       " 2                2.0  \n",
       " 3                2.0  \n",
       " 4                2.0  \n",
       " 5                2.0  \n",
       " 6                3.0  \n",
       " 7                5.0  \n",
       " 8                3.0  \n",
       " 9                3.0  \n",
       " 10               3.0  \n",
       " 11               3.0  \n",
       " 12               3.0  \n",
       " 13               3.0  \n",
       " 14               2.0  \n",
       " 15               2.0  \n",
       " 16               2.0  \n",
       " 17               2.0  \n",
       " 18               2.0  \n",
       " 19               3.0  \n",
       " 20               5.0  \n",
       " 21               3.0  \n",
       " 22               3.0  \n",
       " 23               3.0  \n",
       " 24               3.0  \n",
       " 25               3.0  \n",
       " 26               3.0  \n",
       " 27               2.0  \n",
       " 28               2.0  \n",
       " 29               2.0  \n",
       " 30               2.0  \n",
       " 31               2.0  \n",
       " 32               3.0  \n",
       " 33               5.0  \n",
       " 34               3.0  \n",
       " 35               3.0  \n",
       " 36               3.0  \n",
       " 37               3.0  \n",
       " 38               3.0  ,\n",
       " 8:     MasVnrArea  KitchenQual  SaleCondition_Normal  remod_last  ExterQual_TA  \\\n",
       " 0        381.0          3.0                   0.0      1971.0           1.0   \n",
       " 1          0.0          4.0                   1.0      1995.0           1.0   \n",
       " 2          0.0          2.0                   1.0      2000.0           1.0   \n",
       " 3          0.0          3.0                   1.0      1960.0           1.0   \n",
       " 4          0.0          3.0                   1.0      1950.0           1.0   \n",
       " 5          0.0          3.0                   0.0      1950.0           1.0   \n",
       " 6          0.0          3.0                   1.0      1970.0           1.0   \n",
       " 7          0.0          3.0                   1.0      1976.0           1.0   \n",
       " 8          0.0          3.0                   1.0      1950.0           0.0   \n",
       " 9        289.0          4.0                   1.0      2005.0           0.0   \n",
       " 10         0.0          3.0                   1.0      1983.0           1.0   \n",
       " 11         0.0          3.0                   0.0      1968.0           1.0   \n",
       " 12         0.0          4.0                   1.0      1996.0           1.0   \n",
       " 13       381.0          3.0                   0.0      1971.0           1.0   \n",
       " 14         0.0          4.0                   1.0      1995.0           1.0   \n",
       " 15         0.0          2.0                   1.0      2000.0           1.0   \n",
       " 16         0.0          3.0                   1.0      1960.0           1.0   \n",
       " 17         0.0          3.0                   1.0      1950.0           1.0   \n",
       " 18         0.0          3.0                   0.0      1950.0           1.0   \n",
       " 19         0.0          3.0                   1.0      1970.0           1.0   \n",
       " 20         0.0          3.0                   1.0      1976.0           1.0   \n",
       " 21         0.0          3.0                   1.0      1950.0           0.0   \n",
       " 22       289.0          4.0                   1.0      2005.0           0.0   \n",
       " 23         0.0          3.0                   1.0      1983.0           1.0   \n",
       " 24         0.0          3.0                   0.0      1968.0           1.0   \n",
       " 25         0.0          4.0                   1.0      1996.0           1.0   \n",
       " 26       381.0          3.0                   0.0      1971.0           1.0   \n",
       " 27         0.0          4.0                   1.0      1995.0           1.0   \n",
       " 28         0.0          2.0                   1.0      2000.0           1.0   \n",
       " 29         0.0          3.0                   1.0      1960.0           1.0   \n",
       " 30         0.0          3.0                   1.0      1950.0           1.0   \n",
       " 31         0.0          3.0                   0.0      1950.0           1.0   \n",
       " 32         0.0          3.0                   1.0      1970.0           1.0   \n",
       " 33         0.0          3.0                   1.0      1976.0           1.0   \n",
       " 34         0.0          3.0                   1.0      1950.0           0.0   \n",
       " 35       289.0          4.0                   1.0      2005.0           0.0   \n",
       " 36         0.0          3.0                   1.0      1983.0           1.0   \n",
       " 37         0.0          3.0                   0.0      1968.0           1.0   \n",
       " 38         0.0          4.0                   1.0      1996.0           1.0   \n",
       " \n",
       "     LotArea  BsmtQual_Ex  BsmtUnfSF  NeighborhoodQual  YrSold  OverallQual  \\\n",
       " 0    1680.0          0.0      525.0               5.0  2010.0          6.0   \n",
       " 1    6120.0          0.0      884.0               1.0  2009.0          4.0   \n",
       " 2   10267.0          0.0        0.0               1.0  2008.0          6.0   \n",
       " 3    9100.0          0.0      742.0               1.0  2008.0          5.0   \n",
       " 4    8600.0          0.0      780.0               2.0  2006.0          6.0   \n",
       " 5    7879.0          0.0      225.0               2.0  2009.0          4.0   \n",
       " 6    1936.0          0.0        0.0               4.0  2007.0          4.0   \n",
       " 7    4928.0          0.0        0.0               6.0  2009.0          6.0   \n",
       " 8    6204.0          0.0      795.0               2.0  2006.0          4.0   \n",
       " 9   13517.0          0.0      192.0               4.0  2010.0          6.0   \n",
       " 10  10000.0          0.0      270.0               4.0  2009.0          5.0   \n",
       " 11   8978.0          0.0      948.0               4.0  2007.0          5.0   \n",
       " 12   6768.0          0.0       80.0               4.0  2008.0          6.0   \n",
       " 13   1680.0          0.0      525.0               5.0  2010.0          6.0   \n",
       " 14   6120.0          0.0      884.0               1.0  2009.0          4.0   \n",
       " 15  10267.0          0.0        0.0               1.0  2008.0          6.0   \n",
       " 16   9100.0          0.0      742.0               1.0  2008.0          5.0   \n",
       " 17   8600.0          0.0      780.0               2.0  2006.0          6.0   \n",
       " 18   7879.0          0.0      225.0               2.0  2009.0          4.0   \n",
       " 19   1936.0          0.0        0.0               4.0  2007.0          4.0   \n",
       " 20   4928.0          0.0        0.0               6.0  2009.0          6.0   \n",
       " 21   6204.0          0.0      795.0               2.0  2006.0          4.0   \n",
       " 22  13517.0          0.0      192.0               4.0  2010.0          6.0   \n",
       " 23  10000.0          0.0      270.0               4.0  2009.0          5.0   \n",
       " 24   8978.0          0.0      948.0               4.0  2007.0          5.0   \n",
       " 25   6768.0          0.0       80.0               4.0  2008.0          6.0   \n",
       " 26   1680.0          0.0      525.0               5.0  2010.0          6.0   \n",
       " 27   6120.0          0.0      884.0               1.0  2009.0          4.0   \n",
       " 28  10267.0          0.0        0.0               1.0  2008.0          6.0   \n",
       " 29   9100.0          0.0      742.0               1.0  2008.0          5.0   \n",
       " 30   8600.0          0.0      780.0               2.0  2006.0          6.0   \n",
       " 31   7879.0          0.0      225.0               2.0  2009.0          4.0   \n",
       " 32   1936.0          0.0        0.0               4.0  2007.0          4.0   \n",
       " 33   4928.0          0.0        0.0               6.0  2009.0          6.0   \n",
       " 34   6204.0          0.0      795.0               2.0  2006.0          4.0   \n",
       " 35  13517.0          0.0      192.0               4.0  2010.0          6.0   \n",
       " 36  10000.0          0.0      270.0               4.0  2009.0          5.0   \n",
       " 37   8978.0          0.0      948.0               4.0  2007.0          5.0   \n",
       " 38   6768.0          0.0       80.0               4.0  2008.0          6.0   \n",
       " \n",
       "     OverallCond  GrLivArea  TotalBsmtSF  GarageCars  MSSubClass  YearBuilt  \\\n",
       " 0           5.0     1092.0        525.0         1.0       160.0     1971.0   \n",
       " 1           7.0     1573.0        884.0         1.0        50.0     1935.0   \n",
       " 2           7.0      838.0        816.0         1.0        30.0     1918.0   \n",
       " 3           6.0      935.0        742.0         1.0        40.0     1930.0   \n",
       " 4           6.0     1376.0        780.0         1.0        50.0     1937.0   \n",
       " 5           5.0      720.0        720.0         0.0        30.0     1920.0   \n",
       " 6           6.0      630.0        630.0         0.0       180.0     1970.0   \n",
       " 7           6.0      958.0        958.0         2.0       120.0     1976.0   \n",
       " 8           5.0     2230.0        795.0         1.0        75.0     1912.0   \n",
       " 9           8.0     1479.0        725.0         2.0        60.0     1976.0   \n",
       " 10          6.0     1144.0        864.0         1.0        20.0     1961.0   \n",
       " 11          5.0      948.0        948.0         1.0        20.0     1968.0   \n",
       " 12          8.0      912.0        912.0         1.0        20.0     1961.0   \n",
       " 13          5.0     1092.0        525.0         1.0       160.0     1971.0   \n",
       " 14          7.0     1573.0        884.0         1.0        50.0     1935.0   \n",
       " 15          7.0      838.0        816.0         1.0        30.0     1918.0   \n",
       " 16          6.0      935.0        742.0         1.0        40.0     1930.0   \n",
       " 17          6.0     1376.0        780.0         1.0        50.0     1937.0   \n",
       " 18          5.0      720.0        720.0         0.0        30.0     1920.0   \n",
       " 19          6.0      630.0        630.0         0.0       180.0     1970.0   \n",
       " 20          6.0      958.0        958.0         2.0       120.0     1976.0   \n",
       " 21          5.0     2230.0        795.0         1.0        75.0     1912.0   \n",
       " 22          8.0     1479.0        725.0         2.0        60.0     1976.0   \n",
       " 23          6.0     1144.0        864.0         1.0        20.0     1961.0   \n",
       " 24          5.0      948.0        948.0         1.0        20.0     1968.0   \n",
       " 25          8.0      912.0        912.0         1.0        20.0     1961.0   \n",
       " 26          5.0     1092.0        525.0         1.0       160.0     1971.0   \n",
       " 27          7.0     1573.0        884.0         1.0        50.0     1935.0   \n",
       " 28          7.0      838.0        816.0         1.0        30.0     1918.0   \n",
       " 29          6.0      935.0        742.0         1.0        40.0     1930.0   \n",
       " 30          6.0     1376.0        780.0         1.0        50.0     1937.0   \n",
       " 31          5.0      720.0        720.0         0.0        30.0     1920.0   \n",
       " 32          6.0      630.0        630.0         0.0       180.0     1970.0   \n",
       " 33          6.0      958.0        958.0         2.0       120.0     1976.0   \n",
       " 34          5.0     2230.0        795.0         1.0        75.0     1912.0   \n",
       " 35          8.0     1479.0        725.0         2.0        60.0     1976.0   \n",
       " 36          6.0     1144.0        864.0         1.0        20.0     1961.0   \n",
       " 37          5.0      948.0        948.0         1.0        20.0     1968.0   \n",
       " 38          8.0      912.0        912.0         1.0        20.0     1961.0   \n",
       " \n",
       "     NeighborhoodCond  \n",
       " 0                3.0  \n",
       " 1                2.0  \n",
       " 2                2.0  \n",
       " 3                2.0  \n",
       " 4                2.0  \n",
       " 5                2.0  \n",
       " 6                3.0  \n",
       " 7                5.0  \n",
       " 8                3.0  \n",
       " 9                3.0  \n",
       " 10               3.0  \n",
       " 11               3.0  \n",
       " 12               3.0  \n",
       " 13               3.0  \n",
       " 14               2.0  \n",
       " 15               2.0  \n",
       " 16               2.0  \n",
       " 17               2.0  \n",
       " 18               2.0  \n",
       " 19               3.0  \n",
       " 20               5.0  \n",
       " 21               3.0  \n",
       " 22               3.0  \n",
       " 23               3.0  \n",
       " 24               3.0  \n",
       " 25               3.0  \n",
       " 26               3.0  \n",
       " 27               2.0  \n",
       " 28               2.0  \n",
       " 29               2.0  \n",
       " 30               2.0  \n",
       " 31               2.0  \n",
       " 32               3.0  \n",
       " 33               5.0  \n",
       " 34               3.0  \n",
       " 35               3.0  \n",
       " 36               3.0  \n",
       " 37               3.0  \n",
       " 38               3.0  ,\n",
       " 9:     MasVnrArea  KitchenQual  SaleCondition_Normal  remod_last  ExterQual_TA  \\\n",
       " 0        158.0          3.0                   1.0      1973.0           1.0   \n",
       " 1          0.0          2.0                   1.0      1950.0           0.0   \n",
       " 2          0.0          3.0                   1.0      1950.0           1.0   \n",
       " 3          0.0          3.0                   1.0      1950.0           1.0   \n",
       " 4          0.0          3.0                   1.0      1950.0           1.0   \n",
       " 5          0.0          4.0                   1.0      1950.0           1.0   \n",
       " 6         80.0          3.0                   1.0      1970.0           1.0   \n",
       " 7          0.0          3.0                   1.0      1950.0           1.0   \n",
       " 8          0.0          3.0                   1.0      1999.0           1.0   \n",
       " 9        328.0          3.0                   0.0      1978.0           1.0   \n",
       " 10         0.0          3.0                   1.0      1982.0           1.0   \n",
       " 11         0.0          3.0                   1.0      1974.0           1.0   \n",
       " 12       158.0          3.0                   1.0      1973.0           1.0   \n",
       " 13         0.0          2.0                   1.0      1950.0           0.0   \n",
       " 14         0.0          3.0                   1.0      1950.0           1.0   \n",
       " 15         0.0          3.0                   1.0      1950.0           1.0   \n",
       " 16         0.0          3.0                   1.0      1950.0           1.0   \n",
       " 17         0.0          4.0                   1.0      1950.0           1.0   \n",
       " 18        80.0          3.0                   1.0      1970.0           1.0   \n",
       " 19         0.0          3.0                   1.0      1950.0           1.0   \n",
       " 20         0.0          3.0                   1.0      1999.0           1.0   \n",
       " 21       328.0          3.0                   0.0      1978.0           1.0   \n",
       " 22         0.0          3.0                   1.0      1982.0           1.0   \n",
       " 23         0.0          3.0                   1.0      1974.0           1.0   \n",
       " 24       158.0          3.0                   1.0      1973.0           1.0   \n",
       " 25         0.0          2.0                   1.0      1950.0           0.0   \n",
       " 26         0.0          3.0                   1.0      1950.0           1.0   \n",
       " 27         0.0          3.0                   1.0      1950.0           1.0   \n",
       " 28         0.0          3.0                   1.0      1950.0           1.0   \n",
       " 29         0.0          4.0                   1.0      1950.0           1.0   \n",
       " 30        80.0          3.0                   1.0      1970.0           1.0   \n",
       " 31         0.0          3.0                   1.0      1950.0           1.0   \n",
       " 32         0.0          3.0                   1.0      1999.0           1.0   \n",
       " 33       328.0          3.0                   0.0      1978.0           1.0   \n",
       " 34         0.0          3.0                   1.0      1982.0           1.0   \n",
       " 35         0.0          3.0                   1.0      1974.0           1.0   \n",
       " \n",
       "     LotArea  BsmtQual_Ex  BsmtUnfSF  NeighborhoodQual  YrSold  OverallQual  \\\n",
       " 0    1680.0          0.0      153.0               5.0  2008.0          6.0   \n",
       " 1    6120.0          0.0      264.0               1.0  2009.0          2.0   \n",
       " 2    6120.0          0.0      927.0               1.0  2009.0          5.0   \n",
       " 3    6000.0          0.0        0.0               1.0  2006.0          5.0   \n",
       " 4   11040.0          0.0        0.0               2.0  2006.0          4.0   \n",
       " 5    9000.0          0.0      780.0               2.0  2007.0          6.0   \n",
       " 6    2001.0          0.0      546.0               4.0  2007.0          4.0   \n",
       " 7    6000.0          0.0     1008.0               2.0  2006.0          5.0   \n",
       " 8   12886.0          0.0       76.0               4.0  2009.0          5.0   \n",
       " 9   11616.0          0.0      234.0               4.0  2010.0          6.0   \n",
       " 10   7252.0          0.0      173.0               4.0  2009.0          5.0   \n",
       " 11  13350.0          0.0      102.0               4.0  2006.0          5.0   \n",
       " 12   1680.0          0.0      153.0               5.0  2008.0          6.0   \n",
       " 13   6120.0          0.0      264.0               1.0  2009.0          2.0   \n",
       " 14   6120.0          0.0      927.0               1.0  2009.0          5.0   \n",
       " 15   6000.0          0.0        0.0               1.0  2006.0          5.0   \n",
       " 16  11040.0          0.0        0.0               2.0  2006.0          4.0   \n",
       " 17   9000.0          0.0      780.0               2.0  2007.0          6.0   \n",
       " 18   2001.0          0.0      546.0               4.0  2007.0          4.0   \n",
       " 19   6000.0          0.0     1008.0               2.0  2006.0          5.0   \n",
       " 20  12886.0          0.0       76.0               4.0  2009.0          5.0   \n",
       " 21  11616.0          0.0      234.0               4.0  2010.0          6.0   \n",
       " 22   7252.0          0.0      173.0               4.0  2009.0          5.0   \n",
       " 23  13350.0          0.0      102.0               4.0  2006.0          5.0   \n",
       " 24   1680.0          0.0      153.0               5.0  2008.0          6.0   \n",
       " 25   6120.0          0.0      264.0               1.0  2009.0          2.0   \n",
       " 26   6120.0          0.0      927.0               1.0  2009.0          5.0   \n",
       " 27   6000.0          0.0        0.0               1.0  2006.0          5.0   \n",
       " 28  11040.0          0.0        0.0               2.0  2006.0          4.0   \n",
       " 29   9000.0          0.0      780.0               2.0  2007.0          6.0   \n",
       " 30   2001.0          0.0      546.0               4.0  2007.0          4.0   \n",
       " 31   6000.0          0.0     1008.0               2.0  2006.0          5.0   \n",
       " 32  12886.0          0.0       76.0               4.0  2009.0          5.0   \n",
       " 33  11616.0          0.0      234.0               4.0  2010.0          6.0   \n",
       " 34   7252.0          0.0      173.0               4.0  2009.0          5.0   \n",
       " 35  13350.0          0.0      102.0               4.0  2006.0          5.0   \n",
       " \n",
       "     OverallCond  GrLivArea  TotalBsmtSF  GarageCars  MSSubClass  YearBuilt  \\\n",
       " 0           5.0      987.0        483.0         1.0       160.0     1973.0   \n",
       " 1           3.0      800.0        264.0         0.0        30.0     1936.0   \n",
       " 2           6.0     1539.0        927.0         2.0        50.0     1936.0   \n",
       " 3           7.0      616.0        616.0         1.0        30.0     1921.0   \n",
       " 4           6.0     1336.0        637.0         1.0        50.0     1920.0   \n",
       " 5           6.0     1375.0        780.0         1.0        50.0     1937.0   \n",
       " 6           5.0     1092.0        546.0         1.0       160.0     1970.0   \n",
       " 7           5.0     1522.0       1008.0         0.0        50.0     1926.0   \n",
       " 8           6.0     1464.0        520.0         2.0        80.0     1963.0   \n",
       " 9           5.0     1386.0        672.0         2.0        60.0     1978.0   \n",
       " 10          5.0      858.0        858.0         2.0        85.0     1982.0   \n",
       " 11          5.0      894.0        864.0         2.0        20.0     1974.0   \n",
       " 12          5.0      987.0        483.0         1.0       160.0     1973.0   \n",
       " 13          3.0      800.0        264.0         0.0        30.0     1936.0   \n",
       " 14          6.0     1539.0        927.0         2.0        50.0     1936.0   \n",
       " 15          7.0      616.0        616.0         1.0        30.0     1921.0   \n",
       " 16          6.0     1336.0        637.0         1.0        50.0     1920.0   \n",
       " 17          6.0     1375.0        780.0         1.0        50.0     1937.0   \n",
       " 18          5.0     1092.0        546.0         1.0       160.0     1970.0   \n",
       " 19          5.0     1522.0       1008.0         0.0        50.0     1926.0   \n",
       " 20          6.0     1464.0        520.0         2.0        80.0     1963.0   \n",
       " 21          5.0     1386.0        672.0         2.0        60.0     1978.0   \n",
       " 22          5.0      858.0        858.0         2.0        85.0     1982.0   \n",
       " 23          5.0      894.0        864.0         2.0        20.0     1974.0   \n",
       " 24          5.0      987.0        483.0         1.0       160.0     1973.0   \n",
       " 25          3.0      800.0        264.0         0.0        30.0     1936.0   \n",
       " 26          6.0     1539.0        927.0         2.0        50.0     1936.0   \n",
       " 27          7.0      616.0        616.0         1.0        30.0     1921.0   \n",
       " 28          6.0     1336.0        637.0         1.0        50.0     1920.0   \n",
       " 29          6.0     1375.0        780.0         1.0        50.0     1937.0   \n",
       " 30          5.0     1092.0        546.0         1.0       160.0     1970.0   \n",
       " 31          5.0     1522.0       1008.0         0.0        50.0     1926.0   \n",
       " 32          6.0     1464.0        520.0         2.0        80.0     1963.0   \n",
       " 33          5.0     1386.0        672.0         2.0        60.0     1978.0   \n",
       " 34          5.0      858.0        858.0         2.0        85.0     1982.0   \n",
       " 35          5.0      894.0        864.0         2.0        20.0     1974.0   \n",
       " \n",
       "     NeighborhoodCond  \n",
       " 0                3.0  \n",
       " 1                2.0  \n",
       " 2                2.0  \n",
       " 3                2.0  \n",
       " 4                2.0  \n",
       " 5                2.0  \n",
       " 6                3.0  \n",
       " 7                3.0  \n",
       " 8                3.0  \n",
       " 9                3.0  \n",
       " 10               3.0  \n",
       " 11               3.0  \n",
       " 12               3.0  \n",
       " 13               2.0  \n",
       " 14               2.0  \n",
       " 15               2.0  \n",
       " 16               2.0  \n",
       " 17               2.0  \n",
       " 18               3.0  \n",
       " 19               3.0  \n",
       " 20               3.0  \n",
       " 21               3.0  \n",
       " 22               3.0  \n",
       " 23               3.0  \n",
       " 24               3.0  \n",
       " 25               2.0  \n",
       " 26               2.0  \n",
       " 27               2.0  \n",
       " 28               2.0  \n",
       " 29               2.0  \n",
       " 30               3.0  \n",
       " 31               3.0  \n",
       " 32               3.0  \n",
       " 33               3.0  \n",
       " 34               3.0  \n",
       " 35               3.0  ,\n",
       " 10:     MasVnrArea  KitchenQual  SaleCondition_Normal  remod_last  ExterQual_TA  \\\n",
       " 0        281.0          3.0                   1.0      1972.0           1.0   \n",
       " 1          0.0          3.0                   1.0      2003.0           0.0   \n",
       " 2        160.0          3.0                   1.0      1970.0           1.0   \n",
       " 3          0.0          2.0                   1.0      1950.0           1.0   \n",
       " 4          0.0          3.0                   1.0      1995.0           1.0   \n",
       " 5          0.0          2.0                   1.0      1950.0           0.0   \n",
       " 6          0.0          3.0                   1.0      1970.0           1.0   \n",
       " 7          0.0          3.0                   1.0      1995.0           1.0   \n",
       " 8        148.0          3.0                   1.0      1977.0           1.0   \n",
       " 9          0.0          4.0                   1.0      1995.0           1.0   \n",
       " 10         0.0          3.0                   1.0      1981.0           1.0   \n",
       " 11         0.0          3.0                   0.0      1974.0           1.0   \n",
       " 12       281.0          3.0                   1.0      1972.0           1.0   \n",
       " 13         0.0          3.0                   1.0      2003.0           0.0   \n",
       " 14       160.0          3.0                   1.0      1970.0           1.0   \n",
       " 15         0.0          2.0                   1.0      1950.0           1.0   \n",
       " 16         0.0          3.0                   1.0      1995.0           1.0   \n",
       " 17         0.0          2.0                   1.0      1950.0           0.0   \n",
       " 18         0.0          3.0                   1.0      1970.0           1.0   \n",
       " 19         0.0          3.0                   1.0      1995.0           1.0   \n",
       " 20       148.0          3.0                   1.0      1977.0           1.0   \n",
       " 21         0.0          4.0                   1.0      1995.0           1.0   \n",
       " 22         0.0          3.0                   1.0      1981.0           1.0   \n",
       " 23         0.0          3.0                   0.0      1974.0           1.0   \n",
       " 24       281.0          3.0                   1.0      1972.0           1.0   \n",
       " 25         0.0          3.0                   1.0      2003.0           0.0   \n",
       " 26       160.0          3.0                   1.0      1970.0           1.0   \n",
       " 27         0.0          2.0                   1.0      1950.0           1.0   \n",
       " 28         0.0          3.0                   1.0      1995.0           1.0   \n",
       " 29         0.0          2.0                   1.0      1950.0           0.0   \n",
       " 30         0.0          3.0                   1.0      1970.0           1.0   \n",
       " 31         0.0          3.0                   1.0      1995.0           1.0   \n",
       " 32       148.0          3.0                   1.0      1977.0           1.0   \n",
       " 33         0.0          4.0                   1.0      1995.0           1.0   \n",
       " 34         0.0          3.0                   1.0      1981.0           1.0   \n",
       " 35         0.0          3.0                   0.0      1974.0           1.0   \n",
       " \n",
       "     LotArea  BsmtQual_Ex  BsmtUnfSF  NeighborhoodQual  YrSold  OverallQual  \\\n",
       " 0    1680.0          0.0      355.0               5.0  2006.0          6.0   \n",
       " 1    4130.0          0.0      270.0               1.0  2008.0          3.0   \n",
       " 2    9873.0          0.0      171.0               1.0  2006.0          4.0   \n",
       " 3    6911.0          0.0      740.0               1.0  2009.0          5.0   \n",
       " 4   10320.0          0.0      756.0               2.0  2008.0          6.0   \n",
       " 5    5600.0          0.0        0.0               2.0  2010.0          4.0   \n",
       " 6    2217.0          0.0        0.0               4.0  2009.0          4.0   \n",
       " 7    7082.0          0.0      686.0               2.0  2006.0          5.0   \n",
       " 8    8197.0          0.0      660.0               4.0  2007.0          6.0   \n",
       " 9    9600.0          0.0      625.0               4.0  2010.0          4.0   \n",
       " 10  16647.0          0.0        0.0               4.0  2007.0          5.0   \n",
       " 11  17920.0          0.0      372.0               4.0  2006.0          5.0   \n",
       " 12   1680.0          0.0      355.0               5.0  2006.0          6.0   \n",
       " 13   4130.0          0.0      270.0               1.0  2008.0          3.0   \n",
       " 14   9873.0          0.0      171.0               1.0  2006.0          4.0   \n",
       " 15   6911.0          0.0      740.0               1.0  2009.0          5.0   \n",
       " 16  10320.0          0.0      756.0               2.0  2008.0          6.0   \n",
       " 17   5600.0          0.0        0.0               2.0  2010.0          4.0   \n",
       " 18   2217.0          0.0        0.0               4.0  2009.0          4.0   \n",
       " 19   7082.0          0.0      686.0               2.0  2006.0          5.0   \n",
       " 20   8197.0          0.0      660.0               4.0  2007.0          6.0   \n",
       " 21   9600.0          0.0      625.0               4.0  2010.0          4.0   \n",
       " 22  16647.0          0.0        0.0               4.0  2007.0          5.0   \n",
       " 23  17920.0          0.0      372.0               4.0  2006.0          5.0   \n",
       " 24   1680.0          0.0      355.0               5.0  2006.0          6.0   \n",
       " 25   4130.0          0.0      270.0               1.0  2008.0          3.0   \n",
       " 26   9873.0          0.0      171.0               1.0  2006.0          4.0   \n",
       " 27   6911.0          0.0      740.0               1.0  2009.0          5.0   \n",
       " 28  10320.0          0.0      756.0               2.0  2008.0          6.0   \n",
       " 29   5600.0          0.0        0.0               2.0  2010.0          4.0   \n",
       " 30   2217.0          0.0        0.0               4.0  2009.0          4.0   \n",
       " 31   7082.0          0.0      686.0               2.0  2006.0          5.0   \n",
       " 32   8197.0          0.0      660.0               4.0  2007.0          6.0   \n",
       " 33   9600.0          0.0      625.0               4.0  2010.0          4.0   \n",
       " 34  16647.0          0.0        0.0               4.0  2007.0          5.0   \n",
       " 35  17920.0          0.0      372.0               4.0  2006.0          5.0   \n",
       " \n",
       "     OverallCond  GrLivArea  TotalBsmtSF  GarageCars  MSSubClass  YearBuilt  \\\n",
       " 0           7.0     1218.0        672.0         1.0       160.0     1972.0   \n",
       " 1           6.0      729.0        270.0         0.0        30.0     1935.0   \n",
       " 2           5.0      960.0        960.0         2.0       190.0     1970.0   \n",
       " 3           5.0     1301.0       1145.0         2.0        30.0     1924.0   \n",
       " 4           7.0     1469.0        756.0         1.0        50.0     1906.0   \n",
       " 5           5.0     1092.0          0.0         0.0       190.0     1930.0   \n",
       " 6           4.0     1092.0        546.0         1.0       160.0     1970.0   \n",
       " 7           8.0     1928.0        686.0         0.0       190.0     1916.0   \n",
       " 8           5.0     1285.0        660.0         2.0        20.0     1977.0   \n",
       " 9           7.0     1067.0       1067.0         2.0        20.0     1950.0   \n",
       " 10          5.0     1701.0       1390.0         2.0        85.0     1975.0   \n",
       " 11          4.0     1779.0       1763.0         2.0        20.0     1955.0   \n",
       " 12          7.0     1218.0        672.0         1.0       160.0     1972.0   \n",
       " 13          6.0      729.0        270.0         0.0        30.0     1935.0   \n",
       " 14          5.0      960.0        960.0         2.0       190.0     1970.0   \n",
       " 15          5.0     1301.0       1145.0         2.0        30.0     1924.0   \n",
       " 16          7.0     1469.0        756.0         1.0        50.0     1906.0   \n",
       " 17          5.0     1092.0          0.0         0.0       190.0     1930.0   \n",
       " 18          4.0     1092.0        546.0         1.0       160.0     1970.0   \n",
       " 19          8.0     1928.0        686.0         0.0       190.0     1916.0   \n",
       " 20          5.0     1285.0        660.0         2.0        20.0     1977.0   \n",
       " 21          7.0     1067.0       1067.0         2.0        20.0     1950.0   \n",
       " 22          5.0     1701.0       1390.0         2.0        85.0     1975.0   \n",
       " 23          4.0     1779.0       1763.0         2.0        20.0     1955.0   \n",
       " 24          7.0     1218.0        672.0         1.0       160.0     1972.0   \n",
       " 25          6.0      729.0        270.0         0.0        30.0     1935.0   \n",
       " 26          5.0      960.0        960.0         2.0       190.0     1970.0   \n",
       " 27          5.0     1301.0       1145.0         2.0        30.0     1924.0   \n",
       " 28          7.0     1469.0        756.0         1.0        50.0     1906.0   \n",
       " 29          5.0     1092.0          0.0         0.0       190.0     1930.0   \n",
       " 30          4.0     1092.0        546.0         1.0       160.0     1970.0   \n",
       " 31          8.0     1928.0        686.0         0.0       190.0     1916.0   \n",
       " 32          5.0     1285.0        660.0         2.0        20.0     1977.0   \n",
       " 33          7.0     1067.0       1067.0         2.0        20.0     1950.0   \n",
       " 34          5.0     1701.0       1390.0         2.0        85.0     1975.0   \n",
       " 35          4.0     1779.0       1763.0         2.0        20.0     1955.0   \n",
       " \n",
       "     NeighborhoodCond  \n",
       " 0                3.0  \n",
       " 1                2.0  \n",
       " 2                2.0  \n",
       " 3                2.0  \n",
       " 4                2.0  \n",
       " 5                2.0  \n",
       " 6                3.0  \n",
       " 7                3.0  \n",
       " 8                3.0  \n",
       " 9                3.0  \n",
       " 10               3.0  \n",
       " 11               3.0  \n",
       " 12               3.0  \n",
       " 13               2.0  \n",
       " 14               2.0  \n",
       " 15               2.0  \n",
       " 16               2.0  \n",
       " 17               2.0  \n",
       " 18               3.0  \n",
       " 19               3.0  \n",
       " 20               3.0  \n",
       " 21               3.0  \n",
       " 22               3.0  \n",
       " 23               3.0  \n",
       " 24               3.0  \n",
       " 25               2.0  \n",
       " 26               2.0  \n",
       " 27               2.0  \n",
       " 28               2.0  \n",
       " 29               2.0  \n",
       " 30               3.0  \n",
       " 31               3.0  \n",
       " 32               3.0  \n",
       " 33               3.0  \n",
       " 34               3.0  \n",
       " 35               3.0  ,\n",
       " 11:     MasVnrArea  KitchenQual  SaleCondition_Normal  remod_last  ExterQual_TA  \\\n",
       " 0        304.0          3.0                   1.0      1970.0           1.0   \n",
       " 1          0.0          4.0                   1.0      2004.0           1.0   \n",
       " 2          0.0          4.0                   1.0      1950.0           1.0   \n",
       " 3          0.0          3.0                   0.0      1950.0           1.0   \n",
       " 4          0.0          3.0                   0.0      1950.0           1.0   \n",
       " 5          0.0          3.0                   1.0      1950.0           1.0   \n",
       " 6          0.0          3.0                   1.0      2008.0           1.0   \n",
       " 7          0.0          3.0                   1.0      1970.0           1.0   \n",
       " 8          0.0          3.0                   1.0      2010.0           1.0   \n",
       " 9          0.0          3.0                   1.0      1965.0           1.0   \n",
       " 10         0.0          2.0                   1.0      1961.0           1.0   \n",
       " 11         0.0          4.0                   1.0      1995.0           1.0   \n",
       " 12       304.0          3.0                   1.0      1970.0           1.0   \n",
       " 13         0.0          4.0                   1.0      2004.0           1.0   \n",
       " 14         0.0          4.0                   1.0      1950.0           1.0   \n",
       " 15         0.0          3.0                   0.0      1950.0           1.0   \n",
       " 16         0.0          3.0                   0.0      1950.0           1.0   \n",
       " 17         0.0          3.0                   1.0      1950.0           1.0   \n",
       " 18         0.0          3.0                   1.0      2008.0           1.0   \n",
       " 19         0.0          3.0                   1.0      1970.0           1.0   \n",
       " 20         0.0          3.0                   1.0      2010.0           1.0   \n",
       " 21         0.0          3.0                   1.0      1965.0           1.0   \n",
       " 22         0.0          2.0                   1.0      1961.0           1.0   \n",
       " 23         0.0          4.0                   1.0      1995.0           1.0   \n",
       " 24       304.0          3.0                   1.0      1970.0           1.0   \n",
       " 25         0.0          4.0                   1.0      2004.0           1.0   \n",
       " 26         0.0          4.0                   1.0      1950.0           1.0   \n",
       " 27         0.0          3.0                   0.0      1950.0           1.0   \n",
       " 28         0.0          3.0                   0.0      1950.0           1.0   \n",
       " 29         0.0          3.0                   1.0      1950.0           1.0   \n",
       " 30         0.0          3.0                   1.0      2008.0           1.0   \n",
       " 31         0.0          3.0                   1.0      1970.0           1.0   \n",
       " 32         0.0          3.0                   1.0      2010.0           1.0   \n",
       " 33         0.0          3.0                   1.0      1965.0           1.0   \n",
       " 34         0.0          2.0                   1.0      1961.0           1.0   \n",
       " 35         0.0          4.0                   1.0      1995.0           1.0   \n",
       " \n",
       "     LotArea  BsmtQual_Ex  BsmtUnfSF  NeighborhoodQual  YrSold  OverallQual  \\\n",
       " 0    2016.0          0.0      630.0               5.0  2007.0          5.0   \n",
       " 1   21384.0          0.0       15.0               1.0  2009.0          5.0   \n",
       " 2    6130.0          0.0        0.0               1.0  2008.0          5.0   \n",
       " 3    6120.0          0.0      279.0               1.0  2006.0          5.0   \n",
       " 4    8712.0          0.0      859.0               2.0  2010.0          4.0   \n",
       " 5    6240.0          0.0      628.0               2.0  2009.0          4.0   \n",
       " 6    1533.0          0.0      546.0               4.0  2009.0          4.0   \n",
       " 7   15863.0          0.0      301.0               2.0  2009.0          7.0   \n",
       " 8    6897.0          0.0      381.0               4.0  2010.0          5.0   \n",
       " 9   11625.0          0.0      198.0               4.0  2010.0          5.0   \n",
       " 10   6970.0          0.0      108.0               4.0  2007.0          4.0   \n",
       " 11  11782.0          0.0      210.0               4.0  2010.0          5.0   \n",
       " 12   2016.0          0.0      630.0               5.0  2007.0          5.0   \n",
       " 13  21384.0          0.0       15.0               1.0  2009.0          5.0   \n",
       " 14   6130.0          0.0        0.0               1.0  2008.0          5.0   \n",
       " 15   6120.0          0.0      279.0               1.0  2006.0          5.0   \n",
       " 16   8712.0          0.0      859.0               2.0  2010.0          4.0   \n",
       " 17   6240.0          0.0      628.0               2.0  2009.0          4.0   \n",
       " 18   1533.0          0.0      546.0               4.0  2009.0          4.0   \n",
       " 19  15863.0          0.0      301.0               2.0  2009.0          7.0   \n",
       " 20   6897.0          0.0      381.0               4.0  2010.0          5.0   \n",
       " 21  11625.0          0.0      198.0               4.0  2010.0          5.0   \n",
       " 22   6970.0          0.0      108.0               4.0  2007.0          4.0   \n",
       " 23  11782.0          0.0      210.0               4.0  2010.0          5.0   \n",
       " 24   2016.0          0.0      630.0               5.0  2007.0          5.0   \n",
       " 25  21384.0          0.0       15.0               1.0  2009.0          5.0   \n",
       " 26   6130.0          0.0        0.0               1.0  2008.0          5.0   \n",
       " 27   6120.0          0.0      279.0               1.0  2006.0          5.0   \n",
       " 28   8712.0          0.0      859.0               2.0  2010.0          4.0   \n",
       " 29   6240.0          0.0      628.0               2.0  2009.0          4.0   \n",
       " 30   1533.0          0.0      546.0               4.0  2009.0          4.0   \n",
       " 31  15863.0          0.0      301.0               2.0  2009.0          7.0   \n",
       " 32   6897.0          0.0      381.0               4.0  2010.0          5.0   \n",
       " 33  11625.0          0.0      198.0               4.0  2010.0          5.0   \n",
       " 34   6970.0          0.0      108.0               4.0  2007.0          4.0   \n",
       " 35  11782.0          0.0      210.0               4.0  2010.0          5.0   \n",
       " \n",
       "     OverallCond  GrLivArea  TotalBsmtSF  GarageCars  MSSubClass  YearBuilt  \\\n",
       " 0           5.0     1302.0        630.0         2.0       160.0     1970.0   \n",
       " 1           6.0     1576.0       1324.0         2.0        70.0     1923.0   \n",
       " 2           6.0      784.0        784.0         0.0        45.0     1924.0   \n",
       " 3           7.0     1015.0        768.0         1.0        30.0     1925.0   \n",
       " 4           7.0     1178.0        859.0         1.0        50.0     1900.0   \n",
       " 5           5.0     1208.0        780.0         2.0        30.0     1925.0   \n",
       " 6           6.0     1344.0        546.0         0.0       160.0     1970.0   \n",
       " 7           3.0     3082.0        824.0         2.0        75.0     1920.0   \n",
       " 8           8.0     1040.0       1040.0         1.0        20.0     1962.0   \n",
       " 9           4.0     1039.0       1039.0         2.0       190.0     1965.0   \n",
       " 10          5.0     1120.0       1040.0         2.0        20.0     1961.0   \n",
       " 11          7.0     1155.0       1109.0         2.0        85.0     1961.0   \n",
       " 12          5.0     1302.0        630.0         2.0       160.0     1970.0   \n",
       " 13          6.0     1576.0       1324.0         2.0        70.0     1923.0   \n",
       " 14          6.0      784.0        784.0         0.0        45.0     1924.0   \n",
       " 15          7.0     1015.0        768.0         1.0        30.0     1925.0   \n",
       " 16          7.0     1178.0        859.0         1.0        50.0     1900.0   \n",
       " 17          5.0     1208.0        780.0         2.0        30.0     1925.0   \n",
       " 18          6.0     1344.0        546.0         0.0       160.0     1970.0   \n",
       " 19          3.0     3082.0        824.0         2.0        75.0     1920.0   \n",
       " 20          8.0     1040.0       1040.0         1.0        20.0     1962.0   \n",
       " 21          4.0     1039.0       1039.0         2.0       190.0     1965.0   \n",
       " 22          5.0     1120.0       1040.0         2.0        20.0     1961.0   \n",
       " 23          7.0     1155.0       1109.0         2.0        85.0     1961.0   \n",
       " 24          5.0     1302.0        630.0         2.0       160.0     1970.0   \n",
       " 25          6.0     1576.0       1324.0         2.0        70.0     1923.0   \n",
       " 26          6.0      784.0        784.0         0.0        45.0     1924.0   \n",
       " 27          7.0     1015.0        768.0         1.0        30.0     1925.0   \n",
       " 28          7.0     1178.0        859.0         1.0        50.0     1900.0   \n",
       " 29          5.0     1208.0        780.0         2.0        30.0     1925.0   \n",
       " 30          6.0     1344.0        546.0         0.0       160.0     1970.0   \n",
       " 31          3.0     3082.0        824.0         2.0        75.0     1920.0   \n",
       " 32          8.0     1040.0       1040.0         1.0        20.0     1962.0   \n",
       " 33          4.0     1039.0       1039.0         2.0       190.0     1965.0   \n",
       " 34          5.0     1120.0       1040.0         2.0        20.0     1961.0   \n",
       " 35          7.0     1155.0       1109.0         2.0        85.0     1961.0   \n",
       " \n",
       "     NeighborhoodCond  \n",
       " 0                3.0  \n",
       " 1                2.0  \n",
       " 2                2.0  \n",
       " 3                2.0  \n",
       " 4                2.0  \n",
       " 5                2.0  \n",
       " 6                3.0  \n",
       " 7                3.0  \n",
       " 8                3.0  \n",
       " 9                3.0  \n",
       " 10               3.0  \n",
       " 11               3.0  \n",
       " 12               3.0  \n",
       " 13               2.0  \n",
       " 14               2.0  \n",
       " 15               2.0  \n",
       " 16               2.0  \n",
       " 17               2.0  \n",
       " 18               3.0  \n",
       " 19               3.0  \n",
       " 20               3.0  \n",
       " 21               3.0  \n",
       " 22               3.0  \n",
       " 23               3.0  \n",
       " 24               3.0  \n",
       " 25               2.0  \n",
       " 26               2.0  \n",
       " 27               2.0  \n",
       " 28               2.0  \n",
       " 29               2.0  \n",
       " 30               3.0  \n",
       " 31               3.0  \n",
       " 32               3.0  \n",
       " 33               3.0  \n",
       " 34               3.0  \n",
       " 35               3.0  ,\n",
       " 12:     MasVnrArea  KitchenQual  SaleCondition_Normal  remod_last  ExterQual_TA  \\\n",
       " 0        236.0          3.0                   0.0      1971.0           1.0   \n",
       " 1        108.0          3.0                   1.0      1953.0           1.0   \n",
       " 2          0.0          3.0                   1.0      2008.0           1.0   \n",
       " 3          0.0          4.0                   1.0      1993.0           1.0   \n",
       " 4          0.0          3.0                   1.0      1990.0           1.0   \n",
       " 5          0.0          2.0                   0.0      1952.0           0.0   \n",
       " 6          0.0          3.0                   1.0      1970.0           1.0   \n",
       " 7          0.0          3.0                   1.0      1950.0           1.0   \n",
       " 8         92.0          3.0                   1.0      1978.0           1.0   \n",
       " 9          0.0          3.0                   1.0      2003.0           1.0   \n",
       " 10         0.0          3.0                   1.0      1954.0           1.0   \n",
       " 11         0.0          3.0                   1.0      1994.0           1.0   \n",
       " 12       236.0          3.0                   0.0      1971.0           1.0   \n",
       " 13       108.0          3.0                   1.0      1953.0           1.0   \n",
       " 14         0.0          3.0                   1.0      2008.0           1.0   \n",
       " 15         0.0          4.0                   1.0      1993.0           1.0   \n",
       " 16         0.0          3.0                   1.0      1990.0           1.0   \n",
       " 17         0.0          2.0                   0.0      1952.0           0.0   \n",
       " 18         0.0          3.0                   1.0      1970.0           1.0   \n",
       " 19         0.0          3.0                   1.0      1950.0           1.0   \n",
       " 20        92.0          3.0                   1.0      1978.0           1.0   \n",
       " 21         0.0          3.0                   1.0      2003.0           1.0   \n",
       " 22         0.0          3.0                   1.0      1954.0           1.0   \n",
       " 23         0.0          3.0                   1.0      1994.0           1.0   \n",
       " 24       236.0          3.0                   0.0      1971.0           1.0   \n",
       " 25       108.0          3.0                   1.0      1953.0           1.0   \n",
       " 26         0.0          3.0                   1.0      2008.0           1.0   \n",
       " 27         0.0          4.0                   1.0      1993.0           1.0   \n",
       " 28         0.0          3.0                   1.0      1990.0           1.0   \n",
       " 29         0.0          2.0                   0.0      1952.0           0.0   \n",
       " 30         0.0          3.0                   1.0      1970.0           1.0   \n",
       " 31         0.0          3.0                   1.0      1950.0           1.0   \n",
       " 32        92.0          3.0                   1.0      1978.0           1.0   \n",
       " 33         0.0          3.0                   1.0      2003.0           1.0   \n",
       " 34         0.0          3.0                   1.0      1954.0           1.0   \n",
       " 35         0.0          3.0                   1.0      1994.0           1.0   \n",
       " \n",
       "     LotArea  BsmtQual_Ex  BsmtUnfSF  NeighborhoodQual  YrSold  OverallQual  \\\n",
       " 0    1680.0          0.0      672.0               5.0  2006.0          6.0   \n",
       " 1    5825.0          0.0      600.0               1.0  2006.0          4.0   \n",
       " 2    7207.0          0.0      162.0               1.0  2010.0          5.0   \n",
       " 3   11414.0          0.0      728.0               1.0  2009.0          7.0   \n",
       " 4    4800.0          0.0      999.0               2.0  2007.0          4.0   \n",
       " 5    8712.0          0.0      540.0               2.0  2010.0          5.0   \n",
       " 6    1477.0          0.0      121.0               4.0  2009.0          4.0   \n",
       " 7    8400.0          0.0      758.0               2.0  2008.0          6.0   \n",
       " 8   11184.0          0.0      192.0               4.0  2009.0          6.0   \n",
       " 9    8414.0          0.0      396.0               4.0  2006.0          6.0   \n",
       " 10  13284.0          0.0      319.0               4.0  2008.0          5.0   \n",
       " 11   6993.0          0.0      447.0               4.0  2006.0          5.0   \n",
       " 12   1680.0          0.0      672.0               5.0  2006.0          6.0   \n",
       " 13   5825.0          0.0      600.0               1.0  2006.0          4.0   \n",
       " 14   7207.0          0.0      162.0               1.0  2010.0          5.0   \n",
       " 15  11414.0          0.0      728.0               1.0  2009.0          7.0   \n",
       " 16   4800.0          0.0      999.0               2.0  2007.0          4.0   \n",
       " 17   8712.0          0.0      540.0               2.0  2010.0          5.0   \n",
       " 18   1477.0          0.0      121.0               4.0  2009.0          4.0   \n",
       " 19   8400.0          0.0      758.0               2.0  2008.0          6.0   \n",
       " 20  11184.0          0.0      192.0               4.0  2009.0          6.0   \n",
       " 21   8414.0          0.0      396.0               4.0  2006.0          6.0   \n",
       " 22  13284.0          0.0      319.0               4.0  2008.0          5.0   \n",
       " 23   6993.0          0.0      447.0               4.0  2006.0          5.0   \n",
       " 24   1680.0          0.0      672.0               5.0  2006.0          6.0   \n",
       " 25   5825.0          0.0      600.0               1.0  2006.0          4.0   \n",
       " 26   7207.0          0.0      162.0               1.0  2010.0          5.0   \n",
       " 27  11414.0          0.0      728.0               1.0  2009.0          7.0   \n",
       " 28   4800.0          0.0      999.0               2.0  2007.0          4.0   \n",
       " 29   8712.0          0.0      540.0               2.0  2010.0          5.0   \n",
       " 30   1477.0          0.0      121.0               4.0  2009.0          4.0   \n",
       " 31   8400.0          0.0      758.0               2.0  2008.0          6.0   \n",
       " 32  11184.0          0.0      192.0               4.0  2009.0          6.0   \n",
       " 33   8414.0          0.0      396.0               4.0  2006.0          6.0   \n",
       " 34  13284.0          0.0      319.0               4.0  2008.0          5.0   \n",
       " 35   6993.0          0.0      447.0               4.0  2006.0          5.0   \n",
       " \n",
       "     OverallCond  GrLivArea  TotalBsmtSF  GarageCars  MSSubClass  YearBuilt  \\\n",
       " 0           5.0     1218.0        672.0         0.0       160.0     1971.0   \n",
       " 1           5.0      747.0        600.0         2.0        30.0     1926.0   \n",
       " 2           7.0      858.0        858.0         0.0        20.0     1958.0   \n",
       " 3           8.0     2019.0        728.0         2.0        70.0     1910.0   \n",
       " 4           7.0     1196.0       1196.0         2.0        30.0     1916.0   \n",
       " 5           5.0     1044.0        540.0         2.0        20.0     1952.0   \n",
       " 6           4.0      630.0        630.0         1.0       180.0     1970.0   \n",
       " 7           5.0     1694.0       1181.0         2.0        50.0     1925.0   \n",
       " 8           5.0     1683.0        918.0         2.0        60.0     1978.0   \n",
       " 9           8.0     1068.0       1059.0         1.0        20.0     1963.0   \n",
       " 10          5.0     1383.0       1383.0         1.0        20.0     1954.0   \n",
       " 11          7.0     1236.0        912.0         1.0        20.0     1961.0   \n",
       " 12          5.0     1218.0        672.0         0.0       160.0     1971.0   \n",
       " 13          5.0      747.0        600.0         2.0        30.0     1926.0   \n",
       " 14          7.0      858.0        858.0         0.0        20.0     1958.0   \n",
       " 15          8.0     2019.0        728.0         2.0        70.0     1910.0   \n",
       " 16          7.0     1196.0       1196.0         2.0        30.0     1916.0   \n",
       " 17          5.0     1044.0        540.0         2.0        20.0     1952.0   \n",
       " 18          4.0      630.0        630.0         1.0       180.0     1970.0   \n",
       " 19          5.0     1694.0       1181.0         2.0        50.0     1925.0   \n",
       " 20          5.0     1683.0        918.0         2.0        60.0     1978.0   \n",
       " 21          8.0     1068.0       1059.0         1.0        20.0     1963.0   \n",
       " 22          5.0     1383.0       1383.0         1.0        20.0     1954.0   \n",
       " 23          7.0     1236.0        912.0         1.0        20.0     1961.0   \n",
       " 24          5.0     1218.0        672.0         0.0       160.0     1971.0   \n",
       " 25          5.0      747.0        600.0         2.0        30.0     1926.0   \n",
       " 26          7.0      858.0        858.0         0.0        20.0     1958.0   \n",
       " 27          8.0     2019.0        728.0         2.0        70.0     1910.0   \n",
       " 28          7.0     1196.0       1196.0         2.0        30.0     1916.0   \n",
       " 29          5.0     1044.0        540.0         2.0        20.0     1952.0   \n",
       " 30          4.0      630.0        630.0         1.0       180.0     1970.0   \n",
       " 31          5.0     1694.0       1181.0         2.0        50.0     1925.0   \n",
       " 32          5.0     1683.0        918.0         2.0        60.0     1978.0   \n",
       " 33          8.0     1068.0       1059.0         1.0        20.0     1963.0   \n",
       " 34          5.0     1383.0       1383.0         1.0        20.0     1954.0   \n",
       " 35          7.0     1236.0        912.0         1.0        20.0     1961.0   \n",
       " \n",
       "     NeighborhoodCond  \n",
       " 0                3.0  \n",
       " 1                2.0  \n",
       " 2                2.0  \n",
       " 3                2.0  \n",
       " 4                2.0  \n",
       " 5                2.0  \n",
       " 6                3.0  \n",
       " 7                3.0  \n",
       " 8                3.0  \n",
       " 9                3.0  \n",
       " 10               3.0  \n",
       " 11               3.0  \n",
       " 12               3.0  \n",
       " 13               2.0  \n",
       " 14               2.0  \n",
       " 15               2.0  \n",
       " 16               2.0  \n",
       " 17               2.0  \n",
       " 18               3.0  \n",
       " 19               3.0  \n",
       " 20               3.0  \n",
       " 21               3.0  \n",
       " 22               3.0  \n",
       " 23               3.0  \n",
       " 24               3.0  \n",
       " 25               2.0  \n",
       " 26               2.0  \n",
       " 27               2.0  \n",
       " 28               2.0  \n",
       " 29               2.0  \n",
       " 30               3.0  \n",
       " 31               3.0  \n",
       " 32               3.0  \n",
       " 33               3.0  \n",
       " 34               3.0  \n",
       " 35               3.0  ,\n",
       " 13:     MasVnrArea  KitchenQual  SaleCondition_Normal  remod_last  ExterQual_TA  \\\n",
       " 0        268.0          3.0                   1.0      1972.0           1.0   \n",
       " 1          0.0          2.0                   1.0      1958.0           1.0   \n",
       " 2          0.0          3.0                   0.0      1950.0           1.0   \n",
       " 3          0.0          3.0                   1.0      1950.0           1.0   \n",
       " 4          0.0          3.0                   0.0      1950.0           1.0   \n",
       " 5          0.0          3.0                   0.0      1950.0           1.0   \n",
       " 6          0.0          3.0                   1.0      1973.0           1.0   \n",
       " 7          0.0          2.0                   1.0      1950.0           1.0   \n",
       " 8         75.0          3.0                   1.0      1967.0           1.0   \n",
       " 9          0.0          3.0                   1.0      1962.0           1.0   \n",
       " 10         0.0          3.0                   1.0      1963.0           1.0   \n",
       " 11         0.0          3.0                   1.0      1950.0           1.0   \n",
       " 12       268.0          3.0                   1.0      1972.0           1.0   \n",
       " 13         0.0          2.0                   1.0      1958.0           1.0   \n",
       " 14         0.0          3.0                   0.0      1950.0           1.0   \n",
       " 15         0.0          3.0                   1.0      1950.0           1.0   \n",
       " 16         0.0          3.0                   0.0      1950.0           1.0   \n",
       " 17         0.0          3.0                   0.0      1950.0           1.0   \n",
       " 18         0.0          3.0                   1.0      1973.0           1.0   \n",
       " 19         0.0          2.0                   1.0      1950.0           1.0   \n",
       " 20        75.0          3.0                   1.0      1967.0           1.0   \n",
       " 21         0.0          3.0                   1.0      1962.0           1.0   \n",
       " 22         0.0          3.0                   1.0      1963.0           1.0   \n",
       " 23         0.0          3.0                   1.0      1950.0           1.0   \n",
       " 24       268.0          3.0                   1.0      1972.0           1.0   \n",
       " 25         0.0          2.0                   1.0      1958.0           1.0   \n",
       " 26         0.0          3.0                   0.0      1950.0           1.0   \n",
       " 27         0.0          3.0                   1.0      1950.0           1.0   \n",
       " 28         0.0          3.0                   0.0      1950.0           1.0   \n",
       " 29         0.0          3.0                   0.0      1950.0           1.0   \n",
       " 30         0.0          3.0                   1.0      1973.0           1.0   \n",
       " 31         0.0          2.0                   1.0      1950.0           1.0   \n",
       " 32        75.0          3.0                   1.0      1967.0           1.0   \n",
       " 33         0.0          3.0                   1.0      1962.0           1.0   \n",
       " 34         0.0          3.0                   1.0      1963.0           1.0   \n",
       " 35         0.0          3.0                   1.0      1950.0           1.0   \n",
       " \n",
       "     LotArea  BsmtQual_Ex  BsmtUnfSF  NeighborhoodQual  YrSold  OverallQual  \\\n",
       " 0    1680.0          0.0      399.0               5.0  2009.0          5.0   \n",
       " 1    5900.0          0.0      440.0               1.0  2006.0          4.0   \n",
       " 2    4712.0          0.0      363.0               1.0  2006.0          4.0   \n",
       " 3    6000.0          0.0        0.0               1.0  2009.0          4.0   \n",
       " 4    8765.0          0.0      666.0               2.0  2006.0          4.0   \n",
       " 5    9000.0          0.0      430.0               2.0  2006.0          2.0   \n",
       " 6    3964.0          0.0      105.0               4.0  2006.0          6.0   \n",
       " 7    8400.0          0.0        0.0               2.0  2009.0          2.0   \n",
       " 8    6173.0          0.0      277.0               4.0  2007.0          5.0   \n",
       " 9    7420.0          0.0      640.0               4.0  2007.0          5.0   \n",
       " 10   8816.0          0.0      470.0               4.0  2009.0          5.0   \n",
       " 11  21286.0          0.0      720.0               4.0  2008.0          5.0   \n",
       " 12   1680.0          0.0      399.0               5.0  2009.0          5.0   \n",
       " 13   5900.0          0.0      440.0               1.0  2006.0          4.0   \n",
       " 14   4712.0          0.0      363.0               1.0  2006.0          4.0   \n",
       " 15   6000.0          0.0        0.0               1.0  2009.0          4.0   \n",
       " 16   8765.0          0.0      666.0               2.0  2006.0          4.0   \n",
       " 17   9000.0          0.0      430.0               2.0  2006.0          2.0   \n",
       " 18   3964.0          0.0      105.0               4.0  2006.0          6.0   \n",
       " 19   8400.0          0.0        0.0               2.0  2009.0          2.0   \n",
       " 20   6173.0          0.0      277.0               4.0  2007.0          5.0   \n",
       " 21   7420.0          0.0      640.0               4.0  2007.0          5.0   \n",
       " 22   8816.0          0.0      470.0               4.0  2009.0          5.0   \n",
       " 23  21286.0          0.0      720.0               4.0  2008.0          5.0   \n",
       " 24   1680.0          0.0      399.0               5.0  2009.0          5.0   \n",
       " 25   5900.0          0.0      440.0               1.0  2006.0          4.0   \n",
       " 26   4712.0          0.0      363.0               1.0  2006.0          4.0   \n",
       " 27   6000.0          0.0        0.0               1.0  2009.0          4.0   \n",
       " 28   8765.0          0.0      666.0               2.0  2006.0          4.0   \n",
       " 29   9000.0          0.0      430.0               2.0  2006.0          2.0   \n",
       " 30   3964.0          0.0      105.0               4.0  2006.0          6.0   \n",
       " 31   8400.0          0.0        0.0               2.0  2009.0          2.0   \n",
       " 32   6173.0          0.0      277.0               4.0  2007.0          5.0   \n",
       " 33   7420.0          0.0      640.0               4.0  2007.0          5.0   \n",
       " 34   8816.0          0.0      470.0               4.0  2009.0          5.0   \n",
       " 35  21286.0          0.0      720.0               4.0  2008.0          5.0   \n",
       " \n",
       "     OverallCond  GrLivArea  TotalBsmtSF  GarageCars  MSSubClass  YearBuilt  \\\n",
       " 0           7.0     1302.0        630.0         1.0       160.0     1972.0   \n",
       " 1           7.0      869.0        440.0         0.0        30.0     1923.0   \n",
       " 2           7.0     1230.0        747.0         1.0        50.0     1946.0   \n",
       " 3           6.0     1324.0        672.0         1.0        50.0     1936.0   \n",
       " 4           6.0      951.0        951.0         1.0        30.0     1936.0   \n",
       " 5           3.0      480.0        480.0         1.0        20.0     1949.0   \n",
       " 6           4.0     2521.0        942.0         2.0       160.0     1973.0   \n",
       " 7           5.0      438.0        290.0         1.0        30.0     1920.0   \n",
       " 8           6.0      902.0        876.0         1.0        20.0     1967.0   \n",
       " 9           5.0     1057.0       1057.0         2.0        20.0     1962.0   \n",
       " 10          6.0     1121.0       1121.0         2.0        20.0     1963.0   \n",
       " 11          5.0     1271.0        720.0         1.0        50.0     1948.0   \n",
       " 12          7.0     1302.0        630.0         1.0       160.0     1972.0   \n",
       " 13          7.0      869.0        440.0         0.0        30.0     1923.0   \n",
       " 14          7.0     1230.0        747.0         1.0        50.0     1946.0   \n",
       " 15          6.0     1324.0        672.0         1.0        50.0     1936.0   \n",
       " 16          6.0      951.0        951.0         1.0        30.0     1936.0   \n",
       " 17          3.0      480.0        480.0         1.0        20.0     1949.0   \n",
       " 18          4.0     2521.0        942.0         2.0       160.0     1973.0   \n",
       " 19          5.0      438.0        290.0         1.0        30.0     1920.0   \n",
       " 20          6.0      902.0        876.0         1.0        20.0     1967.0   \n",
       " 21          5.0     1057.0       1057.0         2.0        20.0     1962.0   \n",
       " 22          6.0     1121.0       1121.0         2.0        20.0     1963.0   \n",
       " 23          5.0     1271.0        720.0         1.0        50.0     1948.0   \n",
       " 24          7.0     1302.0        630.0         1.0       160.0     1972.0   \n",
       " 25          7.0      869.0        440.0         0.0        30.0     1923.0   \n",
       " 26          7.0     1230.0        747.0         1.0        50.0     1946.0   \n",
       " 27          6.0     1324.0        672.0         1.0        50.0     1936.0   \n",
       " 28          6.0      951.0        951.0         1.0        30.0     1936.0   \n",
       " 29          3.0      480.0        480.0         1.0        20.0     1949.0   \n",
       " 30          4.0     2521.0        942.0         2.0       160.0     1973.0   \n",
       " 31          5.0      438.0        290.0         1.0        30.0     1920.0   \n",
       " 32          6.0      902.0        876.0         1.0        20.0     1967.0   \n",
       " 33          5.0     1057.0       1057.0         2.0        20.0     1962.0   \n",
       " 34          6.0     1121.0       1121.0         2.0        20.0     1963.0   \n",
       " 35          5.0     1271.0        720.0         1.0        50.0     1948.0   \n",
       " \n",
       "     NeighborhoodCond  \n",
       " 0                3.0  \n",
       " 1                2.0  \n",
       " 2                2.0  \n",
       " 3                2.0  \n",
       " 4                2.0  \n",
       " 5                2.0  \n",
       " 6                3.0  \n",
       " 7                3.0  \n",
       " 8                3.0  \n",
       " 9                3.0  \n",
       " 10               3.0  \n",
       " 11               3.0  \n",
       " 12               3.0  \n",
       " 13               2.0  \n",
       " 14               2.0  \n",
       " 15               2.0  \n",
       " 16               2.0  \n",
       " 17               2.0  \n",
       " 18               3.0  \n",
       " 19               3.0  \n",
       " 20               3.0  \n",
       " 21               3.0  \n",
       " 22               3.0  \n",
       " 23               3.0  \n",
       " 24               3.0  \n",
       " 25               2.0  \n",
       " 26               2.0  \n",
       " 27               2.0  \n",
       " 28               2.0  \n",
       " 29               2.0  \n",
       " 30               3.0  \n",
       " 31               3.0  \n",
       " 32               3.0  \n",
       " 33               3.0  \n",
       " 34               3.0  \n",
       " 35               3.0  ,\n",
       " 14:     MasVnrArea  KitchenQual  SaleCondition_Normal  remod_last  ExterQual_TA  \\\n",
       " 0        312.0          3.0                   1.0      1970.0           1.0   \n",
       " 1          0.0          3.0                   1.0      1950.0           1.0   \n",
       " 2          0.0          3.0                   1.0      1950.0           1.0   \n",
       " 3          0.0          3.0                   0.0      1950.0           1.0   \n",
       " 4          0.0          3.0                   1.0      1950.0           1.0   \n",
       " 5          0.0          3.0                   1.0      1950.0           0.0   \n",
       " 6          0.0          3.0                   1.0      1973.0           1.0   \n",
       " 7          0.0          4.0                   1.0      1950.0           1.0   \n",
       " 8         67.0          3.0                   1.0      2000.0           1.0   \n",
       " 9          0.0          3.0                   1.0      1963.0           1.0   \n",
       " 10         0.0          4.0                   1.0      2003.0           1.0   \n",
       " 11       312.0          3.0                   1.0      1970.0           1.0   \n",
       " 12         0.0          3.0                   1.0      1950.0           1.0   \n",
       " 13         0.0          3.0                   1.0      1950.0           1.0   \n",
       " 14         0.0          3.0                   0.0      1950.0           1.0   \n",
       " 15         0.0          3.0                   1.0      1950.0           1.0   \n",
       " 16         0.0          3.0                   1.0      1950.0           0.0   \n",
       " 17         0.0          3.0                   1.0      1973.0           1.0   \n",
       " 18         0.0          4.0                   1.0      1950.0           1.0   \n",
       " 19        67.0          3.0                   1.0      2000.0           1.0   \n",
       " 20         0.0          3.0                   1.0      1963.0           1.0   \n",
       " 21         0.0          4.0                   1.0      2003.0           1.0   \n",
       " 22       312.0          3.0                   1.0      1970.0           1.0   \n",
       " 23         0.0          3.0                   1.0      1950.0           1.0   \n",
       " 24         0.0          3.0                   1.0      1950.0           1.0   \n",
       " 25         0.0          3.0                   0.0      1950.0           1.0   \n",
       " 26         0.0          3.0                   1.0      1950.0           1.0   \n",
       " 27         0.0          3.0                   1.0      1950.0           0.0   \n",
       " 28         0.0          3.0                   1.0      1973.0           1.0   \n",
       " 29         0.0          4.0                   1.0      1950.0           1.0   \n",
       " 30        67.0          3.0                   1.0      2000.0           1.0   \n",
       " 31         0.0          3.0                   1.0      1963.0           1.0   \n",
       " 32         0.0          4.0                   1.0      2003.0           1.0   \n",
       " \n",
       "     LotArea  BsmtQual_Ex  BsmtUnfSF  NeighborhoodQual  YrSold  OverallQual  \\\n",
       " 0    2368.0          0.0        0.0               5.0  2009.0          5.0   \n",
       " 1    6180.0          0.0      960.0               1.0  2007.0          6.0   \n",
       " 2    8731.0          0.0      270.0               1.0  2007.0          5.0   \n",
       " 3    6240.0          0.0     1042.0               1.0  2006.0          5.0   \n",
       " 4    9786.0          0.0     1007.0               2.0  2006.0          3.0   \n",
       " 5   18000.0          0.0      894.0               2.0  2008.0          3.0   \n",
       " 6    1974.0          0.0      212.0               4.0  2010.0          4.0   \n",
       " 7    7804.0          0.0      500.0               2.0  2009.0          4.0   \n",
       " 8   13125.0          0.0      284.0               4.0  2006.0          5.0   \n",
       " 9    7500.0          0.0      216.0               4.0  2010.0          5.0   \n",
       " 10   9764.0          0.0      192.0               4.0  2008.0          5.0   \n",
       " 11   2368.0          0.0        0.0               5.0  2009.0          5.0   \n",
       " 12   6180.0          0.0      960.0               1.0  2007.0          6.0   \n",
       " 13   8731.0          0.0      270.0               1.0  2007.0          5.0   \n",
       " 14   6240.0          0.0     1042.0               1.0  2006.0          5.0   \n",
       " 15   9786.0          0.0     1007.0               2.0  2006.0          3.0   \n",
       " 16  18000.0          0.0      894.0               2.0  2008.0          3.0   \n",
       " 17   1974.0          0.0      212.0               4.0  2010.0          4.0   \n",
       " 18   7804.0          0.0      500.0               2.0  2009.0          4.0   \n",
       " 19  13125.0          0.0      284.0               4.0  2006.0          5.0   \n",
       " 20   7500.0          0.0      216.0               4.0  2010.0          5.0   \n",
       " 21   9764.0          0.0      192.0               4.0  2008.0          5.0   \n",
       " 22   2368.0          0.0        0.0               5.0  2009.0          5.0   \n",
       " 23   6180.0          0.0      960.0               1.0  2007.0          6.0   \n",
       " 24   8731.0          0.0      270.0               1.0  2007.0          5.0   \n",
       " 25   6240.0          0.0     1042.0               1.0  2006.0          5.0   \n",
       " 26   9786.0          0.0     1007.0               2.0  2006.0          3.0   \n",
       " 27  18000.0          0.0      894.0               2.0  2008.0          3.0   \n",
       " 28   1974.0          0.0      212.0               4.0  2010.0          4.0   \n",
       " 29   7804.0          0.0      500.0               2.0  2009.0          4.0   \n",
       " 30  13125.0          0.0      284.0               4.0  2006.0          5.0   \n",
       " 31   7500.0          0.0      216.0               4.0  2010.0          5.0   \n",
       " 32   9764.0          0.0      192.0               4.0  2008.0          5.0   \n",
       " \n",
       "     OverallCond  GrLivArea  TotalBsmtSF  GarageCars  MSSubClass  YearBuilt  \\\n",
       " 0           6.0     1365.0        765.0         2.0       160.0     1970.0   \n",
       " 1           5.0      986.0        960.0         1.0        30.0     1926.0   \n",
       " 2           5.0     1167.0        915.0         2.0        30.0     1920.0   \n",
       " 3           6.0     1576.0       1042.0         1.0        50.0     1928.0   \n",
       " 4           4.0     1077.0       1007.0         1.0        30.0     1922.0   \n",
       " 5           4.0      894.0        894.0         3.0        30.0     1935.0   \n",
       " 6           5.0     1092.0        546.0         1.0       160.0     1973.0   \n",
       " 7           3.0     1981.0       1122.0         2.0        50.0     1928.0   \n",
       " 8           4.0     1803.0       1134.0         2.0        20.0     1957.0   \n",
       " 9           5.0     1040.0       1040.0         1.0        20.0     1963.0   \n",
       " 10          7.0      894.0        894.0         2.0        20.0     1967.0   \n",
       " 11          6.0     1365.0        765.0         2.0       160.0     1970.0   \n",
       " 12          5.0      986.0        960.0         1.0        30.0     1926.0   \n",
       " 13          5.0     1167.0        915.0         2.0        30.0     1920.0   \n",
       " 14          6.0     1576.0       1042.0         1.0        50.0     1928.0   \n",
       " 15          4.0     1077.0       1007.0         1.0        30.0     1922.0   \n",
       " 16          4.0      894.0        894.0         3.0        30.0     1935.0   \n",
       " 17          5.0     1092.0        546.0         1.0       160.0     1973.0   \n",
       " 18          3.0     1981.0       1122.0         2.0        50.0     1928.0   \n",
       " 19          4.0     1803.0       1134.0         2.0        20.0     1957.0   \n",
       " 20          5.0     1040.0       1040.0         1.0        20.0     1963.0   \n",
       " 21          7.0      894.0        894.0         2.0        20.0     1967.0   \n",
       " 22          6.0     1365.0        765.0         2.0       160.0     1970.0   \n",
       " 23          5.0      986.0        960.0         1.0        30.0     1926.0   \n",
       " 24          5.0     1167.0        915.0         2.0        30.0     1920.0   \n",
       " 25          6.0     1576.0       1042.0         1.0        50.0     1928.0   \n",
       " 26          4.0     1077.0       1007.0         1.0        30.0     1922.0   \n",
       " 27          4.0      894.0        894.0         3.0        30.0     1935.0   \n",
       " 28          5.0     1092.0        546.0         1.0       160.0     1973.0   \n",
       " 29          3.0     1981.0       1122.0         2.0        50.0     1928.0   \n",
       " 30          4.0     1803.0       1134.0         2.0        20.0     1957.0   \n",
       " 31          5.0     1040.0       1040.0         1.0        20.0     1963.0   \n",
       " 32          7.0      894.0        894.0         2.0        20.0     1967.0   \n",
       " \n",
       "     NeighborhoodCond  \n",
       " 0                3.0  \n",
       " 1                2.0  \n",
       " 2                2.0  \n",
       " 3                2.0  \n",
       " 4                2.0  \n",
       " 5                2.0  \n",
       " 6                3.0  \n",
       " 7                3.0  \n",
       " 8                3.0  \n",
       " 9                3.0  \n",
       " 10               3.0  \n",
       " 11               3.0  \n",
       " 12               2.0  \n",
       " 13               2.0  \n",
       " 14               2.0  \n",
       " 15               2.0  \n",
       " 16               2.0  \n",
       " 17               3.0  \n",
       " 18               3.0  \n",
       " 19               3.0  \n",
       " 20               3.0  \n",
       " 21               3.0  \n",
       " 22               3.0  \n",
       " 23               2.0  \n",
       " 24               2.0  \n",
       " 25               2.0  \n",
       " 26               2.0  \n",
       " 27               2.0  \n",
       " 28               3.0  \n",
       " 29               3.0  \n",
       " 30               3.0  \n",
       " 31               3.0  \n",
       " 32               3.0  ,\n",
       " 15:     MasVnrArea  KitchenQual  SaleCondition_Normal  remod_last  ExterQual_TA  \\\n",
       " 0        408.0          3.0                   1.0      1973.0           1.0   \n",
       " 1          0.0          3.0                   1.0      1997.0           1.0   \n",
       " 2          0.0          3.0                   1.0      1950.0           1.0   \n",
       " 3          0.0          3.0                   1.0      1950.0           1.0   \n",
       " 4          0.0          4.0                   1.0      2006.0           1.0   \n",
       " 5          0.0          3.0                   1.0      1950.0           1.0   \n",
       " 6          0.0          3.0                   1.0      1977.0           1.0   \n",
       " 7          0.0          3.0                   0.0      1950.0           1.0   \n",
       " 8          0.0          3.0                   1.0      1987.0           1.0   \n",
       " 9          0.0          3.0                   1.0      1996.0           1.0   \n",
       " 10         0.0          3.0                   1.0      1959.0           1.0   \n",
       " 11       408.0          3.0                   1.0      1973.0           1.0   \n",
       " 12         0.0          3.0                   1.0      1997.0           1.0   \n",
       " 13         0.0          3.0                   1.0      1950.0           1.0   \n",
       " 14         0.0          3.0                   1.0      1950.0           1.0   \n",
       " 15         0.0          4.0                   1.0      2006.0           1.0   \n",
       " 16         0.0          3.0                   1.0      1950.0           1.0   \n",
       " 17         0.0          3.0                   1.0      1977.0           1.0   \n",
       " 18         0.0          3.0                   0.0      1950.0           1.0   \n",
       " 19         0.0          3.0                   1.0      1987.0           1.0   \n",
       " 20         0.0          3.0                   1.0      1996.0           1.0   \n",
       " 21         0.0          3.0                   1.0      1959.0           1.0   \n",
       " 22       408.0          3.0                   1.0      1973.0           1.0   \n",
       " 23         0.0          3.0                   1.0      1997.0           1.0   \n",
       " 24         0.0          3.0                   1.0      1950.0           1.0   \n",
       " 25         0.0          3.0                   1.0      1950.0           1.0   \n",
       " 26         0.0          4.0                   1.0      2006.0           1.0   \n",
       " 27         0.0          3.0                   1.0      1950.0           1.0   \n",
       " 28         0.0          3.0                   1.0      1977.0           1.0   \n",
       " 29         0.0          3.0                   0.0      1950.0           1.0   \n",
       " 30         0.0          3.0                   1.0      1987.0           1.0   \n",
       " 31         0.0          3.0                   1.0      1996.0           1.0   \n",
       " 32         0.0          3.0                   1.0      1959.0           1.0   \n",
       " \n",
       "     LotArea  BsmtQual_Ex  BsmtUnfSF  NeighborhoodQual  YrSold  OverallQual  \\\n",
       " 0    1953.0          0.0      174.0               5.0  2006.0          6.0   \n",
       " 1    6000.0          0.0      884.0               1.0  2009.0          5.0   \n",
       " 2    6240.0          0.0        0.0               1.0  2006.0          4.0   \n",
       " 3    6240.0          0.0      459.0               1.0  2007.0          6.0   \n",
       " 4    6882.0          0.0      684.0               2.0  2007.0          6.0   \n",
       " 5    8263.0          0.0     1012.0               2.0  2007.0          6.0   \n",
       " 6    2665.0          0.0       36.0               4.0  2006.0          5.0   \n",
       " 7    8525.0          0.0      940.0               2.0  2008.0          5.0   \n",
       " 8   13825.0          0.0      533.0               4.0  2008.0          5.0   \n",
       " 9    6342.0          0.0      780.0               4.0  2010.0          5.0   \n",
       " 10   9000.0          0.0      718.0               4.0  2008.0          5.0   \n",
       " 11   1953.0          0.0      174.0               5.0  2006.0          6.0   \n",
       " 12   6000.0          0.0      884.0               1.0  2009.0          5.0   \n",
       " 13   6240.0          0.0        0.0               1.0  2006.0          4.0   \n",
       " 14   6240.0          0.0      459.0               1.0  2007.0          6.0   \n",
       " 15   6882.0          0.0      684.0               2.0  2007.0          6.0   \n",
       " 16   8263.0          0.0     1012.0               2.0  2007.0          6.0   \n",
       " 17   2665.0          0.0       36.0               4.0  2006.0          5.0   \n",
       " 18   8525.0          0.0      940.0               2.0  2008.0          5.0   \n",
       " 19  13825.0          0.0      533.0               4.0  2008.0          5.0   \n",
       " 20   6342.0          0.0      780.0               4.0  2010.0          5.0   \n",
       " 21   9000.0          0.0      718.0               4.0  2008.0          5.0   \n",
       " 22   1953.0          0.0      174.0               5.0  2006.0          6.0   \n",
       " 23   6000.0          0.0      884.0               1.0  2009.0          5.0   \n",
       " 24   6240.0          0.0        0.0               1.0  2006.0          4.0   \n",
       " 25   6240.0          0.0      459.0               1.0  2007.0          6.0   \n",
       " 26   6882.0          0.0      684.0               2.0  2007.0          6.0   \n",
       " 27   8263.0          0.0     1012.0               2.0  2007.0          6.0   \n",
       " 28   2665.0          0.0       36.0               4.0  2006.0          5.0   \n",
       " 29   8525.0          0.0      940.0               2.0  2008.0          5.0   \n",
       " 30  13825.0          0.0      533.0               4.0  2008.0          5.0   \n",
       " 31   6342.0          0.0      780.0               4.0  2010.0          5.0   \n",
       " 32   9000.0          0.0      718.0               4.0  2008.0          5.0   \n",
       " \n",
       "     OverallCond  GrLivArea  TotalBsmtSF  GarageCars  MSSubClass  YearBuilt  \\\n",
       " 0           5.0      987.0        483.0         1.0       160.0     1973.0   \n",
       " 1           8.0     1348.0        884.0         1.0        50.0     1925.0   \n",
       " 2           5.0      912.0          0.0         0.0        50.0     1947.0   \n",
       " 3           6.0     1367.0        884.0         1.0        50.0     1931.0   \n",
       " 4           7.0     1355.0        684.0         0.0        70.0     1914.0   \n",
       " 5           5.0     1012.0       1012.0         1.0        30.0     1920.0   \n",
       " 6           6.0     1475.0        757.0         1.0       160.0     1977.0   \n",
       " 7           6.0     1964.0        940.0         0.0        70.0     1911.0   \n",
       " 8           6.0     1601.0        533.0         1.0        80.0     1958.0   \n",
       " 9           8.0     1020.0        780.0         0.0        50.0     1875.0   \n",
       " 10          3.0     1006.0       1006.0         0.0        20.0     1959.0   \n",
       " 11          5.0      987.0        483.0         1.0       160.0     1973.0   \n",
       " 12          8.0     1348.0        884.0         1.0        50.0     1925.0   \n",
       " 13          5.0      912.0          0.0         0.0        50.0     1947.0   \n",
       " 14          6.0     1367.0        884.0         1.0        50.0     1931.0   \n",
       " 15          7.0     1355.0        684.0         0.0        70.0     1914.0   \n",
       " 16          5.0     1012.0       1012.0         1.0        30.0     1920.0   \n",
       " 17          6.0     1475.0        757.0         1.0       160.0     1977.0   \n",
       " 18          6.0     1964.0        940.0         0.0        70.0     1911.0   \n",
       " 19          6.0     1601.0        533.0         1.0        80.0     1958.0   \n",
       " 20          8.0     1020.0        780.0         0.0        50.0     1875.0   \n",
       " 21          3.0     1006.0       1006.0         0.0        20.0     1959.0   \n",
       " 22          5.0      987.0        483.0         1.0       160.0     1973.0   \n",
       " 23          8.0     1348.0        884.0         1.0        50.0     1925.0   \n",
       " 24          5.0      912.0          0.0         0.0        50.0     1947.0   \n",
       " 25          6.0     1367.0        884.0         1.0        50.0     1931.0   \n",
       " 26          7.0     1355.0        684.0         0.0        70.0     1914.0   \n",
       " 27          5.0     1012.0       1012.0         1.0        30.0     1920.0   \n",
       " 28          6.0     1475.0        757.0         1.0       160.0     1977.0   \n",
       " 29          6.0     1964.0        940.0         0.0        70.0     1911.0   \n",
       " 30          6.0     1601.0        533.0         1.0        80.0     1958.0   \n",
       " 31          8.0     1020.0        780.0         0.0        50.0     1875.0   \n",
       " 32          3.0     1006.0       1006.0         0.0        20.0     1959.0   \n",
       " \n",
       "     NeighborhoodCond  \n",
       " 0                3.0  \n",
       " 1                2.0  \n",
       " 2                2.0  \n",
       " 3                2.0  \n",
       " 4                2.0  \n",
       " 5                2.0  \n",
       " 6                3.0  \n",
       " 7                3.0  \n",
       " 8                3.0  \n",
       " 9                3.0  \n",
       " 10               3.0  \n",
       " 11               3.0  \n",
       " 12               2.0  \n",
       " 13               2.0  \n",
       " 14               2.0  \n",
       " 15               2.0  \n",
       " 16               2.0  \n",
       " 17               3.0  \n",
       " 18               3.0  \n",
       " 19               3.0  \n",
       " 20               3.0  \n",
       " 21               3.0  \n",
       " 22               3.0  \n",
       " 23               2.0  \n",
       " 24               2.0  \n",
       " 25               2.0  \n",
       " 26               2.0  \n",
       " 27               2.0  \n",
       " 28               3.0  \n",
       " 29               3.0  \n",
       " 30               3.0  \n",
       " 31               3.0  \n",
       " 32               3.0  ,\n",
       " 16:     MasVnrArea  KitchenQual  SaleCondition_Normal  remod_last  ExterQual_TA  \\\n",
       " 0          0.0          3.0                   1.0      1950.0           1.0   \n",
       " 1          0.0          3.0                   1.0      1950.0           1.0   \n",
       " 2          0.0          3.0                   1.0      1950.0           1.0   \n",
       " 3          0.0          3.0                   1.0      2007.0           0.0   \n",
       " 4          0.0          3.0                   0.0      1950.0           1.0   \n",
       " 5          0.0          5.0                   0.0      1970.0           1.0   \n",
       " 6          0.0          4.0                   1.0      1990.0           1.0   \n",
       " 7          0.0          3.0                   1.0      1968.0           1.0   \n",
       " 8          0.0          3.0                   0.0      1969.0           1.0   \n",
       " 9        143.0          3.0                   1.0      1969.0           1.0   \n",
       " 10         0.0          3.0                   1.0      1950.0           1.0   \n",
       " 11         0.0          3.0                   1.0      1950.0           1.0   \n",
       " 12         0.0          3.0                   1.0      1950.0           1.0   \n",
       " 13         0.0          3.0                   1.0      2007.0           0.0   \n",
       " 14         0.0          3.0                   0.0      1950.0           1.0   \n",
       " 15         0.0          5.0                   0.0      1970.0           1.0   \n",
       " 16         0.0          4.0                   1.0      1990.0           1.0   \n",
       " 17         0.0          3.0                   1.0      1968.0           1.0   \n",
       " 18         0.0          3.0                   0.0      1969.0           1.0   \n",
       " 19       143.0          3.0                   1.0      1969.0           1.0   \n",
       " 20         0.0          3.0                   1.0      1950.0           1.0   \n",
       " 21         0.0          3.0                   1.0      1950.0           1.0   \n",
       " 22         0.0          3.0                   1.0      1950.0           1.0   \n",
       " 23         0.0          3.0                   1.0      2007.0           0.0   \n",
       " 24         0.0          3.0                   0.0      1950.0           1.0   \n",
       " 25         0.0          5.0                   0.0      1970.0           1.0   \n",
       " 26         0.0          4.0                   1.0      1990.0           1.0   \n",
       " 27         0.0          3.0                   1.0      1968.0           1.0   \n",
       " 28         0.0          3.0                   0.0      1969.0           1.0   \n",
       " 29       143.0          3.0                   1.0      1969.0           1.0   \n",
       " \n",
       "     LotArea  BsmtQual_Ex  BsmtUnfSF  NeighborhoodQual  YrSold  OverallQual  \\\n",
       " 0   13515.0          0.0      764.0               1.0  2007.0          6.0   \n",
       " 1    6000.0          0.0      780.0               1.0  2009.0          6.0   \n",
       " 2    6627.0          0.0        0.0               1.0  2008.0          3.0   \n",
       " 3    5890.0          0.0      278.0               2.0  2008.0          6.0   \n",
       " 4    7500.0          0.0      698.0               2.0  2010.0          4.0   \n",
       " 5    1533.0          0.0       77.0               4.0  2006.0          5.0   \n",
       " 6    9638.0          0.0      804.0               2.0  2010.0          6.0   \n",
       " 7    8724.0          0.0      402.0               4.0  2007.0          5.0   \n",
       " 8   12900.0          0.0        0.0               4.0  2008.0          4.0   \n",
       " 9    9364.0          0.0      292.0               4.0  2010.0          6.0   \n",
       " 10  13515.0          0.0      764.0               1.0  2007.0          6.0   \n",
       " 11   6000.0          0.0      780.0               1.0  2009.0          6.0   \n",
       " 12   6627.0          0.0        0.0               1.0  2008.0          3.0   \n",
       " 13   5890.0          0.0      278.0               2.0  2008.0          6.0   \n",
       " 14   7500.0          0.0      698.0               2.0  2010.0          4.0   \n",
       " 15   1533.0          0.0       77.0               4.0  2006.0          5.0   \n",
       " 16   9638.0          0.0      804.0               2.0  2010.0          6.0   \n",
       " 17   8724.0          0.0      402.0               4.0  2007.0          5.0   \n",
       " 18  12900.0          0.0        0.0               4.0  2008.0          4.0   \n",
       " 19   9364.0          0.0      292.0               4.0  2010.0          6.0   \n",
       " 20  13515.0          0.0      764.0               1.0  2007.0          6.0   \n",
       " 21   6000.0          0.0      780.0               1.0  2009.0          6.0   \n",
       " 22   6627.0          0.0        0.0               1.0  2008.0          3.0   \n",
       " 23   5890.0          0.0      278.0               2.0  2008.0          6.0   \n",
       " 24   7500.0          0.0      698.0               2.0  2010.0          4.0   \n",
       " 25   1533.0          0.0       77.0               4.0  2006.0          5.0   \n",
       " 26   9638.0          0.0      804.0               2.0  2010.0          6.0   \n",
       " 27   8724.0          0.0      402.0               4.0  2007.0          5.0   \n",
       " 28  12900.0          0.0        0.0               4.0  2008.0          4.0   \n",
       " 29   9364.0          0.0      292.0               4.0  2010.0          6.0   \n",
       " \n",
       "     OverallCond  GrLivArea  TotalBsmtSF  GarageCars  MSSubClass  YearBuilt  \\\n",
       " 0           6.0     1824.0        764.0         2.0        70.0     1919.0   \n",
       " 1           6.0     1412.0        780.0         1.0        50.0     1939.0   \n",
       " 2           6.0      720.0          0.0         1.0        20.0     1949.0   \n",
       " 3           8.0      816.0        816.0         1.0        30.0     1930.0   \n",
       " 4           4.0     1128.0        698.0         2.0        50.0     1920.0   \n",
       " 5           7.0      630.0        630.0         0.0       180.0     1970.0   \n",
       " 6           7.0     2447.0        804.0         1.0        50.0     1919.0   \n",
       " 7           5.0      894.0        894.0         2.0        20.0     1968.0   \n",
       " 8           4.0     1258.0       1198.0         2.0        90.0     1969.0   \n",
       " 9           7.0     1352.0        663.0         1.0        60.0     1969.0   \n",
       " 10          6.0     1824.0        764.0         2.0        70.0     1919.0   \n",
       " 11          6.0     1412.0        780.0         1.0        50.0     1939.0   \n",
       " 12          6.0      720.0          0.0         1.0        20.0     1949.0   \n",
       " 13          8.0      816.0        816.0         1.0        30.0     1930.0   \n",
       " 14          4.0     1128.0        698.0         2.0        50.0     1920.0   \n",
       " 15          7.0      630.0        630.0         0.0       180.0     1970.0   \n",
       " 16          7.0     2447.0        804.0         1.0        50.0     1919.0   \n",
       " 17          5.0      894.0        894.0         2.0        20.0     1968.0   \n",
       " 18          4.0     1258.0       1198.0         2.0        90.0     1969.0   \n",
       " 19          7.0     1352.0        663.0         1.0        60.0     1969.0   \n",
       " 20          6.0     1824.0        764.0         2.0        70.0     1919.0   \n",
       " 21          6.0     1412.0        780.0         1.0        50.0     1939.0   \n",
       " 22          6.0      720.0          0.0         1.0        20.0     1949.0   \n",
       " 23          8.0      816.0        816.0         1.0        30.0     1930.0   \n",
       " 24          4.0     1128.0        698.0         2.0        50.0     1920.0   \n",
       " 25          7.0      630.0        630.0         0.0       180.0     1970.0   \n",
       " 26          7.0     2447.0        804.0         1.0        50.0     1919.0   \n",
       " 27          5.0      894.0        894.0         2.0        20.0     1968.0   \n",
       " 28          4.0     1258.0       1198.0         2.0        90.0     1969.0   \n",
       " 29          7.0     1352.0        663.0         1.0        60.0     1969.0   \n",
       " \n",
       "     NeighborhoodCond  \n",
       " 0                2.0  \n",
       " 1                2.0  \n",
       " 2                2.0  \n",
       " 3                2.0  \n",
       " 4                2.0  \n",
       " 5                3.0  \n",
       " 6                3.0  \n",
       " 7                3.0  \n",
       " 8                3.0  \n",
       " 9                3.0  \n",
       " 10               2.0  \n",
       " 11               2.0  \n",
       " 12               2.0  \n",
       " 13               2.0  \n",
       " 14               2.0  \n",
       " 15               3.0  \n",
       " 16               3.0  \n",
       " 17               3.0  \n",
       " 18               3.0  \n",
       " 19               3.0  \n",
       " 20               2.0  \n",
       " 21               2.0  \n",
       " 22               2.0  \n",
       " 23               2.0  \n",
       " 24               2.0  \n",
       " 25               3.0  \n",
       " 26               3.0  \n",
       " 27               3.0  \n",
       " 28               3.0  \n",
       " 29               3.0  ,\n",
       " 17:     MasVnrArea  KitchenQual  SaleCondition_Normal  remod_last  ExterQual_TA  \\\n",
       " 0          0.0          2.0                   1.0      1950.0           0.0   \n",
       " 1          0.0          3.0                   1.0      2000.0           0.0   \n",
       " 2          0.0          3.0                   1.0      1950.0           1.0   \n",
       " 3          0.0          3.0                   1.0      1950.0           1.0   \n",
       " 4          0.0          3.0                   1.0      1998.0           1.0   \n",
       " 5         51.0          3.0                   1.0      1979.0           1.0   \n",
       " 6          0.0          3.0                   1.0      2001.0           1.0   \n",
       " 7          0.0          3.0                   1.0      1966.0           1.0   \n",
       " 8          0.0          2.0                   1.0      1950.0           0.0   \n",
       " 9          0.0          3.0                   1.0      2000.0           0.0   \n",
       " 10         0.0          3.0                   1.0      1950.0           1.0   \n",
       " 11         0.0          3.0                   1.0      1950.0           1.0   \n",
       " 12         0.0          3.0                   1.0      1998.0           1.0   \n",
       " 13        51.0          3.0                   1.0      1979.0           1.0   \n",
       " 14         0.0          3.0                   1.0      2001.0           1.0   \n",
       " 15         0.0          3.0                   1.0      1966.0           1.0   \n",
       " 16         0.0          2.0                   1.0      1950.0           0.0   \n",
       " 17         0.0          3.0                   1.0      2000.0           0.0   \n",
       " 18         0.0          3.0                   1.0      1950.0           1.0   \n",
       " 19         0.0          3.0                   1.0      1950.0           1.0   \n",
       " 20         0.0          3.0                   1.0      1998.0           1.0   \n",
       " 21        51.0          3.0                   1.0      1979.0           1.0   \n",
       " 22         0.0          3.0                   1.0      2001.0           1.0   \n",
       " 23         0.0          3.0                   1.0      1966.0           1.0   \n",
       " \n",
       "     LotArea  BsmtQual_Ex  BsmtUnfSF  NeighborhoodQual  YrSold  OverallQual  \\\n",
       " 0    5330.0          0.0      140.0               1.0  2009.0          4.0   \n",
       " 1    6000.0          0.0      698.0               1.0  2009.0          6.0   \n",
       " 2    6000.0          0.0      360.0               1.0  2007.0          6.0   \n",
       " 3    3636.0          0.0      796.0               2.0  2008.0          4.0   \n",
       " 4    9842.0          0.0      612.0               2.0  2008.0          5.0   \n",
       " 5   11235.0          0.0      504.0               4.0  2006.0          4.0   \n",
       " 6   10246.0          0.0        0.0               4.0  2006.0          4.0   \n",
       " 7    7094.0          0.0      340.0               4.0  2007.0          5.0   \n",
       " 8    5330.0          0.0      140.0               1.0  2009.0          4.0   \n",
       " 9    6000.0          0.0      698.0               1.0  2009.0          6.0   \n",
       " 10   6000.0          0.0      360.0               1.0  2007.0          6.0   \n",
       " 11   3636.0          0.0      796.0               2.0  2008.0          4.0   \n",
       " 12   9842.0          0.0      612.0               2.0  2008.0          5.0   \n",
       " 13  11235.0          0.0      504.0               4.0  2006.0          4.0   \n",
       " 14  10246.0          0.0        0.0               4.0  2006.0          4.0   \n",
       " 15   7094.0          0.0      340.0               4.0  2007.0          5.0   \n",
       " 16   5330.0          0.0      140.0               1.0  2009.0          4.0   \n",
       " 17   6000.0          0.0      698.0               1.0  2009.0          6.0   \n",
       " 18   6000.0          0.0      360.0               1.0  2007.0          6.0   \n",
       " 19   3636.0          0.0      796.0               2.0  2008.0          4.0   \n",
       " 20   9842.0          0.0      612.0               2.0  2008.0          5.0   \n",
       " 21  11235.0          0.0      504.0               4.0  2006.0          4.0   \n",
       " 22  10246.0          0.0        0.0               4.0  2006.0          4.0   \n",
       " 23   7094.0          0.0      340.0               4.0  2007.0          5.0   \n",
       " \n",
       "     OverallCond  GrLivArea  TotalBsmtSF  GarageCars  MSSubClass  YearBuilt  \\\n",
       " 0           7.0      708.0        420.0         0.0        30.0     1940.0   \n",
       " 1           9.0     1176.0        698.0         2.0        50.0     1937.0   \n",
       " 2           6.0     1218.0        735.0         2.0        50.0     1941.0   \n",
       " 3           4.0      796.0        796.0         0.0        30.0     1922.0   \n",
       " 4           6.0     2601.0        612.0         2.0        70.0     1921.0   \n",
       " 5           5.0     1382.0       1051.0         2.0        20.0     1963.0   \n",
       " 6           9.0      960.0        648.0         1.0        80.0     1965.0   \n",
       " 7           5.0      894.0        894.0         1.0        20.0     1966.0   \n",
       " 8           7.0      708.0        420.0         0.0        30.0     1940.0   \n",
       " 9           9.0     1176.0        698.0         2.0        50.0     1937.0   \n",
       " 10          6.0     1218.0        735.0         2.0        50.0     1941.0   \n",
       " 11          4.0      796.0        796.0         0.0        30.0     1922.0   \n",
       " 12          6.0     2601.0        612.0         2.0        70.0     1921.0   \n",
       " 13          5.0     1382.0       1051.0         2.0        20.0     1963.0   \n",
       " 14          9.0      960.0        648.0         1.0        80.0     1965.0   \n",
       " 15          5.0      894.0        894.0         1.0        20.0     1966.0   \n",
       " 16          7.0      708.0        420.0         0.0        30.0     1940.0   \n",
       " 17          9.0     1176.0        698.0         2.0        50.0     1937.0   \n",
       " 18          6.0     1218.0        735.0         2.0        50.0     1941.0   \n",
       " 19          4.0      796.0        796.0         0.0        30.0     1922.0   \n",
       " 20          6.0     2601.0        612.0         2.0        70.0     1921.0   \n",
       " 21          5.0     1382.0       1051.0         2.0        20.0     1963.0   \n",
       " 22          9.0      960.0        648.0         1.0        80.0     1965.0   \n",
       " 23          5.0      894.0        894.0         1.0        20.0     1966.0   \n",
       " \n",
       "     NeighborhoodCond  \n",
       " 0                2.0  \n",
       " 1                2.0  \n",
       " 2                2.0  \n",
       " 3                2.0  \n",
       " 4                3.0  \n",
       " 5                3.0  \n",
       " 6                3.0  \n",
       " 7                3.0  \n",
       " 8                2.0  \n",
       " 9                2.0  \n",
       " 10               2.0  \n",
       " 11               2.0  \n",
       " 12               3.0  \n",
       " 13               3.0  \n",
       " 14               3.0  \n",
       " 15               3.0  \n",
       " 16               2.0  \n",
       " 17               2.0  \n",
       " 18               2.0  \n",
       " 19               2.0  \n",
       " 20               3.0  \n",
       " 21               3.0  \n",
       " 22               3.0  \n",
       " 23               3.0  ,\n",
       " 18:     MasVnrArea  KitchenQual  SaleCondition_Normal  remod_last  ExterQual_TA  \\\n",
       " 0          0.0          3.0                   1.0      2004.0           1.0   \n",
       " 1          0.0          3.0                   1.0      1950.0           1.0   \n",
       " 2          0.0          4.0                   1.0      1995.0           1.0   \n",
       " 3          0.0          3.0                   1.0      1950.0           1.0   \n",
       " 4          0.0          3.0                   1.0      1978.0           1.0   \n",
       " 5          0.0          3.0                   1.0      1968.0           1.0   \n",
       " 6          1.0          3.0                   1.0      1977.0           1.0   \n",
       " 7          0.0          3.0                   1.0      2004.0           1.0   \n",
       " 8          0.0          3.0                   1.0      1950.0           1.0   \n",
       " 9          0.0          4.0                   1.0      1995.0           1.0   \n",
       " 10         0.0          3.0                   1.0      1950.0           1.0   \n",
       " 11         0.0          3.0                   1.0      1978.0           1.0   \n",
       " 12         0.0          3.0                   1.0      1968.0           1.0   \n",
       " 13         1.0          3.0                   1.0      1977.0           1.0   \n",
       " 14         0.0          3.0                   1.0      2004.0           1.0   \n",
       " 15         0.0          3.0                   1.0      1950.0           1.0   \n",
       " 16         0.0          4.0                   1.0      1995.0           1.0   \n",
       " 17         0.0          3.0                   1.0      1950.0           1.0   \n",
       " 18         0.0          3.0                   1.0      1978.0           1.0   \n",
       " 19         0.0          3.0                   1.0      1968.0           1.0   \n",
       " 20         1.0          3.0                   1.0      1977.0           1.0   \n",
       " \n",
       "     LotArea  BsmtQual_Ex  BsmtUnfSF  NeighborhoodQual  YrSold  OverallQual  \\\n",
       " 0    6120.0          0.0      939.0               1.0  2007.0          5.0   \n",
       " 1    6000.0          0.0      862.0               1.0  2008.0          6.0   \n",
       " 2    7200.0          0.0      803.0               2.0  2006.0          5.0   \n",
       " 3    6292.0          0.0      384.0               2.0  2008.0          6.0   \n",
       " 4    8930.0          0.0        0.0               4.0  2010.0          6.0   \n",
       " 5    8250.0          0.0      210.0               4.0  2008.0          5.0   \n",
       " 6   18890.0          0.0      652.0               4.0  2007.0          5.0   \n",
       " 7    6120.0          0.0      939.0               1.0  2007.0          5.0   \n",
       " 8    6000.0          0.0      862.0               1.0  2008.0          6.0   \n",
       " 9    7200.0          0.0      803.0               2.0  2006.0          5.0   \n",
       " 10   6292.0          0.0      384.0               2.0  2008.0          6.0   \n",
       " 11   8930.0          0.0        0.0               4.0  2010.0          6.0   \n",
       " 12   8250.0          0.0      210.0               4.0  2008.0          5.0   \n",
       " 13  18890.0          0.0      652.0               4.0  2007.0          5.0   \n",
       " 14   6120.0          0.0      939.0               1.0  2007.0          5.0   \n",
       " 15   6000.0          0.0      862.0               1.0  2008.0          6.0   \n",
       " 16   7200.0          0.0      803.0               2.0  2006.0          5.0   \n",
       " 17   6292.0          0.0      384.0               2.0  2008.0          6.0   \n",
       " 18   8930.0          0.0        0.0               4.0  2010.0          6.0   \n",
       " 19   8250.0          0.0      210.0               4.0  2008.0          5.0   \n",
       " 20  18890.0          0.0      652.0               4.0  2007.0          5.0   \n",
       " \n",
       "     OverallCond  GrLivArea  TotalBsmtSF  GarageCars  MSSubClass  YearBuilt  \\\n",
       " 0           8.0     1513.0        939.0         1.0        70.0     1920.0   \n",
       " 1           7.0     1158.0        862.0         1.0        50.0     1929.0   \n",
       " 2           6.0     1360.0        803.0         1.0        50.0     1938.0   \n",
       " 3           5.0      790.0        768.0         1.0        30.0     1930.0   \n",
       " 4           5.0     1902.0          0.0         2.0        90.0     1978.0   \n",
       " 5           5.0     1211.0        952.0         1.0        20.0     1968.0   \n",
       " 6           5.0     2620.0       1361.0         2.0        90.0     1977.0   \n",
       " 7           8.0     1513.0        939.0         1.0        70.0     1920.0   \n",
       " 8           7.0     1158.0        862.0         1.0        50.0     1929.0   \n",
       " 9           6.0     1360.0        803.0         1.0        50.0     1938.0   \n",
       " 10          5.0      790.0        768.0         1.0        30.0     1930.0   \n",
       " 11          5.0     1902.0          0.0         2.0        90.0     1978.0   \n",
       " 12          5.0     1211.0        952.0         1.0        20.0     1968.0   \n",
       " 13          5.0     2620.0       1361.0         2.0        90.0     1977.0   \n",
       " 14          8.0     1513.0        939.0         1.0        70.0     1920.0   \n",
       " 15          7.0     1158.0        862.0         1.0        50.0     1929.0   \n",
       " 16          6.0     1360.0        803.0         1.0        50.0     1938.0   \n",
       " 17          5.0      790.0        768.0         1.0        30.0     1930.0   \n",
       " 18          5.0     1902.0          0.0         2.0        90.0     1978.0   \n",
       " 19          5.0     1211.0        952.0         1.0        20.0     1968.0   \n",
       " 20          5.0     2620.0       1361.0         2.0        90.0     1977.0   \n",
       " \n",
       "     NeighborhoodCond  \n",
       " 0                2.0  \n",
       " 1                2.0  \n",
       " 2                2.0  \n",
       " 3                3.0  \n",
       " 4                3.0  \n",
       " 5                3.0  \n",
       " 6                3.0  \n",
       " 7                2.0  \n",
       " 8                2.0  \n",
       " 9                2.0  \n",
       " 10               3.0  \n",
       " 11               3.0  \n",
       " 12               3.0  \n",
       " 13               3.0  \n",
       " 14               2.0  \n",
       " 15               2.0  \n",
       " 16               2.0  \n",
       " 17               3.0  \n",
       " 18               3.0  \n",
       " 19               3.0  \n",
       " 20               3.0  ,\n",
       " 19:     MasVnrArea  KitchenQual  SaleCondition_Normal  remod_last  ExterQual_TA  \\\n",
       " 0          0.0          4.0                   1.0      2000.0           1.0   \n",
       " 1          0.0          2.0                   1.0      1950.0           1.0   \n",
       " 2          0.0          4.0                   1.0      2007.0           1.0   \n",
       " 3          0.0          4.0                   1.0      1990.0           1.0   \n",
       " 4        114.0          3.0                   1.0      1965.0           1.0   \n",
       " 5          0.0          4.0                   1.0      2007.0           1.0   \n",
       " 6          0.0          3.0                   1.0      1966.0           1.0   \n",
       " 7          0.0          4.0                   1.0      2000.0           1.0   \n",
       " 8          0.0          2.0                   1.0      1950.0           1.0   \n",
       " 9          0.0          4.0                   1.0      2007.0           1.0   \n",
       " 10         0.0          4.0                   1.0      1990.0           1.0   \n",
       " 11       114.0          3.0                   1.0      1965.0           1.0   \n",
       " 12         0.0          4.0                   1.0      2007.0           1.0   \n",
       " 13         0.0          3.0                   1.0      1966.0           1.0   \n",
       " 14         0.0          4.0                   1.0      2000.0           1.0   \n",
       " 15         0.0          2.0                   1.0      1950.0           1.0   \n",
       " 16         0.0          4.0                   1.0      2007.0           1.0   \n",
       " 17         0.0          4.0                   1.0      1990.0           1.0   \n",
       " 18       114.0          3.0                   1.0      1965.0           1.0   \n",
       " 19         0.0          4.0                   1.0      2007.0           1.0   \n",
       " 20         0.0          3.0                   1.0      1966.0           1.0   \n",
       " \n",
       "     LotArea  BsmtQual_Ex  BsmtUnfSF  NeighborhoodQual  YrSold  OverallQual  \\\n",
       " 0   13053.0          0.0      833.0               1.0  2008.0          6.0   \n",
       " 1    8854.0          0.0      952.0               1.0  2009.0          6.0   \n",
       " 2    5436.0          0.0       61.0               2.0  2010.0          4.0   \n",
       " 3    6171.0          0.0      712.0               2.0  2009.0          6.0   \n",
       " 4   13526.0          0.0        0.0               4.0  2006.0          5.0   \n",
       " 5   25339.0          0.0      816.0               4.0  2007.0          5.0   \n",
       " 6    8400.0          0.0        0.0               4.0  2007.0          6.0   \n",
       " 7   13053.0          0.0      833.0               1.0  2008.0          6.0   \n",
       " 8    8854.0          0.0      952.0               1.0  2009.0          6.0   \n",
       " 9    5436.0          0.0       61.0               2.0  2010.0          4.0   \n",
       " 10   6171.0          0.0      712.0               2.0  2009.0          6.0   \n",
       " 11  13526.0          0.0        0.0               4.0  2006.0          5.0   \n",
       " 12  25339.0          0.0      816.0               4.0  2007.0          5.0   \n",
       " 13   8400.0          0.0        0.0               4.0  2007.0          6.0   \n",
       " 14  13053.0          0.0      833.0               1.0  2008.0          6.0   \n",
       " 15   8854.0          0.0      952.0               1.0  2009.0          6.0   \n",
       " 16   5436.0          0.0       61.0               2.0  2010.0          4.0   \n",
       " 17   6171.0          0.0      712.0               2.0  2009.0          6.0   \n",
       " 18  13526.0          0.0        0.0               4.0  2006.0          5.0   \n",
       " 19  25339.0          0.0      816.0               4.0  2007.0          5.0   \n",
       " 20   8400.0          0.0        0.0               4.0  2007.0          6.0   \n",
       " \n",
       "     OverallCond  GrLivArea  TotalBsmtSF  GarageCars  MSSubClass  YearBuilt  \\\n",
       " 0           7.0     1848.0        833.0         2.0        50.0     1923.0   \n",
       " 1           6.0      952.0        952.0         1.0        30.0     1916.0   \n",
       " 2           8.0     1154.0        796.0         1.0        50.0     1922.0   \n",
       " 3           6.0     1608.0        976.0         1.0        50.0     1925.0   \n",
       " 4           6.0      935.0        935.0         1.0        20.0     1965.0   \n",
       " 5           7.0     1416.0        816.0         2.0        30.0     1918.0   \n",
       " 6           5.0      913.0        814.0         1.0        85.0     1966.0   \n",
       " 7           7.0     1848.0        833.0         2.0        50.0     1923.0   \n",
       " 8           6.0      952.0        952.0         1.0        30.0     1916.0   \n",
       " 9           8.0     1154.0        796.0         1.0        50.0     1922.0   \n",
       " 10          6.0     1608.0        976.0         1.0        50.0     1925.0   \n",
       " 11          6.0      935.0        935.0         1.0        20.0     1965.0   \n",
       " 12          7.0     1416.0        816.0         2.0        30.0     1918.0   \n",
       " 13          5.0      913.0        814.0         1.0        85.0     1966.0   \n",
       " 14          7.0     1848.0        833.0         2.0        50.0     1923.0   \n",
       " 15          6.0      952.0        952.0         1.0        30.0     1916.0   \n",
       " 16          8.0     1154.0        796.0         1.0        50.0     1922.0   \n",
       " 17          6.0     1608.0        976.0         1.0        50.0     1925.0   \n",
       " 18          6.0      935.0        935.0         1.0        20.0     1965.0   \n",
       " 19          7.0     1416.0        816.0         2.0        30.0     1918.0   \n",
       " 20          5.0      913.0        814.0         1.0        85.0     1966.0   \n",
       " \n",
       "     NeighborhoodCond  \n",
       " 0                2.0  \n",
       " 1                2.0  \n",
       " 2                2.0  \n",
       " 3                3.0  \n",
       " 4                3.0  \n",
       " 5                3.0  \n",
       " 6                3.0  \n",
       " 7                2.0  \n",
       " 8                2.0  \n",
       " 9                2.0  \n",
       " 10               3.0  \n",
       " 11               3.0  \n",
       " 12               3.0  \n",
       " 13               3.0  \n",
       " 14               2.0  \n",
       " 15               2.0  \n",
       " 16               2.0  \n",
       " 17               3.0  \n",
       " 18               3.0  \n",
       " 19               3.0  \n",
       " 20               3.0  }"
      ]
     },
     "execution_count": 23,
     "metadata": {},
     "output_type": "execute_result"
    }
   ],
   "source": [
    "folds_X"
   ]
  },
  {
   "cell_type": "code",
   "execution_count": 24,
   "id": "6007d984-c2b0-458b-8fae-7eb67eb99bef",
   "metadata": {},
   "outputs": [
    {
     "ename": "ValueError",
     "evalue": "could not convert string to float: 'CollgCr'",
     "output_type": "error",
     "traceback": [
      "\u001b[1;31m---------------------------------------------------------------------------\u001b[0m",
      "\u001b[1;31mValueError\u001b[0m                                Traceback (most recent call last)",
      "Cell \u001b[1;32mIn[24], line 3\u001b[0m\n\u001b[0;32m      1\u001b[0m train_data\u001b[38;5;241m.\u001b[39mdrop(\u001b[38;5;124m'\u001b[39m\u001b[38;5;124mNeighborhood\u001b[39m\u001b[38;5;124m'\u001b[39m, axis\u001b[38;5;241m=\u001b[39m\u001b[38;5;241m1\u001b[39m)\n\u001b[0;32m      2\u001b[0m X_poly_corr \u001b[38;5;241m=\u001b[39m train_data\u001b[38;5;241m.\u001b[39mdropna(axis\u001b[38;5;241m=\u001b[39m\u001b[38;5;241m1\u001b[39m)\u001b[38;5;241m.\u001b[39mcopy()\n\u001b[1;32m----> 3\u001b[0m corrX \u001b[38;5;241m=\u001b[39m \u001b[43mX_poly_corr\u001b[49m\u001b[38;5;241;43m.\u001b[39;49m\u001b[43mcorr\u001b[49m\u001b[43m(\u001b[49m\u001b[43mmethod\u001b[49m\u001b[38;5;241;43m=\u001b[39;49m\u001b[38;5;124;43m'\u001b[39;49m\u001b[38;5;124;43mspearman\u001b[39;49m\u001b[38;5;124;43m'\u001b[39;49m\u001b[43m)\u001b[49m\n\u001b[0;32m      4\u001b[0m corrX\n",
      "File \u001b[1;32m~\\AppData\\Local\\Programs\\Python\\Python311\\Lib\\site-packages\\pandas\\core\\frame.py:11036\u001b[0m, in \u001b[0;36mDataFrame.corr\u001b[1;34m(self, method, min_periods, numeric_only)\u001b[0m\n\u001b[0;32m  11034\u001b[0m cols \u001b[38;5;241m=\u001b[39m data\u001b[38;5;241m.\u001b[39mcolumns\n\u001b[0;32m  11035\u001b[0m idx \u001b[38;5;241m=\u001b[39m cols\u001b[38;5;241m.\u001b[39mcopy()\n\u001b[1;32m> 11036\u001b[0m mat \u001b[38;5;241m=\u001b[39m \u001b[43mdata\u001b[49m\u001b[38;5;241;43m.\u001b[39;49m\u001b[43mto_numpy\u001b[49m\u001b[43m(\u001b[49m\u001b[43mdtype\u001b[49m\u001b[38;5;241;43m=\u001b[39;49m\u001b[38;5;28;43mfloat\u001b[39;49m\u001b[43m,\u001b[49m\u001b[43m \u001b[49m\u001b[43mna_value\u001b[49m\u001b[38;5;241;43m=\u001b[39;49m\u001b[43mnp\u001b[49m\u001b[38;5;241;43m.\u001b[39;49m\u001b[43mnan\u001b[49m\u001b[43m,\u001b[49m\u001b[43m \u001b[49m\u001b[43mcopy\u001b[49m\u001b[38;5;241;43m=\u001b[39;49m\u001b[38;5;28;43;01mFalse\u001b[39;49;00m\u001b[43m)\u001b[49m\n\u001b[0;32m  11038\u001b[0m \u001b[38;5;28;01mif\u001b[39;00m method \u001b[38;5;241m==\u001b[39m \u001b[38;5;124m\"\u001b[39m\u001b[38;5;124mpearson\u001b[39m\u001b[38;5;124m\"\u001b[39m:\n\u001b[0;32m  11039\u001b[0m     correl \u001b[38;5;241m=\u001b[39m libalgos\u001b[38;5;241m.\u001b[39mnancorr(mat, minp\u001b[38;5;241m=\u001b[39mmin_periods)\n",
      "File \u001b[1;32m~\\AppData\\Local\\Programs\\Python\\Python311\\Lib\\site-packages\\pandas\\core\\frame.py:1981\u001b[0m, in \u001b[0;36mDataFrame.to_numpy\u001b[1;34m(self, dtype, copy, na_value)\u001b[0m\n\u001b[0;32m   1979\u001b[0m \u001b[38;5;28;01mif\u001b[39;00m dtype \u001b[38;5;129;01mis\u001b[39;00m \u001b[38;5;129;01mnot\u001b[39;00m \u001b[38;5;28;01mNone\u001b[39;00m:\n\u001b[0;32m   1980\u001b[0m     dtype \u001b[38;5;241m=\u001b[39m np\u001b[38;5;241m.\u001b[39mdtype(dtype)\n\u001b[1;32m-> 1981\u001b[0m result \u001b[38;5;241m=\u001b[39m \u001b[38;5;28;43mself\u001b[39;49m\u001b[38;5;241;43m.\u001b[39;49m\u001b[43m_mgr\u001b[49m\u001b[38;5;241;43m.\u001b[39;49m\u001b[43mas_array\u001b[49m\u001b[43m(\u001b[49m\u001b[43mdtype\u001b[49m\u001b[38;5;241;43m=\u001b[39;49m\u001b[43mdtype\u001b[49m\u001b[43m,\u001b[49m\u001b[43m \u001b[49m\u001b[43mcopy\u001b[49m\u001b[38;5;241;43m=\u001b[39;49m\u001b[43mcopy\u001b[49m\u001b[43m,\u001b[49m\u001b[43m \u001b[49m\u001b[43mna_value\u001b[49m\u001b[38;5;241;43m=\u001b[39;49m\u001b[43mna_value\u001b[49m\u001b[43m)\u001b[49m\n\u001b[0;32m   1982\u001b[0m \u001b[38;5;28;01mif\u001b[39;00m result\u001b[38;5;241m.\u001b[39mdtype \u001b[38;5;129;01mis\u001b[39;00m \u001b[38;5;129;01mnot\u001b[39;00m dtype:\n\u001b[0;32m   1983\u001b[0m     result \u001b[38;5;241m=\u001b[39m np\u001b[38;5;241m.\u001b[39marray(result, dtype\u001b[38;5;241m=\u001b[39mdtype, copy\u001b[38;5;241m=\u001b[39m\u001b[38;5;28;01mFalse\u001b[39;00m)\n",
      "File \u001b[1;32m~\\AppData\\Local\\Programs\\Python\\Python311\\Lib\\site-packages\\pandas\\core\\internals\\managers.py:1692\u001b[0m, in \u001b[0;36mBlockManager.as_array\u001b[1;34m(self, dtype, copy, na_value)\u001b[0m\n\u001b[0;32m   1690\u001b[0m         arr\u001b[38;5;241m.\u001b[39mflags\u001b[38;5;241m.\u001b[39mwriteable \u001b[38;5;241m=\u001b[39m \u001b[38;5;28;01mFalse\u001b[39;00m\n\u001b[0;32m   1691\u001b[0m \u001b[38;5;28;01melse\u001b[39;00m:\n\u001b[1;32m-> 1692\u001b[0m     arr \u001b[38;5;241m=\u001b[39m \u001b[38;5;28;43mself\u001b[39;49m\u001b[38;5;241;43m.\u001b[39;49m\u001b[43m_interleave\u001b[49m\u001b[43m(\u001b[49m\u001b[43mdtype\u001b[49m\u001b[38;5;241;43m=\u001b[39;49m\u001b[43mdtype\u001b[49m\u001b[43m,\u001b[49m\u001b[43m \u001b[49m\u001b[43mna_value\u001b[49m\u001b[38;5;241;43m=\u001b[39;49m\u001b[43mna_value\u001b[49m\u001b[43m)\u001b[49m\n\u001b[0;32m   1693\u001b[0m     \u001b[38;5;66;03m# The underlying data was copied within _interleave, so no need\u001b[39;00m\n\u001b[0;32m   1694\u001b[0m     \u001b[38;5;66;03m# to further copy if copy=True or setting na_value\u001b[39;00m\n\u001b[0;32m   1696\u001b[0m \u001b[38;5;28;01mif\u001b[39;00m na_value \u001b[38;5;129;01mis\u001b[39;00m lib\u001b[38;5;241m.\u001b[39mno_default:\n",
      "File \u001b[1;32m~\\AppData\\Local\\Programs\\Python\\Python311\\Lib\\site-packages\\pandas\\core\\internals\\managers.py:1751\u001b[0m, in \u001b[0;36mBlockManager._interleave\u001b[1;34m(self, dtype, na_value)\u001b[0m\n\u001b[0;32m   1749\u001b[0m     \u001b[38;5;28;01melse\u001b[39;00m:\n\u001b[0;32m   1750\u001b[0m         arr \u001b[38;5;241m=\u001b[39m blk\u001b[38;5;241m.\u001b[39mget_values(dtype)\n\u001b[1;32m-> 1751\u001b[0m     \u001b[43mresult\u001b[49m\u001b[43m[\u001b[49m\u001b[43mrl\u001b[49m\u001b[38;5;241;43m.\u001b[39;49m\u001b[43mindexer\u001b[49m\u001b[43m]\u001b[49m \u001b[38;5;241m=\u001b[39m arr\n\u001b[0;32m   1752\u001b[0m     itemmask[rl\u001b[38;5;241m.\u001b[39mindexer] \u001b[38;5;241m=\u001b[39m \u001b[38;5;241m1\u001b[39m\n\u001b[0;32m   1754\u001b[0m \u001b[38;5;28;01mif\u001b[39;00m \u001b[38;5;129;01mnot\u001b[39;00m itemmask\u001b[38;5;241m.\u001b[39mall():\n",
      "\u001b[1;31mValueError\u001b[0m: could not convert string to float: 'CollgCr'"
     ]
    }
   ],
   "source": [
    "train_data.drop('Neighborhood', axis=1)\n",
    "X_poly_corr = train_data.dropna(axis=1).copy()\n",
    "corrX = X_poly_corr.corr(method='spearman')\n",
    "corrX"
   ]
  },
  {
   "cell_type": "code",
   "execution_count": 25,
   "id": "4a0b60d4-871f-417f-b745-b440171b79b0",
   "metadata": {},
   "outputs": [
    {
     "ename": "NameError",
     "evalue": "name 'corrX' is not defined",
     "output_type": "error",
     "traceback": [
      "\u001b[1;31m---------------------------------------------------------------------------\u001b[0m",
      "\u001b[1;31mNameError\u001b[0m                                 Traceback (most recent call last)",
      "Cell \u001b[1;32mIn[25], line 96\u001b[0m\n\u001b[0;32m     93\u001b[0m     interactive_fig \u001b[38;5;241m=\u001b[39m plot_interactive_mst(T, pos)\n\u001b[0;32m     94\u001b[0m     interactive_fig\u001b[38;5;241m.\u001b[39mshow()\n\u001b[1;32m---> 96\u001b[0m plot_mst(\u001b[43mcorrX\u001b[49m, X_poly_corr)\n",
      "\u001b[1;31mNameError\u001b[0m: name 'corrX' is not defined"
     ]
    }
   ],
   "source": [
    "import plotly.graph_objs as go\n",
    "import pandas as pd\n",
    "import numpy as np\n",
    "import networkx as nx\n",
    "\n",
    "def plot_mst(corrmat, corr_df):\n",
    "    num_assets = corrmat.shape[1]\n",
    "\n",
    "    distance_matrix = np.sqrt(2 * (1 - corrmat))\n",
    "\n",
    "    dist_df = pd.DataFrame(distance_matrix, index=corr_df.columns,\n",
    "                           columns=corr_df.columns)\n",
    "\n",
    "    # Generate the MST using the networkx library\n",
    "    G = nx.from_pandas_adjacency(dist_df)\n",
    "\n",
    "    # Use Kruskal's algorithm to find the MST (networkx uses Kruskal's by default)\n",
    "    T = nx.minimum_spanning_tree(G)\n",
    "\n",
    "    # Draw the MST\n",
    "    pos = nx.spring_layout(T)  # positions for all nodes\n",
    "\n",
    "    # Function to create the interactive MST plot\n",
    "    def plot_interactive_mst(T, pos):\n",
    "        edge_x = []\n",
    "        edge_y = []\n",
    "        edge_weight = []\n",
    "\n",
    "        for edge in T.edges(data=True):\n",
    "            x0, y0 = pos[edge[0]]\n",
    "            x1, y1 = pos[edge[1]]\n",
    "            weight = edge[2]['weight']\n",
    "            edge_x.extend([x0, x1, None])\n",
    "            edge_y.extend([y0, y1, None])\n",
    "            edge_weight.append(weight)\n",
    "\n",
    "        edge_trace = go.Scatter(\n",
    "            x=edge_x, y=edge_y,\n",
    "            line=dict(width=0.5, color='#888'),\n",
    "            hoverinfo='none',\n",
    "            mode='lines')\n",
    "\n",
    "        node_x = []\n",
    "        node_y = []\n",
    "        node_text = []\n",
    "\n",
    "        for node in T.nodes():\n",
    "            x, y = pos[node]\n",
    "            node_x.append(x)\n",
    "            node_y.append(y)\n",
    "            node_text.append(str(node))\n",
    "\n",
    "        node_trace = go.Scatter(\n",
    "            x=node_x, y=node_y,\n",
    "            mode='markers+text',\n",
    "            text=node_text,\n",
    "            hoverinfo='text',\n",
    "            marker=dict(\n",
    "                showscale=False,\n",
    "                colorscale='YlGnBu',\n",
    "                size=10,\n",
    "                line_width=2))\n",
    "\n",
    "        # Add edge weights to the plot\n",
    "        middle_node_trace = go.Scatter(\n",
    "            x=[],\n",
    "            y=[],\n",
    "            text=[],\n",
    "            mode='text',\n",
    "            textposition=\"bottom center\",\n",
    "            hoverinfo='none'\n",
    "        )\n",
    "\n",
    "        for edge in T.edges(data=True):\n",
    "            x0, y0 = pos[edge[0]]\n",
    "            x1, y1 = pos[edge[1]]\n",
    "            middle_node_trace['x'] += tuple([(x0 + x1) / 2])\n",
    "            middle_node_trace['y'] += tuple([(y0 + y1) / 2])\n",
    "            weight = edge[2]['weight']\n",
    "            middle_node_trace['text'] += tuple([f'{weight:.2f}'])\n",
    "\n",
    "        fig = go.Figure(data=[edge_trace, node_trace, middle_node_trace],\n",
    "                        layout=go.Layout(\n",
    "                            showlegend=False,\n",
    "                            hovermode='closest',\n",
    "                            margin=dict(b=20,l=5,r=5,t=40),\n",
    "                            xaxis=dict(showgrid=False, zeroline=False, showticklabels=False),\n",
    "                            yaxis=dict(showgrid=False, zeroline=False, showticklabels=False))\n",
    "                            )\n",
    "        return fig\n",
    "\n",
    "    # Using the positions from the previous matplotlib plot\n",
    "    interactive_fig = plot_interactive_mst(T, pos)\n",
    "    interactive_fig.show()\n",
    "    \n",
    "plot_mst(corrX, X_poly_corr)"
   ]
  },
  {
   "cell_type": "code",
   "execution_count": null,
   "id": "ffaecf48-410a-48f6-a2d1-865ba4976733",
   "metadata": {},
   "outputs": [],
   "source": [
    "'''\n",
    "model = RandomForestRegressor(n_jobs = -1) \n",
    "params = {'max_depth': [20,30,40], 'n_estimators': [500], 'max_features': [100,140,160]} \n",
    "gsCV = GridSearchCV(estimator = rf_test, param_grid = params, cv = 5, n_jobs = -1, verbose = 3) \n",
    "gsCV.fit(train_data.drop('SalePrice',axis = 1),train_data['SalePrice'])\n",
    "print(gsCV.best_estimator_)\n",
    "'''"
   ]
  },
  {
   "cell_type": "code",
   "execution_count": 27,
   "id": "8fd31ec2-708e-4e2b-9c11-1294c3112ed5",
   "metadata": {},
   "outputs": [
    {
     "data": {
      "text/html": [
       "<table class=\"simpletable\">\n",
       "<caption>OLS Regression Results</caption>\n",
       "<tr>\n",
       "  <th>Dep. Variable:</th>            <td>y</td>        <th>  R-squared:         </th> <td>   0.785</td> \n",
       "</tr>\n",
       "<tr>\n",
       "  <th>Model:</th>                   <td>OLS</td>       <th>  Adj. R-squared:    </th> <td>   0.779</td> \n",
       "</tr>\n",
       "<tr>\n",
       "  <th>Method:</th>             <td>Least Squares</td>  <th>  F-statistic:       </th> <td>   130.4</td> \n",
       "</tr>\n",
       "<tr>\n",
       "  <th>Date:</th>             <td>Fri, 08 Mar 2024</td> <th>  Prob (F-statistic):</th> <td>1.61e-199</td>\n",
       "</tr>\n",
       "<tr>\n",
       "  <th>Time:</th>                 <td>20:54:58</td>     <th>  Log-Likelihood:    </th> <td>  363.61</td> \n",
       "</tr>\n",
       "<tr>\n",
       "  <th>No. Observations:</th>      <td>   690</td>      <th>  AIC:               </th> <td>  -691.2</td> \n",
       "</tr>\n",
       "<tr>\n",
       "  <th>Df Residuals:</th>          <td>   672</td>      <th>  BIC:               </th> <td>  -609.6</td> \n",
       "</tr>\n",
       "<tr>\n",
       "  <th>Df Model:</th>              <td>    17</td>      <th>                     </th>     <td> </td>    \n",
       "</tr>\n",
       "<tr>\n",
       "  <th>Covariance Type:</th>         <td>HC0</td>       <th>                     </th>     <td> </td>    \n",
       "</tr>\n",
       "</table>\n",
       "<table class=\"simpletable\">\n",
       "<tr>\n",
       "    <td></td>       <th>coef</th>     <th>std err</th>      <th>z</th>      <th>P>|z|</th>  <th>[0.025</th>    <th>0.975]</th>  \n",
       "</tr>\n",
       "<tr>\n",
       "  <th>const</th> <td>   14.0785</td> <td>    7.971</td> <td>    1.766</td> <td> 0.077</td> <td>   -1.544</td> <td>   29.701</td>\n",
       "</tr>\n",
       "<tr>\n",
       "  <th>x1</th>    <td> 6.755e-05</td> <td> 6.47e-05</td> <td>    1.044</td> <td> 0.297</td> <td>-5.93e-05</td> <td>    0.000</td>\n",
       "</tr>\n",
       "<tr>\n",
       "  <th>x2</th>    <td>    0.0269</td> <td>    0.011</td> <td>    2.556</td> <td> 0.011</td> <td>    0.006</td> <td>    0.048</td>\n",
       "</tr>\n",
       "<tr>\n",
       "  <th>x3</th>    <td>    0.0983</td> <td>    0.026</td> <td>    3.748</td> <td> 0.000</td> <td>    0.047</td> <td>    0.150</td>\n",
       "</tr>\n",
       "<tr>\n",
       "  <th>x4</th>    <td>    0.0011</td> <td>    0.000</td> <td>    3.107</td> <td> 0.002</td> <td>    0.000</td> <td>    0.002</td>\n",
       "</tr>\n",
       "<tr>\n",
       "  <th>x5</th>    <td>    0.0972</td> <td>    0.027</td> <td>    3.632</td> <td> 0.000</td> <td>    0.045</td> <td>    0.150</td>\n",
       "</tr>\n",
       "<tr>\n",
       "  <th>x6</th>    <td>  8.85e-06</td> <td> 2.26e-06</td> <td>    3.923</td> <td> 0.000</td> <td> 4.43e-06</td> <td> 1.33e-05</td>\n",
       "</tr>\n",
       "<tr>\n",
       "  <th>x7</th>    <td> 1.373e-11</td> <td> 7.77e-12</td> <td>    1.766</td> <td> 0.077</td> <td>-1.51e-12</td> <td>  2.9e-11</td>\n",
       "</tr>\n",
       "<tr>\n",
       "  <th>x8</th>    <td>-6.901e-05</td> <td> 2.24e-05</td> <td>   -3.085</td> <td> 0.002</td> <td>   -0.000</td> <td>-2.52e-05</td>\n",
       "</tr>\n",
       "<tr>\n",
       "  <th>x9</th>    <td>   -0.0557</td> <td>    0.010</td> <td>   -5.714</td> <td> 0.000</td> <td>   -0.075</td> <td>   -0.037</td>\n",
       "</tr>\n",
       "<tr>\n",
       "  <th>x10</th>   <td>   -0.0066</td> <td>    0.004</td> <td>   -1.619</td> <td> 0.105</td> <td>   -0.014</td> <td>    0.001</td>\n",
       "</tr>\n",
       "<tr>\n",
       "  <th>x11</th>   <td>    0.0824</td> <td>    0.007</td> <td>   12.604</td> <td> 0.000</td> <td>    0.070</td> <td>    0.095</td>\n",
       "</tr>\n",
       "<tr>\n",
       "  <th>x12</th>   <td>    0.0547</td> <td>    0.006</td> <td>    9.521</td> <td> 0.000</td> <td>    0.043</td> <td>    0.066</td>\n",
       "</tr>\n",
       "<tr>\n",
       "  <th>x13</th>   <td>    0.0003</td> <td>  1.7e-05</td> <td>   17.086</td> <td> 0.000</td> <td>    0.000</td> <td>    0.000</td>\n",
       "</tr>\n",
       "<tr>\n",
       "  <th>x14</th>   <td>    0.0003</td> <td> 2.85e-05</td> <td>   11.353</td> <td> 0.000</td> <td>    0.000</td> <td>    0.000</td>\n",
       "</tr>\n",
       "<tr>\n",
       "  <th>x15</th>   <td>    0.0423</td> <td>    0.009</td> <td>    4.652</td> <td> 0.000</td> <td>    0.025</td> <td>    0.060</td>\n",
       "</tr>\n",
       "<tr>\n",
       "  <th>x16</th>   <td>   -0.0003</td> <td>    0.000</td> <td>   -2.290</td> <td> 0.022</td> <td>   -0.001</td> <td>-4.36e-05</td>\n",
       "</tr>\n",
       "<tr>\n",
       "  <th>x17</th>   <td>    0.0035</td> <td>    0.001</td> <td>    6.871</td> <td> 0.000</td> <td>    0.003</td> <td>    0.005</td>\n",
       "</tr>\n",
       "<tr>\n",
       "  <th>x18</th>   <td>    0.0648</td> <td>    0.014</td> <td>    4.491</td> <td> 0.000</td> <td>    0.037</td> <td>    0.093</td>\n",
       "</tr>\n",
       "</table>\n",
       "<table class=\"simpletable\">\n",
       "<tr>\n",
       "  <th>Omnibus:</th>       <td>235.537</td> <th>  Durbin-Watson:     </th> <td>   1.991</td> \n",
       "</tr>\n",
       "<tr>\n",
       "  <th>Prob(Omnibus):</th> <td> 0.000</td>  <th>  Jarque-Bera (JB):  </th> <td>1070.531</td> \n",
       "</tr>\n",
       "<tr>\n",
       "  <th>Skew:</th>          <td>-1.498</td>  <th>  Prob(JB):          </th> <td>3.44e-233</td>\n",
       "</tr>\n",
       "<tr>\n",
       "  <th>Kurtosis:</th>      <td> 8.316</td>  <th>  Cond. No.          </th> <td>2.45e+18</td> \n",
       "</tr>\n",
       "</table><br/><br/>Notes:<br/>[1] Standard Errors are heteroscedasticity robust (HC0)<br/>[2] The smallest eigenvalue is 9.76e-27. This might indicate that there are<br/>strong multicollinearity problems or that the design matrix is singular."
      ],
      "text/latex": [
       "\\begin{center}\n",
       "\\begin{tabular}{lclc}\n",
       "\\toprule\n",
       "\\textbf{Dep. Variable:}    &        y         & \\textbf{  R-squared:         } &     0.785   \\\\\n",
       "\\textbf{Model:}            &       OLS        & \\textbf{  Adj. R-squared:    } &     0.779   \\\\\n",
       "\\textbf{Method:}           &  Least Squares   & \\textbf{  F-statistic:       } &     130.4   \\\\\n",
       "\\textbf{Date:}             & Fri, 08 Mar 2024 & \\textbf{  Prob (F-statistic):} & 1.61e-199   \\\\\n",
       "\\textbf{Time:}             &     20:54:58     & \\textbf{  Log-Likelihood:    } &    363.61   \\\\\n",
       "\\textbf{No. Observations:} &         690      & \\textbf{  AIC:               } &    -691.2   \\\\\n",
       "\\textbf{Df Residuals:}     &         672      & \\textbf{  BIC:               } &    -609.6   \\\\\n",
       "\\textbf{Df Model:}         &          17      & \\textbf{                     } &             \\\\\n",
       "\\textbf{Covariance Type:}  &       HC0        & \\textbf{                     } &             \\\\\n",
       "\\bottomrule\n",
       "\\end{tabular}\n",
       "\\begin{tabular}{lcccccc}\n",
       "               & \\textbf{coef} & \\textbf{std err} & \\textbf{z} & \\textbf{P$> |$z$|$} & \\textbf{[0.025} & \\textbf{0.975]}  \\\\\n",
       "\\midrule\n",
       "\\textbf{const} &      14.0785  &        7.971     &     1.766  &         0.077        &       -1.544    &       29.701     \\\\\n",
       "\\textbf{x1}    &    6.755e-05  &     6.47e-05     &     1.044  &         0.297        &    -5.93e-05    &        0.000     \\\\\n",
       "\\textbf{x2}    &       0.0269  &        0.011     &     2.556  &         0.011        &        0.006    &        0.048     \\\\\n",
       "\\textbf{x3}    &       0.0983  &        0.026     &     3.748  &         0.000        &        0.047    &        0.150     \\\\\n",
       "\\textbf{x4}    &       0.0011  &        0.000     &     3.107  &         0.002        &        0.000    &        0.002     \\\\\n",
       "\\textbf{x5}    &       0.0972  &        0.027     &     3.632  &         0.000        &        0.045    &        0.150     \\\\\n",
       "\\textbf{x6}    &     8.85e-06  &     2.26e-06     &     3.923  &         0.000        &     4.43e-06    &     1.33e-05     \\\\\n",
       "\\textbf{x7}    &    1.373e-11  &     7.77e-12     &     1.766  &         0.077        &    -1.51e-12    &      2.9e-11     \\\\\n",
       "\\textbf{x8}    &   -6.901e-05  &     2.24e-05     &    -3.085  &         0.002        &       -0.000    &    -2.52e-05     \\\\\n",
       "\\textbf{x9}    &      -0.0557  &        0.010     &    -5.714  &         0.000        &       -0.075    &       -0.037     \\\\\n",
       "\\textbf{x10}   &      -0.0066  &        0.004     &    -1.619  &         0.105        &       -0.014    &        0.001     \\\\\n",
       "\\textbf{x11}   &       0.0824  &        0.007     &    12.604  &         0.000        &        0.070    &        0.095     \\\\\n",
       "\\textbf{x12}   &       0.0547  &        0.006     &     9.521  &         0.000        &        0.043    &        0.066     \\\\\n",
       "\\textbf{x13}   &       0.0003  &      1.7e-05     &    17.086  &         0.000        &        0.000    &        0.000     \\\\\n",
       "\\textbf{x14}   &       0.0003  &     2.85e-05     &    11.353  &         0.000        &        0.000    &        0.000     \\\\\n",
       "\\textbf{x15}   &       0.0423  &        0.009     &     4.652  &         0.000        &        0.025    &        0.060     \\\\\n",
       "\\textbf{x16}   &      -0.0003  &        0.000     &    -2.290  &         0.022        &       -0.001    &    -4.36e-05     \\\\\n",
       "\\textbf{x17}   &       0.0035  &        0.001     &     6.871  &         0.000        &        0.003    &        0.005     \\\\\n",
       "\\textbf{x18}   &       0.0648  &        0.014     &     4.491  &         0.000        &        0.037    &        0.093     \\\\\n",
       "\\bottomrule\n",
       "\\end{tabular}\n",
       "\\begin{tabular}{lclc}\n",
       "\\textbf{Omnibus:}       & 235.537 & \\textbf{  Durbin-Watson:     } &     1.991  \\\\\n",
       "\\textbf{Prob(Omnibus):} &   0.000 & \\textbf{  Jarque-Bera (JB):  } &  1070.531  \\\\\n",
       "\\textbf{Skew:}          &  -1.498 & \\textbf{  Prob(JB):          } & 3.44e-233  \\\\\n",
       "\\textbf{Kurtosis:}      &   8.316 & \\textbf{  Cond. No.          } &  2.45e+18  \\\\\n",
       "\\bottomrule\n",
       "\\end{tabular}\n",
       "%\\caption{OLS Regression Results}\n",
       "\\end{center}\n",
       "\n",
       "Notes: \\newline\n",
       " [1] Standard Errors are heteroscedasticity robust (HC0) \\newline\n",
       " [2] The smallest eigenvalue is 9.76e-27. This might indicate that there are \\newline\n",
       " strong multicollinearity problems or that the design matrix is singular."
      ],
      "text/plain": [
       "<class 'statsmodels.iolib.summary.Summary'>\n",
       "\"\"\"\n",
       "                            OLS Regression Results                            \n",
       "==============================================================================\n",
       "Dep. Variable:                      y   R-squared:                       0.785\n",
       "Model:                            OLS   Adj. R-squared:                  0.779\n",
       "Method:                 Least Squares   F-statistic:                     130.4\n",
       "Date:                Fri, 08 Mar 2024   Prob (F-statistic):          1.61e-199\n",
       "Time:                        20:54:58   Log-Likelihood:                 363.61\n",
       "No. Observations:                 690   AIC:                            -691.2\n",
       "Df Residuals:                     672   BIC:                            -609.6\n",
       "Df Model:                          17                                         \n",
       "Covariance Type:                  HC0                                         \n",
       "==============================================================================\n",
       "                 coef    std err          z      P>|z|      [0.025      0.975]\n",
       "------------------------------------------------------------------------------\n",
       "const         14.0785      7.971      1.766      0.077      -1.544      29.701\n",
       "x1          6.755e-05   6.47e-05      1.044      0.297   -5.93e-05       0.000\n",
       "x2             0.0269      0.011      2.556      0.011       0.006       0.048\n",
       "x3             0.0983      0.026      3.748      0.000       0.047       0.150\n",
       "x4             0.0011      0.000      3.107      0.002       0.000       0.002\n",
       "x5             0.0972      0.027      3.632      0.000       0.045       0.150\n",
       "x6           8.85e-06   2.26e-06      3.923      0.000    4.43e-06    1.33e-05\n",
       "x7          1.373e-11   7.77e-12      1.766      0.077   -1.51e-12     2.9e-11\n",
       "x8         -6.901e-05   2.24e-05     -3.085      0.002      -0.000   -2.52e-05\n",
       "x9            -0.0557      0.010     -5.714      0.000      -0.075      -0.037\n",
       "x10           -0.0066      0.004     -1.619      0.105      -0.014       0.001\n",
       "x11            0.0824      0.007     12.604      0.000       0.070       0.095\n",
       "x12            0.0547      0.006      9.521      0.000       0.043       0.066\n",
       "x13            0.0003    1.7e-05     17.086      0.000       0.000       0.000\n",
       "x14            0.0003   2.85e-05     11.353      0.000       0.000       0.000\n",
       "x15            0.0423      0.009      4.652      0.000       0.025       0.060\n",
       "x16           -0.0003      0.000     -2.290      0.022      -0.001   -4.36e-05\n",
       "x17            0.0035      0.001      6.871      0.000       0.003       0.005\n",
       "x18            0.0648      0.014      4.491      0.000       0.037       0.093\n",
       "==============================================================================\n",
       "Omnibus:                      235.537   Durbin-Watson:                   1.991\n",
       "Prob(Omnibus):                  0.000   Jarque-Bera (JB):             1070.531\n",
       "Skew:                          -1.498   Prob(JB):                    3.44e-233\n",
       "Kurtosis:                       8.316   Cond. No.                     2.45e+18\n",
       "==============================================================================\n",
       "\n",
       "Notes:\n",
       "[1] Standard Errors are heteroscedasticity robust (HC0)\n",
       "[2] The smallest eigenvalue is 9.76e-27. This might indicate that there are\n",
       "strong multicollinearity problems or that the design matrix is singular.\n",
       "\"\"\""
      ]
     },
     "metadata": {},
     "output_type": "display_data"
    },
    {
     "name": "stdout",
     "output_type": "stream",
     "text": [
      "Average R-squared score:   0.6660069326537681\n",
      "Max R-squared score:   0.8853537780342619 17\n",
      "Min R-squared score:   0.04596621831820846 18\n",
      "Average RMSE score:   0.14588260020841753\n"
     ]
    }
   ],
   "source": [
    "# Training the model using cross-validation\n",
    "final_model, rmse_average = train_final_model(folds_X, folds_y)"
   ]
  },
  {
   "cell_type": "code",
   "execution_count": 28,
   "id": "7e8f89d0-94b0-4660-a48c-18f39993dc4c",
   "metadata": {},
   "outputs": [
    {
     "data": {
      "image/png": "[encoded data removed]",
      "text/plain": [
       "<Figure size 640x480 with 1 Axes>"
      ]
     },
     "metadata": {},
     "output_type": "display_data"
    },
    {
     "data": {
      "image/png": "[encoded data removed]",
      "text/plain": [
       "<Figure size 640x480 with 1 Axes>"
      ]
     },
     "metadata": {},
     "output_type": "display_data"
    },
    {
     "name": "stdout",
     "output_type": "stream",
     "text": [
      "R-squared value: 0.9386655086133615\n",
      "RMSE 0.10826545488515724\n"
     ]
    }
   ],
   "source": [
    "# Training the model\n",
    "model = train_model_statsmodels(X_poly, y)\n",
    "\n",
    "# Evaluating the model\n",
    "X_poly = sm.add_constant(X_poly_original)  # Adding a constant to the validation data\n",
    "y_pred_log =model.predict(X_poly)  # Predicted log-transformed prices\n",
    "y_pred = np.expm1(y_pred_log)  # Inverse transformation\n",
    "r_squared = r2_score(np.expm1(y_original), y_pred)\n",
    "rmse_score = mean_squared_error(y_original, y_pred_log, squared=False)\n",
    "residuals = np.expm1(y_original) - y_pred\n",
    "plot_residuals(residuals, y_pred)\n",
    "normality(residuals)\n",
    "print(\"R-squared value:\", r_squared)\n",
    "print(\"RMSE\", rmse_score)"
   ]
  },
  {
   "cell_type": "code",
   "execution_count": 29,
   "id": "93df7498-7139-4350-a037-1a4286b8d039",
   "metadata": {},
   "outputs": [
    {
     "data": {
      "text/plain": [
       "0       12.263199\n",
       "1       12.149703\n",
       "2       12.270931\n",
       "3       12.006061\n",
       "4       12.575987\n",
       "          ...    \n",
       "1455    12.076312\n",
       "1456    12.291609\n",
       "1457    12.463057\n",
       "1458    11.819684\n",
       "1459    11.935836\n",
       "Length: 1460, dtype: float64"
      ]
     },
     "execution_count": 29,
     "metadata": {},
     "output_type": "execute_result"
    }
   ],
   "source": [
    "y_pred_log"
   ]
  },
  {
   "cell_type": "code",
   "execution_count": 30,
   "id": "c2b01c28-32ad-45d1-9b27-25ebfa76e952",
   "metadata": {},
   "outputs": [
    {
     "data": {
      "text/plain": [
       "0.12707402754678737"
      ]
     },
     "execution_count": 30,
     "metadata": {},
     "output_type": "execute_result"
    }
   ],
   "source": [
    "(rmse_score + rmse_average) / 2"
   ]
  },
  {
   "cell_type": "code",
   "execution_count": 31,
   "id": "a20dc0ba-b512-4af8-becb-b56f48930f72",
   "metadata": {},
   "outputs": [
    {
     "data": {
      "text/plain": [
       "'\\nweights = lasso.coef_\\nplt.hist(weights, bins=50, log=True)\\n\\n# Identify columns with weight below 0.5\\ncolumns_to_delete = [column for column, weight in zip(list(lasso.feature_names_in_), weights) if abs(weight) <= 3e-10]\\n\\n# Delete these columns from X\\nX_filtered = X_poly.drop(columns=columns_to_delete)\\nX_filtered_test = X_test.drop(columns=columns_to_delete)\\nX_filtered_test\\n'"
      ]
     },
     "execution_count": 31,
     "metadata": {},
     "output_type": "execute_result"
    }
   ],
   "source": [
    "'''\n",
    "weights = lasso.coef_\n",
    "plt.hist(weights, bins=50, log=True)\n",
    "\n",
    "# Identify columns with weight below 0.5\n",
    "columns_to_delete = [column for column, weight in zip(list(lasso.feature_names_in_), weights) if abs(weight) <= 3e-10]\n",
    "\n",
    "# Delete these columns from X\n",
    "X_filtered = X_poly.drop(columns=columns_to_delete)\n",
    "X_filtered_test = X_test.drop(columns=columns_to_delete)\n",
    "X_filtered_test\n",
    "'''"
   ]
  },
  {
   "cell_type": "code",
   "execution_count": 32,
   "id": "84d7ec4b-2d09-4a80-b9b1-9d93be797085",
   "metadata": {},
   "outputs": [
    {
     "data": {
      "text/plain": [
       "'\\nmodel = train_model_statsmodels(X_filtered, y_train)\\n\\n# Evaluating the model\\nX_filtered = sm.add_constant(X_filtered)  # Adding a constant to the validation data\\ny_pred_log =model.predict(X_filtered)  # Predicted log-transformed prices\\ny_pred = np.expm1(y_pred_log)  # Inverse transformation\\nr_squared = r2_score(np.expm1(y), y_pred)\\nresiduals = np.expm1(y) - y_pred\\nplot_residuals(residuals, y_pred)\\nnormality(residuals)\\nprint(\"R-squared value:\", r_squared)\\n'"
      ]
     },
     "execution_count": 32,
     "metadata": {},
     "output_type": "execute_result"
    }
   ],
   "source": [
    "'''\n",
    "model = train_model_statsmodels(X_filtered, y_train)\n",
    "\n",
    "# Evaluating the model\n",
    "X_filtered = sm.add_constant(X_filtered)  # Adding a constant to the validation data\n",
    "y_pred_log =model.predict(X_filtered)  # Predicted log-transformed prices\n",
    "y_pred = np.expm1(y_pred_log)  # Inverse transformation\n",
    "r_squared = r2_score(np.expm1(y), y_pred)\n",
    "residuals = np.expm1(y) - y_pred\n",
    "plot_residuals(residuals, y_pred)\n",
    "normality(residuals)\n",
    "print(\"R-squared value:\", r_squared)\n",
    "'''"
   ]
  },
  {
   "cell_type": "code",
   "execution_count": 33,
   "id": "89303efd-0229-4e47-bc98-82498c785ef5",
   "metadata": {},
   "outputs": [],
   "source": [
    "# Predicting the housing prices for the test data\n",
    "X_test = sm.add_constant(X_test)  # Adding a constant to the test data\n",
    "predicted_log_prices = model.predict(X_test)  # Predicted log-transformed prices for test data\n",
    "predicted_prices = np.expm1(predicted_log_prices)  # Inverse transformation for test data predictions"
   ]
  },
  {
   "cell_type": "code",
   "execution_count": 34,
   "id": "6470468d-cd7f-4bf5-9e8c-ed71f0066760",
   "metadata": {},
   "outputs": [
    {
     "data": {
      "text/plain": [
       "0       123448.978372\n",
       "1       177803.337477\n",
       "2       188740.886235\n",
       "3       200837.928098\n",
       "4       180533.478570\n",
       "            ...      \n",
       "1454     95083.860121\n",
       "1455     94100.598322\n",
       "1456    157784.465850\n",
       "1457    119941.279848\n",
       "1458    221735.647124\n",
       "Length: 1459, dtype: float64"
      ]
     },
     "execution_count": 34,
     "metadata": {},
     "output_type": "execute_result"
    }
   ],
   "source": [
    "predicted_prices"
   ]
  },
  {
   "cell_type": "code",
   "execution_count": 35,
   "id": "82800c68-1f2e-47f8-91a1-275f9c64ece5",
   "metadata": {},
   "outputs": [
    {
     "data": {
      "text/plain": [
       "''"
      ]
     },
     "execution_count": 35,
     "metadata": {},
     "output_type": "execute_result"
    }
   ],
   "source": [
    "''\n",
    "# Saving the predictions\n",
    "predicted_prices_df = pd.DataFrame({\n",
    "    'Id': test_data['Id'],\n",
    "    'SalePrice': predicted_prices\n",
    "})\n",
    "predicted_prices_df.to_csv('predicted_housing_prices_statsmodels.csv', index=False)\n",
    "''"
   ]
  },
  {
   "cell_type": "code",
   "execution_count": 36,
   "id": "9678aa4a-02b1-4f17-aba9-bd45efd297c3",
   "metadata": {},
   "outputs": [
    {
     "data": {
      "text/html": [
       "<div>\n",
       "<style scoped>\n",
       "    .dataframe tbody tr th:only-of-type {\n",
       "        vertical-align: middle;\n",
       "    }\n",
       "\n",
       "    .dataframe tbody tr th {\n",
       "        vertical-align: top;\n",
       "    }\n",
       "\n",
       "    .dataframe thead th {\n",
       "        text-align: right;\n",
       "    }\n",
       "</style>\n",
       "<table border=\"1\" class=\"dataframe\">\n",
       "  <thead>\n",
       "    <tr style=\"text-align: right;\">\n",
       "      <th></th>\n",
       "      <th>Id</th>\n",
       "      <th>SalePrice</th>\n",
       "    </tr>\n",
       "  </thead>\n",
       "  <tbody>\n",
       "    <tr>\n",
       "      <th>0</th>\n",
       "      <td>1461</td>\n",
       "      <td>123448.978372</td>\n",
       "    </tr>\n",
       "    <tr>\n",
       "      <th>1</th>\n",
       "      <td>1462</td>\n",
       "      <td>177803.337477</td>\n",
       "    </tr>\n",
       "    <tr>\n",
       "      <th>2</th>\n",
       "      <td>1463</td>\n",
       "      <td>188740.886235</td>\n",
       "    </tr>\n",
       "    <tr>\n",
       "      <th>3</th>\n",
       "      <td>1464</td>\n",
       "      <td>200837.928098</td>\n",
       "    </tr>\n",
       "    <tr>\n",
       "      <th>4</th>\n",
       "      <td>1465</td>\n",
       "      <td>180533.478570</td>\n",
       "    </tr>\n",
       "    <tr>\n",
       "      <th>...</th>\n",
       "      <td>...</td>\n",
       "      <td>...</td>\n",
       "    </tr>\n",
       "    <tr>\n",
       "      <th>1454</th>\n",
       "      <td>2915</td>\n",
       "      <td>95083.860121</td>\n",
       "    </tr>\n",
       "    <tr>\n",
       "      <th>1455</th>\n",
       "      <td>2916</td>\n",
       "      <td>94100.598322</td>\n",
       "    </tr>\n",
       "    <tr>\n",
       "      <th>1456</th>\n",
       "      <td>2917</td>\n",
       "      <td>157784.465850</td>\n",
       "    </tr>\n",
       "    <tr>\n",
       "      <th>1457</th>\n",
       "      <td>2918</td>\n",
       "      <td>119941.279848</td>\n",
       "    </tr>\n",
       "    <tr>\n",
       "      <th>1458</th>\n",
       "      <td>2919</td>\n",
       "      <td>221735.647124</td>\n",
       "    </tr>\n",
       "  </tbody>\n",
       "</table>\n",
       "<p>1459 rows × 2 columns</p>\n",
       "</div>"
      ],
      "text/plain": [
       "        Id      SalePrice\n",
       "0     1461  123448.978372\n",
       "1     1462  177803.337477\n",
       "2     1463  188740.886235\n",
       "3     1464  200837.928098\n",
       "4     1465  180533.478570\n",
       "...    ...            ...\n",
       "1454  2915   95083.860121\n",
       "1455  2916   94100.598322\n",
       "1456  2917  157784.465850\n",
       "1457  2918  119941.279848\n",
       "1458  2919  221735.647124\n",
       "\n",
       "[1459 rows x 2 columns]"
      ]
     },
     "execution_count": 36,
     "metadata": {},
     "output_type": "execute_result"
    }
   ],
   "source": [
    "predicted_prices_df"
   ]
  },
  {
   "cell_type": "code",
   "execution_count": 37,
   "id": "144fdba8-ff81-43bd-974b-042261c44814",
   "metadata": {},
   "outputs": [
    {
     "data": {
      "text/plain": [
       "['Id',\n",
       " 'MSSubClass',\n",
       " 'LotFrontage',\n",
       " 'LotArea',\n",
       " 'OverallQual',\n",
       " 'OverallCond',\n",
       " 'YearBuilt',\n",
       " 'YearRemodAdd',\n",
       " 'MasVnrArea',\n",
       " 'BsmtFinSF1',\n",
       " 'BsmtFinSF2',\n",
       " 'BsmtUnfSF',\n",
       " 'TotalBsmtSF',\n",
       " 'HeatingQC',\n",
       " '1stFlrSF',\n",
       " '2ndFlrSF',\n",
       " 'LowQualFinSF',\n",
       " 'GrLivArea',\n",
       " 'BsmtFullBath',\n",
       " 'BsmtHalfBath',\n",
       " 'FullBath',\n",
       " 'HalfBath',\n",
       " 'BedroomAbvGr',\n",
       " 'KitchenAbvGr',\n",
       " 'KitchenQual',\n",
       " 'TotRmsAbvGrd',\n",
       " 'Fireplaces',\n",
       " 'GarageYrBlt',\n",
       " 'GarageCars',\n",
       " 'GarageArea',\n",
       " 'WoodDeckSF',\n",
       " 'OpenPorchSF',\n",
       " 'EnclosedPorch',\n",
       " '3SsnPorch',\n",
       " 'ScreenPorch',\n",
       " 'PoolArea',\n",
       " 'MiscVal',\n",
       " 'MoSold',\n",
       " 'YrSold',\n",
       " 'SalePrice',\n",
       " 'remod',\n",
       " 'NeighborhoodQual',\n",
       " 'NeighborhoodCond',\n",
       " 'MSZoning_C (all)',\n",
       " 'MSZoning_FV',\n",
       " 'MSZoning_RH',\n",
       " 'MSZoning_RL',\n",
       " 'MSZoning_RM',\n",
       " 'Street_Grvl',\n",
       " 'Street_Pave',\n",
       " 'Alley_Grvl',\n",
       " 'Alley_Pave',\n",
       " 'LotShape_IR1',\n",
       " 'LotShape_IR2',\n",
       " 'LotShape_IR3',\n",
       " 'LotShape_Reg',\n",
       " 'LandContour_Bnk',\n",
       " 'LandContour_HLS',\n",
       " 'LandContour_Low',\n",
       " 'LandContour_Lvl',\n",
       " 'Utilities_AllPub',\n",
       " 'Utilities_NoSeWa',\n",
       " 'LotConfig_Corner',\n",
       " 'LotConfig_CulDSac',\n",
       " 'LotConfig_FR2',\n",
       " 'LotConfig_FR3',\n",
       " 'LotConfig_Inside',\n",
       " 'LandSlope_Gtl',\n",
       " 'LandSlope_Mod',\n",
       " 'LandSlope_Sev',\n",
       " 'Condition1_Artery',\n",
       " 'Condition1_Feedr',\n",
       " 'Condition1_Norm',\n",
       " 'Condition1_PosA',\n",
       " 'Condition1_PosN',\n",
       " 'Condition1_RRAe',\n",
       " 'Condition1_RRAn',\n",
       " 'Condition1_RRNe',\n",
       " 'Condition1_RRNn',\n",
       " 'Condition2_Artery',\n",
       " 'Condition2_Feedr',\n",
       " 'Condition2_Norm',\n",
       " 'Condition2_PosA',\n",
       " 'Condition2_PosN',\n",
       " 'Condition2_RRAe',\n",
       " 'Condition2_RRAn',\n",
       " 'Condition2_RRNn',\n",
       " 'BldgType_1Fam',\n",
       " 'BldgType_2fmCon',\n",
       " 'BldgType_Duplex',\n",
       " 'BldgType_Twnhs',\n",
       " 'BldgType_TwnhsE',\n",
       " 'HouseStyle_1.5Fin',\n",
       " 'HouseStyle_1.5Unf',\n",
       " 'HouseStyle_1Story',\n",
       " 'HouseStyle_2.5Fin',\n",
       " 'HouseStyle_2.5Unf',\n",
       " 'HouseStyle_2Story',\n",
       " 'HouseStyle_SFoyer',\n",
       " 'HouseStyle_SLvl',\n",
       " 'RoofStyle_Flat',\n",
       " 'RoofStyle_Gable',\n",
       " 'RoofStyle_Gambrel',\n",
       " 'RoofStyle_Hip',\n",
       " 'RoofStyle_Mansard',\n",
       " 'RoofStyle_Shed',\n",
       " 'RoofMatl_ClyTile',\n",
       " 'RoofMatl_CompShg',\n",
       " 'RoofMatl_Membran',\n",
       " 'RoofMatl_Metal',\n",
       " 'RoofMatl_Roll',\n",
       " 'RoofMatl_Tar&Grv',\n",
       " 'RoofMatl_WdShake',\n",
       " 'RoofMatl_WdShngl',\n",
       " 'Exterior1st_AsbShng',\n",
       " 'Exterior1st_AsphShn',\n",
       " 'Exterior1st_BrkComm',\n",
       " 'Exterior1st_BrkFace',\n",
       " 'Exterior1st_CBlock',\n",
       " 'Exterior1st_CemntBd',\n",
       " 'Exterior1st_HdBoard',\n",
       " 'Exterior1st_ImStucc',\n",
       " 'Exterior1st_MetalSd',\n",
       " 'Exterior1st_Plywood',\n",
       " 'Exterior1st_Stone',\n",
       " 'Exterior1st_Stucco',\n",
       " 'Exterior1st_VinylSd',\n",
       " 'Exterior1st_Wd Sdng',\n",
       " 'Exterior1st_WdShing',\n",
       " 'Exterior2nd_AsbShng',\n",
       " 'Exterior2nd_AsphShn',\n",
       " 'Exterior2nd_Brk Cmn',\n",
       " 'Exterior2nd_BrkFace',\n",
       " 'Exterior2nd_CBlock',\n",
       " 'Exterior2nd_CmentBd',\n",
       " 'Exterior2nd_HdBoard',\n",
       " 'Exterior2nd_ImStucc',\n",
       " 'Exterior2nd_MetalSd',\n",
       " 'Exterior2nd_Other',\n",
       " 'Exterior2nd_Plywood',\n",
       " 'Exterior2nd_Stone',\n",
       " 'Exterior2nd_Stucco',\n",
       " 'Exterior2nd_VinylSd',\n",
       " 'Exterior2nd_Wd Sdng',\n",
       " 'Exterior2nd_Wd Shng',\n",
       " 'MasVnrType_BrkCmn',\n",
       " 'MasVnrType_BrkFace',\n",
       " 'MasVnrType_Stone',\n",
       " 'ExterQual_Ex',\n",
       " 'ExterQual_Fa',\n",
       " 'ExterQual_Gd',\n",
       " 'ExterQual_TA',\n",
       " 'ExterCond_Ex',\n",
       " 'ExterCond_Fa',\n",
       " 'ExterCond_Gd',\n",
       " 'ExterCond_Po',\n",
       " 'ExterCond_TA',\n",
       " 'Foundation_BrkTil',\n",
       " 'Foundation_CBlock',\n",
       " 'Foundation_PConc',\n",
       " 'Foundation_Slab',\n",
       " 'Foundation_Stone',\n",
       " 'Foundation_Wood',\n",
       " 'BsmtQual_Ex',\n",
       " 'BsmtQual_Fa',\n",
       " 'BsmtQual_Gd',\n",
       " 'BsmtQual_TA',\n",
       " 'BsmtCond_Fa',\n",
       " 'BsmtCond_Gd',\n",
       " 'BsmtCond_Po',\n",
       " 'BsmtCond_TA',\n",
       " 'BsmtExposure_Av',\n",
       " 'BsmtExposure_Gd',\n",
       " 'BsmtExposure_Mn',\n",
       " 'BsmtExposure_No',\n",
       " 'BsmtFinType1_ALQ',\n",
       " 'BsmtFinType1_BLQ',\n",
       " 'BsmtFinType1_GLQ',\n",
       " 'BsmtFinType1_LwQ',\n",
       " 'BsmtFinType1_Rec',\n",
       " 'BsmtFinType1_Unf',\n",
       " 'BsmtFinType2_ALQ',\n",
       " 'BsmtFinType2_BLQ',\n",
       " 'BsmtFinType2_GLQ',\n",
       " 'BsmtFinType2_LwQ',\n",
       " 'BsmtFinType2_Rec',\n",
       " 'BsmtFinType2_Unf',\n",
       " 'Heating_Floor',\n",
       " 'Heating_GasA',\n",
       " 'Heating_GasW',\n",
       " 'Heating_Grav',\n",
       " 'Heating_OthW',\n",
       " 'Heating_Wall',\n",
       " 'CentralAir_N',\n",
       " 'CentralAir_Y',\n",
       " 'Electrical_FuseA',\n",
       " 'Electrical_FuseF',\n",
       " 'Electrical_FuseP',\n",
       " 'Electrical_Mix',\n",
       " 'Electrical_SBrkr',\n",
       " 'Functional_Maj1',\n",
       " 'Functional_Maj2',\n",
       " 'Functional_Min1',\n",
       " 'Functional_Min2',\n",
       " 'Functional_Mod',\n",
       " 'Functional_Sev',\n",
       " 'Functional_Typ',\n",
       " 'FireplaceQu_Ex',\n",
       " 'FireplaceQu_Fa',\n",
       " 'FireplaceQu_Gd',\n",
       " 'FireplaceQu_Po',\n",
       " 'FireplaceQu_TA',\n",
       " 'GarageType_2Types',\n",
       " 'GarageType_Attchd',\n",
       " 'GarageType_Basment',\n",
       " 'GarageType_BuiltIn',\n",
       " 'GarageType_CarPort',\n",
       " 'GarageType_Detchd',\n",
       " 'GarageFinish_Fin',\n",
       " 'GarageFinish_RFn',\n",
       " 'GarageFinish_Unf',\n",
       " 'GarageQual_Ex',\n",
       " 'GarageQual_Fa',\n",
       " 'GarageQual_Gd',\n",
       " 'GarageQual_Po',\n",
       " 'GarageQual_TA',\n",
       " 'GarageCond_Ex',\n",
       " 'GarageCond_Fa',\n",
       " 'GarageCond_Gd',\n",
       " 'GarageCond_Po',\n",
       " 'GarageCond_TA',\n",
       " 'PavedDrive_N',\n",
       " 'PavedDrive_P',\n",
       " 'PavedDrive_Y',\n",
       " 'PoolQC_Ex',\n",
       " 'PoolQC_Fa',\n",
       " 'PoolQC_Gd',\n",
       " 'Fence_GdPrv',\n",
       " 'Fence_GdWo',\n",
       " 'Fence_MnPrv',\n",
       " 'Fence_MnWw',\n",
       " 'MiscFeature_Gar2',\n",
       " 'MiscFeature_Othr',\n",
       " 'MiscFeature_Shed',\n",
       " 'MiscFeature_TenC',\n",
       " 'SaleType_COD',\n",
       " 'SaleType_CWD',\n",
       " 'SaleType_Con',\n",
       " 'SaleType_ConLD',\n",
       " 'SaleType_ConLI',\n",
       " 'SaleType_ConLw',\n",
       " 'SaleType_New',\n",
       " 'SaleType_Oth',\n",
       " 'SaleType_WD',\n",
       " 'SaleCondition_Abnorml',\n",
       " 'SaleCondition_AdjLand',\n",
       " 'SaleCondition_Alloca',\n",
       " 'SaleCondition_Family',\n",
       " 'SaleCondition_Normal',\n",
       " 'SaleCondition_Partial',\n",
       " 'Neighborhood',\n",
       " 'remod_last']"
      ]
     },
     "execution_count": 37,
     "metadata": {},
     "output_type": "execute_result"
    }
   ],
   "source": [
    "train_data.columns.tolist()"
   ]
  },
  {
   "cell_type": "code",
   "execution_count": 38,
   "id": "871026de-8b31-4f50-ba92-07257b597b28",
   "metadata": {},
   "outputs": [
    {
     "data": {
      "text/html": [
       "<div>\n",
       "<style scoped>\n",
       "    .dataframe tbody tr th:only-of-type {\n",
       "        vertical-align: middle;\n",
       "    }\n",
       "\n",
       "    .dataframe tbody tr th {\n",
       "        vertical-align: top;\n",
       "    }\n",
       "\n",
       "    .dataframe thead th {\n",
       "        text-align: right;\n",
       "    }\n",
       "</style>\n",
       "<table border=\"1\" class=\"dataframe\">\n",
       "  <thead>\n",
       "    <tr style=\"text-align: right;\">\n",
       "      <th></th>\n",
       "      <th>Id</th>\n",
       "      <th>MSSubClass</th>\n",
       "      <th>LotFrontage</th>\n",
       "      <th>LotArea</th>\n",
       "      <th>OverallQual</th>\n",
       "      <th>OverallCond</th>\n",
       "      <th>YearBuilt</th>\n",
       "      <th>YearRemodAdd</th>\n",
       "      <th>MasVnrArea</th>\n",
       "      <th>BsmtFinSF1</th>\n",
       "      <th>...</th>\n",
       "      <th>SaleType_WD</th>\n",
       "      <th>SaleCondition_Abnorml</th>\n",
       "      <th>SaleCondition_AdjLand</th>\n",
       "      <th>SaleCondition_Alloca</th>\n",
       "      <th>SaleCondition_Family</th>\n",
       "      <th>SaleCondition_Normal</th>\n",
       "      <th>SaleCondition_Partial</th>\n",
       "      <th>Neighborhood</th>\n",
       "      <th>remod_last</th>\n",
       "      <th>error</th>\n",
       "    </tr>\n",
       "  </thead>\n",
       "  <tbody>\n",
       "    <tr>\n",
       "      <th>78</th>\n",
       "      <td>79</td>\n",
       "      <td>90.0</td>\n",
       "      <td>72.0</td>\n",
       "      <td>10778.0</td>\n",
       "      <td>4.0</td>\n",
       "      <td>5.0</td>\n",
       "      <td>1968.0</td>\n",
       "      <td>1968</td>\n",
       "      <td>0.0</td>\n",
       "      <td>0</td>\n",
       "      <td>...</td>\n",
       "      <td>True</td>\n",
       "      <td>False</td>\n",
       "      <td>False</td>\n",
       "      <td>False</td>\n",
       "      <td>False</td>\n",
       "      <td>1.0</td>\n",
       "      <td>False</td>\n",
       "      <td>Sawyer</td>\n",
       "      <td>1968.0</td>\n",
       "      <td>5.100360</td>\n",
       "    </tr>\n",
       "    <tr>\n",
       "      <th>26</th>\n",
       "      <td>27</td>\n",
       "      <td>20.0</td>\n",
       "      <td>60.0</td>\n",
       "      <td>7200.0</td>\n",
       "      <td>5.0</td>\n",
       "      <td>7.0</td>\n",
       "      <td>1951.0</td>\n",
       "      <td>2000</td>\n",
       "      <td>0.0</td>\n",
       "      <td>234</td>\n",
       "      <td>...</td>\n",
       "      <td>True</td>\n",
       "      <td>False</td>\n",
       "      <td>False</td>\n",
       "      <td>False</td>\n",
       "      <td>False</td>\n",
       "      <td>1.0</td>\n",
       "      <td>False</td>\n",
       "      <td>NAmes</td>\n",
       "      <td>2000.0</td>\n",
       "      <td>16.868721</td>\n",
       "    </tr>\n",
       "    <tr>\n",
       "      <th>1064</th>\n",
       "      <td>1065</td>\n",
       "      <td>20.0</td>\n",
       "      <td>NaN</td>\n",
       "      <td>11000.0</td>\n",
       "      <td>5.0</td>\n",
       "      <td>6.0</td>\n",
       "      <td>1966.0</td>\n",
       "      <td>1966</td>\n",
       "      <td>200.0</td>\n",
       "      <td>740</td>\n",
       "      <td>...</td>\n",
       "      <td>True</td>\n",
       "      <td>False</td>\n",
       "      <td>False</td>\n",
       "      <td>False</td>\n",
       "      <td>False</td>\n",
       "      <td>1.0</td>\n",
       "      <td>False</td>\n",
       "      <td>NAmes</td>\n",
       "      <td>1966.0</td>\n",
       "      <td>48.770367</td>\n",
       "    </tr>\n",
       "    <tr>\n",
       "      <th>342</th>\n",
       "      <td>343</td>\n",
       "      <td>90.0</td>\n",
       "      <td>NaN</td>\n",
       "      <td>8544.0</td>\n",
       "      <td>3.0</td>\n",
       "      <td>4.0</td>\n",
       "      <td>1949.0</td>\n",
       "      <td>1950</td>\n",
       "      <td>340.0</td>\n",
       "      <td>0</td>\n",
       "      <td>...</td>\n",
       "      <td>True</td>\n",
       "      <td>False</td>\n",
       "      <td>False</td>\n",
       "      <td>False</td>\n",
       "      <td>False</td>\n",
       "      <td>1.0</td>\n",
       "      <td>False</td>\n",
       "      <td>NAmes</td>\n",
       "      <td>1950.0</td>\n",
       "      <td>58.031150</td>\n",
       "    </tr>\n",
       "    <tr>\n",
       "      <th>665</th>\n",
       "      <td>666</td>\n",
       "      <td>60.0</td>\n",
       "      <td>106.0</td>\n",
       "      <td>11194.0</td>\n",
       "      <td>8.0</td>\n",
       "      <td>5.0</td>\n",
       "      <td>2000.0</td>\n",
       "      <td>2000</td>\n",
       "      <td>40.0</td>\n",
       "      <td>0</td>\n",
       "      <td>...</td>\n",
       "      <td>True</td>\n",
       "      <td>False</td>\n",
       "      <td>False</td>\n",
       "      <td>False</td>\n",
       "      <td>False</td>\n",
       "      <td>1.0</td>\n",
       "      <td>False</td>\n",
       "      <td>Gilbert</td>\n",
       "      <td>2000.0</td>\n",
       "      <td>96.277846</td>\n",
       "    </tr>\n",
       "    <tr>\n",
       "      <th>...</th>\n",
       "      <td>...</td>\n",
       "      <td>...</td>\n",
       "      <td>...</td>\n",
       "      <td>...</td>\n",
       "      <td>...</td>\n",
       "      <td>...</td>\n",
       "      <td>...</td>\n",
       "      <td>...</td>\n",
       "      <td>...</td>\n",
       "      <td>...</td>\n",
       "      <td>...</td>\n",
       "      <td>...</td>\n",
       "      <td>...</td>\n",
       "      <td>...</td>\n",
       "      <td>...</td>\n",
       "      <td>...</td>\n",
       "      <td>...</td>\n",
       "      <td>...</td>\n",
       "      <td>...</td>\n",
       "      <td>...</td>\n",
       "      <td>...</td>\n",
       "    </tr>\n",
       "    <tr>\n",
       "      <th>608</th>\n",
       "      <td>609</td>\n",
       "      <td>70.0</td>\n",
       "      <td>78.0</td>\n",
       "      <td>12168.0</td>\n",
       "      <td>8.0</td>\n",
       "      <td>6.0</td>\n",
       "      <td>1934.0</td>\n",
       "      <td>1998</td>\n",
       "      <td>0.0</td>\n",
       "      <td>428</td>\n",
       "      <td>...</td>\n",
       "      <td>True</td>\n",
       "      <td>False</td>\n",
       "      <td>False</td>\n",
       "      <td>True</td>\n",
       "      <td>False</td>\n",
       "      <td>0.0</td>\n",
       "      <td>False</td>\n",
       "      <td>Crawfor</td>\n",
       "      <td>1998.0</td>\n",
       "      <td>113463.956984</td>\n",
       "    </tr>\n",
       "    <tr>\n",
       "      <th>774</th>\n",
       "      <td>775</td>\n",
       "      <td>20.0</td>\n",
       "      <td>110.0</td>\n",
       "      <td>14226.0</td>\n",
       "      <td>8.0</td>\n",
       "      <td>5.0</td>\n",
       "      <td>2006.0</td>\n",
       "      <td>2006</td>\n",
       "      <td>375.0</td>\n",
       "      <td>0</td>\n",
       "      <td>...</td>\n",
       "      <td>False</td>\n",
       "      <td>False</td>\n",
       "      <td>False</td>\n",
       "      <td>False</td>\n",
       "      <td>False</td>\n",
       "      <td>0.0</td>\n",
       "      <td>True</td>\n",
       "      <td>NridgHt</td>\n",
       "      <td>2006.0</td>\n",
       "      <td>122404.258596</td>\n",
       "    </tr>\n",
       "    <tr>\n",
       "      <th>691</th>\n",
       "      <td>692</td>\n",
       "      <td>60.0</td>\n",
       "      <td>104.0</td>\n",
       "      <td>21535.0</td>\n",
       "      <td>10.0</td>\n",
       "      <td>6.0</td>\n",
       "      <td>1994.0</td>\n",
       "      <td>1995</td>\n",
       "      <td>1170.0</td>\n",
       "      <td>1455</td>\n",
       "      <td>...</td>\n",
       "      <td>True</td>\n",
       "      <td>False</td>\n",
       "      <td>False</td>\n",
       "      <td>False</td>\n",
       "      <td>False</td>\n",
       "      <td>1.0</td>\n",
       "      <td>False</td>\n",
       "      <td>NoRidge</td>\n",
       "      <td>1995.0</td>\n",
       "      <td>124323.189877</td>\n",
       "    </tr>\n",
       "    <tr>\n",
       "      <th>1324</th>\n",
       "      <td>1325</td>\n",
       "      <td>20.0</td>\n",
       "      <td>75.0</td>\n",
       "      <td>9986.0</td>\n",
       "      <td>8.0</td>\n",
       "      <td>5.0</td>\n",
       "      <td>2006.0</td>\n",
       "      <td>2007</td>\n",
       "      <td>428.0</td>\n",
       "      <td>0</td>\n",
       "      <td>...</td>\n",
       "      <td>False</td>\n",
       "      <td>False</td>\n",
       "      <td>False</td>\n",
       "      <td>False</td>\n",
       "      <td>False</td>\n",
       "      <td>0.0</td>\n",
       "      <td>True</td>\n",
       "      <td>Somerst</td>\n",
       "      <td>2007.0</td>\n",
       "      <td>128219.066058</td>\n",
       "    </tr>\n",
       "    <tr>\n",
       "      <th>803</th>\n",
       "      <td>804</td>\n",
       "      <td>60.0</td>\n",
       "      <td>107.0</td>\n",
       "      <td>13891.0</td>\n",
       "      <td>9.0</td>\n",
       "      <td>5.0</td>\n",
       "      <td>2008.0</td>\n",
       "      <td>2009</td>\n",
       "      <td>424.0</td>\n",
       "      <td>0</td>\n",
       "      <td>...</td>\n",
       "      <td>False</td>\n",
       "      <td>False</td>\n",
       "      <td>False</td>\n",
       "      <td>False</td>\n",
       "      <td>False</td>\n",
       "      <td>0.0</td>\n",
       "      <td>True</td>\n",
       "      <td>NridgHt</td>\n",
       "      <td>2009.0</td>\n",
       "      <td>149652.963272</td>\n",
       "    </tr>\n",
       "  </tbody>\n",
       "</table>\n",
       "<p>1460 rows × 263 columns</p>\n",
       "</div>"
      ],
      "text/plain": [
       "        Id  MSSubClass  LotFrontage  LotArea  OverallQual  OverallCond  \\\n",
       "78      79        90.0         72.0  10778.0          4.0          5.0   \n",
       "26      27        20.0         60.0   7200.0          5.0          7.0   \n",
       "1064  1065        20.0          NaN  11000.0          5.0          6.0   \n",
       "342    343        90.0          NaN   8544.0          3.0          4.0   \n",
       "665    666        60.0        106.0  11194.0          8.0          5.0   \n",
       "...    ...         ...          ...      ...          ...          ...   \n",
       "608    609        70.0         78.0  12168.0          8.0          6.0   \n",
       "774    775        20.0        110.0  14226.0          8.0          5.0   \n",
       "691    692        60.0        104.0  21535.0         10.0          6.0   \n",
       "1324  1325        20.0         75.0   9986.0          8.0          5.0   \n",
       "803    804        60.0        107.0  13891.0          9.0          5.0   \n",
       "\n",
       "      YearBuilt  YearRemodAdd  MasVnrArea  BsmtFinSF1  ...  SaleType_WD  \\\n",
       "78       1968.0          1968         0.0           0  ...         True   \n",
       "26       1951.0          2000         0.0         234  ...         True   \n",
       "1064     1966.0          1966       200.0         740  ...         True   \n",
       "342      1949.0          1950       340.0           0  ...         True   \n",
       "665      2000.0          2000        40.0           0  ...         True   \n",
       "...         ...           ...         ...         ...  ...          ...   \n",
       "608      1934.0          1998         0.0         428  ...         True   \n",
       "774      2006.0          2006       375.0           0  ...        False   \n",
       "691      1994.0          1995      1170.0        1455  ...         True   \n",
       "1324     2006.0          2007       428.0           0  ...        False   \n",
       "803      2008.0          2009       424.0           0  ...        False   \n",
       "\n",
       "      SaleCondition_Abnorml  SaleCondition_AdjLand  SaleCondition_Alloca  \\\n",
       "78                    False                  False                 False   \n",
       "26                    False                  False                 False   \n",
       "1064                  False                  False                 False   \n",
       "342                   False                  False                 False   \n",
       "665                   False                  False                 False   \n",
       "...                     ...                    ...                   ...   \n",
       "608                   False                  False                  True   \n",
       "774                   False                  False                 False   \n",
       "691                   False                  False                 False   \n",
       "1324                  False                  False                 False   \n",
       "803                   False                  False                 False   \n",
       "\n",
       "      SaleCondition_Family  SaleCondition_Normal  SaleCondition_Partial  \\\n",
       "78                   False                   1.0                  False   \n",
       "26                   False                   1.0                  False   \n",
       "1064                 False                   1.0                  False   \n",
       "342                  False                   1.0                  False   \n",
       "665                  False                   1.0                  False   \n",
       "...                    ...                   ...                    ...   \n",
       "608                  False                   0.0                  False   \n",
       "774                  False                   0.0                   True   \n",
       "691                  False                   1.0                  False   \n",
       "1324                 False                   0.0                   True   \n",
       "803                  False                   0.0                   True   \n",
       "\n",
       "      Neighborhood  remod_last          error  \n",
       "78          Sawyer      1968.0       5.100360  \n",
       "26           NAmes      2000.0      16.868721  \n",
       "1064         NAmes      1966.0      48.770367  \n",
       "342          NAmes      1950.0      58.031150  \n",
       "665        Gilbert      2000.0      96.277846  \n",
       "...            ...         ...            ...  \n",
       "608        Crawfor      1998.0  113463.956984  \n",
       "774        NridgHt      2006.0  122404.258596  \n",
       "691        NoRidge      1995.0  124323.189877  \n",
       "1324       Somerst      2007.0  128219.066058  \n",
       "803        NridgHt      2009.0  149652.963272  \n",
       "\n",
       "[1460 rows x 263 columns]"
      ]
     },
     "execution_count": 38,
     "metadata": {},
     "output_type": "execute_result"
    }
   ],
   "source": [
    "error = np.expm1(y) - y_pred\n",
    "error = np.abs(error)\n",
    "error_ascending = error.sort_values()\n",
    "train_data['error'] = error\n",
    "train_data.sort_values(by='error')"
   ]
  },
  {
   "cell_type": "code",
   "execution_count": 39,
   "id": "d0452b07-7c70-4721-b8bc-93e9d60033ab",
   "metadata": {},
   "outputs": [
    {
     "data": {
      "text/html": [
       "<div>\n",
       "<style scoped>\n",
       "    .dataframe tbody tr th:only-of-type {\n",
       "        vertical-align: middle;\n",
       "    }\n",
       "\n",
       "    .dataframe tbody tr th {\n",
       "        vertical-align: top;\n",
       "    }\n",
       "\n",
       "    .dataframe thead th {\n",
       "        text-align: right;\n",
       "    }\n",
       "</style>\n",
       "<table border=\"1\" class=\"dataframe\">\n",
       "  <thead>\n",
       "    <tr style=\"text-align: right;\">\n",
       "      <th></th>\n",
       "      <th>Id</th>\n",
       "      <th>MSSubClass</th>\n",
       "      <th>LotFrontage</th>\n",
       "      <th>LotArea</th>\n",
       "      <th>OverallQual</th>\n",
       "      <th>OverallCond</th>\n",
       "      <th>YearBuilt</th>\n",
       "      <th>YearRemodAdd</th>\n",
       "      <th>MasVnrArea</th>\n",
       "      <th>BsmtFinSF1</th>\n",
       "      <th>...</th>\n",
       "      <th>SaleType_Oth</th>\n",
       "      <th>SaleType_WD</th>\n",
       "      <th>SaleCondition_Abnorml</th>\n",
       "      <th>SaleCondition_AdjLand</th>\n",
       "      <th>SaleCondition_Alloca</th>\n",
       "      <th>SaleCondition_Family</th>\n",
       "      <th>SaleCondition_Normal</th>\n",
       "      <th>SaleCondition_Partial</th>\n",
       "      <th>remod_last</th>\n",
       "      <th>error</th>\n",
       "    </tr>\n",
       "  </thead>\n",
       "  <tbody>\n",
       "    <tr>\n",
       "      <th>0</th>\n",
       "      <td>1</td>\n",
       "      <td>60.0</td>\n",
       "      <td>65.0</td>\n",
       "      <td>8450.0</td>\n",
       "      <td>7.0</td>\n",
       "      <td>5.0</td>\n",
       "      <td>2003.0</td>\n",
       "      <td>2003</td>\n",
       "      <td>196.0</td>\n",
       "      <td>706</td>\n",
       "      <td>...</td>\n",
       "      <td>False</td>\n",
       "      <td>True</td>\n",
       "      <td>False</td>\n",
       "      <td>False</td>\n",
       "      <td>False</td>\n",
       "      <td>False</td>\n",
       "      <td>1.0</td>\n",
       "      <td>False</td>\n",
       "      <td>2003.0</td>\n",
       "      <td>3256.923485</td>\n",
       "    </tr>\n",
       "    <tr>\n",
       "      <th>1</th>\n",
       "      <td>2</td>\n",
       "      <td>20.0</td>\n",
       "      <td>80.0</td>\n",
       "      <td>9600.0</td>\n",
       "      <td>6.0</td>\n",
       "      <td>8.0</td>\n",
       "      <td>1976.0</td>\n",
       "      <td>1976</td>\n",
       "      <td>0.0</td>\n",
       "      <td>978</td>\n",
       "      <td>...</td>\n",
       "      <td>False</td>\n",
       "      <td>True</td>\n",
       "      <td>False</td>\n",
       "      <td>False</td>\n",
       "      <td>False</td>\n",
       "      <td>False</td>\n",
       "      <td>1.0</td>\n",
       "      <td>False</td>\n",
       "      <td>1976.0</td>\n",
       "      <td>7536.957780</td>\n",
       "    </tr>\n",
       "    <tr>\n",
       "      <th>2</th>\n",
       "      <td>3</td>\n",
       "      <td>60.0</td>\n",
       "      <td>68.0</td>\n",
       "      <td>11250.0</td>\n",
       "      <td>7.0</td>\n",
       "      <td>5.0</td>\n",
       "      <td>2001.0</td>\n",
       "      <td>2002</td>\n",
       "      <td>162.0</td>\n",
       "      <td>486</td>\n",
       "      <td>...</td>\n",
       "      <td>False</td>\n",
       "      <td>True</td>\n",
       "      <td>False</td>\n",
       "      <td>False</td>\n",
       "      <td>False</td>\n",
       "      <td>False</td>\n",
       "      <td>1.0</td>\n",
       "      <td>False</td>\n",
       "      <td>2002.0</td>\n",
       "      <td>10099.432756</td>\n",
       "    </tr>\n",
       "    <tr>\n",
       "      <th>3</th>\n",
       "      <td>4</td>\n",
       "      <td>70.0</td>\n",
       "      <td>60.0</td>\n",
       "      <td>9550.0</td>\n",
       "      <td>7.0</td>\n",
       "      <td>5.0</td>\n",
       "      <td>1915.0</td>\n",
       "      <td>1970</td>\n",
       "      <td>0.0</td>\n",
       "      <td>216</td>\n",
       "      <td>...</td>\n",
       "      <td>False</td>\n",
       "      <td>True</td>\n",
       "      <td>True</td>\n",
       "      <td>False</td>\n",
       "      <td>False</td>\n",
       "      <td>False</td>\n",
       "      <td>0.0</td>\n",
       "      <td>False</td>\n",
       "      <td>1970.0</td>\n",
       "      <td>23743.228187</td>\n",
       "    </tr>\n",
       "    <tr>\n",
       "      <th>4</th>\n",
       "      <td>5</td>\n",
       "      <td>60.0</td>\n",
       "      <td>84.0</td>\n",
       "      <td>14260.0</td>\n",
       "      <td>8.0</td>\n",
       "      <td>5.0</td>\n",
       "      <td>2000.0</td>\n",
       "      <td>2000</td>\n",
       "      <td>350.0</td>\n",
       "      <td>655</td>\n",
       "      <td>...</td>\n",
       "      <td>False</td>\n",
       "      <td>True</td>\n",
       "      <td>False</td>\n",
       "      <td>False</td>\n",
       "      <td>False</td>\n",
       "      <td>False</td>\n",
       "      <td>1.0</td>\n",
       "      <td>False</td>\n",
       "      <td>2000.0</td>\n",
       "      <td>39520.995719</td>\n",
       "    </tr>\n",
       "    <tr>\n",
       "      <th>...</th>\n",
       "      <td>...</td>\n",
       "      <td>...</td>\n",
       "      <td>...</td>\n",
       "      <td>...</td>\n",
       "      <td>...</td>\n",
       "      <td>...</td>\n",
       "      <td>...</td>\n",
       "      <td>...</td>\n",
       "      <td>...</td>\n",
       "      <td>...</td>\n",
       "      <td>...</td>\n",
       "      <td>...</td>\n",
       "      <td>...</td>\n",
       "      <td>...</td>\n",
       "      <td>...</td>\n",
       "      <td>...</td>\n",
       "      <td>...</td>\n",
       "      <td>...</td>\n",
       "      <td>...</td>\n",
       "      <td>...</td>\n",
       "      <td>...</td>\n",
       "    </tr>\n",
       "    <tr>\n",
       "      <th>1455</th>\n",
       "      <td>1456</td>\n",
       "      <td>60.0</td>\n",
       "      <td>62.0</td>\n",
       "      <td>7917.0</td>\n",
       "      <td>6.0</td>\n",
       "      <td>5.0</td>\n",
       "      <td>1999.0</td>\n",
       "      <td>2000</td>\n",
       "      <td>0.0</td>\n",
       "      <td>0</td>\n",
       "      <td>...</td>\n",
       "      <td>False</td>\n",
       "      <td>True</td>\n",
       "      <td>False</td>\n",
       "      <td>False</td>\n",
       "      <td>False</td>\n",
       "      <td>False</td>\n",
       "      <td>1.0</td>\n",
       "      <td>False</td>\n",
       "      <td>2000.0</td>\n",
       "      <td>660.039152</td>\n",
       "    </tr>\n",
       "    <tr>\n",
       "      <th>1456</th>\n",
       "      <td>1457</td>\n",
       "      <td>20.0</td>\n",
       "      <td>85.0</td>\n",
       "      <td>13175.0</td>\n",
       "      <td>6.0</td>\n",
       "      <td>6.0</td>\n",
       "      <td>1978.0</td>\n",
       "      <td>1988</td>\n",
       "      <td>119.0</td>\n",
       "      <td>790</td>\n",
       "      <td>...</td>\n",
       "      <td>False</td>\n",
       "      <td>True</td>\n",
       "      <td>False</td>\n",
       "      <td>False</td>\n",
       "      <td>False</td>\n",
       "      <td>False</td>\n",
       "      <td>1.0</td>\n",
       "      <td>False</td>\n",
       "      <td>1988.0</td>\n",
       "      <td>7859.149822</td>\n",
       "    </tr>\n",
       "    <tr>\n",
       "      <th>1457</th>\n",
       "      <td>1458</td>\n",
       "      <td>70.0</td>\n",
       "      <td>66.0</td>\n",
       "      <td>9042.0</td>\n",
       "      <td>7.0</td>\n",
       "      <td>9.0</td>\n",
       "      <td>1941.0</td>\n",
       "      <td>2006</td>\n",
       "      <td>0.0</td>\n",
       "      <td>275</td>\n",
       "      <td>...</td>\n",
       "      <td>False</td>\n",
       "      <td>True</td>\n",
       "      <td>False</td>\n",
       "      <td>False</td>\n",
       "      <td>False</td>\n",
       "      <td>False</td>\n",
       "      <td>1.0</td>\n",
       "      <td>False</td>\n",
       "      <td>2006.0</td>\n",
       "      <td>7896.136425</td>\n",
       "    </tr>\n",
       "    <tr>\n",
       "      <th>1458</th>\n",
       "      <td>1459</td>\n",
       "      <td>20.0</td>\n",
       "      <td>68.0</td>\n",
       "      <td>9717.0</td>\n",
       "      <td>5.0</td>\n",
       "      <td>6.0</td>\n",
       "      <td>1950.0</td>\n",
       "      <td>1996</td>\n",
       "      <td>0.0</td>\n",
       "      <td>49</td>\n",
       "      <td>...</td>\n",
       "      <td>False</td>\n",
       "      <td>True</td>\n",
       "      <td>False</td>\n",
       "      <td>False</td>\n",
       "      <td>False</td>\n",
       "      <td>False</td>\n",
       "      <td>1.0</td>\n",
       "      <td>False</td>\n",
       "      <td>1996.0</td>\n",
       "      <td>6224.726853</td>\n",
       "    </tr>\n",
       "    <tr>\n",
       "      <th>1459</th>\n",
       "      <td>1460</td>\n",
       "      <td>20.0</td>\n",
       "      <td>75.0</td>\n",
       "      <td>9937.0</td>\n",
       "      <td>5.0</td>\n",
       "      <td>6.0</td>\n",
       "      <td>1965.0</td>\n",
       "      <td>1965</td>\n",
       "      <td>0.0</td>\n",
       "      <td>830</td>\n",
       "      <td>...</td>\n",
       "      <td>False</td>\n",
       "      <td>True</td>\n",
       "      <td>False</td>\n",
       "      <td>False</td>\n",
       "      <td>False</td>\n",
       "      <td>False</td>\n",
       "      <td>1.0</td>\n",
       "      <td>False</td>\n",
       "      <td>1965.0</td>\n",
       "      <td>5138.772214</td>\n",
       "    </tr>\n",
       "  </tbody>\n",
       "</table>\n",
       "<p>1460 rows × 286 columns</p>\n",
       "</div>"
      ],
      "text/plain": [
       "        Id  MSSubClass  LotFrontage  LotArea  OverallQual  OverallCond  \\\n",
       "0        1        60.0         65.0   8450.0          7.0          5.0   \n",
       "1        2        20.0         80.0   9600.0          6.0          8.0   \n",
       "2        3        60.0         68.0  11250.0          7.0          5.0   \n",
       "3        4        70.0         60.0   9550.0          7.0          5.0   \n",
       "4        5        60.0         84.0  14260.0          8.0          5.0   \n",
       "...    ...         ...          ...      ...          ...          ...   \n",
       "1455  1456        60.0         62.0   7917.0          6.0          5.0   \n",
       "1456  1457        20.0         85.0  13175.0          6.0          6.0   \n",
       "1457  1458        70.0         66.0   9042.0          7.0          9.0   \n",
       "1458  1459        20.0         68.0   9717.0          5.0          6.0   \n",
       "1459  1460        20.0         75.0   9937.0          5.0          6.0   \n",
       "\n",
       "      YearBuilt  YearRemodAdd  MasVnrArea  BsmtFinSF1  ...  SaleType_Oth  \\\n",
       "0        2003.0          2003       196.0         706  ...         False   \n",
       "1        1976.0          1976         0.0         978  ...         False   \n",
       "2        2001.0          2002       162.0         486  ...         False   \n",
       "3        1915.0          1970         0.0         216  ...         False   \n",
       "4        2000.0          2000       350.0         655  ...         False   \n",
       "...         ...           ...         ...         ...  ...           ...   \n",
       "1455     1999.0          2000         0.0           0  ...         False   \n",
       "1456     1978.0          1988       119.0         790  ...         False   \n",
       "1457     1941.0          2006         0.0         275  ...         False   \n",
       "1458     1950.0          1996         0.0          49  ...         False   \n",
       "1459     1965.0          1965         0.0         830  ...         False   \n",
       "\n",
       "      SaleType_WD  SaleCondition_Abnorml  SaleCondition_AdjLand  \\\n",
       "0            True                  False                  False   \n",
       "1            True                  False                  False   \n",
       "2            True                  False                  False   \n",
       "3            True                   True                  False   \n",
       "4            True                  False                  False   \n",
       "...           ...                    ...                    ...   \n",
       "1455         True                  False                  False   \n",
       "1456         True                  False                  False   \n",
       "1457         True                  False                  False   \n",
       "1458         True                  False                  False   \n",
       "1459         True                  False                  False   \n",
       "\n",
       "      SaleCondition_Alloca  SaleCondition_Family  SaleCondition_Normal  \\\n",
       "0                    False                 False                   1.0   \n",
       "1                    False                 False                   1.0   \n",
       "2                    False                 False                   1.0   \n",
       "3                    False                 False                   0.0   \n",
       "4                    False                 False                   1.0   \n",
       "...                    ...                   ...                   ...   \n",
       "1455                 False                 False                   1.0   \n",
       "1456                 False                 False                   1.0   \n",
       "1457                 False                 False                   1.0   \n",
       "1458                 False                 False                   1.0   \n",
       "1459                 False                 False                   1.0   \n",
       "\n",
       "      SaleCondition_Partial  remod_last         error  \n",
       "0                     False      2003.0   3256.923485  \n",
       "1                     False      1976.0   7536.957780  \n",
       "2                     False      2002.0  10099.432756  \n",
       "3                     False      1970.0  23743.228187  \n",
       "4                     False      2000.0  39520.995719  \n",
       "...                     ...         ...           ...  \n",
       "1455                  False      2000.0    660.039152  \n",
       "1456                  False      1988.0   7859.149822  \n",
       "1457                  False      2006.0   7896.136425  \n",
       "1458                  False      1996.0   6224.726853  \n",
       "1459                  False      1965.0   5138.772214  \n",
       "\n",
       "[1460 rows x 286 columns]"
      ]
     },
     "execution_count": 39,
     "metadata": {},
     "output_type": "execute_result"
    }
   ],
   "source": [
    "train_merged = pd.merge(original_train, train_data[['Id', 'error']], on='Id')\n",
    "train_merged"
   ]
  },
  {
   "cell_type": "code",
   "execution_count": 40,
   "id": "e1b55bc8-13c6-45cc-b023-f84282e8d186",
   "metadata": {},
   "outputs": [
    {
     "data": {
      "text/html": [
       "<div>\n",
       "<style scoped>\n",
       "    .dataframe tbody tr th:only-of-type {\n",
       "        vertical-align: middle;\n",
       "    }\n",
       "\n",
       "    .dataframe tbody tr th {\n",
       "        vertical-align: top;\n",
       "    }\n",
       "\n",
       "    .dataframe thead th {\n",
       "        text-align: right;\n",
       "    }\n",
       "</style>\n",
       "<table border=\"1\" class=\"dataframe\">\n",
       "  <thead>\n",
       "    <tr style=\"text-align: right;\">\n",
       "      <th></th>\n",
       "      <th>Id</th>\n",
       "      <th>MSSubClass</th>\n",
       "      <th>LotFrontage</th>\n",
       "      <th>LotArea</th>\n",
       "      <th>OverallQual</th>\n",
       "      <th>OverallCond</th>\n",
       "      <th>YearBuilt</th>\n",
       "      <th>YearRemodAdd</th>\n",
       "      <th>MasVnrArea</th>\n",
       "      <th>BsmtFinSF1</th>\n",
       "      <th>...</th>\n",
       "      <th>SaleType_Oth</th>\n",
       "      <th>SaleType_WD</th>\n",
       "      <th>SaleCondition_Abnorml</th>\n",
       "      <th>SaleCondition_AdjLand</th>\n",
       "      <th>SaleCondition_Alloca</th>\n",
       "      <th>SaleCondition_Family</th>\n",
       "      <th>SaleCondition_Normal</th>\n",
       "      <th>SaleCondition_Partial</th>\n",
       "      <th>remod_last</th>\n",
       "      <th>error</th>\n",
       "    </tr>\n",
       "  </thead>\n",
       "  <tbody>\n",
       "    <tr>\n",
       "      <th>78</th>\n",
       "      <td>79</td>\n",
       "      <td>90.0</td>\n",
       "      <td>72.0</td>\n",
       "      <td>10778.0</td>\n",
       "      <td>4.0</td>\n",
       "      <td>5.0</td>\n",
       "      <td>1968.0</td>\n",
       "      <td>1968</td>\n",
       "      <td>0.0</td>\n",
       "      <td>0</td>\n",
       "      <td>...</td>\n",
       "      <td>False</td>\n",
       "      <td>True</td>\n",
       "      <td>False</td>\n",
       "      <td>False</td>\n",
       "      <td>False</td>\n",
       "      <td>False</td>\n",
       "      <td>1.0</td>\n",
       "      <td>False</td>\n",
       "      <td>1968.0</td>\n",
       "      <td>5.100360</td>\n",
       "    </tr>\n",
       "    <tr>\n",
       "      <th>26</th>\n",
       "      <td>27</td>\n",
       "      <td>20.0</td>\n",
       "      <td>60.0</td>\n",
       "      <td>7200.0</td>\n",
       "      <td>5.0</td>\n",
       "      <td>7.0</td>\n",
       "      <td>1951.0</td>\n",
       "      <td>2000</td>\n",
       "      <td>0.0</td>\n",
       "      <td>234</td>\n",
       "      <td>...</td>\n",
       "      <td>False</td>\n",
       "      <td>True</td>\n",
       "      <td>False</td>\n",
       "      <td>False</td>\n",
       "      <td>False</td>\n",
       "      <td>False</td>\n",
       "      <td>1.0</td>\n",
       "      <td>False</td>\n",
       "      <td>2000.0</td>\n",
       "      <td>16.868721</td>\n",
       "    </tr>\n",
       "    <tr>\n",
       "      <th>1064</th>\n",
       "      <td>1065</td>\n",
       "      <td>20.0</td>\n",
       "      <td>NaN</td>\n",
       "      <td>11000.0</td>\n",
       "      <td>5.0</td>\n",
       "      <td>6.0</td>\n",
       "      <td>1966.0</td>\n",
       "      <td>1966</td>\n",
       "      <td>200.0</td>\n",
       "      <td>740</td>\n",
       "      <td>...</td>\n",
       "      <td>False</td>\n",
       "      <td>True</td>\n",
       "      <td>False</td>\n",
       "      <td>False</td>\n",
       "      <td>False</td>\n",
       "      <td>False</td>\n",
       "      <td>1.0</td>\n",
       "      <td>False</td>\n",
       "      <td>1966.0</td>\n",
       "      <td>48.770367</td>\n",
       "    </tr>\n",
       "    <tr>\n",
       "      <th>342</th>\n",
       "      <td>343</td>\n",
       "      <td>90.0</td>\n",
       "      <td>NaN</td>\n",
       "      <td>8544.0</td>\n",
       "      <td>3.0</td>\n",
       "      <td>4.0</td>\n",
       "      <td>1949.0</td>\n",
       "      <td>1950</td>\n",
       "      <td>340.0</td>\n",
       "      <td>0</td>\n",
       "      <td>...</td>\n",
       "      <td>False</td>\n",
       "      <td>True</td>\n",
       "      <td>False</td>\n",
       "      <td>False</td>\n",
       "      <td>False</td>\n",
       "      <td>False</td>\n",
       "      <td>1.0</td>\n",
       "      <td>False</td>\n",
       "      <td>1950.0</td>\n",
       "      <td>58.031150</td>\n",
       "    </tr>\n",
       "    <tr>\n",
       "      <th>665</th>\n",
       "      <td>666</td>\n",
       "      <td>60.0</td>\n",
       "      <td>106.0</td>\n",
       "      <td>11194.0</td>\n",
       "      <td>8.0</td>\n",
       "      <td>5.0</td>\n",
       "      <td>2000.0</td>\n",
       "      <td>2000</td>\n",
       "      <td>40.0</td>\n",
       "      <td>0</td>\n",
       "      <td>...</td>\n",
       "      <td>False</td>\n",
       "      <td>True</td>\n",
       "      <td>False</td>\n",
       "      <td>False</td>\n",
       "      <td>False</td>\n",
       "      <td>False</td>\n",
       "      <td>1.0</td>\n",
       "      <td>False</td>\n",
       "      <td>2000.0</td>\n",
       "      <td>96.277846</td>\n",
       "    </tr>\n",
       "    <tr>\n",
       "      <th>...</th>\n",
       "      <td>...</td>\n",
       "      <td>...</td>\n",
       "      <td>...</td>\n",
       "      <td>...</td>\n",
       "      <td>...</td>\n",
       "      <td>...</td>\n",
       "      <td>...</td>\n",
       "      <td>...</td>\n",
       "      <td>...</td>\n",
       "      <td>...</td>\n",
       "      <td>...</td>\n",
       "      <td>...</td>\n",
       "      <td>...</td>\n",
       "      <td>...</td>\n",
       "      <td>...</td>\n",
       "      <td>...</td>\n",
       "      <td>...</td>\n",
       "      <td>...</td>\n",
       "      <td>...</td>\n",
       "      <td>...</td>\n",
       "      <td>...</td>\n",
       "    </tr>\n",
       "    <tr>\n",
       "      <th>608</th>\n",
       "      <td>609</td>\n",
       "      <td>70.0</td>\n",
       "      <td>78.0</td>\n",
       "      <td>12168.0</td>\n",
       "      <td>8.0</td>\n",
       "      <td>6.0</td>\n",
       "      <td>1934.0</td>\n",
       "      <td>1998</td>\n",
       "      <td>0.0</td>\n",
       "      <td>428</td>\n",
       "      <td>...</td>\n",
       "      <td>False</td>\n",
       "      <td>True</td>\n",
       "      <td>False</td>\n",
       "      <td>False</td>\n",
       "      <td>True</td>\n",
       "      <td>False</td>\n",
       "      <td>0.0</td>\n",
       "      <td>False</td>\n",
       "      <td>1998.0</td>\n",
       "      <td>113463.956984</td>\n",
       "    </tr>\n",
       "    <tr>\n",
       "      <th>774</th>\n",
       "      <td>775</td>\n",
       "      <td>20.0</td>\n",
       "      <td>110.0</td>\n",
       "      <td>14226.0</td>\n",
       "      <td>8.0</td>\n",
       "      <td>5.0</td>\n",
       "      <td>2006.0</td>\n",
       "      <td>2006</td>\n",
       "      <td>375.0</td>\n",
       "      <td>0</td>\n",
       "      <td>...</td>\n",
       "      <td>False</td>\n",
       "      <td>False</td>\n",
       "      <td>False</td>\n",
       "      <td>False</td>\n",
       "      <td>False</td>\n",
       "      <td>False</td>\n",
       "      <td>0.0</td>\n",
       "      <td>True</td>\n",
       "      <td>2006.0</td>\n",
       "      <td>122404.258596</td>\n",
       "    </tr>\n",
       "    <tr>\n",
       "      <th>691</th>\n",
       "      <td>692</td>\n",
       "      <td>60.0</td>\n",
       "      <td>104.0</td>\n",
       "      <td>21535.0</td>\n",
       "      <td>10.0</td>\n",
       "      <td>6.0</td>\n",
       "      <td>1994.0</td>\n",
       "      <td>1995</td>\n",
       "      <td>1170.0</td>\n",
       "      <td>1455</td>\n",
       "      <td>...</td>\n",
       "      <td>False</td>\n",
       "      <td>True</td>\n",
       "      <td>False</td>\n",
       "      <td>False</td>\n",
       "      <td>False</td>\n",
       "      <td>False</td>\n",
       "      <td>1.0</td>\n",
       "      <td>False</td>\n",
       "      <td>1995.0</td>\n",
       "      <td>124323.189877</td>\n",
       "    </tr>\n",
       "    <tr>\n",
       "      <th>1324</th>\n",
       "      <td>1325</td>\n",
       "      <td>20.0</td>\n",
       "      <td>75.0</td>\n",
       "      <td>9986.0</td>\n",
       "      <td>8.0</td>\n",
       "      <td>5.0</td>\n",
       "      <td>2006.0</td>\n",
       "      <td>2007</td>\n",
       "      <td>428.0</td>\n",
       "      <td>0</td>\n",
       "      <td>...</td>\n",
       "      <td>False</td>\n",
       "      <td>False</td>\n",
       "      <td>False</td>\n",
       "      <td>False</td>\n",
       "      <td>False</td>\n",
       "      <td>False</td>\n",
       "      <td>0.0</td>\n",
       "      <td>True</td>\n",
       "      <td>2007.0</td>\n",
       "      <td>128219.066058</td>\n",
       "    </tr>\n",
       "    <tr>\n",
       "      <th>803</th>\n",
       "      <td>804</td>\n",
       "      <td>60.0</td>\n",
       "      <td>107.0</td>\n",
       "      <td>13891.0</td>\n",
       "      <td>9.0</td>\n",
       "      <td>5.0</td>\n",
       "      <td>2008.0</td>\n",
       "      <td>2009</td>\n",
       "      <td>424.0</td>\n",
       "      <td>0</td>\n",
       "      <td>...</td>\n",
       "      <td>False</td>\n",
       "      <td>False</td>\n",
       "      <td>False</td>\n",
       "      <td>False</td>\n",
       "      <td>False</td>\n",
       "      <td>False</td>\n",
       "      <td>0.0</td>\n",
       "      <td>True</td>\n",
       "      <td>2009.0</td>\n",
       "      <td>149652.963272</td>\n",
       "    </tr>\n",
       "  </tbody>\n",
       "</table>\n",
       "<p>1460 rows × 286 columns</p>\n",
       "</div>"
      ],
      "text/plain": [
       "        Id  MSSubClass  LotFrontage  LotArea  OverallQual  OverallCond  \\\n",
       "78      79        90.0         72.0  10778.0          4.0          5.0   \n",
       "26      27        20.0         60.0   7200.0          5.0          7.0   \n",
       "1064  1065        20.0          NaN  11000.0          5.0          6.0   \n",
       "342    343        90.0          NaN   8544.0          3.0          4.0   \n",
       "665    666        60.0        106.0  11194.0          8.0          5.0   \n",
       "...    ...         ...          ...      ...          ...          ...   \n",
       "608    609        70.0         78.0  12168.0          8.0          6.0   \n",
       "774    775        20.0        110.0  14226.0          8.0          5.0   \n",
       "691    692        60.0        104.0  21535.0         10.0          6.0   \n",
       "1324  1325        20.0         75.0   9986.0          8.0          5.0   \n",
       "803    804        60.0        107.0  13891.0          9.0          5.0   \n",
       "\n",
       "      YearBuilt  YearRemodAdd  MasVnrArea  BsmtFinSF1  ...  SaleType_Oth  \\\n",
       "78       1968.0          1968         0.0           0  ...         False   \n",
       "26       1951.0          2000         0.0         234  ...         False   \n",
       "1064     1966.0          1966       200.0         740  ...         False   \n",
       "342      1949.0          1950       340.0           0  ...         False   \n",
       "665      2000.0          2000        40.0           0  ...         False   \n",
       "...         ...           ...         ...         ...  ...           ...   \n",
       "608      1934.0          1998         0.0         428  ...         False   \n",
       "774      2006.0          2006       375.0           0  ...         False   \n",
       "691      1994.0          1995      1170.0        1455  ...         False   \n",
       "1324     2006.0          2007       428.0           0  ...         False   \n",
       "803      2008.0          2009       424.0           0  ...         False   \n",
       "\n",
       "      SaleType_WD  SaleCondition_Abnorml  SaleCondition_AdjLand  \\\n",
       "78           True                  False                  False   \n",
       "26           True                  False                  False   \n",
       "1064         True                  False                  False   \n",
       "342          True                  False                  False   \n",
       "665          True                  False                  False   \n",
       "...           ...                    ...                    ...   \n",
       "608          True                  False                  False   \n",
       "774         False                  False                  False   \n",
       "691          True                  False                  False   \n",
       "1324        False                  False                  False   \n",
       "803         False                  False                  False   \n",
       "\n",
       "      SaleCondition_Alloca  SaleCondition_Family  SaleCondition_Normal  \\\n",
       "78                   False                 False                   1.0   \n",
       "26                   False                 False                   1.0   \n",
       "1064                 False                 False                   1.0   \n",
       "342                  False                 False                   1.0   \n",
       "665                  False                 False                   1.0   \n",
       "...                    ...                   ...                   ...   \n",
       "608                   True                 False                   0.0   \n",
       "774                  False                 False                   0.0   \n",
       "691                  False                 False                   1.0   \n",
       "1324                 False                 False                   0.0   \n",
       "803                  False                 False                   0.0   \n",
       "\n",
       "      SaleCondition_Partial  remod_last          error  \n",
       "78                    False      1968.0       5.100360  \n",
       "26                    False      2000.0      16.868721  \n",
       "1064                  False      1966.0      48.770367  \n",
       "342                   False      1950.0      58.031150  \n",
       "665                   False      2000.0      96.277846  \n",
       "...                     ...         ...            ...  \n",
       "608                   False      1998.0  113463.956984  \n",
       "774                    True      2006.0  122404.258596  \n",
       "691                   False      1995.0  124323.189877  \n",
       "1324                   True      2007.0  128219.066058  \n",
       "803                    True      2009.0  149652.963272  \n",
       "\n",
       "[1460 rows x 286 columns]"
      ]
     },
     "execution_count": 40,
     "metadata": {},
     "output_type": "execute_result"
    }
   ],
   "source": [
    "train_merged.sort_values(by='error')"
   ]
  },
  {
   "cell_type": "code",
   "execution_count": 41,
   "id": "57e093c9-2381-4a48-976b-35d2340d9b83",
   "metadata": {},
   "outputs": [
    {
     "data": {
      "text/plain": [
       "WoodDeckSF               0.076595\n",
       "YearBuilt                0.076678\n",
       "Functional_Sev           0.077253\n",
       "PoolQC_Gd                0.080518\n",
       "LandSlope_Mod            0.087555\n",
       "PoolArea                 0.090441\n",
       "SaleCondition_Alloca     0.093200\n",
       "OpenPorchSF              0.097439\n",
       "RoofStyle_Flat           0.100057\n",
       "BsmtFinType1_GLQ         0.100214\n",
       "BsmtUnfSF                0.100620\n",
       "RoofMatl_Tar&Grv         0.102604\n",
       "LotArea                  0.110261\n",
       "MasVnrType_Stone         0.111213\n",
       "ExterQual_Gd             0.115574\n",
       "HeatingQC                0.116212\n",
       "YearRemodAdd             0.122669\n",
       "remod_last               0.122669\n",
       "RoofStyle_Hip            0.126604\n",
       "Foundation_PConc         0.130337\n",
       "LandContour_HLS          0.130626\n",
       "GarageFinish_Fin         0.135016\n",
       "BsmtFinSF1               0.135316\n",
       "Condition2_PosN          0.141445\n",
       "Neighborhood_NoRidge     0.143603\n",
       "2ndFlrSF                 0.147641\n",
       "FireplaceQu_Ex           0.153378\n",
       "Neighborhood_NridgHt     0.157214\n",
       "Neighborhood_Crawfor     0.158015\n",
       "NeighborhoodQual         0.166964\n",
       "FireplaceQu_Gd           0.169604\n",
       "FullBath                 0.172717\n",
       "BsmtExposure_Gd          0.184380\n",
       "LotFrontage              0.192998\n",
       "Fireplaces               0.202160\n",
       "GarageCars               0.204835\n",
       "MasVnrArea               0.207846\n",
       "KitchenQual              0.214351\n",
       "GarageArea               0.214575\n",
       "ExterQual_Ex             0.220487\n",
       "SaleType_New             0.223672\n",
       "SaleCondition_Partial    0.227644\n",
       "TotalBsmtSF              0.236889\n",
       "TotRmsAbvGrd             0.247162\n",
       "OverallQual              0.261479\n",
       "BsmtQual_Ex              0.269894\n",
       "1stFlrSF                 0.290751\n",
       "SalePrice                0.310869\n",
       "GrLivArea                0.335300\n",
       "error                    1.000000\n",
       "dtype: float64"
      ]
     },
     "execution_count": 41,
     "metadata": {},
     "output_type": "execute_result"
    }
   ],
   "source": [
    "correlations = pd.get_dummies(train_merged).astype(np.float64).corrwith(train_merged['error'])\n",
    "correlations.sort_values().tail(50)"
   ]
  }
 ],
 "metadata": {
  "kernelspec": {
   "display_name": "Python 3 (ipykernel)",
   "language": "python",
   "name": "python3"
  },
  "language_info": {
   "codemirror_mode": {
    "name": "ipython",
    "version": 3
   },
   "file_extension": ".py",
   "mimetype": "text/x-python",
   "name": "python",
   "nbconvert_exporter": "python",
   "pygments_lexer": "ipython3",
   "version": "3.11.5"
  }
 },
 "nbformat": 4,
 "nbformat_minor": 5
}
