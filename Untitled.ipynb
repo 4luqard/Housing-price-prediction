{
 "cells": [
  {
   "cell_type": "code",
   "execution_count": 593,
   "id": "ad04a6af-ec88-4260-981b-61f94a1aa48c",
   "metadata": {},
   "outputs": [],
   "source": [
    "import pandas as pd\n",
    "import statsmodels.api as sm\n",
    "from sklearn.model_selection import train_test_split\n",
    "from sklearn.metrics import r2_score\n",
    "from sklearn.impute import SimpleImputer\n",
    "import matplotlib.pyplot as plt\n",
    "import seaborn as sns\n",
    "from scipy import stats\n",
    "import numpy as np\n",
    "from sklearn.model_selection import cross_val_score\n",
    "from sklearn.linear_model import LinearRegression"
   ]
  },
  {
   "cell_type": "code",
   "execution_count": 594,
   "id": "7d8ccbc1-bbde-41a4-9cf6-42cec3c7cea3",
   "metadata": {},
   "outputs": [],
   "source": [
    "def load_data(train_path, test_path):\n",
    "    train_data = pd.read_csv(train_path)\n",
    "    test_data = pd.read_csv(test_path)\n",
    "    return train_data, test_data"
   ]
  },
  {
   "cell_type": "code",
   "execution_count": 595,
   "id": "7e7957f2-09a4-43d3-b6f7-f4dc479ad208",
   "metadata": {},
   "outputs": [],
   "source": [
    "def visualize_data(data, features):\n",
    "    for feature in features:\n",
    "        plt.figure(figsize=(10, 4))\n",
    "\n",
    "        # Boxplot for outlier detection\n",
    "        plt.subplot(1, 2, 1)\n",
    "        sns.boxplot(data[feature])\n",
    "        plt.title(f'Boxplot of {feature}')\n",
    "\n",
    "        # Histogram for distribution\n",
    "        plt.subplot(1, 2, 2)\n",
    "        sns.histplot(data[feature], kde=True)\n",
    "        plt.title(f'Distribution of {feature}')\n",
    "\n",
    "        plt.show()"
   ]
  },
  {
   "cell_type": "code",
   "execution_count": 596,
   "id": "5e9a80a8-3230-43c7-bca4-472c581689cd",
   "metadata": {},
   "outputs": [],
   "source": [
    "def remove_outliers(data, features, threshold=3):\n",
    "    z_scores = stats.zscore(data[features])\n",
    "    abs_z_scores = np.abs(z_scores)\n",
    "    filtered_entries = (abs_z_scores < threshold).all(axis=1)\n",
    "    return data[filtered_entries]"
   ]
  },
  {
   "cell_type": "code",
   "execution_count": 597,
   "id": "3e2e1238-29c1-4803-ba7d-126cf639702d",
   "metadata": {},
   "outputs": [],
   "source": [
    "def preprocess_data(data, features, imputer):\n",
    "    data[features] = imputer.transform(data[features])\n",
    "    return data"
   ]
  },
  {
   "cell_type": "code",
   "execution_count": 598,
   "id": "94c524d0-c521-46c2-8882-003565fe51ee",
   "metadata": {},
   "outputs": [],
   "source": [
    "def train_model_statsmodels(X, y):\n",
    "    X = sm.add_constant(X)  # Adding a constant to the model\n",
    "    model = sm.OLS(y, X).fit()\n",
    "    return model"
   ]
  },
  {
   "cell_type": "code",
   "execution_count": 599,
   "id": "f4624dfc-fd84-42d1-856d-78c49044c3bc",
   "metadata": {},
   "outputs": [],
   "source": [
    "def train_model_sklearn(X, y):\n",
    "    model = LinearRegression()\n",
    "    model.fit(X, y)\n",
    "    return model"
   ]
  },
  {
   "cell_type": "code",
   "execution_count": 600,
   "id": "7e8f89d0-94b0-4660-a48c-18f39993dc4c",
   "metadata": {},
   "outputs": [],
   "source": [
    "def main():\n",
    "    # Paths to the datasets\n",
    "    train_path = 'train.csv'\n",
    "    test_path = 'test.csv'\n",
    "\n",
    "    # Load the data\n",
    "    train_data, test_data = load_data(train_path, test_path)\n",
    "    \n",
    "    # Visualize data\n",
    "    selected_features = ['LotArea', 'OverallQual', 'GrLivArea', 'TotalBsmtSF','GarageCars', 'GarageArea', 'MSSubClass', 'YearBuilt', 'YearRemodAdd']\n",
    "    #visualize_data(train_data, selected_features)\n",
    "\n",
    "    # Remove outliers from train data\n",
    "    train_data = remove_outliers(train_data, selected_features)\n",
    "\n",
    "    # Handling missing values\n",
    "    imputer = SimpleImputer(strategy='mean')\n",
    "    train_data[selected_features] = imputer.fit_transform(train_data[selected_features])\n",
    "\n",
    "    # Apply log transformation to the target variable 'SalePrice'\n",
    "    y = np.log1p(train_data['SalePrice'])\n",
    "\n",
    "    # Splitting the train data into X (features) and y (target)\n",
    "    X = train_data[selected_features]\n",
    "\n",
    "    # Splitting the data into training and validation sets\n",
    "    X_train, X_val, y_train, y_val = train_test_split(X, y, test_size=0.2, random_state=0)\n",
    "\n",
    "    # Training the model with statsmodels\n",
    "    model = train_model_statsmodels(X_train, y_train)\n",
    "\n",
    "    # Train a similar model using sklearn\n",
    "    model_sklearn = train_model_sklearn(X_train, y_train)\n",
    "    \n",
    "    # Perform cross-validation\n",
    "    scores = cross_val_score(model_sklearn, X, y, cv=16)  # 'cv' is the number of folds\n",
    "\n",
    "    # Print the results\n",
    "    print(\"Cross-Validation Scores:\", scores)\n",
    "    print(\"Average Score:\", np.mean(scores))\n",
    "    \n",
    "    # Evaluating the model\n",
    "    X_val = sm.add_constant(X_val)  # Adding a constant to the validation data\n",
    "    y_pred_log = model.predict(X_val)  # Predicted log-transformed prices\n",
    "    y_pred = np.expm1(y_pred_log)  # Inverse transformation\n",
    "    r_squared = r2_score(np.expm1(y_val), y_pred)\n",
    "    print(\"R-squared value:\", r_squared)\n",
    "    \n",
    "    # Preprocessing the test data\n",
    "    test_data = preprocess_data(test_data, selected_features, imputer)\n",
    "    \n",
    "    # Predicting the housing prices for the test data\n",
    "    X_test = sm.add_constant(test_data[selected_features])  # Adding a constant to the test data\n",
    "    predicted_log_prices = model.predict(X_test)  # Predicted log-transformed prices for test data\n",
    "    predicted_prices = np.expm1(predicted_log_prices)  # Inverse transformation for test data predictions\n",
    "    '''\n",
    "    # Saving the predictions\n",
    "    predicted_prices_df = pd.DataFrame({\n",
    "        'Id': test_data['Id'],\n",
    "        'SalePrice': predicted_prices\n",
    "    })\n",
    "    predicted_prices_df.to_csv('predicted_housing_prices_statsmodels.csv', index=False)\n",
    "    '''"
   ]
  },
  {
   "cell_type": "code",
   "execution_count": 601,
   "id": "25f8d0b9-738a-4e79-92cd-4a2ca1e2e72b",
   "metadata": {},
   "outputs": [
    {
     "name": "stdout",
     "output_type": "stream",
     "text": [
      "Cross-Validation Scores: [0.86090301 0.83666934 0.87552109 0.91423833 0.84042657 0.85808543\n",
      " 0.88026725 0.81791043 0.84328562 0.85388187 0.85550564 0.85885555\n",
      " 0.84746304 0.84169701 0.83331362 0.84597192]\n",
      "Average Score: 0.8539997317488008\n",
      "R-squared value: 0.8736738683777534\n"
     ]
    }
   ],
   "source": [
    "if __name__ == \"__main__\":\n",
    "    main()"
   ]
  }
 ],
 "metadata": {
  "kernelspec": {
   "display_name": "Python 3 (ipykernel)",
   "language": "python",
   "name": "python3"
  },
  "language_info": {
   "codemirror_mode": {
    "name": "ipython",
    "version": 3
   },
   "file_extension": ".py",
   "mimetype": "text/x-python",
   "name": "python",
   "nbconvert_exporter": "python",
   "pygments_lexer": "ipython3",
   "version": "3.11.5"
  }
 },
 "nbformat": 4,
 "nbformat_minor": 5
}
